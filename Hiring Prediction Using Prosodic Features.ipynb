{
 "cells": [
  {
   "cell_type": "code",
   "execution_count": 1,
   "metadata": {},
   "outputs": [],
   "source": [
    "import csv\n",
    "import numpy as np\n",
    "import pandas as pd\n",
    "from sklearn import linear_model\n",
    "from sklearn.model_selection import train_test_split\n",
    "from sklearn import metrics"
   ]
  },
  {
   "cell_type": "code",
   "execution_count": 2,
   "metadata": {},
   "outputs": [],
   "source": [
    "import matplotlib.pyplot as plt\n",
    "import seaborn as sns\n",
    "%matplotlib inline\n",
    "prosody_data = pd.read_csv('prosodic_features_M.csv ')"
   ]
  },
  {
   "cell_type": "markdown",
   "metadata": {},
   "source": [
    "prosody_data.head()"
   ]
  },
  {
   "cell_type": "markdown",
   "metadata": {},
   "source": [
    "prosody_data.info()"
   ]
  },
  {
   "cell_type": "code",
   "execution_count": 76,
   "metadata": {},
   "outputs": [
    {
     "data": {
      "text/html": [
       "<div>\n",
       "<style scoped>\n",
       "    .dataframe tbody tr th:only-of-type {\n",
       "        vertical-align: middle;\n",
       "    }\n",
       "\n",
       "    .dataframe tbody tr th {\n",
       "        vertical-align: top;\n",
       "    }\n",
       "\n",
       "    .dataframe thead th {\n",
       "        text-align: right;\n",
       "    }\n",
       "</style>\n",
       "<table border=\"1\" class=\"dataframe\">\n",
       "  <thead>\n",
       "    <tr style=\"text-align: right;\">\n",
       "      <th></th>\n",
       "      <th>duration</th>\n",
       "      <th>energy</th>\n",
       "      <th>power</th>\n",
       "      <th>min_pitch</th>\n",
       "      <th>max_pitch</th>\n",
       "      <th>mean_pitch</th>\n",
       "      <th>pitch_sd</th>\n",
       "      <th>pitch_abs</th>\n",
       "      <th>pitch_quant</th>\n",
       "      <th>pitchUvsVRatio</th>\n",
       "      <th>...</th>\n",
       "      <th>iInterval</th>\n",
       "      <th>MaxRising:3</th>\n",
       "      <th>MaxFalling:3</th>\n",
       "      <th>AvgTotRis:3</th>\n",
       "      <th>AvgTotFall:3</th>\n",
       "      <th>numRising</th>\n",
       "      <th>numFall</th>\n",
       "      <th>RecommendHiring</th>\n",
       "      <th>Hired</th>\n",
       "      <th>Hired2</th>\n",
       "    </tr>\n",
       "  </thead>\n",
       "  <tbody>\n",
       "    <tr>\n",
       "      <th>count</th>\n",
       "      <td>690.000000</td>\n",
       "      <td>690.000000</td>\n",
       "      <td>690.000000</td>\n",
       "      <td>690.000000</td>\n",
       "      <td>690.000000</td>\n",
       "      <td>690.000000</td>\n",
       "      <td>690.000000</td>\n",
       "      <td>690.000000</td>\n",
       "      <td>690.000000</td>\n",
       "      <td>690.000000</td>\n",
       "      <td>...</td>\n",
       "      <td>690.000000</td>\n",
       "      <td>690.000000</td>\n",
       "      <td>690.000000</td>\n",
       "      <td>690.000000</td>\n",
       "      <td>690.000000</td>\n",
       "      <td>690.000000</td>\n",
       "      <td>690.000000</td>\n",
       "      <td>690.000000</td>\n",
       "      <td>690.000000</td>\n",
       "      <td>690.000000</td>\n",
       "    </tr>\n",
       "    <tr>\n",
       "      <th>mean</th>\n",
       "      <td>57.347119</td>\n",
       "      <td>0.029338</td>\n",
       "      <td>0.000448</td>\n",
       "      <td>74.322155</td>\n",
       "      <td>365.431796</td>\n",
       "      <td>168.262349</td>\n",
       "      <td>41.953391</td>\n",
       "      <td>245.904205</td>\n",
       "      <td>162.598051</td>\n",
       "      <td>1.206687</td>\n",
       "      <td>...</td>\n",
       "      <td>147.552174</td>\n",
       "      <td>214.246171</td>\n",
       "      <td>212.135703</td>\n",
       "      <td>27.463743</td>\n",
       "      <td>21.541425</td>\n",
       "      <td>89.113043</td>\n",
       "      <td>5794.974496</td>\n",
       "      <td>4.945343</td>\n",
       "      <td>0.072464</td>\n",
       "      <td>0.137681</td>\n",
       "    </tr>\n",
       "    <tr>\n",
       "      <th>std</th>\n",
       "      <td>36.093676</td>\n",
       "      <td>0.436967</td>\n",
       "      <td>0.005672</td>\n",
       "      <td>8.282685</td>\n",
       "      <td>41.450129</td>\n",
       "      <td>42.396158</td>\n",
       "      <td>13.081761</td>\n",
       "      <td>76.500124</td>\n",
       "      <td>47.092531</td>\n",
       "      <td>0.799530</td>\n",
       "      <td>...</td>\n",
       "      <td>99.314126</td>\n",
       "      <td>53.119058</td>\n",
       "      <td>53.914190</td>\n",
       "      <td>7.688383</td>\n",
       "      <td>8.410722</td>\n",
       "      <td>59.192329</td>\n",
       "      <td>6148.773593</td>\n",
       "      <td>0.717816</td>\n",
       "      <td>0.259442</td>\n",
       "      <td>0.344815</td>\n",
       "    </tr>\n",
       "    <tr>\n",
       "      <th>min</th>\n",
       "      <td>10.341458</td>\n",
       "      <td>0.000176</td>\n",
       "      <td>0.000013</td>\n",
       "      <td>56.049663</td>\n",
       "      <td>222.555742</td>\n",
       "      <td>92.979514</td>\n",
       "      <td>12.053274</td>\n",
       "      <td>76.004974</td>\n",
       "      <td>82.801688</td>\n",
       "      <td>0.301339</td>\n",
       "      <td>...</td>\n",
       "      <td>17.000000</td>\n",
       "      <td>90.977000</td>\n",
       "      <td>74.731000</td>\n",
       "      <td>9.800000</td>\n",
       "      <td>5.044000</td>\n",
       "      <td>11.000000</td>\n",
       "      <td>79.872717</td>\n",
       "      <td>3.189661</td>\n",
       "      <td>0.000000</td>\n",
       "      <td>0.000000</td>\n",
       "    </tr>\n",
       "    <tr>\n",
       "      <th>25%</th>\n",
       "      <td>33.151526</td>\n",
       "      <td>0.002494</td>\n",
       "      <td>0.000064</td>\n",
       "      <td>71.286514</td>\n",
       "      <td>340.092387</td>\n",
       "      <td>123.345378</td>\n",
       "      <td>33.235809</td>\n",
       "      <td>194.603876</td>\n",
       "      <td>112.104090</td>\n",
       "      <td>0.738742</td>\n",
       "      <td>...</td>\n",
       "      <td>80.000000</td>\n",
       "      <td>173.149250</td>\n",
       "      <td>173.894000</td>\n",
       "      <td>22.218000</td>\n",
       "      <td>15.531500</td>\n",
       "      <td>48.000000</td>\n",
       "      <td>2715.769831</td>\n",
       "      <td>4.527523</td>\n",
       "      <td>0.000000</td>\n",
       "      <td>0.000000</td>\n",
       "    </tr>\n",
       "    <tr>\n",
       "      <th>50%</th>\n",
       "      <td>49.971021</td>\n",
       "      <td>0.005626</td>\n",
       "      <td>0.000118</td>\n",
       "      <td>73.919295</td>\n",
       "      <td>376.854636</td>\n",
       "      <td>178.876893</td>\n",
       "      <td>40.491230</td>\n",
       "      <td>246.512512</td>\n",
       "      <td>177.492489</td>\n",
       "      <td>1.038547</td>\n",
       "      <td>...</td>\n",
       "      <td>123.000000</td>\n",
       "      <td>207.869500</td>\n",
       "      <td>209.566000</td>\n",
       "      <td>26.938000</td>\n",
       "      <td>20.215500</td>\n",
       "      <td>76.000000</td>\n",
       "      <td>4614.342686</td>\n",
       "      <td>4.962252</td>\n",
       "      <td>0.000000</td>\n",
       "      <td>0.000000</td>\n",
       "    </tr>\n",
       "    <tr>\n",
       "      <th>75%</th>\n",
       "      <td>71.780495</td>\n",
       "      <td>0.013393</td>\n",
       "      <td>0.000221</td>\n",
       "      <td>75.591271</td>\n",
       "      <td>397.550374</td>\n",
       "      <td>202.789238</td>\n",
       "      <td>47.873591</td>\n",
       "      <td>292.692716</td>\n",
       "      <td>203.845659</td>\n",
       "      <td>1.361428</td>\n",
       "      <td>...</td>\n",
       "      <td>186.000000</td>\n",
       "      <td>258.004500</td>\n",
       "      <td>254.770750</td>\n",
       "      <td>32.072000</td>\n",
       "      <td>26.048000</td>\n",
       "      <td>113.000000</td>\n",
       "      <td>7327.533155</td>\n",
       "      <td>5.447008</td>\n",
       "      <td>0.000000</td>\n",
       "      <td>0.000000</td>\n",
       "    </tr>\n",
       "    <tr>\n",
       "      <th>max</th>\n",
       "      <td>376.992000</td>\n",
       "      <td>11.307079</td>\n",
       "      <td>0.132599</td>\n",
       "      <td>198.840510</td>\n",
       "      <td>424.360354</td>\n",
       "      <td>254.871233</td>\n",
       "      <td>97.363392</td>\n",
       "      <td>524.459680</td>\n",
       "      <td>247.959843</td>\n",
       "      <td>7.681538</td>\n",
       "      <td>...</td>\n",
       "      <td>995.000000</td>\n",
       "      <td>324.853000</td>\n",
       "      <td>323.517000</td>\n",
       "      <td>54.361000</td>\n",
       "      <td>53.887000</td>\n",
       "      <td>590.000000</td>\n",
       "      <td>115205.155600</td>\n",
       "      <td>6.647218</td>\n",
       "      <td>1.000000</td>\n",
       "      <td>1.000000</td>\n",
       "    </tr>\n",
       "  </tbody>\n",
       "</table>\n",
       "<p>8 rows × 61 columns</p>\n",
       "</div>"
      ],
      "text/plain": [
       "         duration      energy       power   min_pitch   max_pitch  mean_pitch  \\\n",
       "count  690.000000  690.000000  690.000000  690.000000  690.000000  690.000000   \n",
       "mean    57.347119    0.029338    0.000448   74.322155  365.431796  168.262349   \n",
       "std     36.093676    0.436967    0.005672    8.282685   41.450129   42.396158   \n",
       "min     10.341458    0.000176    0.000013   56.049663  222.555742   92.979514   \n",
       "25%     33.151526    0.002494    0.000064   71.286514  340.092387  123.345378   \n",
       "50%     49.971021    0.005626    0.000118   73.919295  376.854636  178.876893   \n",
       "75%     71.780495    0.013393    0.000221   75.591271  397.550374  202.789238   \n",
       "max    376.992000   11.307079    0.132599  198.840510  424.360354  254.871233   \n",
       "\n",
       "         pitch_sd   pitch_abs  pitch_quant  pitchUvsVRatio  ...   iInterval  \\\n",
       "count  690.000000  690.000000   690.000000      690.000000  ...  690.000000   \n",
       "mean    41.953391  245.904205   162.598051        1.206687  ...  147.552174   \n",
       "std     13.081761   76.500124    47.092531        0.799530  ...   99.314126   \n",
       "min     12.053274   76.004974    82.801688        0.301339  ...   17.000000   \n",
       "25%     33.235809  194.603876   112.104090        0.738742  ...   80.000000   \n",
       "50%     40.491230  246.512512   177.492489        1.038547  ...  123.000000   \n",
       "75%     47.873591  292.692716   203.845659        1.361428  ...  186.000000   \n",
       "max     97.363392  524.459680   247.959843        7.681538  ...  995.000000   \n",
       "\n",
       "       MaxRising:3  MaxFalling:3  AvgTotRis:3  AvgTotFall:3   numRising  \\\n",
       "count   690.000000    690.000000   690.000000    690.000000  690.000000   \n",
       "mean    214.246171    212.135703    27.463743     21.541425   89.113043   \n",
       "std      53.119058     53.914190     7.688383      8.410722   59.192329   \n",
       "min      90.977000     74.731000     9.800000      5.044000   11.000000   \n",
       "25%     173.149250    173.894000    22.218000     15.531500   48.000000   \n",
       "50%     207.869500    209.566000    26.938000     20.215500   76.000000   \n",
       "75%     258.004500    254.770750    32.072000     26.048000  113.000000   \n",
       "max     324.853000    323.517000    54.361000     53.887000  590.000000   \n",
       "\n",
       "             numFall  RecommendHiring       Hired      Hired2  \n",
       "count     690.000000       690.000000  690.000000  690.000000  \n",
       "mean     5794.974496         4.945343    0.072464    0.137681  \n",
       "std      6148.773593         0.717816    0.259442    0.344815  \n",
       "min        79.872717         3.189661    0.000000    0.000000  \n",
       "25%      2715.769831         4.527523    0.000000    0.000000  \n",
       "50%      4614.342686         4.962252    0.000000    0.000000  \n",
       "75%      7327.533155         5.447008    0.000000    0.000000  \n",
       "max    115205.155600         6.647218    1.000000    1.000000  \n",
       "\n",
       "[8 rows x 61 columns]"
      ]
     },
     "execution_count": 76,
     "metadata": {},
     "output_type": "execute_result"
    }
   ],
   "source": [
    "prosody_data.describe()"
   ]
  },
  {
   "cell_type": "code",
   "execution_count": 85,
   "metadata": {},
   "outputs": [
    {
     "data": {
      "image/png": "[encoded data removed]",
      "text/plain": [
       "<Figure size 432x288 with 1 Axes>"
      ]
     },
     "metadata": {
      "needs_background": "light"
     },
     "output_type": "display_data"
    }
   ],
   "source": [
    "plt.boxplot(prosody_data['energy'])\n",
    "plt.boxplot(prosody_data['min_pitch'])\n",
    "plt.yticks(prosody_data['energy'])\n",
    "\n",
    "plt.show()"
   ]
  },
  {
   "cell_type": "markdown",
   "metadata": {},
   "source": [
    "sns.set_style('whitegrid')\n",
    "prosody_data['RecommendHiring'].hist(bins=30)\n",
    "plt.xlabel('RecommendHiring')"
   ]
  },
  {
   "cell_type": "markdown",
   "metadata": {},
   "source": [
    "sns.jointplot(x='energy', y='RecommendHiring', data=prosody_data)"
   ]
  },
  {
   "cell_type": "markdown",
   "metadata": {},
   "source": [
    "# Select Features Using Lasso"
   ]
  },
  {
   "cell_type": "code",
   "execution_count": 4,
   "metadata": {},
   "outputs": [],
   "source": [
    "from sklearn.model_selection import train_test_split"
   ]
  },
  {
   "cell_type": "code",
   "execution_count": 5,
   "metadata": {},
   "outputs": [],
   "source": [
    "#X1=prosody_data.drop(['Row Labels','Class','Class1','RecommendHiring'],axis=1)\n",
    "X1=prosody_data.drop(['participant&question','Hired','Hired2','RecommendHiring'],axis=1)"
   ]
  },
  {
   "cell_type": "markdown",
   "metadata": {},
   "source": [
    "X1.info()"
   ]
  },
  {
   "cell_type": "code",
   "execution_count": 6,
   "metadata": {},
   "outputs": [
    {
     "data": {
      "text/plain": [
       "0      5.106224\n",
       "1      5.106224\n",
       "2      5.106224\n",
       "3      5.106224\n",
       "4      5.106224\n",
       "         ...   \n",
       "685    4.370067\n",
       "686    4.370067\n",
       "687    4.370067\n",
       "688    4.370067\n",
       "689    4.370067\n",
       "Name: RecommendHiring, Length: 690, dtype: float64"
      ]
     },
     "execution_count": 6,
     "metadata": {},
     "output_type": "execute_result"
    }
   ],
   "source": [
    "y1=prosody_data['RecommendHiring']\n",
    "y1"
   ]
  },
  {
   "cell_type": "code",
   "execution_count": 7,
   "metadata": {},
   "outputs": [],
   "source": [
    "X1_train, X1_test, y1_train, y1_test = train_test_split(X1, y1, test_size=0.20, random_state=10)"
   ]
  },
  {
   "cell_type": "code",
   "execution_count": 8,
   "metadata": {},
   "outputs": [],
   "source": [
    "feature_names= X1\n",
    "ranks = {}\n",
    "from sklearn.preprocessing import MinMaxScaler\n",
    " \n",
    "def rank_to_dict(ranks, names, order=1):\n",
    "    minmax = MinMaxScaler()\n",
    "    ranks = minmax.fit_transform(order*np.array([ranks]).T).T[0]\n",
    "    #ranks = map(lambda x: round(x, 5), ranks)\n",
    "    return dict(zip(names, ranks ))"
   ]
  },
  {
   "cell_type": "code",
   "execution_count": 9,
   "metadata": {},
   "outputs": [],
   "source": [
    "from sklearn.linear_model import Lasso "
   ]
  },
  {
   "cell_type": "code",
   "execution_count": 10,
   "metadata": {},
   "outputs": [
    {
     "data": {
      "text/plain": [
       "Lasso(alpha=0.5)"
      ]
     },
     "execution_count": 10,
     "metadata": {},
     "output_type": "execute_result"
    }
   ],
   "source": [
    "lasso = Lasso(alpha=.5)\n",
    "lasso.fit(X1_train, y1_train)"
   ]
  },
  {
   "cell_type": "code",
   "execution_count": 11,
   "metadata": {},
   "outputs": [
    {
     "data": {
      "text/plain": [
       "{'duration': 0.5470693379805213,\n",
       " 'energy': 0.0,\n",
       " 'power': 0.0,\n",
       " 'min_pitch': 0.0,\n",
       " 'max_pitch': 0.0,\n",
       " 'mean_pitch': 0.0,\n",
       " 'pitch_sd': 0.7859416647354037,\n",
       " 'pitch_abs': 0.05051366024943179,\n",
       " 'pitch_quant': 0.0,\n",
       " 'pitchUvsVRatio': 0.0,\n",
       " 'Time:8': 0.056430399196341276,\n",
       " 'iDifference': 0.19276698634508277,\n",
       " 'diffPitchMaxMin': 0.02787954816431496,\n",
       " 'diffPitchMaxMean': 0.0,\n",
       " 'diffPitchMaxMode': 0.16074442605791026,\n",
       " 'intensityMin': 0.0,\n",
       " 'intensityMax': 0.0,\n",
       " 'intensityMean': 0.0,\n",
       " 'intensitySD': 0.0,\n",
       " 'intensityQuant': 0.0,\n",
       " 'diffIntMaxMin': 0.0,\n",
       " 'diffIntMaxMean': 0.0,\n",
       " 'diffIntMaxMode': 0.0,\n",
       " 'avgVal1': 0.0294842494836679,\n",
       " 'avgVal2': 0.029260191482681178,\n",
       " 'avgVal3': 0.0017084916680180809,\n",
       " 'avgBand1': 0.9999999999999999,\n",
       " 'avgBand2': 0.0,\n",
       " 'avgBand3': 0.0,\n",
       " 'fmean1': 0.0013421148224538018,\n",
       " 'fmean2': 0.04023655601364753,\n",
       " 'fmean3': 0.3082744300376113,\n",
       " 'f2meanf1': 0.0,\n",
       " 'f3meanf1': 0.0,\n",
       " 'f1STD': 0.0,\n",
       " 'f2STD': 0.15819157291305236,\n",
       " 'f3STD': 0.0,\n",
       " 'f2STDf1': 0.0,\n",
       " 'f2STDf2': 0.0,\n",
       " 'jitter': 0.0,\n",
       " 'shimmer': 0.0,\n",
       " 'jitterRap': 0.0,\n",
       " 'meanPeriod': 0.0,\n",
       " 'percentUnvoiced': 0.0,\n",
       " 'numVoiceBreaks': 0.0,\n",
       " 'PercentBreaks': 0.0,\n",
       " 'speakRate': 0.0,\n",
       " 'numPause': 0.0,\n",
       " 'maxDurPause': 0.0,\n",
       " 'avgDurPause': 0.0,\n",
       " 'TotDurPause:3': 0.5052070090311669,\n",
       " 'iInterval': 0.06668162108107419,\n",
       " 'MaxRising:3': 0.0,\n",
       " 'MaxFalling:3': 0.1536321950756823,\n",
       " 'AvgTotRis:3': 0.0,\n",
       " 'AvgTotFall:3': 0.0,\n",
       " 'numRising': 0.0,\n",
       " 'numFall': 0.009220363823560411}"
      ]
     },
     "execution_count": 11,
     "metadata": {},
     "output_type": "execute_result"
    }
   ],
   "source": [
    "ranks[\"Lasso\"] = rank_to_dict(np.abs(lasso.coef_), feature_names)\n",
    "rankDict = {}\n",
    "rankDict = ranks['Lasso']\n",
    "rankDict"
   ]
  },
  {
   "cell_type": "code",
   "execution_count": 12,
   "metadata": {},
   "outputs": [
    {
     "data": {
      "text/plain": [
       "['avgBand1',\n",
       " 'pitch_sd',\n",
       " 'duration',\n",
       " 'TotDurPause:3',\n",
       " 'fmean3',\n",
       " 'iDifference',\n",
       " 'diffPitchMaxMode',\n",
       " 'f2STD',\n",
       " 'MaxFalling:3',\n",
       " 'iInterval',\n",
       " 'Time:8',\n",
       " 'pitch_abs',\n",
       " 'fmean2',\n",
       " 'avgVal1',\n",
       " 'avgVal2',\n",
       " 'diffPitchMaxMin',\n",
       " 'numFall',\n",
       " 'avgVal3',\n",
       " 'fmean1',\n",
       " 'energy',\n",
       " 'power',\n",
       " 'min_pitch',\n",
       " 'max_pitch',\n",
       " 'mean_pitch',\n",
       " 'pitch_quant',\n",
       " 'pitchUvsVRatio',\n",
       " 'diffPitchMaxMean',\n",
       " 'intensityMin',\n",
       " 'intensityMax',\n",
       " 'intensityMean']"
      ]
     },
     "execution_count": 12,
     "metadata": {},
     "output_type": "execute_result"
    }
   ],
   "source": [
    "selectedFeatures_Lasso = []\n",
    "#for key,val in rankDict.items():\n",
    "    #if (val > 0):\n",
    "selectedFeatures_Lasso = dict(sorted(rankDict.items(), key=lambda item: item[1],reverse=True))\n",
    "selectedFeatures_Lasso.keys()\n",
    "\n",
    "selectedFeatures_Lasso_10 = []\n",
    "i=0\n",
    "for key in selectedFeatures_Lasso.keys():\n",
    "    if(i<10):\n",
    "        selectedFeatures_Lasso_10.append(key)\n",
    "        i+=1\n",
    "        \n",
    "selectedFeatures_Lasso_20 = []\n",
    "i=0\n",
    "for key in selectedFeatures_Lasso.keys():\n",
    "    if(i<20):\n",
    "        selectedFeatures_Lasso_20.append(key)\n",
    "        i+=1\n",
    "        \n",
    "selectedFeatures_Lasso_30 = []\n",
    "i=0\n",
    "for key in selectedFeatures_Lasso.keys():\n",
    "    if(i<30):\n",
    "        selectedFeatures_Lasso_30.append(key)\n",
    "        i+=1\n",
    "selectedFeatures_Lasso_30   \n",
    "#rankDict"
   ]
  },
  {
   "cell_type": "code",
   "execution_count": null,
   "metadata": {},
   "outputs": [],
   "source": []
  },
  {
   "cell_type": "markdown",
   "metadata": {},
   "source": [
    "# Apply Nural Networks on Selected features using Lasso"
   ]
  },
  {
   "cell_type": "code",
   "execution_count": 13,
   "metadata": {},
   "outputs": [],
   "source": [
    "import tensorflow as tf\n",
    "from tensorflow import keras"
   ]
  },
  {
   "cell_type": "code",
   "execution_count": 14,
   "metadata": {},
   "outputs": [],
   "source": [
    "X10=prosody_data[selectedFeatures_Lasso_10]\n",
    "y10=prosody_data['Hired']\n",
    "X10_train, X10_test, y10_train, y10_test = train_test_split(X10, y10, test_size=0.20, random_state=10)"
   ]
  },
  {
   "cell_type": "markdown",
   "metadata": {},
   "source": [
    "X1_train"
   ]
  },
  {
   "cell_type": "code",
   "execution_count": 15,
   "metadata": {},
   "outputs": [
    {
     "name": "stdout",
     "output_type": "stream",
     "text": [
      "Epoch 1/200\n",
      "18/18 [==============================] - 0s 1ms/step - loss: 2.6007 - accuracy: 0.8533\n",
      "Epoch 2/200\n",
      "18/18 [==============================] - 0s 1ms/step - loss: 0.9646 - accuracy: 0.8424\n",
      "Epoch 3/200\n",
      "18/18 [==============================] - 0s 2ms/step - loss: 0.7620 - accuracy: 0.8804\n",
      "Epoch 4/200\n",
      "18/18 [==============================] - 0s 2ms/step - loss: 0.4801 - accuracy: 0.9094\n",
      "Epoch 5/200\n",
      "18/18 [==============================] - 0s 2ms/step - loss: 0.3669 - accuracy: 0.9185\n",
      "Epoch 6/200\n",
      "18/18 [==============================] - 0s 2ms/step - loss: 0.2950 - accuracy: 0.9275\n",
      "Epoch 7/200\n",
      "18/18 [==============================] - 0s 2ms/step - loss: 0.3089 - accuracy: 0.9257\n",
      "Epoch 8/200\n",
      "18/18 [==============================] - 0s 2ms/step - loss: 0.3511 - accuracy: 0.9275\n",
      "Epoch 9/200\n",
      "18/18 [==============================] - 0s 2ms/step - loss: 0.3390 - accuracy: 0.9275\n",
      "Epoch 10/200\n",
      "18/18 [==============================] - 0s 2ms/step - loss: 0.2634 - accuracy: 0.9275\n",
      "Epoch 11/200\n",
      "18/18 [==============================] - 0s 2ms/step - loss: 0.2562 - accuracy: 0.9275\n",
      "Epoch 12/200\n",
      "18/18 [==============================] - 0s 2ms/step - loss: 0.2555 - accuracy: 0.9275\n",
      "Epoch 13/200\n",
      "18/18 [==============================] - 0s 2ms/step - loss: 0.2547 - accuracy: 0.9275\n",
      "Epoch 14/200\n",
      "18/18 [==============================] - 0s 2ms/step - loss: 0.2451 - accuracy: 0.9275\n",
      "Epoch 15/200\n",
      "18/18 [==============================] - 0s 2ms/step - loss: 0.2641 - accuracy: 0.9275\n",
      "Epoch 16/200\n",
      "18/18 [==============================] - 0s 2ms/step - loss: 0.2478 - accuracy: 0.9275\n",
      "Epoch 17/200\n",
      "18/18 [==============================] - 0s 2ms/step - loss: 0.2538 - accuracy: 0.9275\n",
      "Epoch 18/200\n",
      "18/18 [==============================] - 0s 2ms/step - loss: 0.2794 - accuracy: 0.9275\n",
      "Epoch 19/200\n",
      "18/18 [==============================] - 0s 2ms/step - loss: 0.3826 - accuracy: 0.9076\n",
      "Epoch 20/200\n",
      "18/18 [==============================] - 0s 2ms/step - loss: 0.3962 - accuracy: 0.9239\n",
      "Epoch 21/200\n",
      "18/18 [==============================] - 0s 2ms/step - loss: 0.3561 - accuracy: 0.9312\n",
      "Epoch 22/200\n",
      "18/18 [==============================] - 0s 2ms/step - loss: 0.2898 - accuracy: 0.9293\n",
      "Epoch 23/200\n",
      "18/18 [==============================] - 0s 2ms/step - loss: 0.2905 - accuracy: 0.9257\n",
      "Epoch 24/200\n",
      "18/18 [==============================] - 0s 2ms/step - loss: 0.2491 - accuracy: 0.9275\n",
      "Epoch 25/200\n",
      "18/18 [==============================] - 0s 2ms/step - loss: 0.2552 - accuracy: 0.9275\n",
      "Epoch 26/200\n",
      "18/18 [==============================] - 0s 3ms/step - loss: 0.2373 - accuracy: 0.9275\n",
      "Epoch 27/200\n",
      "18/18 [==============================] - 0s 2ms/step - loss: 0.2551 - accuracy: 0.9275\n",
      "Epoch 28/200\n",
      "18/18 [==============================] - 0s 2ms/step - loss: 0.2333 - accuracy: 0.9275\n",
      "Epoch 29/200\n",
      "18/18 [==============================] - 0s 3ms/step - loss: 0.2607 - accuracy: 0.9239\n",
      "Epoch 30/200\n",
      "18/18 [==============================] - 0s 3ms/step - loss: 0.2552 - accuracy: 0.9257\n",
      "Epoch 31/200\n",
      "18/18 [==============================] - 0s 2ms/step - loss: 0.2577 - accuracy: 0.9275\n",
      "Epoch 32/200\n",
      "18/18 [==============================] - 0s 2ms/step - loss: 0.3188 - accuracy: 0.9221\n",
      "Epoch 33/200\n",
      "18/18 [==============================] - 0s 2ms/step - loss: 0.2834 - accuracy: 0.9293\n",
      "Epoch 34/200\n",
      "18/18 [==============================] - 0s 2ms/step - loss: 0.2359 - accuracy: 0.9275\n",
      "Epoch 35/200\n",
      "18/18 [==============================] - 0s 2ms/step - loss: 0.2830 - accuracy: 0.9257\n",
      "Epoch 36/200\n",
      "18/18 [==============================] - 0s 2ms/step - loss: 0.2886 - accuracy: 0.9257\n",
      "Epoch 37/200\n",
      "18/18 [==============================] - 0s 2ms/step - loss: 0.2440 - accuracy: 0.9312\n",
      "Epoch 38/200\n",
      "18/18 [==============================] - 0s 2ms/step - loss: 0.2388 - accuracy: 0.9275\n",
      "Epoch 39/200\n",
      "18/18 [==============================] - 0s 2ms/step - loss: 0.2655 - accuracy: 0.9293\n",
      "Epoch 40/200\n",
      "18/18 [==============================] - 0s 2ms/step - loss: 0.2908 - accuracy: 0.9257\n",
      "Epoch 41/200\n",
      "18/18 [==============================] - 0s 2ms/step - loss: 0.2778 - accuracy: 0.9293\n",
      "Epoch 42/200\n",
      "18/18 [==============================] - 0s 2ms/step - loss: 0.2522 - accuracy: 0.9275\n",
      "Epoch 43/200\n",
      "18/18 [==============================] - 0s 2ms/step - loss: 0.2691 - accuracy: 0.9257\n",
      "Epoch 44/200\n",
      "18/18 [==============================] - 0s 2ms/step - loss: 0.2674 - accuracy: 0.9293\n",
      "Epoch 45/200\n",
      "18/18 [==============================] - 0s 2ms/step - loss: 0.3346 - accuracy: 0.9221\n",
      "Epoch 46/200\n",
      "18/18 [==============================] - 0s 3ms/step - loss: 0.2863 - accuracy: 0.9239\n",
      "Epoch 47/200\n",
      "18/18 [==============================] - 0s 3ms/step - loss: 0.2450 - accuracy: 0.9293\n",
      "Epoch 48/200\n",
      "18/18 [==============================] - 0s 3ms/step - loss: 0.2538 - accuracy: 0.9275\n",
      "Epoch 49/200\n",
      "18/18 [==============================] - 0s 3ms/step - loss: 0.2519 - accuracy: 0.9275\n",
      "Epoch 50/200\n",
      "18/18 [==============================] - 0s 2ms/step - loss: 0.2290 - accuracy: 0.9275\n",
      "Epoch 51/200\n",
      "18/18 [==============================] - 0s 2ms/step - loss: 0.3216 - accuracy: 0.9257\n",
      "Epoch 52/200\n",
      "18/18 [==============================] - 0s 3ms/step - loss: 0.2958 - accuracy: 0.9094\n",
      "Epoch 53/200\n",
      "18/18 [==============================] - 0s 3ms/step - loss: 0.2564 - accuracy: 0.9293\n",
      "Epoch 54/200\n",
      "18/18 [==============================] - 0s 2ms/step - loss: 0.2346 - accuracy: 0.9293\n",
      "Epoch 55/200\n",
      "18/18 [==============================] - 0s 2ms/step - loss: 0.2263 - accuracy: 0.9293\n",
      "Epoch 56/200\n",
      "18/18 [==============================] - 0s 2ms/step - loss: 0.2336 - accuracy: 0.9293\n",
      "Epoch 57/200\n",
      "18/18 [==============================] - 0s 2ms/step - loss: 0.2711 - accuracy: 0.9239\n",
      "Epoch 58/200\n",
      "18/18 [==============================] - 0s 3ms/step - loss: 0.2220 - accuracy: 0.9312\n",
      "Epoch 59/200\n",
      "18/18 [==============================] - 0s 3ms/step - loss: 0.2385 - accuracy: 0.9112\n",
      "Epoch 60/200\n",
      "18/18 [==============================] - 0s 3ms/step - loss: 0.2353 - accuracy: 0.9312\n",
      "Epoch 61/200\n",
      "18/18 [==============================] - 0s 3ms/step - loss: 0.2517 - accuracy: 0.9330\n",
      "Epoch 62/200\n",
      "18/18 [==============================] - 0s 3ms/step - loss: 0.2379 - accuracy: 0.9330\n",
      "Epoch 63/200\n",
      "18/18 [==============================] - 0s 2ms/step - loss: 0.2480 - accuracy: 0.9257\n",
      "Epoch 64/200\n",
      "18/18 [==============================] - 0s 3ms/step - loss: 0.2518 - accuracy: 0.9293\n",
      "Epoch 65/200\n",
      "18/18 [==============================] - 0s 3ms/step - loss: 0.2219 - accuracy: 0.9275\n",
      "Epoch 66/200\n",
      "18/18 [==============================] - 0s 3ms/step - loss: 0.2455 - accuracy: 0.9257\n",
      "Epoch 67/200\n",
      "18/18 [==============================] - 0s 2ms/step - loss: 0.2272 - accuracy: 0.9275\n",
      "Epoch 68/200\n",
      "18/18 [==============================] - 0s 2ms/step - loss: 0.2200 - accuracy: 0.9293\n",
      "Epoch 69/200\n",
      "18/18 [==============================] - 0s 2ms/step - loss: 0.2457 - accuracy: 0.9293\n",
      "Epoch 70/200\n",
      "18/18 [==============================] - 0s 2ms/step - loss: 0.2127 - accuracy: 0.9293\n",
      "Epoch 71/200\n",
      "18/18 [==============================] - 0s 2ms/step - loss: 0.2067 - accuracy: 0.9312\n",
      "Epoch 72/200\n",
      "18/18 [==============================] - 0s 2ms/step - loss: 0.2058 - accuracy: 0.9275\n",
      "Epoch 73/200\n",
      "18/18 [==============================] - 0s 2ms/step - loss: 0.2117 - accuracy: 0.9312\n",
      "Epoch 74/200\n",
      "18/18 [==============================] - 0s 2ms/step - loss: 0.2038 - accuracy: 0.9330\n",
      "Epoch 75/200\n",
      "18/18 [==============================] - 0s 2ms/step - loss: 0.2255 - accuracy: 0.9330\n",
      "Epoch 76/200\n",
      "18/18 [==============================] - 0s 4ms/step - loss: 0.2064 - accuracy: 0.9330\n",
      "Epoch 77/200\n",
      "18/18 [==============================] - 0s 3ms/step - loss: 0.1990 - accuracy: 0.9330\n",
      "Epoch 78/200\n",
      "18/18 [==============================] - 0s 3ms/step - loss: 0.2130 - accuracy: 0.9275\n",
      "Epoch 79/200\n",
      "18/18 [==============================] - 0s 2ms/step - loss: 0.2252 - accuracy: 0.9203\n",
      "Epoch 80/200\n",
      "18/18 [==============================] - 0s 2ms/step - loss: 0.2223 - accuracy: 0.9275\n",
      "Epoch 81/200\n",
      "18/18 [==============================] - 0s 2ms/step - loss: 0.2398 - accuracy: 0.9257\n",
      "Epoch 82/200\n",
      "18/18 [==============================] - 0s 3ms/step - loss: 0.2182 - accuracy: 0.9275\n",
      "Epoch 83/200\n"
     ]
    },
    {
     "name": "stdout",
     "output_type": "stream",
     "text": [
      "18/18 [==============================] - 0s 3ms/step - loss: 0.2122 - accuracy: 0.9293\n",
      "Epoch 84/200\n",
      "18/18 [==============================] - 0s 4ms/step - loss: 0.2036 - accuracy: 0.9275\n",
      "Epoch 85/200\n",
      "18/18 [==============================] - 0s 4ms/step - loss: 0.2257 - accuracy: 0.9203\n",
      "Epoch 86/200\n",
      "18/18 [==============================] - 0s 4ms/step - loss: 0.2156 - accuracy: 0.9275\n",
      "Epoch 87/200\n",
      "18/18 [==============================] - 0s 3ms/step - loss: 0.1896 - accuracy: 0.9348\n",
      "Epoch 88/200\n",
      "18/18 [==============================] - 0s 3ms/step - loss: 0.1923 - accuracy: 0.9330\n",
      "Epoch 89/200\n",
      "18/18 [==============================] - 0s 2ms/step - loss: 0.2117 - accuracy: 0.9257\n",
      "Epoch 90/200\n",
      "18/18 [==============================] - 0s 2ms/step - loss: 0.1980 - accuracy: 0.9293\n",
      "Epoch 91/200\n",
      "18/18 [==============================] - 0s 3ms/step - loss: 0.2152 - accuracy: 0.9239\n",
      "Epoch 92/200\n",
      "18/18 [==============================] - 0s 3ms/step - loss: 0.2203 - accuracy: 0.9239\n",
      "Epoch 93/200\n",
      "18/18 [==============================] - 0s 3ms/step - loss: 0.2044 - accuracy: 0.9257\n",
      "Epoch 94/200\n",
      "18/18 [==============================] - 0s 2ms/step - loss: 0.2105 - accuracy: 0.9312\n",
      "Epoch 95/200\n",
      "18/18 [==============================] - 0s 3ms/step - loss: 0.2125 - accuracy: 0.9239\n",
      "Epoch 96/200\n",
      "18/18 [==============================] - 0s 3ms/step - loss: 0.2045 - accuracy: 0.9257\n",
      "Epoch 97/200\n",
      "18/18 [==============================] - 0s 3ms/step - loss: 0.2166 - accuracy: 0.9149\n",
      "Epoch 98/200\n",
      "18/18 [==============================] - 0s 3ms/step - loss: 0.1817 - accuracy: 0.9330\n",
      "Epoch 99/200\n",
      "18/18 [==============================] - 0s 3ms/step - loss: 0.1894 - accuracy: 0.9348\n",
      "Epoch 100/200\n",
      "18/18 [==============================] - 0s 3ms/step - loss: 0.1836 - accuracy: 0.9330\n",
      "Epoch 101/200\n",
      "18/18 [==============================] - 0s 4ms/step - loss: 0.1878 - accuracy: 0.9312\n",
      "Epoch 102/200\n",
      "18/18 [==============================] - 0s 7ms/step - loss: 0.2358 - accuracy: 0.9257\n",
      "Epoch 103/200\n",
      "18/18 [==============================] - 0s 3ms/step - loss: 0.2264 - accuracy: 0.9348\n",
      "Epoch 104/200\n",
      "18/18 [==============================] - 0s 2ms/step - loss: 0.2073 - accuracy: 0.9312\n",
      "Epoch 105/200\n",
      "18/18 [==============================] - 0s 2ms/step - loss: 0.2502 - accuracy: 0.9185\n",
      "Epoch 106/200\n",
      "18/18 [==============================] - 0s 2ms/step - loss: 0.2000 - accuracy: 0.9330\n",
      "Epoch 107/200\n",
      "18/18 [==============================] - 0s 3ms/step - loss: 0.2518 - accuracy: 0.9275\n",
      "Epoch 108/200\n",
      "18/18 [==============================] - 0s 3ms/step - loss: 0.2203 - accuracy: 0.9221\n",
      "Epoch 109/200\n",
      "18/18 [==============================] - 0s 2ms/step - loss: 0.2521 - accuracy: 0.9130\n",
      "Epoch 110/200\n",
      "18/18 [==============================] - 0s 2ms/step - loss: 0.2126 - accuracy: 0.9312\n",
      "Epoch 111/200\n",
      "18/18 [==============================] - 0s 3ms/step - loss: 0.2271 - accuracy: 0.9330\n",
      "Epoch 112/200\n",
      "18/18 [==============================] - 0s 2ms/step - loss: 0.2193 - accuracy: 0.9293\n",
      "Epoch 113/200\n",
      "18/18 [==============================] - 0s 2ms/step - loss: 0.2325 - accuracy: 0.9221\n",
      "Epoch 114/200\n",
      "18/18 [==============================] - 0s 2ms/step - loss: 0.2234 - accuracy: 0.9257\n",
      "Epoch 115/200\n",
      "18/18 [==============================] - 0s 2ms/step - loss: 0.1823 - accuracy: 0.9384\n",
      "Epoch 116/200\n",
      "18/18 [==============================] - 0s 3ms/step - loss: 0.2059 - accuracy: 0.9239\n",
      "Epoch 117/200\n",
      "18/18 [==============================] - 0s 3ms/step - loss: 0.1892 - accuracy: 0.9366\n",
      "Epoch 118/200\n",
      "18/18 [==============================] - 0s 2ms/step - loss: 0.1884 - accuracy: 0.9366\n",
      "Epoch 119/200\n",
      "18/18 [==============================] - 0s 2ms/step - loss: 0.1895 - accuracy: 0.9348\n",
      "Epoch 120/200\n",
      "18/18 [==============================] - 0s 2ms/step - loss: 0.1996 - accuracy: 0.9312\n",
      "Epoch 121/200\n",
      "18/18 [==============================] - 0s 2ms/step - loss: 0.2539 - accuracy: 0.9149\n",
      "Epoch 122/200\n",
      "18/18 [==============================] - 0s 2ms/step - loss: 0.1878 - accuracy: 0.9330\n",
      "Epoch 123/200\n",
      "18/18 [==============================] - 0s 2ms/step - loss: 0.2144 - accuracy: 0.9293\n",
      "Epoch 124/200\n",
      "18/18 [==============================] - 0s 2ms/step - loss: 0.2033 - accuracy: 0.9275\n",
      "Epoch 125/200\n",
      "18/18 [==============================] - 0s 2ms/step - loss: 0.2192 - accuracy: 0.9239\n",
      "Epoch 126/200\n",
      "18/18 [==============================] - 0s 2ms/step - loss: 0.1884 - accuracy: 0.9366\n",
      "Epoch 127/200\n",
      "18/18 [==============================] - 0s 2ms/step - loss: 0.2066 - accuracy: 0.9293\n",
      "Epoch 128/200\n",
      "18/18 [==============================] - 0s 2ms/step - loss: 0.1897 - accuracy: 0.9330\n",
      "Epoch 129/200\n",
      "18/18 [==============================] - 0s 2ms/step - loss: 0.1783 - accuracy: 0.9420\n",
      "Epoch 130/200\n",
      "18/18 [==============================] - 0s 2ms/step - loss: 0.2187 - accuracy: 0.9185\n",
      "Epoch 131/200\n",
      "18/18 [==============================] - 0s 1ms/step - loss: 0.1848 - accuracy: 0.9330\n",
      "Epoch 132/200\n",
      "18/18 [==============================] - 0s 2ms/step - loss: 0.1713 - accuracy: 0.9402\n",
      "Epoch 133/200\n",
      "18/18 [==============================] - 0s 1ms/step - loss: 0.1771 - accuracy: 0.9312\n",
      "Epoch 134/200\n",
      "18/18 [==============================] - 0s 1ms/step - loss: 0.1961 - accuracy: 0.9239\n",
      "Epoch 135/200\n",
      "18/18 [==============================] - 0s 2ms/step - loss: 0.2311 - accuracy: 0.9239\n",
      "Epoch 136/200\n",
      "18/18 [==============================] - 0s 2ms/step - loss: 0.1735 - accuracy: 0.9384\n",
      "Epoch 137/200\n",
      "18/18 [==============================] - 0s 2ms/step - loss: 0.1795 - accuracy: 0.9330\n",
      "Epoch 138/200\n",
      "18/18 [==============================] - 0s 4ms/step - loss: 0.1715 - accuracy: 0.9312\n",
      "Epoch 139/200\n",
      "18/18 [==============================] - 0s 3ms/step - loss: 0.1718 - accuracy: 0.9457\n",
      "Epoch 140/200\n",
      "18/18 [==============================] - 0s 2ms/step - loss: 0.1797 - accuracy: 0.9330\n",
      "Epoch 141/200\n",
      "18/18 [==============================] - 0s 2ms/step - loss: 0.1715 - accuracy: 0.9402\n",
      "Epoch 142/200\n",
      "18/18 [==============================] - 0s 1ms/step - loss: 0.1794 - accuracy: 0.9384\n",
      "Epoch 143/200\n",
      "18/18 [==============================] - 0s 1ms/step - loss: 0.1789 - accuracy: 0.9384\n",
      "Epoch 144/200\n",
      "18/18 [==============================] - 0s 1ms/step - loss: 0.2178 - accuracy: 0.9293\n",
      "Epoch 145/200\n",
      "18/18 [==============================] - 0s 1ms/step - loss: 0.2146 - accuracy: 0.9275\n",
      "Epoch 146/200\n",
      "18/18 [==============================] - 0s 1ms/step - loss: 0.1880 - accuracy: 0.9312\n",
      "Epoch 147/200\n",
      "18/18 [==============================] - 0s 1ms/step - loss: 0.1818 - accuracy: 0.9348\n",
      "Epoch 148/200\n",
      "18/18 [==============================] - 0s 1ms/step - loss: 0.2102 - accuracy: 0.9257\n",
      "Epoch 149/200\n",
      "18/18 [==============================] - 0s 2ms/step - loss: 0.1748 - accuracy: 0.9348\n",
      "Epoch 150/200\n",
      "18/18 [==============================] - 0s 2ms/step - loss: 0.1832 - accuracy: 0.9348\n",
      "Epoch 151/200\n",
      "18/18 [==============================] - 0s 2ms/step - loss: 0.1826 - accuracy: 0.9366\n",
      "Epoch 152/200\n",
      "18/18 [==============================] - 0s 3ms/step - loss: 0.2409 - accuracy: 0.9348\n",
      "Epoch 153/200\n",
      "18/18 [==============================] - 0s 2ms/step - loss: 0.1972 - accuracy: 0.9275\n",
      "Epoch 154/200\n",
      "18/18 [==============================] - 0s 2ms/step - loss: 0.1928 - accuracy: 0.9348\n",
      "Epoch 155/200\n",
      "18/18 [==============================] - 0s 2ms/step - loss: 0.1936 - accuracy: 0.9312\n",
      "Epoch 156/200\n",
      "18/18 [==============================] - 0s 2ms/step - loss: 0.1891 - accuracy: 0.9293\n",
      "Epoch 157/200\n",
      "18/18 [==============================] - 0s 2ms/step - loss: 0.1738 - accuracy: 0.9366\n",
      "Epoch 158/200\n",
      "18/18 [==============================] - 0s 2ms/step - loss: 0.2302 - accuracy: 0.9275\n",
      "Epoch 159/200\n",
      "18/18 [==============================] - 0s 2ms/step - loss: 0.1980 - accuracy: 0.9312\n",
      "Epoch 160/200\n",
      "18/18 [==============================] - 0s 2ms/step - loss: 0.1734 - accuracy: 0.9366\n",
      "Epoch 161/200\n",
      "18/18 [==============================] - 0s 2ms/step - loss: 0.1854 - accuracy: 0.9348\n",
      "Epoch 162/200\n",
      "18/18 [==============================] - 0s 2ms/step - loss: 0.1772 - accuracy: 0.9366\n",
      "Epoch 163/200\n",
      "18/18 [==============================] - 0s 2ms/step - loss: 0.1909 - accuracy: 0.9221\n",
      "Epoch 164/200\n"
     ]
    },
    {
     "name": "stdout",
     "output_type": "stream",
     "text": [
      "18/18 [==============================] - 0s 2ms/step - loss: 0.1757 - accuracy: 0.9366\n",
      "Epoch 165/200\n",
      "18/18 [==============================] - 0s 2ms/step - loss: 0.1868 - accuracy: 0.9402\n",
      "Epoch 166/200\n",
      "18/18 [==============================] - 0s 2ms/step - loss: 0.1662 - accuracy: 0.9348\n",
      "Epoch 167/200\n",
      "18/18 [==============================] - 0s 2ms/step - loss: 0.1804 - accuracy: 0.9330\n",
      "Epoch 168/200\n",
      "18/18 [==============================] - 0s 2ms/step - loss: 0.1671 - accuracy: 0.9402\n",
      "Epoch 169/200\n",
      "18/18 [==============================] - 0s 2ms/step - loss: 0.2267 - accuracy: 0.9185\n",
      "Epoch 170/200\n",
      "18/18 [==============================] - 0s 2ms/step - loss: 0.2193 - accuracy: 0.9203\n",
      "Epoch 171/200\n",
      "18/18 [==============================] - 0s 2ms/step - loss: 0.1937 - accuracy: 0.9348\n",
      "Epoch 172/200\n",
      "18/18 [==============================] - 0s 2ms/step - loss: 0.1710 - accuracy: 0.9366\n",
      "Epoch 173/200\n",
      "18/18 [==============================] - 0s 2ms/step - loss: 0.1795 - accuracy: 0.9384\n",
      "Epoch 174/200\n",
      "18/18 [==============================] - 0s 2ms/step - loss: 0.1968 - accuracy: 0.9257\n",
      "Epoch 175/200\n",
      "18/18 [==============================] - 0s 2ms/step - loss: 0.1637 - accuracy: 0.9438\n",
      "Epoch 176/200\n",
      "18/18 [==============================] - 0s 2ms/step - loss: 0.1718 - accuracy: 0.9348\n",
      "Epoch 177/200\n",
      "18/18 [==============================] - 0s 2ms/step - loss: 0.1658 - accuracy: 0.9366\n",
      "Epoch 178/200\n",
      "18/18 [==============================] - 0s 2ms/step - loss: 0.1789 - accuracy: 0.9384\n",
      "Epoch 179/200\n",
      "18/18 [==============================] - 0s 1ms/step - loss: 0.1788 - accuracy: 0.9366\n",
      "Epoch 180/200\n",
      "18/18 [==============================] - 0s 1ms/step - loss: 0.1659 - accuracy: 0.9384\n",
      "Epoch 181/200\n",
      "18/18 [==============================] - 0s 1ms/step - loss: 0.1607 - accuracy: 0.9366\n",
      "Epoch 182/200\n",
      "18/18 [==============================] - 0s 1ms/step - loss: 0.1833 - accuracy: 0.9312\n",
      "Epoch 183/200\n",
      "18/18 [==============================] - 0s 2ms/step - loss: 0.1830 - accuracy: 0.9366\n",
      "Epoch 184/200\n",
      "18/18 [==============================] - 0s 2ms/step - loss: 0.1863 - accuracy: 0.9293\n",
      "Epoch 185/200\n",
      "18/18 [==============================] - 0s 1ms/step - loss: 0.2092 - accuracy: 0.9293\n",
      "Epoch 186/200\n",
      "18/18 [==============================] - 0s 2ms/step - loss: 0.1793 - accuracy: 0.9420\n",
      "Epoch 187/200\n",
      "18/18 [==============================] - 0s 2ms/step - loss: 0.1963 - accuracy: 0.9275\n",
      "Epoch 188/200\n",
      "18/18 [==============================] - 0s 2ms/step - loss: 0.1683 - accuracy: 0.9457\n",
      "Epoch 189/200\n",
      "18/18 [==============================] - 0s 1ms/step - loss: 0.1933 - accuracy: 0.9330\n",
      "Epoch 190/200\n",
      "18/18 [==============================] - 0s 1ms/step - loss: 0.1740 - accuracy: 0.9366\n",
      "Epoch 191/200\n",
      "18/18 [==============================] - 0s 2ms/step - loss: 0.1929 - accuracy: 0.9312\n",
      "Epoch 192/200\n",
      "18/18 [==============================] - 0s 1ms/step - loss: 0.2084 - accuracy: 0.9185\n",
      "Epoch 193/200\n",
      "18/18 [==============================] - 0s 1ms/step - loss: 0.2013 - accuracy: 0.9239\n",
      "Epoch 194/200\n",
      "18/18 [==============================] - 0s 1ms/step - loss: 0.1713 - accuracy: 0.9275\n",
      "Epoch 195/200\n",
      "18/18 [==============================] - 0s 1ms/step - loss: 0.1792 - accuracy: 0.9330\n",
      "Epoch 196/200\n",
      "18/18 [==============================] - 0s 1ms/step - loss: 0.2025 - accuracy: 0.9312\n",
      "Epoch 197/200\n",
      "18/18 [==============================] - 0s 1ms/step - loss: 0.2084 - accuracy: 0.9293\n",
      "Epoch 198/200\n",
      "18/18 [==============================] - 0s 2ms/step - loss: 0.2117 - accuracy: 0.9239\n",
      "Epoch 199/200\n",
      "18/18 [==============================] - 0s 2ms/step - loss: 0.1764 - accuracy: 0.9402\n",
      "Epoch 200/200\n",
      "18/18 [==============================] - 0s 1ms/step - loss: 0.2051 - accuracy: 0.9330\n"
     ]
    },
    {
     "data": {
      "text/plain": [
       "<tensorflow.python.keras.callbacks.History at 0x1cf021dcb50>"
      ]
     },
     "execution_count": 15,
     "metadata": {},
     "output_type": "execute_result"
    }
   ],
   "source": [
    "tf.keras.backend.set_floatx('float64')\n",
    "model10 = keras.Sequential([\n",
    "    keras.layers.Dense(10, input_shape=(10,), activation='relu'),\n",
    "    keras.layers.Dense(18, activation='relu'),\n",
    "    keras.layers.Dense(18, activation='relu'),\n",
    "    keras.layers.Dense(18, activation='relu'),\n",
    "    keras.layers.Dense(18, activation='relu'),\n",
    "    keras.layers.Dense(18, activation='relu'),\n",
    "    keras.layers.Dense(1, activation='sigmoid')\n",
    "])\n",
    "\n",
    "# opt = keras.optimizers.Adam(learning_rate=0.01)\n",
    "\n",
    "model10.compile(optimizer='adam',\n",
    "              loss='binary_crossentropy',\n",
    "              metrics=['accuracy'])\n",
    "\n",
    "model10.fit(X10_train, y10_train, epochs=200)"
   ]
  },
  {
   "cell_type": "code",
   "execution_count": 16,
   "metadata": {},
   "outputs": [
    {
     "name": "stdout",
     "output_type": "stream",
     "text": [
      "5/5 [==============================] - 0s 4ms/step - loss: 0.1270 - accuracy: 0.9420\n"
     ]
    },
    {
     "data": {
      "text/plain": [
       "[0.12701301606021065, 0.9420289855072463]"
      ]
     },
     "execution_count": 16,
     "metadata": {},
     "output_type": "execute_result"
    }
   ],
   "source": [
    "model10.evaluate(X10_test, y10_test)"
   ]
  },
  {
   "cell_type": "code",
   "execution_count": 17,
   "metadata": {},
   "outputs": [],
   "source": [
    "pred=model10.predict(X10_test)\n",
    "pred10=[]\n",
    "for element in pred:\n",
    "    if element > 6:\n",
    "        pred10.append(1)\n",
    "    else:\n",
    "        pred10.append(0)\n"
   ]
  },
  {
   "cell_type": "code",
   "execution_count": 18,
   "metadata": {},
   "outputs": [
    {
     "name": "stdout",
     "output_type": "stream",
     "text": [
      "MSE 0.07246376811594203\n"
     ]
    }
   ],
   "source": [
    "print('MSE',metrics.mean_squared_error(y10_test,pred10))"
   ]
  },
  {
   "cell_type": "code",
   "execution_count": 19,
   "metadata": {},
   "outputs": [],
   "source": [
    "from sklearn.metrics import classification_report"
   ]
  },
  {
   "cell_type": "code",
   "execution_count": 20,
   "metadata": {
    "scrolled": true
   },
   "outputs": [
    {
     "name": "stdout",
     "output_type": "stream",
     "text": [
      "              precision    recall  f1-score   support\n",
      "\n",
      "           0       0.93      1.00      0.96       128\n",
      "           1       0.00      0.00      0.00        10\n",
      "\n",
      "    accuracy                           0.93       138\n",
      "   macro avg       0.46      0.50      0.48       138\n",
      "weighted avg       0.86      0.93      0.89       138\n",
      "\n"
     ]
    }
   ],
   "source": [
    "print(classification_report(y10_test,pred10,zero_division=0))"
   ]
  },
  {
   "cell_type": "code",
   "execution_count": 21,
   "metadata": {},
   "outputs": [],
   "source": [
    "from sklearn.metrics import roc_curve\n",
    "from sklearn.metrics import roc_auc_score"
   ]
  },
  {
   "cell_type": "code",
   "execution_count": 22,
   "metadata": {},
   "outputs": [],
   "source": [
    "tnser_probs = model10.predict(X10_test)"
   ]
  },
  {
   "cell_type": "code",
   "execution_count": 23,
   "metadata": {},
   "outputs": [],
   "source": [
    "ns_probs = [0 for _ in range(len(y10_test))]\n",
    "ns_auc = roc_auc_score(y10_test, ns_probs)\n",
    "tnser_auc_10 = roc_auc_score(y10_test, tnser_probs)"
   ]
  },
  {
   "cell_type": "markdown",
   "metadata": {},
   "source": [
    "print('No Skill: ROC AUC=%.3f' % (ns_auc))\n",
    "print('ANN: ROC AUC=%.3f' % (tnser_auc))"
   ]
  },
  {
   "cell_type": "code",
   "execution_count": 24,
   "metadata": {},
   "outputs": [],
   "source": [
    "ns_fpr, ns_tpr, _ = roc_curve(y10_test, ns_probs)\n",
    "tnser_fpr_10, tnser_tpr_10, _ = roc_curve(y10_test, tnser_probs)"
   ]
  },
  {
   "cell_type": "code",
   "execution_count": 25,
   "metadata": {},
   "outputs": [
    {
     "data": {
      "image/png": "[encoded data removed]",
      "text/plain": [
       "<Figure size 432x288 with 1 Axes>"
      ]
     },
     "metadata": {
      "needs_background": "light"
     },
     "output_type": "display_data"
    }
   ],
   "source": [
    "plt.xlabel('False Positive Rate')\n",
    "plt.ylabel('True Positive Rate')\n",
    "plt.plot(ns_fpr, ns_tpr, linestyle='--', label='No Skill' )\n",
    "plt.plot(tnser_fpr_10, tnser_tpr_10, marker='X', label='ANN 10' )\n",
    "plt.legend()\n",
    "plt.show()"
   ]
  },
  {
   "cell_type": "code",
   "execution_count": 26,
   "metadata": {},
   "outputs": [],
   "source": [
    "from sklearn.metrics import confusion_matrix"
   ]
  },
  {
   "cell_type": "code",
   "execution_count": 27,
   "metadata": {},
   "outputs": [
    {
     "data": {
      "text/plain": [
       "<function matplotlib.pyplot.show(close=None, block=None)>"
      ]
     },
     "execution_count": 27,
     "metadata": {},
     "output_type": "execute_result"
    },
    {
     "data": {
      "image/png": "[encoded data removed]",
      "text/plain": [
       "<Figure size 720x432 with 2 Axes>"
      ]
     },
     "metadata": {
      "needs_background": "light"
     },
     "output_type": "display_data"
    }
   ],
   "source": [
    "plt.figure(figsize = (10,6))\n",
    "sns.heatmap(confusion_matrix(y10_test, pred10), annot = True,fmt='d')\n",
    "plt.show"
   ]
  },
  {
   "cell_type": "code",
   "execution_count": 28,
   "metadata": {},
   "outputs": [],
   "source": [
    "X20=prosody_data[selectedFeatures_Lasso_20]\n",
    "y20=prosody_data['Hired']\n",
    "X20_train, X20_test, y20_train, y20_test = train_test_split(X20, y20, test_size=0.20, random_state=10)"
   ]
  },
  {
   "cell_type": "code",
   "execution_count": 29,
   "metadata": {},
   "outputs": [
    {
     "name": "stdout",
     "output_type": "stream",
     "text": [
      "Epoch 1/200\n",
      "18/18 [==============================] - 0s 2ms/step - loss: 0.5378 - accuracy: 0.9185\n",
      "Epoch 2/200\n",
      "18/18 [==============================] - 0s 2ms/step - loss: 0.3090 - accuracy: 0.9275\n",
      "Epoch 3/200\n",
      "18/18 [==============================] - 0s 3ms/step - loss: 0.3320 - accuracy: 0.9257\n",
      "Epoch 4/200\n",
      "18/18 [==============================] - 0s 2ms/step - loss: 0.3382 - accuracy: 0.9257\n",
      "Epoch 5/200\n",
      "18/18 [==============================] - 0s 2ms/step - loss: 0.2826 - accuracy: 0.9257\n",
      "Epoch 6/200\n",
      "18/18 [==============================] - 0s 2ms/step - loss: 0.2936 - accuracy: 0.9239\n",
      "Epoch 7/200\n",
      "18/18 [==============================] - 0s 2ms/step - loss: 0.2939 - accuracy: 0.9275\n",
      "Epoch 8/200\n",
      "18/18 [==============================] - 0s 2ms/step - loss: 0.2711 - accuracy: 0.9239\n",
      "Epoch 9/200\n",
      "18/18 [==============================] - 0s 2ms/step - loss: 0.2656 - accuracy: 0.9275\n",
      "Epoch 10/200\n",
      "18/18 [==============================] - 0s 2ms/step - loss: 0.2771 - accuracy: 0.9275\n",
      "Epoch 11/200\n",
      "18/18 [==============================] - 0s 3ms/step - loss: 0.2926 - accuracy: 0.9275\n",
      "Epoch 12/200\n",
      "18/18 [==============================] - 0s 2ms/step - loss: 0.2685 - accuracy: 0.9275\n",
      "Epoch 13/200\n",
      "18/18 [==============================] - 0s 1ms/step - loss: 0.2538 - accuracy: 0.9275\n",
      "Epoch 14/200\n",
      "18/18 [==============================] - 0s 1ms/step - loss: 0.2637 - accuracy: 0.9275\n",
      "Epoch 15/200\n",
      "18/18 [==============================] - 0s 2ms/step - loss: 0.2659 - accuracy: 0.9275\n",
      "Epoch 16/200\n",
      "18/18 [==============================] - 0s 1ms/step - loss: 0.2513 - accuracy: 0.9275\n",
      "Epoch 17/200\n",
      "18/18 [==============================] - 0s 1ms/step - loss: 0.2520 - accuracy: 0.9275\n",
      "Epoch 18/200\n",
      "18/18 [==============================] - 0s 1ms/step - loss: 0.2880 - accuracy: 0.9203\n",
      "Epoch 19/200\n",
      "18/18 [==============================] - 0s 1ms/step - loss: 0.2769 - accuracy: 0.9239\n",
      "Epoch 20/200\n",
      "18/18 [==============================] - 0s 2ms/step - loss: 0.2525 - accuracy: 0.9275\n",
      "Epoch 21/200\n",
      "18/18 [==============================] - 0s 1ms/step - loss: 0.2598 - accuracy: 0.9275\n",
      "Epoch 22/200\n",
      "18/18 [==============================] - 0s 1ms/step - loss: 0.2536 - accuracy: 0.9275\n",
      "Epoch 23/200\n",
      "18/18 [==============================] - 0s 2ms/step - loss: 0.2661 - accuracy: 0.9257\n",
      "Epoch 24/200\n",
      "18/18 [==============================] - 0s 1ms/step - loss: 0.2592 - accuracy: 0.9239\n",
      "Epoch 25/200\n",
      "18/18 [==============================] - 0s 1ms/step - loss: 0.2470 - accuracy: 0.9275\n",
      "Epoch 26/200\n",
      "18/18 [==============================] - 0s 1ms/step - loss: 0.2657 - accuracy: 0.9275\n",
      "Epoch 27/200\n",
      "18/18 [==============================] - 0s 1ms/step - loss: 0.2596 - accuracy: 0.9275\n",
      "Epoch 28/200\n",
      "18/18 [==============================] - 0s 1ms/step - loss: 0.2526 - accuracy: 0.9275\n",
      "Epoch 29/200\n",
      "18/18 [==============================] - 0s 1ms/step - loss: 0.2417 - accuracy: 0.9275\n",
      "Epoch 30/200\n",
      "18/18 [==============================] - 0s 1ms/step - loss: 0.2492 - accuracy: 0.9275\n",
      "Epoch 31/200\n",
      "18/18 [==============================] - 0s 1ms/step - loss: 0.2495 - accuracy: 0.9275\n",
      "Epoch 32/200\n",
      "18/18 [==============================] - 0s 1ms/step - loss: 0.2600 - accuracy: 0.9275\n",
      "Epoch 33/200\n",
      "18/18 [==============================] - 0s 1ms/step - loss: 0.2513 - accuracy: 0.9275\n",
      "Epoch 34/200\n",
      "18/18 [==============================] - 0s 2ms/step - loss: 0.2391 - accuracy: 0.9275\n",
      "Epoch 35/200\n",
      "18/18 [==============================] - 0s 2ms/step - loss: 0.2364 - accuracy: 0.9275\n",
      "Epoch 36/200\n",
      "18/18 [==============================] - 0s 2ms/step - loss: 0.2280 - accuracy: 0.9275\n",
      "Epoch 37/200\n",
      "18/18 [==============================] - 0s 2ms/step - loss: 0.2435 - accuracy: 0.9275\n",
      "Epoch 38/200\n",
      "18/18 [==============================] - 0s 2ms/step - loss: 0.2684 - accuracy: 0.9275\n",
      "Epoch 39/200\n",
      "18/18 [==============================] - 0s 2ms/step - loss: 0.2411 - accuracy: 0.9275\n",
      "Epoch 40/200\n",
      "18/18 [==============================] - 0s 2ms/step - loss: 0.2326 - accuracy: 0.9275\n",
      "Epoch 41/200\n",
      "18/18 [==============================] - 0s 2ms/step - loss: 0.2462 - accuracy: 0.9275\n",
      "Epoch 42/200\n",
      "18/18 [==============================] - 0s 2ms/step - loss: 0.2489 - accuracy: 0.9275\n",
      "Epoch 43/200\n",
      "18/18 [==============================] - 0s 2ms/step - loss: 0.2496 - accuracy: 0.9257\n",
      "Epoch 44/200\n",
      "18/18 [==============================] - 0s 2ms/step - loss: 0.2361 - accuracy: 0.9275\n",
      "Epoch 45/200\n",
      "18/18 [==============================] - 0s 2ms/step - loss: 0.2521 - accuracy: 0.9275\n",
      "Epoch 46/200\n",
      "18/18 [==============================] - 0s 2ms/step - loss: 0.2350 - accuracy: 0.9275\n",
      "Epoch 47/200\n",
      "18/18 [==============================] - 0s 2ms/step - loss: 0.2336 - accuracy: 0.9275\n",
      "Epoch 48/200\n",
      "18/18 [==============================] - 0s 2ms/step - loss: 0.2281 - accuracy: 0.9275\n",
      "Epoch 49/200\n",
      "18/18 [==============================] - 0s 2ms/step - loss: 0.2344 - accuracy: 0.9275\n",
      "Epoch 50/200\n",
      "18/18 [==============================] - 0s 2ms/step - loss: 0.2322 - accuracy: 0.9275\n",
      "Epoch 51/200\n",
      "18/18 [==============================] - 0s 2ms/step - loss: 0.2249 - accuracy: 0.9275\n",
      "Epoch 52/200\n",
      "18/18 [==============================] - 0s 2ms/step - loss: 0.2234 - accuracy: 0.9275\n",
      "Epoch 53/200\n",
      "18/18 [==============================] - 0s 2ms/step - loss: 0.2222 - accuracy: 0.9275\n",
      "Epoch 54/200\n",
      "18/18 [==============================] - 0s 2ms/step - loss: 0.2057 - accuracy: 0.9275\n",
      "Epoch 55/200\n",
      "18/18 [==============================] - 0s 1ms/step - loss: 0.2129 - accuracy: 0.9275\n",
      "Epoch 56/200\n",
      "18/18 [==============================] - 0s 2ms/step - loss: 0.2173 - accuracy: 0.9275\n",
      "Epoch 57/200\n",
      "18/18 [==============================] - 0s 2ms/step - loss: 0.2298 - accuracy: 0.9275\n",
      "Epoch 58/200\n",
      "18/18 [==============================] - 0s 2ms/step - loss: 0.2272 - accuracy: 0.9257\n",
      "Epoch 59/200\n",
      "18/18 [==============================] - 0s 2ms/step - loss: 0.2122 - accuracy: 0.9293\n",
      "Epoch 60/200\n",
      "18/18 [==============================] - 0s 2ms/step - loss: 0.2215 - accuracy: 0.9257\n",
      "Epoch 61/200\n",
      "18/18 [==============================] - 0s 2ms/step - loss: 0.2306 - accuracy: 0.9275\n",
      "Epoch 62/200\n",
      "18/18 [==============================] - 0s 1ms/step - loss: 0.2132 - accuracy: 0.9257\n",
      "Epoch 63/200\n",
      "18/18 [==============================] - 0s 2ms/step - loss: 0.2095 - accuracy: 0.9293\n",
      "Epoch 64/200\n",
      "18/18 [==============================] - 0s 1ms/step - loss: 0.2210 - accuracy: 0.9275\n",
      "Epoch 65/200\n",
      "18/18 [==============================] - 0s 1ms/step - loss: 0.2300 - accuracy: 0.9312\n",
      "Epoch 66/200\n",
      "18/18 [==============================] - 0s 2ms/step - loss: 0.2187 - accuracy: 0.9293\n",
      "Epoch 67/200\n",
      "18/18 [==============================] - 0s 2ms/step - loss: 0.2413 - accuracy: 0.9239\n",
      "Epoch 68/200\n",
      "18/18 [==============================] - 0s 1ms/step - loss: 0.2445 - accuracy: 0.9257\n",
      "Epoch 69/200\n",
      "18/18 [==============================] - 0s 1ms/step - loss: 0.2047 - accuracy: 0.9275\n",
      "Epoch 70/200\n",
      "18/18 [==============================] - 0s 2ms/step - loss: 0.2099 - accuracy: 0.9330\n",
      "Epoch 71/200\n",
      "18/18 [==============================] - 0s 1ms/step - loss: 0.2146 - accuracy: 0.9257\n",
      "Epoch 72/200\n",
      "18/18 [==============================] - 0s 1ms/step - loss: 0.2478 - accuracy: 0.9275\n",
      "Epoch 73/200\n",
      "18/18 [==============================] - 0s 2ms/step - loss: 0.2153 - accuracy: 0.9293\n",
      "Epoch 74/200\n",
      "18/18 [==============================] - 0s 1ms/step - loss: 0.2053 - accuracy: 0.9293\n",
      "Epoch 75/200\n",
      "18/18 [==============================] - 0s 1ms/step - loss: 0.2134 - accuracy: 0.9275\n",
      "Epoch 76/200\n",
      "18/18 [==============================] - 0s 1ms/step - loss: 0.2223 - accuracy: 0.9239\n",
      "Epoch 77/200\n",
      "18/18 [==============================] - 0s 2ms/step - loss: 0.2079 - accuracy: 0.9257\n",
      "Epoch 78/200\n",
      "18/18 [==============================] - 0s 2ms/step - loss: 0.1996 - accuracy: 0.9293\n",
      "Epoch 79/200\n",
      "18/18 [==============================] - 0s 1ms/step - loss: 0.2128 - accuracy: 0.9293\n",
      "Epoch 80/200\n",
      "18/18 [==============================] - 0s 1ms/step - loss: 0.2315 - accuracy: 0.9275\n",
      "Epoch 81/200\n",
      "18/18 [==============================] - 0s 1ms/step - loss: 0.2317 - accuracy: 0.9312\n",
      "Epoch 82/200\n",
      "18/18 [==============================] - 0s 1ms/step - loss: 0.2036 - accuracy: 0.9312\n",
      "Epoch 83/200\n"
     ]
    },
    {
     "name": "stdout",
     "output_type": "stream",
     "text": [
      "18/18 [==============================] - 0s 1ms/step - loss: 0.2074 - accuracy: 0.9293\n",
      "Epoch 84/200\n",
      "18/18 [==============================] - 0s 1ms/step - loss: 0.1993 - accuracy: 0.9366\n",
      "Epoch 85/200\n",
      "18/18 [==============================] - 0s 1ms/step - loss: 0.2172 - accuracy: 0.9348\n",
      "Epoch 86/200\n",
      "18/18 [==============================] - 0s 1ms/step - loss: 0.1921 - accuracy: 0.9275\n",
      "Epoch 87/200\n",
      "18/18 [==============================] - 0s 1ms/step - loss: 0.1962 - accuracy: 0.9293\n",
      "Epoch 88/200\n",
      "18/18 [==============================] - 0s 1ms/step - loss: 0.1901 - accuracy: 0.9293\n",
      "Epoch 89/200\n",
      "18/18 [==============================] - 0s 1ms/step - loss: 0.2010 - accuracy: 0.9239\n",
      "Epoch 90/200\n",
      "18/18 [==============================] - 0s 1ms/step - loss: 0.1873 - accuracy: 0.9348\n",
      "Epoch 91/200\n",
      "18/18 [==============================] - 0s 1ms/step - loss: 0.1954 - accuracy: 0.9366\n",
      "Epoch 92/200\n",
      "18/18 [==============================] - 0s 1ms/step - loss: 0.2071 - accuracy: 0.9312\n",
      "Epoch 93/200\n",
      "18/18 [==============================] - 0s 1ms/step - loss: 0.1869 - accuracy: 0.9275\n",
      "Epoch 94/200\n",
      "18/18 [==============================] - 0s 1ms/step - loss: 0.1893 - accuracy: 0.9384\n",
      "Epoch 95/200\n",
      "18/18 [==============================] - 0s 1ms/step - loss: 0.1847 - accuracy: 0.9384\n",
      "Epoch 96/200\n",
      "18/18 [==============================] - 0s 1ms/step - loss: 0.1877 - accuracy: 0.9312\n",
      "Epoch 97/200\n",
      "18/18 [==============================] - 0s 1ms/step - loss: 0.2010 - accuracy: 0.9348\n",
      "Epoch 98/200\n",
      "18/18 [==============================] - 0s 1ms/step - loss: 0.2572 - accuracy: 0.9112\n",
      "Epoch 99/200\n",
      "18/18 [==============================] - 0s 1ms/step - loss: 0.2189 - accuracy: 0.9239\n",
      "Epoch 100/200\n",
      "18/18 [==============================] - 0s 1ms/step - loss: 0.2405 - accuracy: 0.9293\n",
      "Epoch 101/200\n",
      "18/18 [==============================] - 0s 1ms/step - loss: 0.2069 - accuracy: 0.9330\n",
      "Epoch 102/200\n",
      "18/18 [==============================] - 0s 1ms/step - loss: 0.2156 - accuracy: 0.9312\n",
      "Epoch 103/200\n",
      "18/18 [==============================] - 0s 1ms/step - loss: 0.1968 - accuracy: 0.9257\n",
      "Epoch 104/200\n",
      "18/18 [==============================] - 0s 1ms/step - loss: 0.2024 - accuracy: 0.9257\n",
      "Epoch 105/200\n",
      "18/18 [==============================] - 0s 2ms/step - loss: 0.1814 - accuracy: 0.9330\n",
      "Epoch 106/200\n",
      "18/18 [==============================] - 0s 2ms/step - loss: 0.1807 - accuracy: 0.9384\n",
      "Epoch 107/200\n",
      "18/18 [==============================] - 0s 1ms/step - loss: 0.1847 - accuracy: 0.9348\n",
      "Epoch 108/200\n",
      "18/18 [==============================] - 0s 2ms/step - loss: 0.1949 - accuracy: 0.9330\n",
      "Epoch 109/200\n",
      "18/18 [==============================] - 0s 2ms/step - loss: 0.1933 - accuracy: 0.9366\n",
      "Epoch 110/200\n",
      "18/18 [==============================] - 0s 1ms/step - loss: 0.1802 - accuracy: 0.9348\n",
      "Epoch 111/200\n",
      "18/18 [==============================] - 0s 2ms/step - loss: 0.1765 - accuracy: 0.9384\n",
      "Epoch 112/200\n",
      "18/18 [==============================] - 0s 1ms/step - loss: 0.1991 - accuracy: 0.9348\n",
      "Epoch 113/200\n",
      "18/18 [==============================] - 0s 1ms/step - loss: 0.2245 - accuracy: 0.9293\n",
      "Epoch 114/200\n",
      "18/18 [==============================] - 0s 1ms/step - loss: 0.1746 - accuracy: 0.9384\n",
      "Epoch 115/200\n",
      "18/18 [==============================] - 0s 1ms/step - loss: 0.1889 - accuracy: 0.9348\n",
      "Epoch 116/200\n",
      "18/18 [==============================] - 0s 2ms/step - loss: 0.2016 - accuracy: 0.9185\n",
      "Epoch 117/200\n",
      "18/18 [==============================] - 0s 2ms/step - loss: 0.1793 - accuracy: 0.9366\n",
      "Epoch 118/200\n",
      "18/18 [==============================] - 0s 2ms/step - loss: 0.1957 - accuracy: 0.9257\n",
      "Epoch 119/200\n",
      "18/18 [==============================] - 0s 1ms/step - loss: 0.2145 - accuracy: 0.9312\n",
      "Epoch 120/200\n",
      "18/18 [==============================] - 0s 2ms/step - loss: 0.1810 - accuracy: 0.9330\n",
      "Epoch 121/200\n",
      "18/18 [==============================] - 0s 2ms/step - loss: 0.1773 - accuracy: 0.9293\n",
      "Epoch 122/200\n",
      "18/18 [==============================] - 0s 2ms/step - loss: 0.1652 - accuracy: 0.9420\n",
      "Epoch 123/200\n",
      "18/18 [==============================] - 0s 2ms/step - loss: 0.1626 - accuracy: 0.9348\n",
      "Epoch 124/200\n",
      "18/18 [==============================] - 0s 1ms/step - loss: 0.1691 - accuracy: 0.9366\n",
      "Epoch 125/200\n",
      "18/18 [==============================] - 0s 1ms/step - loss: 0.1641 - accuracy: 0.9348\n",
      "Epoch 126/200\n",
      "18/18 [==============================] - 0s 2ms/step - loss: 0.1542 - accuracy: 0.9438\n",
      "Epoch 127/200\n",
      "18/18 [==============================] - 0s 1ms/step - loss: 0.1684 - accuracy: 0.9384\n",
      "Epoch 128/200\n",
      "18/18 [==============================] - 0s 1ms/step - loss: 0.1716 - accuracy: 0.9402\n",
      "Epoch 129/200\n",
      "18/18 [==============================] - 0s 2ms/step - loss: 0.1513 - accuracy: 0.9330\n",
      "Epoch 130/200\n",
      "18/18 [==============================] - 0s 2ms/step - loss: 0.1686 - accuracy: 0.9511\n",
      "Epoch 131/200\n",
      "18/18 [==============================] - 0s 2ms/step - loss: 0.1670 - accuracy: 0.9457\n",
      "Epoch 132/200\n",
      "18/18 [==============================] - 0s 2ms/step - loss: 0.1619 - accuracy: 0.9457\n",
      "Epoch 133/200\n",
      "18/18 [==============================] - 0s 2ms/step - loss: 0.1618 - accuracy: 0.9348\n",
      "Epoch 134/200\n",
      "18/18 [==============================] - 0s 1ms/step - loss: 0.1667 - accuracy: 0.9384\n",
      "Epoch 135/200\n",
      "18/18 [==============================] - 0s 2ms/step - loss: 0.1659 - accuracy: 0.9420\n",
      "Epoch 136/200\n",
      "18/18 [==============================] - 0s 2ms/step - loss: 0.1524 - accuracy: 0.9475\n",
      "Epoch 137/200\n",
      "18/18 [==============================] - 0s 1ms/step - loss: 0.1489 - accuracy: 0.9384\n",
      "Epoch 138/200\n",
      "18/18 [==============================] - 0s 2ms/step - loss: 0.1552 - accuracy: 0.9366\n",
      "Epoch 139/200\n",
      "18/18 [==============================] - 0s 2ms/step - loss: 0.1646 - accuracy: 0.9402\n",
      "Epoch 140/200\n",
      "18/18 [==============================] - 0s 3ms/step - loss: 0.1397 - accuracy: 0.9493\n",
      "Epoch 141/200\n",
      "18/18 [==============================] - 0s 2ms/step - loss: 0.1547 - accuracy: 0.9384\n",
      "Epoch 142/200\n",
      "18/18 [==============================] - 0s 3ms/step - loss: 0.1675 - accuracy: 0.9438\n",
      "Epoch 143/200\n",
      "18/18 [==============================] - 0s 2ms/step - loss: 0.1654 - accuracy: 0.9457\n",
      "Epoch 144/200\n",
      "18/18 [==============================] - 0s 2ms/step - loss: 0.1511 - accuracy: 0.9402\n",
      "Epoch 145/200\n",
      "18/18 [==============================] - 0s 2ms/step - loss: 0.1772 - accuracy: 0.9348\n",
      "Epoch 146/200\n",
      "18/18 [==============================] - 0s 2ms/step - loss: 0.1545 - accuracy: 0.9402\n",
      "Epoch 147/200\n",
      "18/18 [==============================] - 0s 2ms/step - loss: 0.1619 - accuracy: 0.9420\n",
      "Epoch 148/200\n",
      "18/18 [==============================] - 0s 2ms/step - loss: 0.1563 - accuracy: 0.9348\n",
      "Epoch 149/200\n",
      "18/18 [==============================] - 0s 2ms/step - loss: 0.1733 - accuracy: 0.9384\n",
      "Epoch 150/200\n",
      "18/18 [==============================] - 0s 2ms/step - loss: 0.1502 - accuracy: 0.9475\n",
      "Epoch 151/200\n",
      "18/18 [==============================] - 0s 2ms/step - loss: 0.1418 - accuracy: 0.9420\n",
      "Epoch 152/200\n",
      "18/18 [==============================] - 0s 2ms/step - loss: 0.1405 - accuracy: 0.9493\n",
      "Epoch 153/200\n",
      "18/18 [==============================] - 0s 2ms/step - loss: 0.1355 - accuracy: 0.9493\n",
      "Epoch 154/200\n",
      "18/18 [==============================] - 0s 2ms/step - loss: 0.1592 - accuracy: 0.9366\n",
      "Epoch 155/200\n",
      "18/18 [==============================] - 0s 1ms/step - loss: 0.1717 - accuracy: 0.9221\n",
      "Epoch 156/200\n",
      "18/18 [==============================] - 0s 2ms/step - loss: 0.1616 - accuracy: 0.9402\n",
      "Epoch 157/200\n",
      "18/18 [==============================] - 0s 2ms/step - loss: 0.1702 - accuracy: 0.9348\n",
      "Epoch 158/200\n",
      "18/18 [==============================] - 0s 2ms/step - loss: 0.1514 - accuracy: 0.9384\n",
      "Epoch 159/200\n",
      "18/18 [==============================] - 0s 2ms/step - loss: 0.1651 - accuracy: 0.9420\n",
      "Epoch 160/200\n",
      "18/18 [==============================] - 0s 2ms/step - loss: 0.1573 - accuracy: 0.9366\n",
      "Epoch 161/200\n",
      "18/18 [==============================] - 0s 2ms/step - loss: 0.1936 - accuracy: 0.9420\n",
      "Epoch 162/200\n",
      "18/18 [==============================] - 0s 2ms/step - loss: 0.1646 - accuracy: 0.9438\n",
      "Epoch 163/200\n",
      "18/18 [==============================] - 0s 2ms/step - loss: 0.2475 - accuracy: 0.9221\n",
      "Epoch 164/200\n"
     ]
    },
    {
     "name": "stdout",
     "output_type": "stream",
     "text": [
      "18/18 [==============================] - 0s 2ms/step - loss: 0.1683 - accuracy: 0.9348\n",
      "Epoch 165/200\n",
      "18/18 [==============================] - 0s 1ms/step - loss: 0.1669 - accuracy: 0.9384\n",
      "Epoch 166/200\n",
      "18/18 [==============================] - 0s 1ms/step - loss: 0.1783 - accuracy: 0.9330\n",
      "Epoch 167/200\n",
      "18/18 [==============================] - 0s 2ms/step - loss: 0.1590 - accuracy: 0.9402\n",
      "Epoch 168/200\n",
      "18/18 [==============================] - 0s 2ms/step - loss: 0.1669 - accuracy: 0.9384\n",
      "Epoch 169/200\n",
      "18/18 [==============================] - 0s 2ms/step - loss: 0.1518 - accuracy: 0.9384\n",
      "Epoch 170/200\n",
      "18/18 [==============================] - 0s 2ms/step - loss: 0.1382 - accuracy: 0.9511\n",
      "Epoch 171/200\n",
      "18/18 [==============================] - 0s 2ms/step - loss: 0.1300 - accuracy: 0.9438\n",
      "Epoch 172/200\n",
      "18/18 [==============================] - 0s 1ms/step - loss: 0.2052 - accuracy: 0.9330\n",
      "Epoch 173/200\n",
      "18/18 [==============================] - 0s 2ms/step - loss: 0.1781 - accuracy: 0.9402\n",
      "Epoch 174/200\n",
      "18/18 [==============================] - 0s 1ms/step - loss: 0.1511 - accuracy: 0.9366\n",
      "Epoch 175/200\n",
      "18/18 [==============================] - 0s 1ms/step - loss: 0.1456 - accuracy: 0.9511\n",
      "Epoch 176/200\n",
      "18/18 [==============================] - 0s 1ms/step - loss: 0.1606 - accuracy: 0.9475\n",
      "Epoch 177/200\n",
      "18/18 [==============================] - 0s 2ms/step - loss: 0.1537 - accuracy: 0.9475\n",
      "Epoch 178/200\n",
      "18/18 [==============================] - 0s 1ms/step - loss: 0.1833 - accuracy: 0.9420\n",
      "Epoch 179/200\n",
      "18/18 [==============================] - 0s 1ms/step - loss: 0.1517 - accuracy: 0.9366\n",
      "Epoch 180/200\n",
      "18/18 [==============================] - 0s 1ms/step - loss: 0.1729 - accuracy: 0.9348\n",
      "Epoch 181/200\n",
      "18/18 [==============================] - 0s 1ms/step - loss: 0.1338 - accuracy: 0.9583\n",
      "Epoch 182/200\n",
      "18/18 [==============================] - 0s 1ms/step - loss: 0.1374 - accuracy: 0.9493\n",
      "Epoch 183/200\n",
      "18/18 [==============================] - 0s 1ms/step - loss: 0.1301 - accuracy: 0.9511\n",
      "Epoch 184/200\n",
      "18/18 [==============================] - 0s 1ms/step - loss: 0.1330 - accuracy: 0.9529\n",
      "Epoch 185/200\n",
      "18/18 [==============================] - 0s 2ms/step - loss: 0.1309 - accuracy: 0.9547\n",
      "Epoch 186/200\n",
      "18/18 [==============================] - 0s 2ms/step - loss: 0.1998 - accuracy: 0.9330\n",
      "Epoch 187/200\n",
      "18/18 [==============================] - 0s 2ms/step - loss: 0.1411 - accuracy: 0.9457\n",
      "Epoch 188/200\n",
      "18/18 [==============================] - 0s 2ms/step - loss: 0.1311 - accuracy: 0.9475\n",
      "Epoch 189/200\n",
      "18/18 [==============================] - 0s 2ms/step - loss: 0.1327 - accuracy: 0.9457\n",
      "Epoch 190/200\n",
      "18/18 [==============================] - 0s 2ms/step - loss: 0.1356 - accuracy: 0.9547\n",
      "Epoch 191/200\n",
      "18/18 [==============================] - 0s 2ms/step - loss: 0.1650 - accuracy: 0.9366\n",
      "Epoch 192/200\n",
      "18/18 [==============================] - 0s 2ms/step - loss: 0.1394 - accuracy: 0.9493\n",
      "Epoch 193/200\n",
      "18/18 [==============================] - 0s 2ms/step - loss: 0.1551 - accuracy: 0.9348\n",
      "Epoch 194/200\n",
      "18/18 [==============================] - 0s 2ms/step - loss: 0.1802 - accuracy: 0.9384\n",
      "Epoch 195/200\n",
      "18/18 [==============================] - 0s 2ms/step - loss: 0.1300 - accuracy: 0.9493\n",
      "Epoch 196/200\n",
      "18/18 [==============================] - 0s 2ms/step - loss: 0.1358 - accuracy: 0.9384\n",
      "Epoch 197/200\n",
      "18/18 [==============================] - 0s 2ms/step - loss: 0.1321 - accuracy: 0.9457\n",
      "Epoch 198/200\n",
      "18/18 [==============================] - 0s 2ms/step - loss: 0.1515 - accuracy: 0.9384\n",
      "Epoch 199/200\n",
      "18/18 [==============================] - 0s 2ms/step - loss: 0.1281 - accuracy: 0.9475\n",
      "Epoch 200/200\n",
      "18/18 [==============================] - 0s 2ms/step - loss: 0.1523 - accuracy: 0.9402\n"
     ]
    },
    {
     "data": {
      "text/plain": [
       "<tensorflow.python.keras.callbacks.History at 0x1cf03acfac0>"
      ]
     },
     "execution_count": 29,
     "metadata": {},
     "output_type": "execute_result"
    }
   ],
   "source": [
    "tf.keras.backend.set_floatx('float64')\n",
    "model20 = keras.Sequential([\n",
    "    keras.layers.Dense(20, input_shape=(20,), activation='relu'),\n",
    "    keras.layers.Dense(18, activation='relu'),\n",
    "    keras.layers.Dense(18, activation='relu'),\n",
    "    keras.layers.Dense(18, activation='relu'),\n",
    "    keras.layers.Dense(18, activation='relu'),\n",
    "    keras.layers.Dense(18, activation='relu'),\n",
    "    \n",
    "    keras.layers.Dense(1, activation='sigmoid')\n",
    "])\n",
    "\n",
    "# opt = keras.optimizers.Adam(learning_rate=0.01)\n",
    "\n",
    "model20.compile(optimizer='adam',\n",
    "              loss='binary_crossentropy',\n",
    "              metrics=['accuracy'])\n",
    "\n",
    "model20.fit(X20_train, y20_train, epochs=200)"
   ]
  },
  {
   "cell_type": "code",
   "execution_count": 73,
   "metadata": {},
   "outputs": [
    {
     "name": "stdout",
     "output_type": "stream",
     "text": [
      "5/5 [==============================] - 0s 2ms/step - loss: 0.1795 - accuracy: 0.9275\n"
     ]
    },
    {
     "data": {
      "text/plain": [
       "[0.17952355730981714, 0.927536231884058]"
      ]
     },
     "execution_count": 73,
     "metadata": {},
     "output_type": "execute_result"
    }
   ],
   "source": [
    "model20.evaluate(X20_test, y20_test)"
   ]
  },
  {
   "cell_type": "code",
   "execution_count": null,
   "metadata": {},
   "outputs": [],
   "source": []
  },
  {
   "cell_type": "code",
   "execution_count": 31,
   "metadata": {},
   "outputs": [],
   "source": [
    "pred=model20.predict(X20_test)\n",
    "pred20=[]\n",
    "for element in pred:\n",
    "    if element > 6:\n",
    "        pred20.append(1)\n",
    "    else:\n",
    "        pred20.append(0)"
   ]
  },
  {
   "cell_type": "code",
   "execution_count": 32,
   "metadata": {},
   "outputs": [
    {
     "name": "stdout",
     "output_type": "stream",
     "text": [
      "MSE 0.07246376811594203\n"
     ]
    }
   ],
   "source": [
    "print('MSE',metrics.mean_squared_error(y20_test,pred20))"
   ]
  },
  {
   "cell_type": "code",
   "execution_count": 33,
   "metadata": {},
   "outputs": [
    {
     "name": "stdout",
     "output_type": "stream",
     "text": [
      "              precision    recall  f1-score   support\n",
      "\n",
      "           0       0.93      1.00      0.96       128\n",
      "           1       0.00      0.00      0.00        10\n",
      "\n",
      "    accuracy                           0.93       138\n",
      "   macro avg       0.46      0.50      0.48       138\n",
      "weighted avg       0.86      0.93      0.89       138\n",
      "\n"
     ]
    }
   ],
   "source": [
    "print(classification_report(y20_test,pred20,zero_division=0))"
   ]
  },
  {
   "cell_type": "code",
   "execution_count": 34,
   "metadata": {},
   "outputs": [],
   "source": [
    "tnser_probs = model20.predict(X20_test)"
   ]
  },
  {
   "cell_type": "code",
   "execution_count": 35,
   "metadata": {},
   "outputs": [],
   "source": [
    "ns_probs = [0 for _ in range(len(y20_test))]\n",
    "ns_auc = roc_auc_score(y20_test, ns_probs)\n",
    "tnser_auc_20 = roc_auc_score(y20_test, tnser_probs)"
   ]
  },
  {
   "cell_type": "code",
   "execution_count": 36,
   "metadata": {},
   "outputs": [],
   "source": [
    "ns_fpr, ns_tpr, _ = roc_curve(y20_test, ns_probs)\n",
    "tnser_fpr_20, tnser_tpr_20, _ = roc_curve(y20_test, tnser_probs)"
   ]
  },
  {
   "cell_type": "code",
   "execution_count": 37,
   "metadata": {},
   "outputs": [
    {
     "data": {
      "image/png": "[encoded data removed]",
      "text/plain": [
       "<Figure size 432x288 with 1 Axes>"
      ]
     },
     "metadata": {
      "needs_background": "light"
     },
     "output_type": "display_data"
    }
   ],
   "source": [
    "plt.xlabel('False Positive Rate')\n",
    "plt.ylabel('True Positive Rate')\n",
    "plt.plot(ns_fpr, ns_tpr, linestyle='--', label='No Skill' )\n",
    "plt.plot(tnser_fpr_20, tnser_tpr_20, marker='X', label='ANN 20' )\n",
    "plt.legend()\n",
    "plt.show()"
   ]
  },
  {
   "cell_type": "code",
   "execution_count": 72,
   "metadata": {},
   "outputs": [
    {
     "data": {
      "text/plain": [
       "<function matplotlib.pyplot.show(close=None, block=None)>"
      ]
     },
     "execution_count": 72,
     "metadata": {},
     "output_type": "execute_result"
    },
    {
     "data": {
      "image/png": "[encoded data removed]",
      "text/plain": [
       "<Figure size 720x432 with 2 Axes>"
      ]
     },
     "metadata": {
      "needs_background": "light"
     },
     "output_type": "display_data"
    }
   ],
   "source": [
    "plt.figure(figsize = (10,6))\n",
    "sns.heatmap(confusion_matrix(y20_test, pred20), annot = True,fmt='d')\n",
    "plt.show"
   ]
  },
  {
   "cell_type": "code",
   "execution_count": null,
   "metadata": {},
   "outputs": [],
   "source": []
  },
  {
   "cell_type": "code",
   "execution_count": 39,
   "metadata": {},
   "outputs": [],
   "source": [
    "X30=prosody_data[selectedFeatures_Lasso_30]\n",
    "y30=prosody_data['Hired']\n",
    "X30_train, X30_test, y30_train, y30_test = train_test_split(X30, y30, test_size=0.20, random_state=10)"
   ]
  },
  {
   "cell_type": "code",
   "execution_count": 40,
   "metadata": {},
   "outputs": [
    {
     "name": "stdout",
     "output_type": "stream",
     "text": [
      "Epoch 1/200\n",
      "18/18 [==============================] - 0s 2ms/step - loss: 15.7829 - accuracy: 0.7899\n",
      "Epoch 2/200\n",
      "18/18 [==============================] - 0s 2ms/step - loss: 3.3050 - accuracy: 0.8949\n",
      "Epoch 3/200\n",
      "18/18 [==============================] - 0s 2ms/step - loss: 0.9855 - accuracy: 0.8859\n",
      "Epoch 4/200\n",
      "18/18 [==============================] - 0s 2ms/step - loss: 0.6058 - accuracy: 0.9022\n",
      "Epoch 5/200\n",
      "18/18 [==============================] - 0s 2ms/step - loss: 0.4371 - accuracy: 0.9094\n",
      "Epoch 6/200\n",
      "18/18 [==============================] - 0s 2ms/step - loss: 0.3838 - accuracy: 0.9022\n",
      "Epoch 7/200\n",
      "18/18 [==============================] - 0s 2ms/step - loss: 0.3800 - accuracy: 0.9167\n",
      "Epoch 8/200\n",
      "18/18 [==============================] - 0s 2ms/step - loss: 0.3732 - accuracy: 0.8913\n",
      "Epoch 9/200\n",
      "18/18 [==============================] - 0s 2ms/step - loss: 0.3240 - accuracy: 0.9149\n",
      "Epoch 10/200\n",
      "18/18 [==============================] - 0s 2ms/step - loss: 0.3732 - accuracy: 0.8986\n",
      "Epoch 11/200\n",
      "18/18 [==============================] - 0s 2ms/step - loss: 0.3175 - accuracy: 0.9094\n",
      "Epoch 12/200\n",
      "18/18 [==============================] - 0s 1ms/step - loss: 0.2813 - accuracy: 0.9130\n",
      "Epoch 13/200\n",
      "18/18 [==============================] - 0s 2ms/step - loss: 0.3898 - accuracy: 0.8913\n",
      "Epoch 14/200\n",
      "18/18 [==============================] - 0s 2ms/step - loss: 0.4689 - accuracy: 0.9004\n",
      "Epoch 15/200\n",
      "18/18 [==============================] - 0s 2ms/step - loss: 0.6387 - accuracy: 0.8822\n",
      "Epoch 16/200\n",
      "18/18 [==============================] - 0s 2ms/step - loss: 0.3949 - accuracy: 0.9004\n",
      "Epoch 17/200\n",
      "18/18 [==============================] - 0s 2ms/step - loss: 0.3006 - accuracy: 0.9130\n",
      "Epoch 18/200\n",
      "18/18 [==============================] - 0s 1ms/step - loss: 0.2967 - accuracy: 0.9203\n",
      "Epoch 19/200\n",
      "18/18 [==============================] - 0s 2ms/step - loss: 0.2697 - accuracy: 0.9221\n",
      "Epoch 20/200\n",
      "18/18 [==============================] - 0s 2ms/step - loss: 0.3054 - accuracy: 0.9185\n",
      "Epoch 21/200\n",
      "18/18 [==============================] - 0s 2ms/step - loss: 0.2822 - accuracy: 0.9112\n",
      "Epoch 22/200\n",
      "18/18 [==============================] - 0s 2ms/step - loss: 0.3004 - accuracy: 0.9112\n",
      "Epoch 23/200\n",
      "18/18 [==============================] - 0s 2ms/step - loss: 0.2603 - accuracy: 0.9185\n",
      "Epoch 24/200\n",
      "18/18 [==============================] - 0s 2ms/step - loss: 0.2482 - accuracy: 0.9203\n",
      "Epoch 25/200\n",
      "18/18 [==============================] - 0s 2ms/step - loss: 0.2439 - accuracy: 0.9293\n",
      "Epoch 26/200\n",
      "18/18 [==============================] - 0s 1ms/step - loss: 0.2696 - accuracy: 0.9203\n",
      "Epoch 27/200\n",
      "18/18 [==============================] - 0s 2ms/step - loss: 0.2903 - accuracy: 0.9185\n",
      "Epoch 28/200\n",
      "18/18 [==============================] - 0s 2ms/step - loss: 0.3080 - accuracy: 0.9076\n",
      "Epoch 29/200\n",
      "18/18 [==============================] - 0s 2ms/step - loss: 0.2294 - accuracy: 0.9185\n",
      "Epoch 30/200\n",
      "18/18 [==============================] - 0s 2ms/step - loss: 0.2484 - accuracy: 0.9239\n",
      "Epoch 31/200\n",
      "18/18 [==============================] - 0s 2ms/step - loss: 0.2653 - accuracy: 0.9149\n",
      "Epoch 32/200\n",
      "18/18 [==============================] - 0s 2ms/step - loss: 0.2786 - accuracy: 0.9185\n",
      "Epoch 33/200\n",
      "18/18 [==============================] - 0s 2ms/step - loss: 0.2593 - accuracy: 0.9221\n",
      "Epoch 34/200\n",
      "18/18 [==============================] - 0s 2ms/step - loss: 0.2436 - accuracy: 0.9149\n",
      "Epoch 35/200\n",
      "18/18 [==============================] - 0s 2ms/step - loss: 0.2307 - accuracy: 0.9167\n",
      "Epoch 36/200\n",
      "18/18 [==============================] - 0s 1ms/step - loss: 0.2702 - accuracy: 0.9312\n",
      "Epoch 37/200\n",
      "18/18 [==============================] - 0s 2ms/step - loss: 0.3056 - accuracy: 0.9040\n",
      "Epoch 38/200\n",
      "18/18 [==============================] - 0s 1ms/step - loss: 0.2811 - accuracy: 0.9149\n",
      "Epoch 39/200\n",
      "18/18 [==============================] - 0s 1ms/step - loss: 0.2707 - accuracy: 0.9203\n",
      "Epoch 40/200\n",
      "18/18 [==============================] - 0s 2ms/step - loss: 0.2672 - accuracy: 0.9203\n",
      "Epoch 41/200\n",
      "18/18 [==============================] - 0s 2ms/step - loss: 0.2831 - accuracy: 0.9094\n",
      "Epoch 42/200\n",
      "18/18 [==============================] - 0s 2ms/step - loss: 0.2247 - accuracy: 0.9203\n",
      "Epoch 43/200\n",
      "18/18 [==============================] - 0s 2ms/step - loss: 0.2349 - accuracy: 0.9239\n",
      "Epoch 44/200\n",
      "18/18 [==============================] - 0s 2ms/step - loss: 0.2304 - accuracy: 0.9221\n",
      "Epoch 45/200\n",
      "18/18 [==============================] - 0s 2ms/step - loss: 0.2153 - accuracy: 0.9167\n",
      "Epoch 46/200\n",
      "18/18 [==============================] - 0s 2ms/step - loss: 0.2423 - accuracy: 0.9185\n",
      "Epoch 47/200\n",
      "18/18 [==============================] - 0s 2ms/step - loss: 0.2333 - accuracy: 0.9275\n",
      "Epoch 48/200\n",
      "18/18 [==============================] - 0s 2ms/step - loss: 0.2999 - accuracy: 0.9130\n",
      "Epoch 49/200\n",
      "18/18 [==============================] - 0s 2ms/step - loss: 0.2939 - accuracy: 0.9203\n",
      "Epoch 50/200\n",
      "18/18 [==============================] - 0s 2ms/step - loss: 0.2251 - accuracy: 0.9149\n",
      "Epoch 51/200\n",
      "18/18 [==============================] - 0s 2ms/step - loss: 0.2016 - accuracy: 0.9330\n",
      "Epoch 52/200\n",
      "18/18 [==============================] - 0s 2ms/step - loss: 0.2131 - accuracy: 0.9312\n",
      "Epoch 53/200\n",
      "18/18 [==============================] - 0s 2ms/step - loss: 0.2503 - accuracy: 0.9221\n",
      "Epoch 54/200\n",
      "18/18 [==============================] - 0s 2ms/step - loss: 0.2450 - accuracy: 0.9293\n",
      "Epoch 55/200\n",
      "18/18 [==============================] - 0s 1ms/step - loss: 0.2598 - accuracy: 0.9058\n",
      "Epoch 56/200\n",
      "18/18 [==============================] - 0s 2ms/step - loss: 0.2331 - accuracy: 0.9239\n",
      "Epoch 57/200\n",
      "18/18 [==============================] - 0s 2ms/step - loss: 0.3753 - accuracy: 0.9022\n",
      "Epoch 58/200\n",
      "18/18 [==============================] - 0s 1ms/step - loss: 0.3788 - accuracy: 0.9004\n",
      "Epoch 59/200\n",
      "18/18 [==============================] - 0s 1ms/step - loss: 0.3334 - accuracy: 0.8967\n",
      "Epoch 60/200\n",
      "18/18 [==============================] - 0s 2ms/step - loss: 0.2998 - accuracy: 0.9040\n",
      "Epoch 61/200\n",
      "18/18 [==============================] - 0s 1ms/step - loss: 0.2831 - accuracy: 0.9130\n",
      "Epoch 62/200\n",
      "18/18 [==============================] - 0s 2ms/step - loss: 0.2258 - accuracy: 0.9203\n",
      "Epoch 63/200\n",
      "18/18 [==============================] - 0s 1ms/step - loss: 0.2585 - accuracy: 0.9130\n",
      "Epoch 64/200\n",
      "18/18 [==============================] - 0s 2ms/step - loss: 0.2526 - accuracy: 0.9275\n",
      "Epoch 65/200\n",
      "18/18 [==============================] - 0s 2ms/step - loss: 0.2250 - accuracy: 0.9330\n",
      "Epoch 66/200\n",
      "18/18 [==============================] - 0s 1ms/step - loss: 0.2417 - accuracy: 0.9239\n",
      "Epoch 67/200\n",
      "18/18 [==============================] - 0s 1ms/step - loss: 0.2418 - accuracy: 0.9130\n",
      "Epoch 68/200\n",
      "18/18 [==============================] - 0s 2ms/step - loss: 0.2600 - accuracy: 0.9167\n",
      "Epoch 69/200\n",
      "18/18 [==============================] - 0s 1ms/step - loss: 0.2639 - accuracy: 0.9149\n",
      "Epoch 70/200\n",
      "18/18 [==============================] - 0s 1ms/step - loss: 0.2497 - accuracy: 0.9239\n",
      "Epoch 71/200\n",
      "18/18 [==============================] - 0s 2ms/step - loss: 0.2191 - accuracy: 0.9221\n",
      "Epoch 72/200\n",
      "18/18 [==============================] - 0s 1ms/step - loss: 0.2167 - accuracy: 0.9257\n",
      "Epoch 73/200\n",
      "18/18 [==============================] - 0s 2ms/step - loss: 0.2364 - accuracy: 0.9221\n",
      "Epoch 74/200\n",
      "18/18 [==============================] - 0s 2ms/step - loss: 0.2741 - accuracy: 0.9185\n",
      "Epoch 75/200\n",
      "18/18 [==============================] - 0s 2ms/step - loss: 0.2376 - accuracy: 0.9094\n",
      "Epoch 76/200\n",
      "18/18 [==============================] - 0s 2ms/step - loss: 0.2543 - accuracy: 0.9221\n",
      "Epoch 77/200\n",
      "18/18 [==============================] - 0s 2ms/step - loss: 0.2237 - accuracy: 0.9221\n",
      "Epoch 78/200\n",
      "18/18 [==============================] - 0s 2ms/step - loss: 0.3128 - accuracy: 0.9094\n",
      "Epoch 79/200\n",
      "18/18 [==============================] - 0s 2ms/step - loss: 0.2824 - accuracy: 0.9040\n",
      "Epoch 80/200\n",
      "18/18 [==============================] - 0s 2ms/step - loss: 0.3075 - accuracy: 0.8913\n",
      "Epoch 81/200\n",
      "18/18 [==============================] - 0s 2ms/step - loss: 0.2531 - accuracy: 0.9112\n",
      "Epoch 82/200\n",
      "18/18 [==============================] - 0s 2ms/step - loss: 0.2175 - accuracy: 0.9130\n",
      "Epoch 83/200\n"
     ]
    },
    {
     "name": "stdout",
     "output_type": "stream",
     "text": [
      "18/18 [==============================] - 0s 2ms/step - loss: 0.2182 - accuracy: 0.9257\n",
      "Epoch 84/200\n",
      "18/18 [==============================] - 0s 1ms/step - loss: 0.2599 - accuracy: 0.9293\n",
      "Epoch 85/200\n",
      "18/18 [==============================] - 0s 2ms/step - loss: 0.2623 - accuracy: 0.9203\n",
      "Epoch 86/200\n",
      "18/18 [==============================] - 0s 2ms/step - loss: 0.2800 - accuracy: 0.9239\n",
      "Epoch 87/200\n",
      "18/18 [==============================] - 0s 2ms/step - loss: 0.2338 - accuracy: 0.9312\n",
      "Epoch 88/200\n",
      "18/18 [==============================] - 0s 2ms/step - loss: 0.2099 - accuracy: 0.9257\n",
      "Epoch 89/200\n",
      "18/18 [==============================] - 0s 1ms/step - loss: 0.2356 - accuracy: 0.9293\n",
      "Epoch 90/200\n",
      "18/18 [==============================] - 0s 2ms/step - loss: 0.2205 - accuracy: 0.9348\n",
      "Epoch 91/200\n",
      "18/18 [==============================] - 0s 2ms/step - loss: 0.2010 - accuracy: 0.9275\n",
      "Epoch 92/200\n",
      "18/18 [==============================] - 0s 1ms/step - loss: 0.2375 - accuracy: 0.9257\n",
      "Epoch 93/200\n",
      "18/18 [==============================] - 0s 2ms/step - loss: 0.2407 - accuracy: 0.9167\n",
      "Epoch 94/200\n",
      "18/18 [==============================] - 0s 1ms/step - loss: 0.2186 - accuracy: 0.9221\n",
      "Epoch 95/200\n",
      "18/18 [==============================] - 0s 2ms/step - loss: 0.2351 - accuracy: 0.9203\n",
      "Epoch 96/200\n",
      "18/18 [==============================] - 0s 2ms/step - loss: 0.2011 - accuracy: 0.9275\n",
      "Epoch 97/200\n",
      "18/18 [==============================] - 0s 1ms/step - loss: 0.1963 - accuracy: 0.9293\n",
      "Epoch 98/200\n",
      "18/18 [==============================] - 0s 1ms/step - loss: 0.1961 - accuracy: 0.9293\n",
      "Epoch 99/200\n",
      "18/18 [==============================] - 0s 1ms/step - loss: 0.2243 - accuracy: 0.9239\n",
      "Epoch 100/200\n",
      "18/18 [==============================] - 0s 1ms/step - loss: 0.1974 - accuracy: 0.9275\n",
      "Epoch 101/200\n",
      "18/18 [==============================] - 0s 2ms/step - loss: 0.1907 - accuracy: 0.9330\n",
      "Epoch 102/200\n",
      "18/18 [==============================] - 0s 2ms/step - loss: 0.1997 - accuracy: 0.9293\n",
      "Epoch 103/200\n",
      "18/18 [==============================] - 0s 2ms/step - loss: 0.2090 - accuracy: 0.9257\n",
      "Epoch 104/200\n",
      "18/18 [==============================] - 0s 1ms/step - loss: 0.2087 - accuracy: 0.9221\n",
      "Epoch 105/200\n",
      "18/18 [==============================] - 0s 2ms/step - loss: 0.1948 - accuracy: 0.9257\n",
      "Epoch 106/200\n",
      "18/18 [==============================] - 0s 2ms/step - loss: 0.1892 - accuracy: 0.9330\n",
      "Epoch 107/200\n",
      "18/18 [==============================] - 0s 2ms/step - loss: 0.1881 - accuracy: 0.9221\n",
      "Epoch 108/200\n",
      "18/18 [==============================] - 0s 2ms/step - loss: 0.1825 - accuracy: 0.9275\n",
      "Epoch 109/200\n",
      "18/18 [==============================] - 0s 1ms/step - loss: 0.1898 - accuracy: 0.9348\n",
      "Epoch 110/200\n",
      "18/18 [==============================] - 0s 2ms/step - loss: 0.2187 - accuracy: 0.9203\n",
      "Epoch 111/200\n",
      "18/18 [==============================] - 0s 2ms/step - loss: 0.1854 - accuracy: 0.9366\n",
      "Epoch 112/200\n",
      "18/18 [==============================] - 0s 1ms/step - loss: 0.1926 - accuracy: 0.9330\n",
      "Epoch 113/200\n",
      "18/18 [==============================] - 0s 2ms/step - loss: 0.1941 - accuracy: 0.9312\n",
      "Epoch 114/200\n",
      "18/18 [==============================] - 0s 2ms/step - loss: 0.2510 - accuracy: 0.9149\n",
      "Epoch 115/200\n",
      "18/18 [==============================] - 0s 1ms/step - loss: 0.3861 - accuracy: 0.8877\n",
      "Epoch 116/200\n",
      "18/18 [==============================] - 0s 1ms/step - loss: 0.3255 - accuracy: 0.9239\n",
      "Epoch 117/200\n",
      "18/18 [==============================] - 0s 2ms/step - loss: 0.2426 - accuracy: 0.9221\n",
      "Epoch 118/200\n",
      "18/18 [==============================] - 0s 1ms/step - loss: 0.3352 - accuracy: 0.9022\n",
      "Epoch 119/200\n",
      "18/18 [==============================] - 0s 1ms/step - loss: 0.2612 - accuracy: 0.9185\n",
      "Epoch 120/200\n",
      "18/18 [==============================] - 0s 2ms/step - loss: 0.2093 - accuracy: 0.9221\n",
      "Epoch 121/200\n",
      "18/18 [==============================] - 0s 1ms/step - loss: 0.2281 - accuracy: 0.9112\n",
      "Epoch 122/200\n",
      "18/18 [==============================] - 0s 2ms/step - loss: 0.2712 - accuracy: 0.9094\n",
      "Epoch 123/200\n",
      "18/18 [==============================] - 0s 2ms/step - loss: 0.2627 - accuracy: 0.9239\n",
      "Epoch 124/200\n",
      "18/18 [==============================] - 0s 2ms/step - loss: 0.2009 - accuracy: 0.9149\n",
      "Epoch 125/200\n",
      "18/18 [==============================] - 0s 2ms/step - loss: 0.2066 - accuracy: 0.9221\n",
      "Epoch 126/200\n",
      "18/18 [==============================] - 0s 1ms/step - loss: 0.2281 - accuracy: 0.9203\n",
      "Epoch 127/200\n",
      "18/18 [==============================] - 0s 1ms/step - loss: 0.2258 - accuracy: 0.9239\n",
      "Epoch 128/200\n",
      "18/18 [==============================] - 0s 2ms/step - loss: 0.2159 - accuracy: 0.9203\n",
      "Epoch 129/200\n",
      "18/18 [==============================] - 0s 1ms/step - loss: 0.1986 - accuracy: 0.9348\n",
      "Epoch 130/200\n",
      "18/18 [==============================] - 0s 2ms/step - loss: 0.2051 - accuracy: 0.9221\n",
      "Epoch 131/200\n",
      "18/18 [==============================] - 0s 1ms/step - loss: 0.2050 - accuracy: 0.9312\n",
      "Epoch 132/200\n",
      "18/18 [==============================] - 0s 1ms/step - loss: 0.2062 - accuracy: 0.9293\n",
      "Epoch 133/200\n",
      "18/18 [==============================] - 0s 2ms/step - loss: 0.2206 - accuracy: 0.9293\n",
      "Epoch 134/200\n",
      "18/18 [==============================] - 0s 2ms/step - loss: 0.2133 - accuracy: 0.9257\n",
      "Epoch 135/200\n",
      "18/18 [==============================] - 0s 2ms/step - loss: 0.2057 - accuracy: 0.9312\n",
      "Epoch 136/200\n",
      "18/18 [==============================] - 0s 2ms/step - loss: 0.1894 - accuracy: 0.9257\n",
      "Epoch 137/200\n",
      "18/18 [==============================] - 0s 2ms/step - loss: 0.2129 - accuracy: 0.9293\n",
      "Epoch 138/200\n",
      "18/18 [==============================] - 0s 2ms/step - loss: 0.1904 - accuracy: 0.9275\n",
      "Epoch 139/200\n",
      "18/18 [==============================] - 0s 2ms/step - loss: 0.2111 - accuracy: 0.9330\n",
      "Epoch 140/200\n",
      "18/18 [==============================] - 0s 2ms/step - loss: 0.2041 - accuracy: 0.9221\n",
      "Epoch 141/200\n",
      "18/18 [==============================] - 0s 2ms/step - loss: 0.1983 - accuracy: 0.9348\n",
      "Epoch 142/200\n",
      "18/18 [==============================] - 0s 1ms/step - loss: 0.2095 - accuracy: 0.9275\n",
      "Epoch 143/200\n",
      "18/18 [==============================] - 0s 2ms/step - loss: 0.2009 - accuracy: 0.9257\n",
      "Epoch 144/200\n",
      "18/18 [==============================] - 0s 1ms/step - loss: 0.1983 - accuracy: 0.9239\n",
      "Epoch 145/200\n",
      "18/18 [==============================] - 0s 1ms/step - loss: 0.1880 - accuracy: 0.9293\n",
      "Epoch 146/200\n",
      "18/18 [==============================] - 0s 2ms/step - loss: 0.2784 - accuracy: 0.9004\n",
      "Epoch 147/200\n",
      "18/18 [==============================] - 0s 1ms/step - loss: 0.3112 - accuracy: 0.9275\n",
      "Epoch 148/200\n",
      "18/18 [==============================] - 0s 1ms/step - loss: 0.3110 - accuracy: 0.9112\n",
      "Epoch 149/200\n",
      "18/18 [==============================] - 0s 2ms/step - loss: 0.2393 - accuracy: 0.9275\n",
      "Epoch 150/200\n",
      "18/18 [==============================] - 0s 1ms/step - loss: 0.2182 - accuracy: 0.9167\n",
      "Epoch 151/200\n",
      "18/18 [==============================] - 0s 1ms/step - loss: 0.2377 - accuracy: 0.9257\n",
      "Epoch 152/200\n",
      "18/18 [==============================] - 0s 2ms/step - loss: 0.2207 - accuracy: 0.9312\n",
      "Epoch 153/200\n",
      "18/18 [==============================] - 0s 2ms/step - loss: 0.2030 - accuracy: 0.9275\n",
      "Epoch 154/200\n",
      "18/18 [==============================] - 0s 2ms/step - loss: 0.1742 - accuracy: 0.9330\n",
      "Epoch 155/200\n",
      "18/18 [==============================] - 0s 2ms/step - loss: 0.1929 - accuracy: 0.9330\n",
      "Epoch 156/200\n",
      "18/18 [==============================] - 0s 2ms/step - loss: 0.2367 - accuracy: 0.9257\n",
      "Epoch 157/200\n",
      "18/18 [==============================] - 0s 2ms/step - loss: 0.2251 - accuracy: 0.9275\n",
      "Epoch 158/200\n",
      "18/18 [==============================] - 0s 2ms/step - loss: 0.2098 - accuracy: 0.9239\n",
      "Epoch 159/200\n",
      "18/18 [==============================] - 0s 1ms/step - loss: 0.1780 - accuracy: 0.9330\n",
      "Epoch 160/200\n",
      "18/18 [==============================] - 0s 2ms/step - loss: 0.1748 - accuracy: 0.9384\n",
      "Epoch 161/200\n",
      "18/18 [==============================] - 0s 2ms/step - loss: 0.1750 - accuracy: 0.9312\n",
      "Epoch 162/200\n",
      "18/18 [==============================] - 0s 1ms/step - loss: 0.1648 - accuracy: 0.9402\n",
      "Epoch 163/200\n",
      "18/18 [==============================] - 0s 2ms/step - loss: 0.1758 - accuracy: 0.9402\n",
      "Epoch 164/200\n"
     ]
    },
    {
     "name": "stdout",
     "output_type": "stream",
     "text": [
      "18/18 [==============================] - 0s 1ms/step - loss: 0.2005 - accuracy: 0.9330\n",
      "Epoch 165/200\n",
      "18/18 [==============================] - 0s 2ms/step - loss: 0.1883 - accuracy: 0.9312\n",
      "Epoch 166/200\n",
      "18/18 [==============================] - 0s 2ms/step - loss: 0.1741 - accuracy: 0.9402\n",
      "Epoch 167/200\n",
      "18/18 [==============================] - 0s 2ms/step - loss: 0.2120 - accuracy: 0.9221\n",
      "Epoch 168/200\n",
      "18/18 [==============================] - 0s 2ms/step - loss: 0.2392 - accuracy: 0.9149\n",
      "Epoch 169/200\n",
      "18/18 [==============================] - 0s 2ms/step - loss: 0.2050 - accuracy: 0.9293\n",
      "Epoch 170/200\n",
      "18/18 [==============================] - 0s 2ms/step - loss: 0.1936 - accuracy: 0.9275\n",
      "Epoch 171/200\n",
      "18/18 [==============================] - 0s 2ms/step - loss: 0.1843 - accuracy: 0.9366\n",
      "Epoch 172/200\n",
      "18/18 [==============================] - 0s 1ms/step - loss: 0.1718 - accuracy: 0.9402\n",
      "Epoch 173/200\n",
      "18/18 [==============================] - 0s 2ms/step - loss: 0.1726 - accuracy: 0.9312\n",
      "Epoch 174/200\n",
      "18/18 [==============================] - 0s 2ms/step - loss: 0.1638 - accuracy: 0.9402\n",
      "Epoch 175/200\n",
      "18/18 [==============================] - 0s 1ms/step - loss: 0.1717 - accuracy: 0.9348\n",
      "Epoch 176/200\n",
      "18/18 [==============================] - 0s 2ms/step - loss: 0.1833 - accuracy: 0.9239\n",
      "Epoch 177/200\n",
      "18/18 [==============================] - 0s 2ms/step - loss: 0.2297 - accuracy: 0.9330\n",
      "Epoch 178/200\n",
      "18/18 [==============================] - 0s 1ms/step - loss: 0.1644 - accuracy: 0.9366\n",
      "Epoch 179/200\n",
      "18/18 [==============================] - 0s 1ms/step - loss: 0.2227 - accuracy: 0.9167\n",
      "Epoch 180/200\n",
      "18/18 [==============================] - 0s 1ms/step - loss: 0.1689 - accuracy: 0.9366\n",
      "Epoch 181/200\n",
      "18/18 [==============================] - 0s 1ms/step - loss: 0.1704 - accuracy: 0.9348\n",
      "Epoch 182/200\n",
      "18/18 [==============================] - 0s 2ms/step - loss: 0.1566 - accuracy: 0.9457\n",
      "Epoch 183/200\n",
      "18/18 [==============================] - 0s 1ms/step - loss: 0.1605 - accuracy: 0.9457\n",
      "Epoch 184/200\n",
      "18/18 [==============================] - 0s 2ms/step - loss: 0.1766 - accuracy: 0.9312\n",
      "Epoch 185/200\n",
      "18/18 [==============================] - 0s 1ms/step - loss: 0.1875 - accuracy: 0.9312\n",
      "Epoch 186/200\n",
      "18/18 [==============================] - ETA: 0s - loss: 0.4390 - accuracy: 0.84 - 0s 1ms/step - loss: 0.1685 - accuracy: 0.9366\n",
      "Epoch 187/200\n",
      "18/18 [==============================] - 0s 2ms/step - loss: 0.1543 - accuracy: 0.9457\n",
      "Epoch 188/200\n",
      "18/18 [==============================] - 0s 2ms/step - loss: 0.1664 - accuracy: 0.9402\n",
      "Epoch 189/200\n",
      "18/18 [==============================] - 0s 1ms/step - loss: 0.1763 - accuracy: 0.9420\n",
      "Epoch 190/200\n",
      "18/18 [==============================] - 0s 2ms/step - loss: 0.1627 - accuracy: 0.9384\n",
      "Epoch 191/200\n",
      "18/18 [==============================] - 0s 1ms/step - loss: 0.2123 - accuracy: 0.9330\n",
      "Epoch 192/200\n",
      "18/18 [==============================] - 0s 1ms/step - loss: 0.2283 - accuracy: 0.9257\n",
      "Epoch 193/200\n",
      "18/18 [==============================] - 0s 2ms/step - loss: 0.1922 - accuracy: 0.9420\n",
      "Epoch 194/200\n",
      "18/18 [==============================] - 0s 1ms/step - loss: 0.1669 - accuracy: 0.9511\n",
      "Epoch 195/200\n",
      "18/18 [==============================] - 0s 2ms/step - loss: 0.1686 - accuracy: 0.9475\n",
      "Epoch 196/200\n",
      "18/18 [==============================] - 0s 2ms/step - loss: 0.1862 - accuracy: 0.9330\n",
      "Epoch 197/200\n",
      "18/18 [==============================] - 0s 2ms/step - loss: 0.1887 - accuracy: 0.9275\n",
      "Epoch 198/200\n",
      "18/18 [==============================] - 0s 2ms/step - loss: 0.1731 - accuracy: 0.9438\n",
      "Epoch 199/200\n",
      "18/18 [==============================] - 0s 2ms/step - loss: 0.2084 - accuracy: 0.9257\n",
      "Epoch 200/200\n",
      "18/18 [==============================] - 0s 2ms/step - loss: 0.1903 - accuracy: 0.9293\n"
     ]
    },
    {
     "data": {
      "text/plain": [
       "<tensorflow.python.keras.callbacks.History at 0x1cf05386b80>"
      ]
     },
     "execution_count": 40,
     "metadata": {},
     "output_type": "execute_result"
    }
   ],
   "source": [
    "tf.keras.backend.set_floatx('float64')\n",
    "model30 = keras.Sequential([\n",
    "    keras.layers.Dense(30, input_shape=(30,), activation='relu'),\n",
    "    keras.layers.Dense(24, activation='relu'),\n",
    "    keras.layers.Dense(24, activation='relu'),\n",
    "    keras.layers.Dense(24, activation='relu'),\n",
    "    keras.layers.Dense(24, activation='relu'),\n",
    "    keras.layers.Dense(24, activation='relu'),\n",
    "    keras.layers.Dense(1, activation='sigmoid')\n",
    "])\n",
    "\n",
    "# opt = keras.optimizers.Adam(learning_rate=0.01)\n",
    "\n",
    "model30.compile(optimizer='adam',\n",
    "              loss='binary_crossentropy',\n",
    "              metrics=['accuracy'])\n",
    "\n",
    "model30.fit(X30_train, y30_train, epochs=200)"
   ]
  },
  {
   "cell_type": "code",
   "execution_count": 41,
   "metadata": {},
   "outputs": [
    {
     "name": "stdout",
     "output_type": "stream",
     "text": [
      "5/5 [==============================] - 0s 1ms/step - loss: 0.1384 - accuracy: 0.9565\n"
     ]
    },
    {
     "data": {
      "text/plain": [
       "[0.13837942707797754, 0.9565217391304348]"
      ]
     },
     "execution_count": 41,
     "metadata": {},
     "output_type": "execute_result"
    }
   ],
   "source": [
    "model30.evaluate(X30_test, y30_test)"
   ]
  },
  {
   "cell_type": "code",
   "execution_count": 75,
   "metadata": {},
   "outputs": [
    {
     "data": {
      "text/plain": [
       "array([[9.67903300e-03],\n",
       "       [2.13246248e-02],\n",
       "       [2.53685132e-04],\n",
       "       [4.19175846e-57],\n",
       "       [7.81651172e-01],\n",
       "       [4.41595346e-02],\n",
       "       [1.69538132e-01],\n",
       "       [2.99088175e-02],\n",
       "       [4.12296789e-02],\n",
       "       [3.47875678e-01],\n",
       "       [6.61653847e-02],\n",
       "       [1.06983664e-01],\n",
       "       [3.73842436e-01],\n",
       "       [4.92065526e-02],\n",
       "       [1.15920856e-01],\n",
       "       [6.12598468e-02],\n",
       "       [8.75566869e-02],\n",
       "       [4.52280437e-02],\n",
       "       [7.05080721e-06],\n",
       "       [1.17828704e-01],\n",
       "       [3.72297874e-03],\n",
       "       [8.24034294e-03],\n",
       "       [1.84153414e-01],\n",
       "       [1.88700421e-02],\n",
       "       [4.74661861e-02],\n",
       "       [6.53304262e-01],\n",
       "       [7.99164719e-02],\n",
       "       [2.86884943e-02],\n",
       "       [2.42102989e-35],\n",
       "       [1.32723570e-19],\n",
       "       [1.80329197e-01],\n",
       "       [1.81268117e-02],\n",
       "       [5.93006534e-42],\n",
       "       [1.63492620e-02],\n",
       "       [2.56115880e-01],\n",
       "       [9.32836147e-03],\n",
       "       [7.74409800e-01],\n",
       "       [2.93476503e-03],\n",
       "       [1.68474559e-03],\n",
       "       [9.57686677e-03],\n",
       "       [6.84983109e-01],\n",
       "       [3.05772495e-02],\n",
       "       [1.25812683e-01],\n",
       "       [5.08317044e-02],\n",
       "       [7.47114653e-02],\n",
       "       [2.25085323e-02],\n",
       "       [1.24373832e-02],\n",
       "       [8.65211265e-02],\n",
       "       [4.94764923e-03],\n",
       "       [5.14430739e-02],\n",
       "       [2.63696038e-02],\n",
       "       [2.70449059e-03],\n",
       "       [1.59404935e-02],\n",
       "       [9.00962716e-02],\n",
       "       [5.41141487e-02],\n",
       "       [1.32585082e-02],\n",
       "       [9.20315207e-02],\n",
       "       [3.34814981e-02],\n",
       "       [1.14946185e-01],\n",
       "       [9.44991679e-03],\n",
       "       [3.69256889e-01],\n",
       "       [2.38989144e-43],\n",
       "       [2.40913418e-01],\n",
       "       [4.09460302e-03],\n",
       "       [1.48846308e-02],\n",
       "       [2.55928862e-25],\n",
       "       [1.54843795e-02],\n",
       "       [6.22404104e-02],\n",
       "       [7.76906845e-04],\n",
       "       [1.72288944e-01],\n",
       "       [7.34404682e-04],\n",
       "       [2.94755410e-03],\n",
       "       [5.82076065e-02],\n",
       "       [1.13289483e-01],\n",
       "       [1.59337926e-03],\n",
       "       [2.68129924e-02],\n",
       "       [2.90080509e-03],\n",
       "       [1.23548449e-01],\n",
       "       [3.65216851e-01],\n",
       "       [5.48565018e-02],\n",
       "       [5.12964625e-02],\n",
       "       [2.85538313e-02],\n",
       "       [8.64259990e-01],\n",
       "       [1.65343637e-04],\n",
       "       [4.99448358e-01],\n",
       "       [1.68154368e-02],\n",
       "       [3.63540187e-02],\n",
       "       [5.08416108e-40],\n",
       "       [1.16509197e-38],\n",
       "       [3.76818355e-02],\n",
       "       [9.50193941e-02],\n",
       "       [7.81785648e-02],\n",
       "       [1.21305448e-01],\n",
       "       [3.51587742e-01],\n",
       "       [8.34525984e-04],\n",
       "       [5.17735765e-02],\n",
       "       [1.36835059e-02],\n",
       "       [4.48597671e-01],\n",
       "       [6.56048136e-01],\n",
       "       [2.96911807e-02],\n",
       "       [4.70845669e-01],\n",
       "       [1.20479028e-29],\n",
       "       [6.28817927e-03],\n",
       "       [1.04795496e-01],\n",
       "       [5.35091884e-02],\n",
       "       [1.23317989e-01],\n",
       "       [2.33379047e-01],\n",
       "       [1.54471395e-02],\n",
       "       [6.00300076e-01],\n",
       "       [3.10073500e-01],\n",
       "       [6.81659800e-02],\n",
       "       [8.40653070e-01],\n",
       "       [7.79797759e-02],\n",
       "       [3.02096559e-04],\n",
       "       [3.04187583e-04],\n",
       "       [1.27698848e-02],\n",
       "       [1.72496942e-01],\n",
       "       [6.56424585e-02],\n",
       "       [2.45048814e-01],\n",
       "       [1.89330415e-30],\n",
       "       [7.22867977e-01],\n",
       "       [8.57291190e-02],\n",
       "       [6.30644201e-02],\n",
       "       [9.01971252e-02],\n",
       "       [6.13944520e-01],\n",
       "       [1.20096199e-01],\n",
       "       [4.39967463e-43],\n",
       "       [2.17696780e-03],\n",
       "       [3.77532303e-02],\n",
       "       [1.10057809e-02],\n",
       "       [1.97990449e-02],\n",
       "       [1.59569405e-02],\n",
       "       [2.02369890e-04],\n",
       "       [2.03412270e-02],\n",
       "       [1.42630750e-01],\n",
       "       [1.18259520e-02],\n",
       "       [8.21813941e-02],\n",
       "       [1.34091139e-02]])"
      ]
     },
     "execution_count": 75,
     "metadata": {},
     "output_type": "execute_result"
    }
   ],
   "source": [
    "pred=model30.predict(X30_test)\n",
    "pred30=[]\n",
    "for element in pred:\n",
    "    if element > 6:\n",
    "        pred30.append(1)\n",
    "    else:\n",
    "        pred30.append(0)\n",
    "pred"
   ]
  },
  {
   "cell_type": "code",
   "execution_count": 43,
   "metadata": {},
   "outputs": [
    {
     "name": "stdout",
     "output_type": "stream",
     "text": [
      "MSE 0.07246376811594203\n"
     ]
    }
   ],
   "source": [
    "print('MSE',metrics.mean_squared_error(y30_test,pred30))"
   ]
  },
  {
   "cell_type": "code",
   "execution_count": 44,
   "metadata": {},
   "outputs": [
    {
     "name": "stdout",
     "output_type": "stream",
     "text": [
      "              precision    recall  f1-score   support\n",
      "\n",
      "           0       0.93      1.00      0.96       128\n",
      "           1       0.00      0.00      0.00        10\n",
      "\n",
      "    accuracy                           0.93       138\n",
      "   macro avg       0.46      0.50      0.48       138\n",
      "weighted avg       0.86      0.93      0.89       138\n",
      "\n"
     ]
    }
   ],
   "source": [
    "print(classification_report(y30_test,pred30,zero_division=0))"
   ]
  },
  {
   "cell_type": "code",
   "execution_count": 45,
   "metadata": {},
   "outputs": [],
   "source": [
    "tnser_probs = model30.predict(X30_test)"
   ]
  },
  {
   "cell_type": "code",
   "execution_count": 46,
   "metadata": {},
   "outputs": [],
   "source": [
    "ns_probs = [0 for _ in range(len(y30_test))]\n",
    "ns_auc = roc_auc_score(y30_test, ns_probs)\n",
    "tnser_auc_30 = roc_auc_score(y30_test, tnser_probs)"
   ]
  },
  {
   "cell_type": "code",
   "execution_count": 47,
   "metadata": {},
   "outputs": [],
   "source": [
    "ns_fpr, ns_tpr, _ = roc_curve(y30_test, ns_probs)\n",
    "tnser_fpr_30, tnser_tpr_30, _ = roc_curve(y30_test, tnser_probs)"
   ]
  },
  {
   "cell_type": "code",
   "execution_count": 48,
   "metadata": {},
   "outputs": [
    {
     "data": {
      "image/png": "[encoded data removed]",
      "text/plain": [
       "<Figure size 432x288 with 1 Axes>"
      ]
     },
     "metadata": {
      "needs_background": "light"
     },
     "output_type": "display_data"
    }
   ],
   "source": [
    "plt.xlabel('False Positive Rate')\n",
    "plt.ylabel('True Positive Rate')\n",
    "plt.plot(ns_fpr, ns_tpr, linestyle='--', label='No Skill' )\n",
    "plt.plot(tnser_fpr_30, tnser_tpr_30, marker='X', label='ANN 30' )\n",
    "plt.legend()\n",
    "plt.show()"
   ]
  },
  {
   "cell_type": "code",
   "execution_count": 49,
   "metadata": {},
   "outputs": [
    {
     "data": {
      "image/png": "[encoded data removed]",
      "text/plain": [
       "<Figure size 432x288 with 1 Axes>"
      ]
     },
     "metadata": {
      "needs_background": "light"
     },
     "output_type": "display_data"
    }
   ],
   "source": [
    "plt.plot(tnser_fpr_10, tnser_tpr_10, label=\"ANN 10, auc=\"+str(tnser_auc_10))\n",
    "plt.plot(tnser_fpr_20, tnser_tpr_20, label=\"ANN 20, auc=\"+str(tnser_auc_20))\n",
    "plt.plot(tnser_fpr_30, tnser_tpr_30, label=\"ANN 30, auc=\"+str(tnser_auc_30))\n",
    "plt.xlabel('False Positive Rate')\n",
    "plt.ylabel('True Positive Rate')\n",
    "plt.legend()\n",
    "plt.show()"
   ]
  },
  {
   "cell_type": "code",
   "execution_count": 50,
   "metadata": {},
   "outputs": [
    {
     "data": {
      "image/png": "[encoded data removed]",
      "text/plain": [
       "<Figure size 432x288 with 1 Axes>"
      ]
     },
     "metadata": {
      "needs_background": "light"
     },
     "output_type": "display_data"
    }
   ],
   "source": [
    "plt.plot(tnser_fpr_10, tnser_tpr_10, label=\"ANN 10, auc=\"+str(tnser_auc_10))\n",
    "plt.plot(tnser_fpr_20, tnser_tpr_20, label=\"ANN 20, auc=\"+str(tnser_auc_20))\n",
    "\n",
    "plt.xlabel('False Positive Rate')\n",
    "plt.ylabel('True Positive Rate')\n",
    "plt.legend()\n",
    "plt.show()"
   ]
  },
  {
   "cell_type": "code",
   "execution_count": 51,
   "metadata": {},
   "outputs": [
    {
     "data": {
      "image/png": "[encoded data removed]",
      "text/plain": [
       "<Figure size 432x288 with 1 Axes>"
      ]
     },
     "metadata": {
      "needs_background": "light"
     },
     "output_type": "display_data"
    }
   ],
   "source": [
    "plt.plot(tnser_fpr_10, tnser_tpr_10, label=\"ANN 10, auc=\"+str(tnser_auc_10))\n",
    "\n",
    "plt.plot(tnser_fpr_30, tnser_tpr_30, label=\"ANN 30, auc=\"+str(tnser_auc_30))\n",
    "plt.xlabel('False Positive Rate')\n",
    "plt.ylabel('True Positive Rate')\n",
    "plt.legend()\n",
    "plt.show()"
   ]
  },
  {
   "cell_type": "markdown",
   "metadata": {},
   "source": [
    "# Apply SVN"
   ]
  },
  {
   "cell_type": "code",
   "execution_count": 52,
   "metadata": {},
   "outputs": [],
   "source": [
    "X20_train, X20_test, y20_train, y20_test = train_test_split(X20, y20, test_size=0.20,random_state=10)"
   ]
  },
  {
   "cell_type": "code",
   "execution_count": 53,
   "metadata": {},
   "outputs": [],
   "source": [
    "from sklearn.svm import SVC"
   ]
  },
  {
   "cell_type": "code",
   "execution_count": 54,
   "metadata": {},
   "outputs": [],
   "source": [
    "svc_model = SVC()"
   ]
  },
  {
   "cell_type": "code",
   "execution_count": 55,
   "metadata": {},
   "outputs": [
    {
     "data": {
      "text/plain": [
       "SVC()"
      ]
     },
     "execution_count": 55,
     "metadata": {},
     "output_type": "execute_result"
    }
   ],
   "source": [
    "svc_model.fit(X20_train,y20_train)"
   ]
  },
  {
   "cell_type": "code",
   "execution_count": 56,
   "metadata": {},
   "outputs": [],
   "source": [
    "svc_pred = svc_model.predict(X20_test)"
   ]
  },
  {
   "cell_type": "code",
   "execution_count": 57,
   "metadata": {},
   "outputs": [
    {
     "name": "stdout",
     "output_type": "stream",
     "text": [
      "[[128   0]\n",
      " [ 10   0]]\n"
     ]
    }
   ],
   "source": [
    "print(confusion_matrix(y20_test,svc_pred))"
   ]
  },
  {
   "cell_type": "code",
   "execution_count": 58,
   "metadata": {},
   "outputs": [
    {
     "name": "stdout",
     "output_type": "stream",
     "text": [
      "              precision    recall  f1-score   support\n",
      "\n",
      "           0       0.93      1.00      0.96       128\n",
      "           1       0.00      0.00      0.00        10\n",
      "\n",
      "    accuracy                           0.93       138\n",
      "   macro avg       0.46      0.50      0.48       138\n",
      "weighted avg       0.86      0.93      0.89       138\n",
      "\n"
     ]
    }
   ],
   "source": [
    "print(classification_report(y20_test,svc_pred,zero_division=0))"
   ]
  },
  {
   "cell_type": "code",
   "execution_count": 59,
   "metadata": {},
   "outputs": [],
   "source": [
    "tnser_probs = svc_model.predict(X20_test)"
   ]
  },
  {
   "cell_type": "code",
   "execution_count": 60,
   "metadata": {},
   "outputs": [],
   "source": [
    "ns_probs = [0 for _ in range(len(y20_test))]\n",
    "ns_auc = roc_auc_score(y20_test, ns_probs)\n",
    "tnser_auc_20_svm = roc_auc_score(y20_test, tnser_probs)"
   ]
  },
  {
   "cell_type": "code",
   "execution_count": 61,
   "metadata": {},
   "outputs": [],
   "source": [
    "ns_fpr, ns_tpr, _ = roc_curve(y20_test, ns_probs)\n",
    "tnser_fpr_20_svm, tnser_tpr_20_svm, _ = roc_curve(y20_test, tnser_probs)"
   ]
  },
  {
   "cell_type": "code",
   "execution_count": 62,
   "metadata": {},
   "outputs": [
    {
     "data": {
      "image/png": "[encoded data removed]",
      "text/plain": [
       "<Figure size 432x288 with 1 Axes>"
      ]
     },
     "metadata": {
      "needs_background": "light"
     },
     "output_type": "display_data"
    }
   ],
   "source": [
    "plt.xlabel('False Positive Rate')\n",
    "plt.ylabel('True Positive Rate')\n",
    "plt.plot(ns_fpr, ns_tpr, linestyle='--', label='No Skill' )\n",
    "plt.plot(tnser_fpr_20_svm, tnser_tpr_20_svm, marker='X', label='SVM 20' )\n",
    "plt.legend()\n",
    "plt.show()"
   ]
  },
  {
   "cell_type": "code",
   "execution_count": 63,
   "metadata": {},
   "outputs": [
    {
     "data": {
      "text/plain": [
       "<function matplotlib.pyplot.show(close=None, block=None)>"
      ]
     },
     "execution_count": 63,
     "metadata": {},
     "output_type": "execute_result"
    },
    {
     "data": {
      "image/png": "[encoded data removed]",
      "text/plain": [
       "<Figure size 720x432 with 2 Axes>"
      ]
     },
     "metadata": {
      "needs_background": "light"
     },
     "output_type": "display_data"
    }
   ],
   "source": [
    "plt.figure(figsize = (10,6))\n",
    "sns.heatmap(confusion_matrix(y20_test, svc_pred), annot = True,fmt='d')\n",
    "plt.show"
   ]
  },
  {
   "cell_type": "code",
   "execution_count": 64,
   "metadata": {},
   "outputs": [],
   "source": [
    "from sklearn.neighbors import KNeighborsClassifier"
   ]
  },
  {
   "cell_type": "code",
   "execution_count": 65,
   "metadata": {},
   "outputs": [],
   "source": [
    "knn = KNeighborsClassifier(n_neighbors=1)"
   ]
  },
  {
   "cell_type": "code",
   "execution_count": 66,
   "metadata": {},
   "outputs": [
    {
     "data": {
      "text/plain": [
       "KNeighborsClassifier(n_neighbors=1)"
      ]
     },
     "execution_count": 66,
     "metadata": {},
     "output_type": "execute_result"
    }
   ],
   "source": [
    "knn.fit(X20_train,y20_train)"
   ]
  },
  {
   "cell_type": "code",
   "execution_count": 67,
   "metadata": {},
   "outputs": [],
   "source": [
    "knn_pred = knn.predict(X20_test)"
   ]
  },
  {
   "cell_type": "code",
   "execution_count": 68,
   "metadata": {},
   "outputs": [
    {
     "name": "stdout",
     "output_type": "stream",
     "text": [
      "              precision    recall  f1-score   support\n",
      "\n",
      "           0       0.95      0.94      0.94       128\n",
      "           1       0.33      0.40      0.36        10\n",
      "\n",
      "    accuracy                           0.90       138\n",
      "   macro avg       0.64      0.67      0.65       138\n",
      "weighted avg       0.91      0.90      0.90       138\n",
      "\n"
     ]
    }
   ],
   "source": [
    "print(classification_report(y20_test,knn_pred))"
   ]
  },
  {
   "cell_type": "code",
   "execution_count": 69,
   "metadata": {},
   "outputs": [],
   "source": [
    "ns_probs = [0 for _ in range(len(y20_test))]\n",
    "ns_auc = roc_auc_score(y20_test, ns_probs)\n",
    "tnser_auc_20_knn = roc_auc_score(y20_test, knn_pred)\n",
    "\n",
    "ns_fpr, ns_tpr, _ = roc_curve(y20_test, ns_probs)\n",
    "tnser_fpr_20_knn, tnser_tpr_20_knn, _ = roc_curve(y20_test, knn_pred)"
   ]
  },
  {
   "cell_type": "code",
   "execution_count": 70,
   "metadata": {},
   "outputs": [
    {
     "data": {
      "image/png": "[encoded data removed]",
      "text/plain": [
       "<Figure size 432x288 with 1 Axes>"
      ]
     },
     "metadata": {
      "needs_background": "light"
     },
     "output_type": "display_data"
    }
   ],
   "source": [
    "plt.xlabel('False Positive Rate')\n",
    "plt.ylabel('True Positive Rate')\n",
    "plt.plot(ns_fpr, ns_tpr, linestyle='--', label='No Skill' )\n",
    "plt.plot(tnser_fpr_20_knn, tnser_tpr_20_knn, marker='X', label='KNN 20' )\n",
    "plt.legend()\n",
    "plt.show()"
   ]
  },
  {
   "cell_type": "code",
   "execution_count": 71,
   "metadata": {},
   "outputs": [
    {
     "data": {
      "image/png": "[encoded data removed]",
      "text/plain": [
       "<Figure size 432x288 with 1 Axes>"
      ]
     },
     "metadata": {
      "needs_background": "light"
     },
     "output_type": "display_data"
    }
   ],
   "source": [
    "plt.plot(tnser_fpr_10, tnser_tpr_10, label=\"ANN 10, auc=\"+str(tnser_auc_10))\n",
    "plt.plot(tnser_fpr_20, tnser_tpr_20, label=\"ANN 20, auc=\"+str(tnser_auc_20))\n",
    "plt.plot(tnser_fpr_30, tnser_tpr_30, label=\"ANN 30, auc=\"+str(tnser_auc_30))\n",
    "plt.plot(tnser_fpr_20_svm, tnser_tpr_20_svm, label=\"SVM 20, auc=\"+str(tnser_auc_20_svm))\n",
    "plt.plot(tnser_fpr_20_knn, tnser_tpr_20_knn, label=\"KNN 20, auc=\"+str(tnser_auc_20_knn))\n",
    "\n",
    "\n",
    "plt.xlabel('False Positive Rate')\n",
    "plt.ylabel('True Positive Rate')\n",
    "plt.legend()\n",
    "plt.show()"
   ]
  }
 ],
 "metadata": {
  "kernelspec": {
   "display_name": "Python 3",
   "language": "python",
   "name": "python3"
  },
  "language_info": {
   "codemirror_mode": {
    "name": "ipython",
    "version": 3
   },
   "file_extension": ".py",
   "mimetype": "text/x-python",
   "name": "python",
   "nbconvert_exporter": "python",
   "pygments_lexer": "ipython3",
   "version": "3.8.8"
  }
 },
 "nbformat": 4,
 "nbformat_minor": 4
}
