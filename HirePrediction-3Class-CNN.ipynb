{
 "cells": [
  {
   "cell_type": "code",
   "execution_count": 1,
   "id": "favorite-sellers",
   "metadata": {},
   "outputs": [],
   "source": [
    "from pyDeepInsight import ImageTransformer, LogScaler\n",
    "from sklearn.model_selection import train_test_split\n",
    "import pandas as pd\n",
    "import numpy as np\n",
    "import tensorflow.keras\n",
    "from tensorflow.keras.models import Sequential,Model\n",
    "from tensorflow.keras.layers import Input\n",
    "from tensorflow.keras.layers import Dense, Dropout, Flatten\n",
    "from tensorflow.keras.layers import Conv2D, MaxPooling2D\n",
    "from tensorflow.keras.layers import BatchNormalization\n",
    "from tensorflow.keras.layers import LeakyReLU\n",
    "from tensorflow.keras import optimizers\n",
    "from tensorflow.keras.utils import to_categorical\n",
    "\n",
    "from matplotlib import pyplot as plt\n",
    "import seaborn as sns"
   ]
  },
  {
   "cell_type": "code",
   "execution_count": 2,
   "id": "popular-london",
   "metadata": {},
   "outputs": [
    {
     "data": {
      "text/plain": [
       "(612, 49)"
      ]
     },
     "execution_count": 2,
     "metadata": {},
     "output_type": "execute_result"
    }
   ],
   "source": [
    "prosody_data = pd.read_csv('Prosodic_Features_MRH.csv',sep=\",\")\n",
    "#expr = pd.read_csv(expr_file, sep=\"\\t\")\n",
    "y = prosody_data['Hired3C'].values\n",
    "#36\n",
    "#X =prosody_data[['duration', 'energy', 'power', 'min_pitch', 'max_pitch', 'mean_pitch', 'pitch_sd', 'pitch_abs', 'pitch_quant', 'pitchUvsVRatio', 'Time:8', 'iDifference', 'diffPitchMaxMin', 'diffPitchMaxMean', 'diffPitchMaxMode', 'intensityMin', 'intensityMax', 'intensityMean', 'intensitySD', 'intensityQuant', 'diffIntMaxMin', 'diffIntMaxMean', 'diffIntMaxMode', 'avgVal1', 'avgVal2', 'avgVal3', 'avgBand1', 'avgBand2', 'avgBand3', 'fmean1', 'fmean2', 'fmean3', 'f2meanf1', 'f3meanf1', 'f1STD', 'f2STD']]\n",
    "#49\n",
    "X =prosody_data[['duration', 'energy', 'power', 'min_pitch', 'max_pitch', 'mean_pitch', 'pitch_sd', 'pitch_abs', 'pitch_quant', 'pitchUvsVRatio', 'Time:8', 'iDifference', 'diffPitchMaxMin', 'diffPitchMaxMean', 'diffPitchMaxMode', 'intensityMin', 'intensityMax', 'intensityMean', 'intensitySD', 'intensityQuant', 'diffIntMaxMin', 'diffIntMaxMean', 'diffIntMaxMode', 'avgVal1', 'avgVal2', 'avgVal3', 'avgBand1', 'avgBand2', 'avgBand3', 'fmean1', 'fmean2', 'fmean3', 'f2meanf1', 'f3meanf1', 'f1STD', 'f2STD', 'f3STD', 'f2STDf1', 'f2STDf2', 'jitter', 'shimmer', 'jitterRap', 'meanPeriod', 'percentUnvoiced', 'numVoiceBreaks', 'PercentBreaks', 'speakRate', 'numPause', 'maxDurPause']]\n",
    "#25X = prosody_data[['pitch_quant', 'meanPeriod', 'mean_pitch', 'fmean3', 'f3STD', 'f2STD', 'pitch_sd', 'shimmer', 'avgBand2', 'intensityMean', 'jitter', 'intensitySD', 'intensityQuant', 'jitterRap', 'f1STD', 'avgVal2', 'fmean2', 'PercentBreaks', 'AvgTotFall:3', 'f2STDf1', 'pitch_abs', 'f2STDf2', 'avgBand1', 'percentUnvoiced', 'AvgTotRis:3']]\n",
    "#X = prosody_data.iloc[:, 4:].values\n",
    "X_train, X_test, y_train, y_test = train_test_split(\n",
    "    X, y, test_size=0.1, random_state=23, stratify=y)\n",
    "X_train.shape"
   ]
  },
  {
   "cell_type": "code",
   "execution_count": 3,
   "id": "mexican-screening",
   "metadata": {},
   "outputs": [],
   "source": [
    "#parallel cocordinate graph\n",
    " "
   ]
  },
  {
   "cell_type": "markdown",
   "id": "appointed-conversation",
   "metadata": {},
   "source": [
    "ln = LogScaler()\n",
    "X_train_norm = ln.fit_transform(X_train)\n",
    "X_test_norm = ln.transform(X_test)\n",
    "X_train_norm"
   ]
  },
  {
   "cell_type": "markdown",
   "id": "forward-friend",
   "metadata": {},
   "source": [
    "from sklearn.preprocessing import MinMaxScaler\n",
    "scaler = MinMaxScaler()\n",
    "X_train_norm =  scaler.fit_transform(X_train)\n",
    "X_test_norm = scaler.transform(X_test)\n",
    "X_train_norm"
   ]
  },
  {
   "cell_type": "code",
   "execution_count": 4,
   "id": "vanilla-burden",
   "metadata": {},
   "outputs": [
    {
     "name": "stdout",
     "output_type": "stream",
     "text": [
      "680\n"
     ]
    }
   ],
   "source": [
    "imDict={}\n",
    "print(len(prosody_data))\n",
    "dim=(7,7)\n",
    "num_classes = 3\n",
    "x_imageSet=np.empty((len(prosody_data),dim[0],dim[1]))\n",
    "\n",
    "y_Set=np.empty((len(prosody_data),1))\n",
    "\n"
   ]
  },
  {
   "cell_type": "code",
   "execution_count": 5,
   "id": "infrared-biotechnology",
   "metadata": {},
   "outputs": [],
   "source": [
    "for index, row in X.iterrows():\n",
    "    mat = np.reshape(row.to_numpy(),(7,7))\n",
    "    x_imageSet[index]=mat\n",
    "    y_Set[index] = y[index]\n",
    "    imDict[index]=(x_imageSet[index],y_Set[index])\n",
    "   \n"
   ]
  },
  {
   "cell_type": "markdown",
   "id": "informal-coordinator",
   "metadata": {},
   "source": [
    "imDict"
   ]
  },
  {
   "cell_type": "code",
   "execution_count": 9,
   "id": "early-indonesia",
   "metadata": {},
   "outputs": [],
   "source": [
    "def load_data(imDict):\n",
    "    train_len = int(len(prosody_data)*0.8)\n",
    "    test_len =  len(prosody_data) - train_len\n",
    "    x_trainImSet=np.empty((train_len,dim[0],dim[1]))\n",
    "    x_testImSet=np.empty(( test_len,dim[0],dim[1]))\n",
    "    y_trainSet=np.zeros(train_len)\n",
    "    y_testSet=np.zeros(test_len)\n",
    "    for trnPi in range(train_len):\n",
    "        (x_trainImSet[trnPi],y_trainSet[trnPi])=imDict[trnPi]\n",
    "    \n",
    "    for testPi in range(test_len):\n",
    "        (x_testImSet[testPi],y_testSet[testPi])=imDict[testPi]\n",
    "    \n",
    "    x_trainImSet= x_trainImSet.astype('float32')\n",
    "    x_testImSet= x_testImSet.astype('float32')\n",
    "   \n",
    "    \n",
    "    # convert class vectors to matrices as binary\n",
    "    \n",
    "    y_trainSet= tensorflow.keras.utils.to_categorical(y_trainSet, num_classes)\n",
    "    y_testSet= tensorflow.keras.utils.to_categorical(y_testSet, num_classes)\n",
    "    \n",
    "    return (x_trainImSet,y_trainSet), (x_testImSet,y_testSet)"
   ]
  },
  {
   "cell_type": "code",
   "execution_count": 10,
   "id": "analyzed-burning",
   "metadata": {},
   "outputs": [
    {
     "data": {
      "text/plain": [
       "((544, 7, 7), (544, 3), (136, 7, 7), (136, 3))"
      ]
     },
     "execution_count": 10,
     "metadata": {},
     "output_type": "execute_result"
    }
   ],
   "source": [
    "(X_train,y_train) , (X_test,y_test) = load_data(imDict)\n",
    "X_train.shape,y_train.shape,X_test.shape,y_test.shape"
   ]
  },
  {
   "cell_type": "code",
   "execution_count": 11,
   "id": "stunning-bahamas",
   "metadata": {},
   "outputs": [],
   "source": [
    "train_X = X_train.reshape(544, 7, 7,1)\n",
    "valid_X = X_test.reshape(136, 7, 7,1)\n",
    "train_label = y_train.reshape(544,3)\n",
    "valid_label = y_test.reshape(136,3)"
   ]
  },
  {
   "cell_type": "code",
   "execution_count": 12,
   "id": "directed-enhancement",
   "metadata": {},
   "outputs": [
    {
     "data": {
      "text/plain": [
       "((544, 7, 7, 1), (136, 7, 7, 1), (544, 3), (136, 3))"
      ]
     },
     "execution_count": 12,
     "metadata": {},
     "output_type": "execute_result"
    }
   ],
   "source": [
    "train_X.shape,valid_X.shape,train_label.shape,valid_label.shape"
   ]
  },
  {
   "cell_type": "code",
   "execution_count": 13,
   "id": "jewish-consolidation",
   "metadata": {},
   "outputs": [],
   "source": [
    "batch_size = 64\n",
    "epochs = 50\n",
    "num_classes = 3"
   ]
  },
  {
   "cell_type": "code",
   "execution_count": 14,
   "id": "quick-tennessee",
   "metadata": {},
   "outputs": [
    {
     "name": "stdout",
     "output_type": "stream",
     "text": [
      "Model: \"sequential\"\n",
      "_________________________________________________________________\n",
      "Layer (type)                 Output Shape              Param #   \n",
      "=================================================================\n",
      "conv2d (Conv2D)              (None, 7, 7, 32)          320       \n",
      "_________________________________________________________________\n",
      "leaky_re_lu (LeakyReLU)      (None, 7, 7, 32)          0         \n",
      "_________________________________________________________________\n",
      "max_pooling2d (MaxPooling2D) (None, 4, 4, 32)          0         \n",
      "_________________________________________________________________\n",
      "conv2d_1 (Conv2D)            (None, 4, 4, 64)          18496     \n",
      "_________________________________________________________________\n",
      "leaky_re_lu_1 (LeakyReLU)    (None, 4, 4, 64)          0         \n",
      "_________________________________________________________________\n",
      "max_pooling2d_1 (MaxPooling2 (None, 2, 2, 64)          0         \n",
      "_________________________________________________________________\n",
      "conv2d_2 (Conv2D)            (None, 2, 2, 128)         73856     \n",
      "_________________________________________________________________\n",
      "leaky_re_lu_2 (LeakyReLU)    (None, 2, 2, 128)         0         \n",
      "_________________________________________________________________\n",
      "max_pooling2d_2 (MaxPooling2 (None, 1, 1, 128)         0         \n",
      "_________________________________________________________________\n",
      "flatten (Flatten)            (None, 128)               0         \n",
      "_________________________________________________________________\n",
      "dense (Dense)                (None, 128)               16512     \n",
      "_________________________________________________________________\n",
      "leaky_re_lu_3 (LeakyReLU)    (None, 128)               0         \n",
      "_________________________________________________________________\n",
      "dense_1 (Dense)              (None, 3)                 387       \n",
      "=================================================================\n",
      "Total params: 109,571\n",
      "Trainable params: 109,571\n",
      "Non-trainable params: 0\n",
      "_________________________________________________________________\n",
      "Epoch 1/50\n",
      "9/9 [==============================] - 0s 37ms/step - loss: 86.7181 - accuracy: 0.3051 - val_loss: 35.9526 - val_accuracy: 0.2647\n",
      "Epoch 2/50\n",
      "9/9 [==============================] - 0s 10ms/step - loss: 34.5694 - accuracy: 0.3235 - val_loss: 46.7103 - val_accuracy: 0.2647\n",
      "Epoch 3/50\n",
      "9/9 [==============================] - 0s 9ms/step - loss: 19.2367 - accuracy: 0.3199 - val_loss: 11.4259 - val_accuracy: 0.4044\n",
      "Epoch 4/50\n",
      "9/9 [==============================] - 0s 9ms/step - loss: 5.3779 - accuracy: 0.3180 - val_loss: 2.7204 - val_accuracy: 0.4044\n",
      "Epoch 5/50\n",
      "9/9 [==============================] - 0s 9ms/step - loss: 2.6238 - accuracy: 0.3732 - val_loss: 3.6634 - val_accuracy: 0.3235\n",
      "Epoch 6/50\n",
      "9/9 [==============================] - 0s 10ms/step - loss: 2.5647 - accuracy: 0.3529 - val_loss: 2.1499 - val_accuracy: 0.4044\n",
      "Epoch 7/50\n",
      "9/9 [==============================] - 0s 11ms/step - loss: 2.0853 - accuracy: 0.3897 - val_loss: 3.4705 - val_accuracy: 0.2647\n",
      "Epoch 8/50\n",
      "9/9 [==============================] - 0s 10ms/step - loss: 1.4597 - accuracy: 0.4669 - val_loss: 1.6440 - val_accuracy: 0.3750\n",
      "Epoch 9/50\n",
      "9/9 [==============================] - 0s 9ms/step - loss: 1.1241 - accuracy: 0.5018 - val_loss: 1.8307 - val_accuracy: 0.3824\n",
      "Epoch 10/50\n",
      "9/9 [==============================] - 0s 9ms/step - loss: 1.9026 - accuracy: 0.3989 - val_loss: 1.5937 - val_accuracy: 0.4338\n",
      "Epoch 11/50\n",
      "9/9 [==============================] - 0s 10ms/step - loss: 1.6468 - accuracy: 0.4412 - val_loss: 2.8534 - val_accuracy: 0.4118\n",
      "Epoch 12/50\n",
      "9/9 [==============================] - 0s 9ms/step - loss: 1.8477 - accuracy: 0.4522 - val_loss: 2.3293 - val_accuracy: 0.3971\n",
      "Epoch 13/50\n",
      "9/9 [==============================] - 0s 9ms/step - loss: 2.0451 - accuracy: 0.4081 - val_loss: 1.3212 - val_accuracy: 0.4191\n",
      "Epoch 14/50\n",
      "9/9 [==============================] - 0s 9ms/step - loss: 2.7170 - accuracy: 0.3511 - val_loss: 4.6604 - val_accuracy: 0.4044\n",
      "Epoch 15/50\n",
      "9/9 [==============================] - 0s 9ms/step - loss: 3.9210 - accuracy: 0.4044 - val_loss: 3.5517 - val_accuracy: 0.3015\n",
      "Epoch 16/50\n",
      "9/9 [==============================] - 0s 10ms/step - loss: 3.3319 - accuracy: 0.3915 - val_loss: 1.6182 - val_accuracy: 0.4191\n",
      "Epoch 17/50\n",
      "9/9 [==============================] - 0s 10ms/step - loss: 2.4028 - accuracy: 0.3842 - val_loss: 1.7370 - val_accuracy: 0.4632\n",
      "Epoch 18/50\n",
      "9/9 [==============================] - 0s 9ms/step - loss: 1.6479 - accuracy: 0.4430 - val_loss: 1.8990 - val_accuracy: 0.3456\n",
      "Epoch 19/50\n",
      "9/9 [==============================] - 0s 10ms/step - loss: 1.5900 - accuracy: 0.4522 - val_loss: 1.7228 - val_accuracy: 0.4338\n",
      "Epoch 20/50\n",
      "9/9 [==============================] - 0s 10ms/step - loss: 1.4516 - accuracy: 0.4890 - val_loss: 1.9814 - val_accuracy: 0.4265\n",
      "Epoch 21/50\n",
      "9/9 [==============================] - 0s 10ms/step - loss: 2.0081 - accuracy: 0.4044 - val_loss: 2.2562 - val_accuracy: 0.4338\n",
      "Epoch 22/50\n",
      "9/9 [==============================] - 0s 9ms/step - loss: 1.3782 - accuracy: 0.4890 - val_loss: 1.1971 - val_accuracy: 0.3971\n",
      "Epoch 23/50\n",
      "9/9 [==============================] - 0s 10ms/step - loss: 1.1269 - accuracy: 0.5349 - val_loss: 1.3299 - val_accuracy: 0.3750\n",
      "Epoch 24/50\n",
      "9/9 [==============================] - 0s 9ms/step - loss: 1.0518 - accuracy: 0.5110 - val_loss: 1.0804 - val_accuracy: 0.4265\n",
      "Epoch 25/50\n",
      "9/9 [==============================] - 0s 10ms/step - loss: 1.1106 - accuracy: 0.4743 - val_loss: 2.0323 - val_accuracy: 0.3235\n",
      "Epoch 26/50\n",
      "9/9 [==============================] - 0s 9ms/step - loss: 1.2998 - accuracy: 0.4614 - val_loss: 1.4314 - val_accuracy: 0.4044\n",
      "Epoch 27/50\n",
      "9/9 [==============================] - 0s 10ms/step - loss: 1.9769 - accuracy: 0.3915 - val_loss: 1.4061 - val_accuracy: 0.3897\n",
      "Epoch 28/50\n",
      "9/9 [==============================] - 0s 9ms/step - loss: 1.4479 - accuracy: 0.4191 - val_loss: 1.4875 - val_accuracy: 0.4485\n",
      "Epoch 29/50\n",
      "9/9 [==============================] - 0s 9ms/step - loss: 1.2625 - accuracy: 0.4816 - val_loss: 1.3450 - val_accuracy: 0.4338\n",
      "Epoch 30/50\n",
      "9/9 [==============================] - 0s 9ms/step - loss: 1.0945 - accuracy: 0.5184 - val_loss: 1.1622 - val_accuracy: 0.4485\n",
      "Epoch 31/50\n",
      "9/9 [==============================] - 0s 9ms/step - loss: 1.2725 - accuracy: 0.4467 - val_loss: 1.1290 - val_accuracy: 0.4485\n",
      "Epoch 32/50\n",
      "9/9 [==============================] - 0s 9ms/step - loss: 1.0716 - accuracy: 0.4945 - val_loss: 1.3175 - val_accuracy: 0.4044\n",
      "Epoch 33/50\n",
      "9/9 [==============================] - 0s 9ms/step - loss: 1.0532 - accuracy: 0.5294 - val_loss: 1.2033 - val_accuracy: 0.3750\n",
      "Epoch 34/50\n",
      "9/9 [==============================] - 0s 10ms/step - loss: 0.9866 - accuracy: 0.5386 - val_loss: 1.2051 - val_accuracy: 0.4706\n",
      "Epoch 35/50\n",
      "9/9 [==============================] - 0s 9ms/step - loss: 1.0170 - accuracy: 0.5092 - val_loss: 1.5548 - val_accuracy: 0.4485\n",
      "Epoch 36/50\n",
      "9/9 [==============================] - 0s 9ms/step - loss: 1.1903 - accuracy: 0.4816 - val_loss: 1.4144 - val_accuracy: 0.4044\n",
      "Epoch 37/50\n",
      "9/9 [==============================] - 0s 9ms/step - loss: 1.1456 - accuracy: 0.4890 - val_loss: 1.2771 - val_accuracy: 0.3897\n",
      "Epoch 38/50\n",
      "9/9 [==============================] - 0s 9ms/step - loss: 0.9838 - accuracy: 0.5368 - val_loss: 1.1082 - val_accuracy: 0.4191\n",
      "Epoch 39/50\n",
      "9/9 [==============================] - 0s 9ms/step - loss: 0.9287 - accuracy: 0.5588 - val_loss: 1.6276 - val_accuracy: 0.4191\n",
      "Epoch 40/50\n",
      "9/9 [==============================] - 0s 9ms/step - loss: 1.2028 - accuracy: 0.5092 - val_loss: 1.1736 - val_accuracy: 0.4485\n",
      "Epoch 41/50\n",
      "9/9 [==============================] - 0s 9ms/step - loss: 1.1578 - accuracy: 0.4706 - val_loss: 1.5693 - val_accuracy: 0.3824\n",
      "Epoch 42/50\n",
      "9/9 [==============================] - 0s 9ms/step - loss: 1.1470 - accuracy: 0.4816 - val_loss: 1.8024 - val_accuracy: 0.3382\n",
      "Epoch 43/50\n",
      "9/9 [==============================] - 0s 9ms/step - loss: 1.2498 - accuracy: 0.4393 - val_loss: 1.3078 - val_accuracy: 0.4559\n",
      "Epoch 44/50\n",
      "9/9 [==============================] - 0s 9ms/step - loss: 1.1640 - accuracy: 0.5184 - val_loss: 1.3301 - val_accuracy: 0.3897\n"
     ]
    },
    {
     "name": "stdout",
     "output_type": "stream",
     "text": [
      "Epoch 45/50\n",
      "9/9 [==============================] - 0s 9ms/step - loss: 0.9975 - accuracy: 0.5184 - val_loss: 1.0963 - val_accuracy: 0.4779\n",
      "Epoch 46/50\n",
      "9/9 [==============================] - 0s 8ms/step - loss: 1.0198 - accuracy: 0.5147 - val_loss: 1.1529 - val_accuracy: 0.4338\n",
      "Epoch 47/50\n",
      "9/9 [==============================] - 0s 8ms/step - loss: 1.1824 - accuracy: 0.4926 - val_loss: 2.1060 - val_accuracy: 0.4118\n",
      "Epoch 48/50\n",
      "9/9 [==============================] - 0s 9ms/step - loss: 1.3478 - accuracy: 0.4688 - val_loss: 1.4988 - val_accuracy: 0.4265\n",
      "Epoch 49/50\n",
      "9/9 [==============================] - 0s 9ms/step - loss: 1.3856 - accuracy: 0.4393 - val_loss: 1.3908 - val_accuracy: 0.4706\n",
      "Epoch 50/50\n",
      "9/9 [==============================] - 0s 9ms/step - loss: 1.2470 - accuracy: 0.4835 - val_loss: 1.1262 - val_accuracy: 0.4853\n",
      "3/3 [==============================] - 0s 2ms/step - loss: 1.1262 - accuracy: 0.4853\n",
      "[INFO] accuracy: 48.53%\n",
      "[INFO] Loss: 1.1261557340621948\n",
      "Time:  0:00:05.860060\n"
     ]
    }
   ],
   "source": [
    "\n",
    "\n",
    "import datetime\n",
    "start = datetime.datetime.now()\n",
    "\n",
    "fashion_model = Sequential()\n",
    "fashion_model.add(Conv2D(32, kernel_size=(3, 3),activation='linear',input_shape=(7,7,1),padding='same'))\n",
    "fashion_model.add(LeakyReLU(alpha=0.1))\n",
    "fashion_model.add(MaxPooling2D((2, 2),padding='same'))\n",
    "fashion_model.add(Conv2D(64, (3, 3), activation='linear',padding='same'))\n",
    "fashion_model.add(LeakyReLU(alpha=0.1))\n",
    "fashion_model.add(MaxPooling2D(pool_size=(2, 2),padding='same'))\n",
    "fashion_model.add(Conv2D(128, (3, 3), activation='linear',padding='same'))\n",
    "fashion_model.add(LeakyReLU(alpha=0.1))                  \n",
    "fashion_model.add(MaxPooling2D(pool_size=(2, 2),padding='same'))\n",
    "fashion_model.add(Flatten())\n",
    "fashion_model.add(Dense(128, activation='linear'))\n",
    "fashion_model.add(LeakyReLU(alpha=0.1))                  \n",
    "fashion_model.add(Dense(num_classes, activation='softmax'))\n",
    "\n",
    "fashion_model.compile(loss=tensorflow.keras.losses.categorical_crossentropy, optimizer=tensorflow.keras.optimizers.Adam(),metrics=['accuracy'])\n",
    "fashion_model.summary()\n",
    "\n",
    "fashion_train = fashion_model.fit(train_X, train_label, batch_size=batch_size,epochs=epochs,verbose=1,validation_data=(valid_X, valid_label))\n",
    "(loss, accuracy) = fashion_model.evaluate( \n",
    "    valid_X, valid_label, batch_size=batch_size,     verbose=1)\n",
    "print(\"[INFO] accuracy: {:.2f}%\".format(accuracy * 100)) \n",
    "print(\"[INFO] Loss: {}\".format(loss)) \n",
    "end= datetime.datetime.now()\n",
    "elapsed= end-start\n",
    "print ('Time: ', elapsed)"
   ]
  }
 ],
 "metadata": {
  "kernelspec": {
   "display_name": "Python 3",
   "language": "python",
   "name": "python3"
  },
  "language_info": {
   "codemirror_mode": {
    "name": "ipython",
    "version": 3
   },
   "file_extension": ".py",
   "mimetype": "text/x-python",
   "name": "python",
   "nbconvert_exporter": "python",
   "pygments_lexer": "ipython3",
   "version": "3.8.8"
  }
 },
 "nbformat": 4,
 "nbformat_minor": 5
}
