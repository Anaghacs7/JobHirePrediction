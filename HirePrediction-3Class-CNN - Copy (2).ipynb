{
 "cells": [
  {
   "cell_type": "code",
   "execution_count": 1,
   "id": "favorite-sellers",
   "metadata": {},
   "outputs": [],
   "source": [
    "from pyDeepInsight import ImageTransformer, LogScaler\n",
    "from sklearn.model_selection import train_test_split\n",
    "import pandas as pd\n",
    "import numpy as np\n",
    "import tensorflow.keras\n",
    "from tensorflow.keras.models import Sequential,Model\n",
    "from tensorflow.keras.layers import Input\n",
    "from tensorflow.keras.layers import Dense, Dropout, Flatten\n",
    "from tensorflow.keras.layers import Conv2D, MaxPooling2D\n",
    "from tensorflow.keras.layers import BatchNormalization\n",
    "from tensorflow.keras.layers import LeakyReLU\n",
    "from tensorflow.keras import optimizers\n",
    "from tensorflow.keras.utils import to_categorical\n",
    "\n",
    "from matplotlib import pyplot as plt\n",
    "import seaborn as sns"
   ]
  },
  {
   "cell_type": "code",
   "execution_count": 2,
   "id": "popular-london",
   "metadata": {},
   "outputs": [
    {
     "data": {
      "text/plain": [
       "(612, 49)"
      ]
     },
     "execution_count": 2,
     "metadata": {},
     "output_type": "execute_result"
    }
   ],
   "source": [
    "prosody_data = pd.read_csv('Prosodic_Features_MRH.csv',sep=\",\")\n",
    "#expr = pd.read_csv(expr_file, sep=\"\\t\")\n",
    "y = prosody_data['Hired3C'].values\n",
    "#36\n",
    "#X =prosody_data[['duration', 'energy', 'power', 'min_pitch', 'max_pitch', 'mean_pitch', 'pitch_sd', 'pitch_abs', 'pitch_quant', 'pitchUvsVRatio', 'Time:8', 'iDifference', 'diffPitchMaxMin', 'diffPitchMaxMean', 'diffPitchMaxMode', 'intensityMin', 'intensityMax', 'intensityMean', 'intensitySD', 'intensityQuant', 'diffIntMaxMin', 'diffIntMaxMean', 'diffIntMaxMode', 'avgVal1', 'avgVal2', 'avgVal3', 'avgBand1', 'avgBand2', 'avgBand3', 'fmean1', 'fmean2', 'fmean3', 'f2meanf1', 'f3meanf1', 'f1STD', 'f2STD']]\n",
    "#49\n",
    "X =prosody_data[['duration', 'energy', 'power', 'min_pitch', 'max_pitch', 'mean_pitch', 'pitch_sd', 'pitch_abs', 'pitch_quant', 'pitchUvsVRatio', 'Time:8', 'iDifference', 'diffPitchMaxMin', 'diffPitchMaxMean', 'diffPitchMaxMode', 'intensityMin', 'intensityMax', 'intensityMean', 'intensitySD', 'intensityQuant', 'diffIntMaxMin', 'diffIntMaxMean', 'diffIntMaxMode', 'avgVal1', 'avgVal2', 'avgVal3', 'avgBand1', 'avgBand2', 'avgBand3', 'fmean1', 'fmean2', 'fmean3', 'f2meanf1', 'f3meanf1', 'f1STD', 'f2STD', 'f3STD', 'f2STDf1', 'f2STDf2', 'jitter', 'shimmer', 'jitterRap', 'meanPeriod', 'percentUnvoiced', 'numVoiceBreaks', 'PercentBreaks', 'speakRate', 'numPause', 'maxDurPause']]\n",
    "#25X = prosody_data[['pitch_quant', 'meanPeriod', 'mean_pitch', 'fmean3', 'f3STD', 'f2STD', 'pitch_sd', 'shimmer', 'avgBand2', 'intensityMean', 'jitter', 'intensitySD', 'intensityQuant', 'jitterRap', 'f1STD', 'avgVal2', 'fmean2', 'PercentBreaks', 'AvgTotFall:3', 'f2STDf1', 'pitch_abs', 'f2STDf2', 'avgBand1', 'percentUnvoiced', 'AvgTotRis:3']]\n",
    "#X = prosody_data.iloc[:, 4:].values\n",
    "X_train, X_test, y_train, y_test = train_test_split(\n",
    "    X, y, test_size=0.1, random_state=23, stratify=y)\n",
    "X_train.shape"
   ]
  },
  {
   "cell_type": "code",
   "execution_count": 3,
   "id": "judicial-costume",
   "metadata": {},
   "outputs": [],
   "source": [
    "#parallel cocordinate graph\n",
    " "
   ]
  },
  {
   "cell_type": "markdown",
   "id": "expired-brunswick",
   "metadata": {},
   "source": [
    "ln = LogScaler()\n",
    "X_train_norm = ln.fit_transform(X_train)\n",
    "X_test_norm = ln.transform(X_test)\n",
    "X_train_norm"
   ]
  },
  {
   "cell_type": "markdown",
   "id": "forward-friend",
   "metadata": {},
   "source": [
    "from sklearn.preprocessing import MinMaxScaler\n",
    "scaler = MinMaxScaler()\n",
    "X_train_norm =  scaler.fit_transform(X_train)\n",
    "X_test_norm = scaler.transform(X_test)\n",
    "X_train_norm"
   ]
  },
  {
   "cell_type": "code",
   "execution_count": 4,
   "id": "vanilla-burden",
   "metadata": {},
   "outputs": [
    {
     "name": "stdout",
     "output_type": "stream",
     "text": [
      "680\n"
     ]
    }
   ],
   "source": [
    "imDict={}\n",
    "print(len(prosody_data))\n",
    "dim=(7,7)\n",
    "num_classes = 3\n",
    "x_imageSet=np.empty((len(prosody_data),dim[0],dim[1]))\n",
    "\n",
    "y_Set=np.empty((len(prosody_data),1))\n",
    "\n"
   ]
  },
  {
   "cell_type": "code",
   "execution_count": 5,
   "id": "infrared-biotechnology",
   "metadata": {},
   "outputs": [],
   "source": [
    "for index, row in X.iterrows():\n",
    "    mat = np.reshape(row.to_numpy(),(7,7))\n",
    "    x_imageSet[index]=mat\n",
    "    y_Set[index] = y[index]\n",
    "    imDict[index]=(x_imageSet[index],y_Set[index])\n",
    "   \n"
   ]
  },
  {
   "cell_type": "markdown",
   "id": "informal-coordinator",
   "metadata": {},
   "source": [
    "imDict"
   ]
  },
  {
   "cell_type": "code",
   "execution_count": 6,
   "id": "early-indonesia",
   "metadata": {},
   "outputs": [],
   "source": [
    "def load_data(imDict):\n",
    "    train_len = int(len(prosody_data)*0.8)\n",
    "    test_len =  len(prosody_data) - train_len\n",
    "    x_trainImSet=np.empty((train_len,dim[0],dim[1]))\n",
    "    x_testImSet=np.empty(( test_len,dim[0],dim[1]))\n",
    "    y_trainSet=np.zeros(train_len)\n",
    "    y_testSet=np.zeros(test_len)\n",
    "    for trnPi in range(train_len):\n",
    "        (x_trainImSet[trnPi],y_trainSet[trnPi])=imDict[trnPi]\n",
    "    \n",
    "    for testPi in range(test_len):\n",
    "        (x_testImSet[testPi],y_testSet[testPi])=imDict[testPi]\n",
    "    \n",
    "    x_trainImSet= x_trainImSet.astype('float32')\n",
    "    x_testImSet= x_testImSet.astype('float32')\n",
    "   \n",
    "    \n",
    "    # convert class vectors to matrices as binary\n",
    "    \n",
    "    y_trainSet= tensorflow.keras.utils.to_categorical(y_trainSet, num_classes)\n",
    "    y_testSet= tensorflow.keras.utils.to_categorical(y_testSet, num_classes)\n",
    "    \n",
    "    return (x_trainImSet,y_trainSet), (x_testImSet,y_testSet)"
   ]
  },
  {
   "cell_type": "code",
   "execution_count": 7,
   "id": "analyzed-burning",
   "metadata": {},
   "outputs": [
    {
     "data": {
      "text/plain": [
       "((544, 7, 7), (544, 3), (136, 7, 7), (136, 3))"
      ]
     },
     "execution_count": 7,
     "metadata": {},
     "output_type": "execute_result"
    }
   ],
   "source": [
    "(X_train,y_train) , (X_test,y_test) = load_data(imDict)\n",
    "X_train.shape,y_train.shape,X_test.shape,y_test.shape"
   ]
  },
  {
   "cell_type": "code",
   "execution_count": 8,
   "id": "stunning-bahamas",
   "metadata": {},
   "outputs": [],
   "source": [
    "train_X = X_train.reshape(544, 7, 7,1)\n",
    "valid_X = X_test.reshape(136, 7, 7,1)\n",
    "train_label = y_train.reshape(544,3)\n",
    "valid_label = y_test.reshape(136,3)"
   ]
  },
  {
   "cell_type": "code",
   "execution_count": 9,
   "id": "directed-enhancement",
   "metadata": {},
   "outputs": [
    {
     "data": {
      "text/plain": [
       "((544, 7, 7, 1), (136, 7, 7, 1), (544, 3), (136, 3))"
      ]
     },
     "execution_count": 9,
     "metadata": {},
     "output_type": "execute_result"
    }
   ],
   "source": [
    "train_X.shape,valid_X.shape,train_label.shape,valid_label.shape"
   ]
  },
  {
   "cell_type": "code",
   "execution_count": 10,
   "id": "jewish-consolidation",
   "metadata": {},
   "outputs": [],
   "source": [
    "batch_size = 64\n",
    "epochs = 50\n",
    "num_classes = 3"
   ]
  },
  {
   "cell_type": "code",
   "execution_count": 11,
   "id": "quick-tennessee",
   "metadata": {},
   "outputs": [
    {
     "name": "stdout",
     "output_type": "stream",
     "text": [
      "Model: \"sequential\"\n",
      "_________________________________________________________________\n",
      "Layer (type)                 Output Shape              Param #   \n",
      "=================================================================\n",
      "conv2d (Conv2D)              (None, 7, 7, 32)          320       \n",
      "_________________________________________________________________\n",
      "leaky_re_lu (LeakyReLU)      (None, 7, 7, 32)          0         \n",
      "_________________________________________________________________\n",
      "max_pooling2d (MaxPooling2D) (None, 4, 4, 32)          0         \n",
      "_________________________________________________________________\n",
      "conv2d_1 (Conv2D)            (None, 4, 4, 64)          18496     \n",
      "_________________________________________________________________\n",
      "leaky_re_lu_1 (LeakyReLU)    (None, 4, 4, 64)          0         \n",
      "_________________________________________________________________\n",
      "max_pooling2d_1 (MaxPooling2 (None, 2, 2, 64)          0         \n",
      "_________________________________________________________________\n",
      "conv2d_2 (Conv2D)            (None, 2, 2, 128)         73856     \n",
      "_________________________________________________________________\n",
      "leaky_re_lu_2 (LeakyReLU)    (None, 2, 2, 128)         0         \n",
      "_________________________________________________________________\n",
      "max_pooling2d_2 (MaxPooling2 (None, 1, 1, 128)         0         \n",
      "_________________________________________________________________\n",
      "flatten (Flatten)            (None, 128)               0         \n",
      "_________________________________________________________________\n",
      "dense (Dense)                (None, 128)               16512     \n",
      "_________________________________________________________________\n",
      "leaky_re_lu_3 (LeakyReLU)    (None, 128)               0         \n",
      "_________________________________________________________________\n",
      "dense_1 (Dense)              (None, 3)                 387       \n",
      "=================================================================\n",
      "Total params: 109,571\n",
      "Trainable params: 109,571\n",
      "Non-trainable params: 0\n",
      "_________________________________________________________________\n",
      "Epoch 1/50\n",
      "9/9 [==============================] - 0s 35ms/step - loss: 81.9425 - accuracy: 0.3033 - val_loss: 41.1922 - val_accuracy: 0.2647\n",
      "Epoch 2/50\n",
      "9/9 [==============================] - 0s 10ms/step - loss: 20.0647 - accuracy: 0.3493 - val_loss: 13.7698 - val_accuracy: 0.2647\n",
      "Epoch 3/50\n",
      "9/9 [==============================] - 0s 9ms/step - loss: 10.8302 - accuracy: 0.3566 - val_loss: 7.5153 - val_accuracy: 0.3897\n",
      "Epoch 4/50\n",
      "9/9 [==============================] - 0s 10ms/step - loss: 8.6800 - accuracy: 0.3603 - val_loss: 14.1958 - val_accuracy: 0.4044\n",
      "Epoch 5/50\n",
      "9/9 [==============================] - 0s 11ms/step - loss: 13.6535 - accuracy: 0.3548 - val_loss: 14.6728 - val_accuracy: 0.4044\n",
      "Epoch 6/50\n",
      "9/9 [==============================] - 0s 10ms/step - loss: 8.2649 - accuracy: 0.3088 - val_loss: 5.7167 - val_accuracy: 0.3309\n",
      "Epoch 7/50\n",
      "9/9 [==============================] - 0s 10ms/step - loss: 7.6581 - accuracy: 0.3217 - val_loss: 6.5008 - val_accuracy: 0.3603\n",
      "Epoch 8/50\n",
      "9/9 [==============================] - 0s 8ms/step - loss: 5.8460 - accuracy: 0.3603 - val_loss: 6.2415 - val_accuracy: 0.3309\n",
      "Epoch 9/50\n",
      "9/9 [==============================] - 0s 9ms/step - loss: 4.5369 - accuracy: 0.3824 - val_loss: 4.6552 - val_accuracy: 0.2721\n",
      "Epoch 10/50\n",
      "9/9 [==============================] - 0s 9ms/step - loss: 2.9247 - accuracy: 0.3952 - val_loss: 1.6196 - val_accuracy: 0.4044\n",
      "Epoch 11/50\n",
      "9/9 [==============================] - 0s 9ms/step - loss: 1.7821 - accuracy: 0.4614 - val_loss: 2.1898 - val_accuracy: 0.4338\n",
      "Epoch 12/50\n",
      "9/9 [==============================] - 0s 9ms/step - loss: 1.7593 - accuracy: 0.4320 - val_loss: 2.5390 - val_accuracy: 0.3750\n",
      "Epoch 13/50\n",
      "9/9 [==============================] - 0s 9ms/step - loss: 1.7557 - accuracy: 0.4210 - val_loss: 1.4527 - val_accuracy: 0.4265\n",
      "Epoch 14/50\n",
      "9/9 [==============================] - 0s 10ms/step - loss: 1.4889 - accuracy: 0.4724 - val_loss: 2.3643 - val_accuracy: 0.3088\n",
      "Epoch 15/50\n",
      "9/9 [==============================] - 0s 10ms/step - loss: 1.6471 - accuracy: 0.4191 - val_loss: 2.1886 - val_accuracy: 0.4338\n",
      "Epoch 16/50\n",
      "9/9 [==============================] - 0s 11ms/step - loss: 1.6054 - accuracy: 0.4540 - val_loss: 1.3330 - val_accuracy: 0.4044\n",
      "Epoch 17/50\n",
      "9/9 [==============================] - 0s 11ms/step - loss: 1.0825 - accuracy: 0.5331 - val_loss: 1.2793 - val_accuracy: 0.3897\n",
      "Epoch 18/50\n",
      "9/9 [==============================] - 0s 12ms/step - loss: 1.1042 - accuracy: 0.5037 - val_loss: 1.2962 - val_accuracy: 0.3897\n",
      "Epoch 19/50\n",
      "9/9 [==============================] - 0s 13ms/step - loss: 1.1412 - accuracy: 0.4853 - val_loss: 1.3987 - val_accuracy: 0.4191\n",
      "Epoch 20/50\n",
      "9/9 [==============================] - 0s 14ms/step - loss: 1.1073 - accuracy: 0.4871 - val_loss: 1.2582 - val_accuracy: 0.4412\n",
      "Epoch 21/50\n",
      "9/9 [==============================] - 0s 17ms/step - loss: 1.1270 - accuracy: 0.4743 - val_loss: 1.6593 - val_accuracy: 0.4118\n",
      "Epoch 22/50\n",
      "9/9 [==============================] - 0s 23ms/step - loss: 1.1657 - accuracy: 0.4926 - val_loss: 1.3358 - val_accuracy: 0.4485\n",
      "Epoch 23/50\n",
      "9/9 [==============================] - 0s 33ms/step - loss: 1.1724 - accuracy: 0.4779 - val_loss: 1.6170 - val_accuracy: 0.4118\n",
      "Epoch 24/50\n",
      "9/9 [==============================] - 0s 31ms/step - loss: 1.0437 - accuracy: 0.5239 - val_loss: 1.2501 - val_accuracy: 0.4338\n",
      "Epoch 25/50\n",
      "9/9 [==============================] - 0s 31ms/step - loss: 0.9938 - accuracy: 0.5662 - val_loss: 1.3545 - val_accuracy: 0.3971\n",
      "Epoch 26/50\n",
      "9/9 [==============================] - 0s 27ms/step - loss: 1.1294 - accuracy: 0.5018 - val_loss: 1.3702 - val_accuracy: 0.4265\n",
      "Epoch 27/50\n",
      "9/9 [==============================] - 0s 24ms/step - loss: 1.1435 - accuracy: 0.4890 - val_loss: 1.3696 - val_accuracy: 0.3824\n",
      "Epoch 28/50\n",
      "9/9 [==============================] - 0s 25ms/step - loss: 1.2178 - accuracy: 0.4761 - val_loss: 1.8516 - val_accuracy: 0.3750\n",
      "Epoch 29/50\n",
      "9/9 [==============================] - 0s 20ms/step - loss: 1.7813 - accuracy: 0.3952 - val_loss: 1.6352 - val_accuracy: 0.3456\n",
      "Epoch 30/50\n",
      "9/9 [==============================] - 0s 16ms/step - loss: 1.3481 - accuracy: 0.4357 - val_loss: 1.8246 - val_accuracy: 0.3309\n",
      "Epoch 31/50\n",
      "9/9 [==============================] - 0s 15ms/step - loss: 1.4299 - accuracy: 0.4779 - val_loss: 1.7198 - val_accuracy: 0.4191\n",
      "Epoch 32/50\n",
      "9/9 [==============================] - 0s 14ms/step - loss: 1.4843 - accuracy: 0.4412 - val_loss: 1.1587 - val_accuracy: 0.4191\n",
      "Epoch 33/50\n",
      "9/9 [==============================] - 0s 13ms/step - loss: 1.4073 - accuracy: 0.4743 - val_loss: 2.3252 - val_accuracy: 0.3529\n",
      "Epoch 34/50\n",
      "9/9 [==============================] - 0s 14ms/step - loss: 1.5865 - accuracy: 0.4467 - val_loss: 1.5697 - val_accuracy: 0.3750\n",
      "Epoch 35/50\n",
      "9/9 [==============================] - 0s 15ms/step - loss: 1.4459 - accuracy: 0.4338 - val_loss: 1.3448 - val_accuracy: 0.3824\n",
      "Epoch 36/50\n",
      "9/9 [==============================] - 0s 14ms/step - loss: 1.1242 - accuracy: 0.4963 - val_loss: 1.3073 - val_accuracy: 0.4632\n",
      "Epoch 37/50\n",
      "9/9 [==============================] - 0s 14ms/step - loss: 1.0861 - accuracy: 0.5092 - val_loss: 1.3349 - val_accuracy: 0.4118\n",
      "Epoch 38/50\n",
      "9/9 [==============================] - 0s 17ms/step - loss: 1.1320 - accuracy: 0.4908 - val_loss: 1.1905 - val_accuracy: 0.4191\n",
      "Epoch 39/50\n",
      "9/9 [==============================] - 0s 15ms/step - loss: 1.3402 - accuracy: 0.4743 - val_loss: 1.7798 - val_accuracy: 0.3750\n",
      "Epoch 40/50\n",
      "9/9 [==============================] - 0s 15ms/step - loss: 1.3647 - accuracy: 0.4540 - val_loss: 2.3689 - val_accuracy: 0.3971\n",
      "Epoch 41/50\n",
      "9/9 [==============================] - 0s 15ms/step - loss: 2.0202 - accuracy: 0.4412 - val_loss: 2.1146 - val_accuracy: 0.4559\n",
      "Epoch 42/50\n",
      "9/9 [==============================] - 0s 15ms/step - loss: 1.3012 - accuracy: 0.4651 - val_loss: 1.6201 - val_accuracy: 0.3897\n",
      "Epoch 43/50\n",
      "9/9 [==============================] - 0s 15ms/step - loss: 1.1799 - accuracy: 0.4632 - val_loss: 1.3507 - val_accuracy: 0.4191\n",
      "Epoch 44/50\n",
      "9/9 [==============================] - 0s 15ms/step - loss: 1.0570 - accuracy: 0.5184 - val_loss: 1.0901 - val_accuracy: 0.4412\n"
     ]
    },
    {
     "name": "stdout",
     "output_type": "stream",
     "text": [
      "Epoch 45/50\n",
      "9/9 [==============================] - 0s 15ms/step - loss: 0.9385 - accuracy: 0.5533 - val_loss: 1.2949 - val_accuracy: 0.4044\n",
      "Epoch 46/50\n",
      "9/9 [==============================] - 0s 24ms/step - loss: 1.0562 - accuracy: 0.5037 - val_loss: 1.6987 - val_accuracy: 0.4044\n",
      "Epoch 47/50\n",
      "9/9 [==============================] - 0s 22ms/step - loss: 1.2932 - accuracy: 0.4449 - val_loss: 1.3388 - val_accuracy: 0.3824\n",
      "Epoch 48/50\n",
      "9/9 [==============================] - 0s 20ms/step - loss: 1.0215 - accuracy: 0.5165 - val_loss: 1.1761 - val_accuracy: 0.4191\n",
      "Epoch 49/50\n",
      "9/9 [==============================] - 0s 20ms/step - loss: 0.9719 - accuracy: 0.5404 - val_loss: 1.0943 - val_accuracy: 0.4632\n",
      "Epoch 50/50\n",
      "9/9 [==============================] - 0s 20ms/step - loss: 0.9463 - accuracy: 0.5588 - val_loss: 1.0864 - val_accuracy: 0.4632\n",
      "3/3 [==============================] - 0s 5ms/step - loss: 1.0864 - accuracy: 0.4632\n",
      "[INFO] accuracy: 46.32%\n",
      "[INFO] Loss: 1.0864384174346924\n",
      "Time:  0:00:09.341600\n"
     ]
    }
   ],
   "source": [
    "\n",
    "\n",
    "import datetime\n",
    "start = datetime.datetime.now()\n",
    "\n",
    "fashion_model = Sequential()\n",
    "fashion_model.add(Conv2D(32, kernel_size=(3, 3),activation='linear',input_shape=(7,7,1),padding='same'))\n",
    "fashion_model.add(LeakyReLU(alpha=0.1))\n",
    "fashion_model.add(MaxPooling2D((2, 2),padding='same'))\n",
    "fashion_model.add(Conv2D(64, (3, 3), activation='linear',padding='same'))\n",
    "fashion_model.add(LeakyReLU(alpha=0.1))\n",
    "fashion_model.add(MaxPooling2D(pool_size=(2, 2),padding='same'))\n",
    "fashion_model.add(Conv2D(128, (3, 3), activation='linear',padding='same'))\n",
    "fashion_model.add(LeakyReLU(alpha=0.1))                  \n",
    "fashion_model.add(MaxPooling2D(pool_size=(2, 2),padding='same'))\n",
    "fashion_model.add(Flatten())\n",
    "fashion_model.add(Dense(128, activation='linear'))\n",
    "fashion_model.add(LeakyReLU(alpha=0.1))                  \n",
    "fashion_model.add(Dense(num_classes, activation='softmax'))\n",
    "\n",
    "fashion_model.compile(loss=tensorflow.keras.losses.categorical_crossentropy, optimizer=tensorflow.keras.optimizers.Adam(),metrics=['accuracy'])\n",
    "fashion_model.summary()\n",
    "\n",
    "fashion_train = fashion_model.fit(train_X, train_label, batch_size=batch_size,epochs=epochs,verbose=1,validation_data=(valid_X, valid_label))\n",
    "(loss, accuracy) = fashion_model.evaluate( \n",
    "    valid_X, valid_label, batch_size=batch_size,     verbose=1)\n",
    "print(\"[INFO] accuracy: {:.2f}%\".format(accuracy * 100)) \n",
    "print(\"[INFO] Loss: {}\".format(loss)) \n",
    "end= datetime.datetime.now()\n",
    "elapsed= end-start\n",
    "print ('Time: ', elapsed)"
   ]
  }
 ],
 "metadata": {
  "kernelspec": {
   "display_name": "Python 3",
   "language": "python",
   "name": "python3"
  },
  "language_info": {
   "codemirror_mode": {
    "name": "ipython",
    "version": 3
   },
   "file_extension": ".py",
   "mimetype": "text/x-python",
   "name": "python",
   "nbconvert_exporter": "python",
   "pygments_lexer": "ipython3",
   "version": "3.8.8"
  }
 },
 "nbformat": 4,
 "nbformat_minor": 5
}
