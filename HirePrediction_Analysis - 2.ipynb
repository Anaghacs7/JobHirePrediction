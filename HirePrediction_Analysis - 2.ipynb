{
 "cells": [
  {
   "cell_type": "code",
   "execution_count": 1,
   "id": "norwegian-latino",
   "metadata": {},
   "outputs": [],
   "source": [
    "import csv\n",
    "import numpy as np\n",
    "import pandas as pd\n",
    "from sklearn import linear_model\n",
    "from sklearn.model_selection import train_test_split\n",
    "from sklearn import metrics\n",
    "from mpl_toolkits import mplot3d\n",
    "from numpy import set_printoptions\n",
    "from numpy import absolute\n",
    "from numpy import mean\n",
    "from numpy import std\n",
    "\n",
    "from sklearn.feature_selection import SelectKBest\n",
    "from sklearn.feature_selection import f_classif\n",
    "\n",
    "from tensorflow import keras\n",
    "from sklearn.model_selection import cross_val_score\n",
    "from sklearn.model_selection import StratifiedKFold\n",
    "\n",
    "from sklearn.metrics import roc_curve\n",
    "from sklearn.metrics import roc_auc_score\n",
    "#from matplotlib import pyplot\n",
    "\n",
    "from sklearn.metrics import confusion_matrix\n",
    "from sklearn.metrics import classification_report\n",
    "    \n",
    "import matplotlib.pyplot as plt\n",
    "from mpl_toolkits.mplot3d.axes3d import get_test_data\n",
    "import seaborn as sns\n",
    "%matplotlib inline"
   ]
  },
  {
   "cell_type": "code",
   "execution_count": 2,
   "id": "steady-armenia",
   "metadata": {},
   "outputs": [],
   "source": [
    "#2class prosody_data = pd.read_csv('prosodic_features_M.csv ')\n",
    "#3class \n",
    "prosody_data = pd.read_csv('prosodic_features_MRH.csv ')"
   ]
  },
  {
   "cell_type": "code",
   "execution_count": 3,
   "id": "happy-witch",
   "metadata": {},
   "outputs": [
    {
     "data": {
      "text/html": [
       "<div>\n",
       "<style scoped>\n",
       "    .dataframe tbody tr th:only-of-type {\n",
       "        vertical-align: middle;\n",
       "    }\n",
       "\n",
       "    .dataframe tbody tr th {\n",
       "        vertical-align: top;\n",
       "    }\n",
       "\n",
       "    .dataframe thead th {\n",
       "        text-align: right;\n",
       "    }\n",
       "</style>\n",
       "<table border=\"1\" class=\"dataframe\">\n",
       "  <thead>\n",
       "    <tr style=\"text-align: right;\">\n",
       "      <th></th>\n",
       "      <th>participant&amp;question</th>\n",
       "      <th>duration</th>\n",
       "      <th>energy</th>\n",
       "      <th>power</th>\n",
       "      <th>min_pitch</th>\n",
       "      <th>max_pitch</th>\n",
       "      <th>mean_pitch</th>\n",
       "      <th>pitch_sd</th>\n",
       "      <th>pitch_abs</th>\n",
       "      <th>pitch_quant</th>\n",
       "      <th>...</th>\n",
       "      <th>AvgTotFall:3</th>\n",
       "      <th>numRising</th>\n",
       "      <th>numFall</th>\n",
       "      <th>RecommendHiring</th>\n",
       "      <th>Hired</th>\n",
       "      <th>Hired3C</th>\n",
       "      <th>Hired5C</th>\n",
       "      <th>Hired6T</th>\n",
       "      <th>Hired01C</th>\n",
       "      <th>Hired4C</th>\n",
       "    </tr>\n",
       "  </thead>\n",
       "  <tbody>\n",
       "    <tr>\n",
       "      <th>0</th>\n",
       "      <td>P1Q1</td>\n",
       "      <td>51.952125</td>\n",
       "      <td>0.015331</td>\n",
       "      <td>0.000295</td>\n",
       "      <td>75.232657</td>\n",
       "      <td>396.635613</td>\n",
       "      <td>127.989222</td>\n",
       "      <td>27.821528</td>\n",
       "      <td>217.628692</td>\n",
       "      <td>119.690367</td>\n",
       "      <td>...</td>\n",
       "      <td>20.106</td>\n",
       "      <td>91</td>\n",
       "      <td>4722.964842</td>\n",
       "      <td>5.106224</td>\n",
       "      <td>1</td>\n",
       "      <td>1</td>\n",
       "      <td>5</td>\n",
       "      <td>0</td>\n",
       "      <td>1</td>\n",
       "      <td>2</td>\n",
       "    </tr>\n",
       "    <tr>\n",
       "      <th>1</th>\n",
       "      <td>P1Q2</td>\n",
       "      <td>38.677312</td>\n",
       "      <td>0.015185</td>\n",
       "      <td>0.000393</td>\n",
       "      <td>75.165527</td>\n",
       "      <td>397.613041</td>\n",
       "      <td>131.067490</td>\n",
       "      <td>26.452853</td>\n",
       "      <td>195.852246</td>\n",
       "      <td>124.820583</td>\n",
       "      <td>...</td>\n",
       "      <td>15.886</td>\n",
       "      <td>71</td>\n",
       "      <td>2928.482587</td>\n",
       "      <td>5.106224</td>\n",
       "      <td>1</td>\n",
       "      <td>1</td>\n",
       "      <td>5</td>\n",
       "      <td>0</td>\n",
       "      <td>1</td>\n",
       "      <td>2</td>\n",
       "    </tr>\n",
       "    <tr>\n",
       "      <th>2</th>\n",
       "      <td>P1Q3</td>\n",
       "      <td>43.593896</td>\n",
       "      <td>0.014680</td>\n",
       "      <td>0.000337</td>\n",
       "      <td>71.034761</td>\n",
       "      <td>395.930688</td>\n",
       "      <td>127.739086</td>\n",
       "      <td>26.006330</td>\n",
       "      <td>189.441736</td>\n",
       "      <td>120.457847</td>\n",
       "      <td>...</td>\n",
       "      <td>16.951</td>\n",
       "      <td>79</td>\n",
       "      <td>3528.448990</td>\n",
       "      <td>5.106224</td>\n",
       "      <td>1</td>\n",
       "      <td>1</td>\n",
       "      <td>5</td>\n",
       "      <td>0</td>\n",
       "      <td>1</td>\n",
       "      <td>2</td>\n",
       "    </tr>\n",
       "    <tr>\n",
       "      <th>3</th>\n",
       "      <td>P1Q4</td>\n",
       "      <td>23.435813</td>\n",
       "      <td>0.008920</td>\n",
       "      <td>0.000381</td>\n",
       "      <td>74.938673</td>\n",
       "      <td>248.733738</td>\n",
       "      <td>129.563914</td>\n",
       "      <td>19.334327</td>\n",
       "      <td>103.024640</td>\n",
       "      <td>124.473851</td>\n",
       "      <td>...</td>\n",
       "      <td>5.044</td>\n",
       "      <td>36</td>\n",
       "      <td>1924.546685</td>\n",
       "      <td>5.106224</td>\n",
       "      <td>1</td>\n",
       "      <td>1</td>\n",
       "      <td>5</td>\n",
       "      <td>0</td>\n",
       "      <td>1</td>\n",
       "      <td>2</td>\n",
       "    </tr>\n",
       "    <tr>\n",
       "      <th>4</th>\n",
       "      <td>P1Q5</td>\n",
       "      <td>13.274833</td>\n",
       "      <td>0.003432</td>\n",
       "      <td>0.000259</td>\n",
       "      <td>93.949854</td>\n",
       "      <td>263.669188</td>\n",
       "      <td>130.178482</td>\n",
       "      <td>26.595483</td>\n",
       "      <td>174.934601</td>\n",
       "      <td>120.272480</td>\n",
       "      <td>...</td>\n",
       "      <td>11.073</td>\n",
       "      <td>19</td>\n",
       "      <td>1322.366516</td>\n",
       "      <td>5.106224</td>\n",
       "      <td>1</td>\n",
       "      <td>1</td>\n",
       "      <td>5</td>\n",
       "      <td>0</td>\n",
       "      <td>1</td>\n",
       "      <td>2</td>\n",
       "    </tr>\n",
       "  </tbody>\n",
       "</table>\n",
       "<p>5 rows × 66 columns</p>\n",
       "</div>"
      ],
      "text/plain": [
       "  participant&question   duration    energy     power  min_pitch   max_pitch  \\\n",
       "0                 P1Q1  51.952125  0.015331  0.000295  75.232657  396.635613   \n",
       "1                 P1Q2  38.677312  0.015185  0.000393  75.165527  397.613041   \n",
       "2                 P1Q3  43.593896  0.014680  0.000337  71.034761  395.930688   \n",
       "3                 P1Q4  23.435813  0.008920  0.000381  74.938673  248.733738   \n",
       "4                 P1Q5  13.274833  0.003432  0.000259  93.949854  263.669188   \n",
       "\n",
       "   mean_pitch   pitch_sd   pitch_abs  pitch_quant  ...  AvgTotFall:3  \\\n",
       "0  127.989222  27.821528  217.628692   119.690367  ...        20.106   \n",
       "1  131.067490  26.452853  195.852246   124.820583  ...        15.886   \n",
       "2  127.739086  26.006330  189.441736   120.457847  ...        16.951   \n",
       "3  129.563914  19.334327  103.024640   124.473851  ...         5.044   \n",
       "4  130.178482  26.595483  174.934601   120.272480  ...        11.073   \n",
       "\n",
       "   numRising      numFall  RecommendHiring  Hired  Hired3C  Hired5C  Hired6T  \\\n",
       "0         91  4722.964842         5.106224      1        1        5        0   \n",
       "1         71  2928.482587         5.106224      1        1        5        0   \n",
       "2         79  3528.448990         5.106224      1        1        5        0   \n",
       "3         36  1924.546685         5.106224      1        1        5        0   \n",
       "4         19  1322.366516         5.106224      1        1        5        0   \n",
       "\n",
       "   Hired01C  Hired4C  \n",
       "0         1        2  \n",
       "1         1        2  \n",
       "2         1        2  \n",
       "3         1        2  \n",
       "4         1        2  \n",
       "\n",
       "[5 rows x 66 columns]"
      ]
     },
     "execution_count": 3,
     "metadata": {},
     "output_type": "execute_result"
    }
   ],
   "source": [
    "prosody_data.head()"
   ]
  },
  {
   "cell_type": "code",
   "execution_count": 4,
   "id": "unnecessary-whole",
   "metadata": {},
   "outputs": [
    {
     "name": "stdout",
     "output_type": "stream",
     "text": [
      "<class 'pandas.core.frame.DataFrame'>\n",
      "RangeIndex: 680 entries, 0 to 679\n",
      "Data columns (total 66 columns):\n",
      " #   Column                Non-Null Count  Dtype  \n",
      "---  ------                --------------  -----  \n",
      " 0   participant&question  680 non-null    object \n",
      " 1   duration              680 non-null    float64\n",
      " 2   energy                680 non-null    float64\n",
      " 3   power                 680 non-null    float64\n",
      " 4   min_pitch             680 non-null    float64\n",
      " 5   max_pitch             680 non-null    float64\n",
      " 6   mean_pitch            680 non-null    float64\n",
      " 7   pitch_sd              680 non-null    float64\n",
      " 8   pitch_abs             680 non-null    float64\n",
      " 9   pitch_quant           680 non-null    float64\n",
      " 10  pitchUvsVRatio        680 non-null    float64\n",
      " 11  Time:8                680 non-null    float64\n",
      " 12  iDifference           680 non-null    float64\n",
      " 13  diffPitchMaxMin       680 non-null    float64\n",
      " 14  diffPitchMaxMean      680 non-null    float64\n",
      " 15  diffPitchMaxMode      680 non-null    float64\n",
      " 16  intensityMin          680 non-null    float64\n",
      " 17  intensityMax          680 non-null    float64\n",
      " 18  intensityMean         680 non-null    float64\n",
      " 19  intensitySD           680 non-null    float64\n",
      " 20  intensityQuant        680 non-null    float64\n",
      " 21  diffIntMaxMin         680 non-null    float64\n",
      " 22  diffIntMaxMean        680 non-null    float64\n",
      " 23  diffIntMaxMode        680 non-null    float64\n",
      " 24  avgVal1               680 non-null    float64\n",
      " 25  avgVal2               680 non-null    float64\n",
      " 26  avgVal3               680 non-null    float64\n",
      " 27  avgBand1              680 non-null    float64\n",
      " 28  avgBand2              680 non-null    float64\n",
      " 29  avgBand3              680 non-null    float64\n",
      " 30  fmean1                680 non-null    float64\n",
      " 31  fmean2                680 non-null    float64\n",
      " 32  fmean3                680 non-null    float64\n",
      " 33  f2meanf1              680 non-null    float64\n",
      " 34  f3meanf1              680 non-null    float64\n",
      " 35  f1STD                 680 non-null    float64\n",
      " 36  f2STD                 680 non-null    float64\n",
      " 37  f3STD                 680 non-null    float64\n",
      " 38  f2STDf1               680 non-null    float64\n",
      " 39  f2STDf2               680 non-null    float64\n",
      " 40  jitter                680 non-null    float64\n",
      " 41  shimmer               680 non-null    float64\n",
      " 42  jitterRap             680 non-null    float64\n",
      " 43  meanPeriod            680 non-null    float64\n",
      " 44  percentUnvoiced       680 non-null    float64\n",
      " 45  numVoiceBreaks        680 non-null    int64  \n",
      " 46  PercentBreaks         680 non-null    float64\n",
      " 47  speakRate             680 non-null    float64\n",
      " 48  numPause              680 non-null    int64  \n",
      " 49  maxDurPause           680 non-null    float64\n",
      " 50  avgDurPause           680 non-null    float64\n",
      " 51  TotDurPause:3         680 non-null    float64\n",
      " 52  iInterval             680 non-null    int64  \n",
      " 53  MaxRising:3           680 non-null    float64\n",
      " 54  MaxFalling:3          680 non-null    float64\n",
      " 55  AvgTotRis:3           680 non-null    float64\n",
      " 56  AvgTotFall:3          680 non-null    float64\n",
      " 57  numRising             680 non-null    int64  \n",
      " 58  numFall               680 non-null    float64\n",
      " 59  RecommendHiring       680 non-null    float64\n",
      " 60  Hired                 680 non-null    int64  \n",
      " 61  Hired3C               680 non-null    int64  \n",
      " 62  Hired5C               680 non-null    int64  \n",
      " 63  Hired6T               680 non-null    int64  \n",
      " 64  Hired01C              680 non-null    int64  \n",
      " 65  Hired4C               680 non-null    int64  \n",
      "dtypes: float64(55), int64(10), object(1)\n",
      "memory usage: 350.8+ KB\n"
     ]
    }
   ],
   "source": [
    "prosody_data.info()"
   ]
  },
  {
   "cell_type": "code",
   "execution_count": 5,
   "id": "entire-remove",
   "metadata": {},
   "outputs": [
    {
     "data": {
      "text/html": [
       "<div>\n",
       "<style scoped>\n",
       "    .dataframe tbody tr th:only-of-type {\n",
       "        vertical-align: middle;\n",
       "    }\n",
       "\n",
       "    .dataframe tbody tr th {\n",
       "        vertical-align: top;\n",
       "    }\n",
       "\n",
       "    .dataframe thead th {\n",
       "        text-align: right;\n",
       "    }\n",
       "</style>\n",
       "<table border=\"1\" class=\"dataframe\">\n",
       "  <thead>\n",
       "    <tr style=\"text-align: right;\">\n",
       "      <th></th>\n",
       "      <th>duration</th>\n",
       "      <th>energy</th>\n",
       "      <th>power</th>\n",
       "      <th>min_pitch</th>\n",
       "      <th>max_pitch</th>\n",
       "      <th>mean_pitch</th>\n",
       "      <th>pitch_sd</th>\n",
       "      <th>pitch_abs</th>\n",
       "      <th>pitch_quant</th>\n",
       "      <th>pitchUvsVRatio</th>\n",
       "      <th>...</th>\n",
       "      <th>AvgTotFall:3</th>\n",
       "      <th>numRising</th>\n",
       "      <th>numFall</th>\n",
       "      <th>RecommendHiring</th>\n",
       "      <th>Hired</th>\n",
       "      <th>Hired3C</th>\n",
       "      <th>Hired5C</th>\n",
       "      <th>Hired6T</th>\n",
       "      <th>Hired01C</th>\n",
       "      <th>Hired4C</th>\n",
       "    </tr>\n",
       "  </thead>\n",
       "  <tbody>\n",
       "    <tr>\n",
       "      <th>count</th>\n",
       "      <td>680.000000</td>\n",
       "      <td>680.000000</td>\n",
       "      <td>680.000000</td>\n",
       "      <td>680.000000</td>\n",
       "      <td>680.000000</td>\n",
       "      <td>680.000000</td>\n",
       "      <td>680.000000</td>\n",
       "      <td>680.000000</td>\n",
       "      <td>680.000000</td>\n",
       "      <td>680.000000</td>\n",
       "      <td>...</td>\n",
       "      <td>680.000000</td>\n",
       "      <td>680.000000</td>\n",
       "      <td>680.000000</td>\n",
       "      <td>680.000000</td>\n",
       "      <td>680.000000</td>\n",
       "      <td>680.000000</td>\n",
       "      <td>680.000000</td>\n",
       "      <td>680.000000</td>\n",
       "      <td>680.000000</td>\n",
       "      <td>680.000000</td>\n",
       "    </tr>\n",
       "    <tr>\n",
       "      <th>mean</th>\n",
       "      <td>57.201539</td>\n",
       "      <td>0.010119</td>\n",
       "      <td>0.000159</td>\n",
       "      <td>74.356906</td>\n",
       "      <td>365.209221</td>\n",
       "      <td>169.242881</td>\n",
       "      <td>42.009550</td>\n",
       "      <td>246.886862</td>\n",
       "      <td>163.655634</td>\n",
       "      <td>1.193068</td>\n",
       "      <td>...</td>\n",
       "      <td>21.547319</td>\n",
       "      <td>88.869118</td>\n",
       "      <td>5564.506801</td>\n",
       "      <td>4.950746</td>\n",
       "      <td>0.566176</td>\n",
       "      <td>0.992647</td>\n",
       "      <td>4.963235</td>\n",
       "      <td>0.073529</td>\n",
       "      <td>0.661765</td>\n",
       "      <td>1.426471</td>\n",
       "    </tr>\n",
       "    <tr>\n",
       "      <th>std</th>\n",
       "      <td>36.117420</td>\n",
       "      <td>0.012226</td>\n",
       "      <td>0.000130</td>\n",
       "      <td>8.332808</td>\n",
       "      <td>41.614286</td>\n",
       "      <td>41.921335</td>\n",
       "      <td>13.154095</td>\n",
       "      <td>76.500370</td>\n",
       "      <td>46.615600</td>\n",
       "      <td>0.795525</td>\n",
       "      <td>...</td>\n",
       "      <td>8.454734</td>\n",
       "      <td>59.178885</td>\n",
       "      <td>4357.018782</td>\n",
       "      <td>0.721579</td>\n",
       "      <td>0.495966</td>\n",
       "      <td>0.818565</td>\n",
       "      <td>0.771435</td>\n",
       "      <td>0.261196</td>\n",
       "      <td>0.473457</td>\n",
       "      <td>0.810756</td>\n",
       "    </tr>\n",
       "    <tr>\n",
       "      <th>min</th>\n",
       "      <td>10.341458</td>\n",
       "      <td>0.000176</td>\n",
       "      <td>0.000013</td>\n",
       "      <td>56.049663</td>\n",
       "      <td>222.555742</td>\n",
       "      <td>92.979514</td>\n",
       "      <td>12.053274</td>\n",
       "      <td>76.004974</td>\n",
       "      <td>82.801688</td>\n",
       "      <td>0.301339</td>\n",
       "      <td>...</td>\n",
       "      <td>5.044000</td>\n",
       "      <td>11.000000</td>\n",
       "      <td>79.872717</td>\n",
       "      <td>3.189661</td>\n",
       "      <td>0.000000</td>\n",
       "      <td>0.000000</td>\n",
       "      <td>3.000000</td>\n",
       "      <td>0.000000</td>\n",
       "      <td>0.000000</td>\n",
       "      <td>0.000000</td>\n",
       "    </tr>\n",
       "    <tr>\n",
       "      <th>25%</th>\n",
       "      <td>32.839339</td>\n",
       "      <td>0.002527</td>\n",
       "      <td>0.000065</td>\n",
       "      <td>71.320330</td>\n",
       "      <td>339.477409</td>\n",
       "      <td>124.543847</td>\n",
       "      <td>33.160269</td>\n",
       "      <td>196.724385</td>\n",
       "      <td>113.288462</td>\n",
       "      <td>0.736553</td>\n",
       "      <td>...</td>\n",
       "      <td>15.521250</td>\n",
       "      <td>47.750000</td>\n",
       "      <td>2712.929560</td>\n",
       "      <td>4.529477</td>\n",
       "      <td>0.000000</td>\n",
       "      <td>0.000000</td>\n",
       "      <td>5.000000</td>\n",
       "      <td>0.000000</td>\n",
       "      <td>0.000000</td>\n",
       "      <td>1.000000</td>\n",
       "    </tr>\n",
       "    <tr>\n",
       "      <th>50%</th>\n",
       "      <td>49.762437</td>\n",
       "      <td>0.005648</td>\n",
       "      <td>0.000119</td>\n",
       "      <td>73.929065</td>\n",
       "      <td>376.743832</td>\n",
       "      <td>180.010964</td>\n",
       "      <td>40.569432</td>\n",
       "      <td>247.524278</td>\n",
       "      <td>178.438806</td>\n",
       "      <td>1.035074</td>\n",
       "      <td>...</td>\n",
       "      <td>20.215500</td>\n",
       "      <td>76.000000</td>\n",
       "      <td>4520.700221</td>\n",
       "      <td>4.967754</td>\n",
       "      <td>1.000000</td>\n",
       "      <td>1.000000</td>\n",
       "      <td>5.000000</td>\n",
       "      <td>0.000000</td>\n",
       "      <td>1.000000</td>\n",
       "      <td>1.000000</td>\n",
       "    </tr>\n",
       "    <tr>\n",
       "      <th>75%</th>\n",
       "      <td>71.724484</td>\n",
       "      <td>0.013414</td>\n",
       "      <td>0.000221</td>\n",
       "      <td>75.644207</td>\n",
       "      <td>397.296921</td>\n",
       "      <td>203.342602</td>\n",
       "      <td>48.220307</td>\n",
       "      <td>293.743385</td>\n",
       "      <td>203.973193</td>\n",
       "      <td>1.350608</td>\n",
       "      <td>...</td>\n",
       "      <td>26.054000</td>\n",
       "      <td>112.250000</td>\n",
       "      <td>7249.827921</td>\n",
       "      <td>5.448852</td>\n",
       "      <td>1.000000</td>\n",
       "      <td>2.000000</td>\n",
       "      <td>5.000000</td>\n",
       "      <td>0.000000</td>\n",
       "      <td>1.000000</td>\n",
       "      <td>2.000000</td>\n",
       "    </tr>\n",
       "    <tr>\n",
       "      <th>max</th>\n",
       "      <td>376.992000</td>\n",
       "      <td>0.134692</td>\n",
       "      <td>0.000873</td>\n",
       "      <td>198.840510</td>\n",
       "      <td>424.360354</td>\n",
       "      <td>254.871233</td>\n",
       "      <td>97.363392</td>\n",
       "      <td>524.459680</td>\n",
       "      <td>247.959843</td>\n",
       "      <td>7.681538</td>\n",
       "      <td>...</td>\n",
       "      <td>53.887000</td>\n",
       "      <td>590.000000</td>\n",
       "      <td>40513.328260</td>\n",
       "      <td>6.647218</td>\n",
       "      <td>1.000000</td>\n",
       "      <td>2.000000</td>\n",
       "      <td>7.000000</td>\n",
       "      <td>1.000000</td>\n",
       "      <td>1.000000</td>\n",
       "      <td>3.000000</td>\n",
       "    </tr>\n",
       "  </tbody>\n",
       "</table>\n",
       "<p>8 rows × 65 columns</p>\n",
       "</div>"
      ],
      "text/plain": [
       "         duration      energy       power   min_pitch   max_pitch  mean_pitch  \\\n",
       "count  680.000000  680.000000  680.000000  680.000000  680.000000  680.000000   \n",
       "mean    57.201539    0.010119    0.000159   74.356906  365.209221  169.242881   \n",
       "std     36.117420    0.012226    0.000130    8.332808   41.614286   41.921335   \n",
       "min     10.341458    0.000176    0.000013   56.049663  222.555742   92.979514   \n",
       "25%     32.839339    0.002527    0.000065   71.320330  339.477409  124.543847   \n",
       "50%     49.762437    0.005648    0.000119   73.929065  376.743832  180.010964   \n",
       "75%     71.724484    0.013414    0.000221   75.644207  397.296921  203.342602   \n",
       "max    376.992000    0.134692    0.000873  198.840510  424.360354  254.871233   \n",
       "\n",
       "         pitch_sd   pitch_abs  pitch_quant  pitchUvsVRatio  ...  AvgTotFall:3  \\\n",
       "count  680.000000  680.000000   680.000000      680.000000  ...    680.000000   \n",
       "mean    42.009550  246.886862   163.655634        1.193068  ...     21.547319   \n",
       "std     13.154095   76.500370    46.615600        0.795525  ...      8.454734   \n",
       "min     12.053274   76.004974    82.801688        0.301339  ...      5.044000   \n",
       "25%     33.160269  196.724385   113.288462        0.736553  ...     15.521250   \n",
       "50%     40.569432  247.524278   178.438806        1.035074  ...     20.215500   \n",
       "75%     48.220307  293.743385   203.973193        1.350608  ...     26.054000   \n",
       "max     97.363392  524.459680   247.959843        7.681538  ...     53.887000   \n",
       "\n",
       "        numRising       numFall  RecommendHiring       Hired     Hired3C  \\\n",
       "count  680.000000    680.000000       680.000000  680.000000  680.000000   \n",
       "mean    88.869118   5564.506801         4.950746    0.566176    0.992647   \n",
       "std     59.178885   4357.018782         0.721579    0.495966    0.818565   \n",
       "min     11.000000     79.872717         3.189661    0.000000    0.000000   \n",
       "25%     47.750000   2712.929560         4.529477    0.000000    0.000000   \n",
       "50%     76.000000   4520.700221         4.967754    1.000000    1.000000   \n",
       "75%    112.250000   7249.827921         5.448852    1.000000    2.000000   \n",
       "max    590.000000  40513.328260         6.647218    1.000000    2.000000   \n",
       "\n",
       "          Hired5C     Hired6T    Hired01C     Hired4C  \n",
       "count  680.000000  680.000000  680.000000  680.000000  \n",
       "mean     4.963235    0.073529    0.661765    1.426471  \n",
       "std      0.771435    0.261196    0.473457    0.810756  \n",
       "min      3.000000    0.000000    0.000000    0.000000  \n",
       "25%      5.000000    0.000000    0.000000    1.000000  \n",
       "50%      5.000000    0.000000    1.000000    1.000000  \n",
       "75%      5.000000    0.000000    1.000000    2.000000  \n",
       "max      7.000000    1.000000    1.000000    3.000000  \n",
       "\n",
       "[8 rows x 65 columns]"
      ]
     },
     "execution_count": 5,
     "metadata": {},
     "output_type": "execute_result"
    }
   ],
   "source": [
    "prosody_data.describe()"
   ]
  },
  {
   "cell_type": "markdown",
   "id": "differential-applicant",
   "metadata": {},
   "source": [
    "dA = pd.read_csv('prosodic_features_M1.csv ')\n",
    "yRH = prosody_data['RecommendHiring']\n",
    "yF = prosody_data['Friendly']\n",
    "ySA = prosody_data['StructuredAnswers']\n",
    "yNS = prosody_data['NotStressed']\n",
    "cRH = prosody_data['Hired']\n",
    "cF = prosody_data['Friendly_c']\n",
    "cSA = prosody_data['StructuredAnswers_c']\n",
    "cNS = prosody_data['NotStressed_c']\n"
   ]
  },
  {
   "cell_type": "code",
   "execution_count": 12,
   "id": "stock-cooper",
   "metadata": {},
   "outputs": [],
   "source": [
    "dA = pd.read_csv('prosodic_features_M1.csv ')\n",
    "yRH = prosody_data['RecommendHiring']\n",
    "cRH = prosody_data['Hired3C']"
   ]
  },
  {
   "cell_type": "code",
   "execution_count": 13,
   "id": "generous-barbados",
   "metadata": {},
   "outputs": [],
   "source": [
    "def drawHistogram(feature_name):\n",
    "    sns.set_style('whitegrid')\n",
    "    prosody_data[feature_name].hist(bins=30)\n",
    "    plt.xlabel(feature_name)"
   ]
  },
  {
   "cell_type": "code",
   "execution_count": 14,
   "id": "closing-devon",
   "metadata": {},
   "outputs": [
    {
     "data": {
      "image/png": "[encoded data removed]",
      "text/plain": [
       "<Figure size 432x288 with 1 Axes>"
      ]
     },
     "metadata": {},
     "output_type": "display_data"
    }
   ],
   "source": [
    "drawHistogram('RecommendHiring')"
   ]
  },
  {
   "cell_type": "code",
   "execution_count": 10,
   "id": "impressed-complaint",
   "metadata": {},
   "outputs": [
    {
     "ename": "KeyError",
     "evalue": "'Friendly'",
     "output_type": "error",
     "traceback": [
      "\u001b[1;31m---------------------------------------------------------------------------\u001b[0m",
      "\u001b[1;31mKeyError\u001b[0m                                  Traceback (most recent call last)",
      "\u001b[1;32m~\\anaconda3\\envs\\tf\\lib\\site-packages\\pandas\\core\\indexes\\base.py\u001b[0m in \u001b[0;36mget_loc\u001b[1;34m(self, key, method, tolerance)\u001b[0m\n\u001b[0;32m   3079\u001b[0m             \u001b[1;32mtry\u001b[0m\u001b[1;33m:\u001b[0m\u001b[1;33m\u001b[0m\u001b[1;33m\u001b[0m\u001b[0m\n\u001b[1;32m-> 3080\u001b[1;33m                 \u001b[1;32mreturn\u001b[0m \u001b[0mself\u001b[0m\u001b[1;33m.\u001b[0m\u001b[0m_engine\u001b[0m\u001b[1;33m.\u001b[0m\u001b[0mget_loc\u001b[0m\u001b[1;33m(\u001b[0m\u001b[0mcasted_key\u001b[0m\u001b[1;33m)\u001b[0m\u001b[1;33m\u001b[0m\u001b[1;33m\u001b[0m\u001b[0m\n\u001b[0m\u001b[0;32m   3081\u001b[0m             \u001b[1;32mexcept\u001b[0m \u001b[0mKeyError\u001b[0m \u001b[1;32mas\u001b[0m \u001b[0merr\u001b[0m\u001b[1;33m:\u001b[0m\u001b[1;33m\u001b[0m\u001b[1;33m\u001b[0m\u001b[0m\n",
      "\u001b[1;32mpandas\\_libs\\index.pyx\u001b[0m in \u001b[0;36mpandas._libs.index.IndexEngine.get_loc\u001b[1;34m()\u001b[0m\n",
      "\u001b[1;32mpandas\\_libs\\index.pyx\u001b[0m in \u001b[0;36mpandas._libs.index.IndexEngine.get_loc\u001b[1;34m()\u001b[0m\n",
      "\u001b[1;32mpandas\\_libs\\hashtable_class_helper.pxi\u001b[0m in \u001b[0;36mpandas._libs.hashtable.PyObjectHashTable.get_item\u001b[1;34m()\u001b[0m\n",
      "\u001b[1;32mpandas\\_libs\\hashtable_class_helper.pxi\u001b[0m in \u001b[0;36mpandas._libs.hashtable.PyObjectHashTable.get_item\u001b[1;34m()\u001b[0m\n",
      "\u001b[1;31mKeyError\u001b[0m: 'Friendly'",
      "\nThe above exception was the direct cause of the following exception:\n",
      "\u001b[1;31mKeyError\u001b[0m                                  Traceback (most recent call last)",
      "\u001b[1;32m<ipython-input-10-92b267369559>\u001b[0m in \u001b[0;36m<module>\u001b[1;34m\u001b[0m\n\u001b[1;32m----> 1\u001b[1;33m \u001b[0mdrawHistogram\u001b[0m\u001b[1;33m(\u001b[0m\u001b[1;34m'Friendly'\u001b[0m\u001b[1;33m)\u001b[0m\u001b[1;33m\u001b[0m\u001b[1;33m\u001b[0m\u001b[0m\n\u001b[0m",
      "\u001b[1;32m<ipython-input-8-e2fee8e0f570>\u001b[0m in \u001b[0;36mdrawHistogram\u001b[1;34m(feature_name)\u001b[0m\n\u001b[0;32m      1\u001b[0m \u001b[1;32mdef\u001b[0m \u001b[0mdrawHistogram\u001b[0m\u001b[1;33m(\u001b[0m\u001b[0mfeature_name\u001b[0m\u001b[1;33m)\u001b[0m\u001b[1;33m:\u001b[0m\u001b[1;33m\u001b[0m\u001b[1;33m\u001b[0m\u001b[0m\n\u001b[0;32m      2\u001b[0m     \u001b[0msns\u001b[0m\u001b[1;33m.\u001b[0m\u001b[0mset_style\u001b[0m\u001b[1;33m(\u001b[0m\u001b[1;34m'whitegrid'\u001b[0m\u001b[1;33m)\u001b[0m\u001b[1;33m\u001b[0m\u001b[1;33m\u001b[0m\u001b[0m\n\u001b[1;32m----> 3\u001b[1;33m     \u001b[0mprosody_data\u001b[0m\u001b[1;33m[\u001b[0m\u001b[0mfeature_name\u001b[0m\u001b[1;33m]\u001b[0m\u001b[1;33m.\u001b[0m\u001b[0mhist\u001b[0m\u001b[1;33m(\u001b[0m\u001b[0mbins\u001b[0m\u001b[1;33m=\u001b[0m\u001b[1;36m30\u001b[0m\u001b[1;33m)\u001b[0m\u001b[1;33m\u001b[0m\u001b[1;33m\u001b[0m\u001b[0m\n\u001b[0m\u001b[0;32m      4\u001b[0m     \u001b[0mplt\u001b[0m\u001b[1;33m.\u001b[0m\u001b[0mxlabel\u001b[0m\u001b[1;33m(\u001b[0m\u001b[0mfeature_name\u001b[0m\u001b[1;33m)\u001b[0m\u001b[1;33m\u001b[0m\u001b[1;33m\u001b[0m\u001b[0m\n",
      "\u001b[1;32m~\\anaconda3\\envs\\tf\\lib\\site-packages\\pandas\\core\\frame.py\u001b[0m in \u001b[0;36m__getitem__\u001b[1;34m(self, key)\u001b[0m\n\u001b[0;32m   3022\u001b[0m             \u001b[1;32mif\u001b[0m \u001b[0mself\u001b[0m\u001b[1;33m.\u001b[0m\u001b[0mcolumns\u001b[0m\u001b[1;33m.\u001b[0m\u001b[0mnlevels\u001b[0m \u001b[1;33m>\u001b[0m \u001b[1;36m1\u001b[0m\u001b[1;33m:\u001b[0m\u001b[1;33m\u001b[0m\u001b[1;33m\u001b[0m\u001b[0m\n\u001b[0;32m   3023\u001b[0m                 \u001b[1;32mreturn\u001b[0m \u001b[0mself\u001b[0m\u001b[1;33m.\u001b[0m\u001b[0m_getitem_multilevel\u001b[0m\u001b[1;33m(\u001b[0m\u001b[0mkey\u001b[0m\u001b[1;33m)\u001b[0m\u001b[1;33m\u001b[0m\u001b[1;33m\u001b[0m\u001b[0m\n\u001b[1;32m-> 3024\u001b[1;33m             \u001b[0mindexer\u001b[0m \u001b[1;33m=\u001b[0m \u001b[0mself\u001b[0m\u001b[1;33m.\u001b[0m\u001b[0mcolumns\u001b[0m\u001b[1;33m.\u001b[0m\u001b[0mget_loc\u001b[0m\u001b[1;33m(\u001b[0m\u001b[0mkey\u001b[0m\u001b[1;33m)\u001b[0m\u001b[1;33m\u001b[0m\u001b[1;33m\u001b[0m\u001b[0m\n\u001b[0m\u001b[0;32m   3025\u001b[0m             \u001b[1;32mif\u001b[0m \u001b[0mis_integer\u001b[0m\u001b[1;33m(\u001b[0m\u001b[0mindexer\u001b[0m\u001b[1;33m)\u001b[0m\u001b[1;33m:\u001b[0m\u001b[1;33m\u001b[0m\u001b[1;33m\u001b[0m\u001b[0m\n\u001b[0;32m   3026\u001b[0m                 \u001b[0mindexer\u001b[0m \u001b[1;33m=\u001b[0m \u001b[1;33m[\u001b[0m\u001b[0mindexer\u001b[0m\u001b[1;33m]\u001b[0m\u001b[1;33m\u001b[0m\u001b[1;33m\u001b[0m\u001b[0m\n",
      "\u001b[1;32m~\\anaconda3\\envs\\tf\\lib\\site-packages\\pandas\\core\\indexes\\base.py\u001b[0m in \u001b[0;36mget_loc\u001b[1;34m(self, key, method, tolerance)\u001b[0m\n\u001b[0;32m   3080\u001b[0m                 \u001b[1;32mreturn\u001b[0m \u001b[0mself\u001b[0m\u001b[1;33m.\u001b[0m\u001b[0m_engine\u001b[0m\u001b[1;33m.\u001b[0m\u001b[0mget_loc\u001b[0m\u001b[1;33m(\u001b[0m\u001b[0mcasted_key\u001b[0m\u001b[1;33m)\u001b[0m\u001b[1;33m\u001b[0m\u001b[1;33m\u001b[0m\u001b[0m\n\u001b[0;32m   3081\u001b[0m             \u001b[1;32mexcept\u001b[0m \u001b[0mKeyError\u001b[0m \u001b[1;32mas\u001b[0m \u001b[0merr\u001b[0m\u001b[1;33m:\u001b[0m\u001b[1;33m\u001b[0m\u001b[1;33m\u001b[0m\u001b[0m\n\u001b[1;32m-> 3082\u001b[1;33m                 \u001b[1;32mraise\u001b[0m \u001b[0mKeyError\u001b[0m\u001b[1;33m(\u001b[0m\u001b[0mkey\u001b[0m\u001b[1;33m)\u001b[0m \u001b[1;32mfrom\u001b[0m \u001b[0merr\u001b[0m\u001b[1;33m\u001b[0m\u001b[1;33m\u001b[0m\u001b[0m\n\u001b[0m\u001b[0;32m   3083\u001b[0m \u001b[1;33m\u001b[0m\u001b[0m\n\u001b[0;32m   3084\u001b[0m         \u001b[1;32mif\u001b[0m \u001b[0mtolerance\u001b[0m \u001b[1;32mis\u001b[0m \u001b[1;32mnot\u001b[0m \u001b[1;32mNone\u001b[0m\u001b[1;33m:\u001b[0m\u001b[1;33m\u001b[0m\u001b[1;33m\u001b[0m\u001b[0m\n",
      "\u001b[1;31mKeyError\u001b[0m: 'Friendly'"
     ]
    }
   ],
   "source": [
    "drawHistogram('Friendly')"
   ]
  },
  {
   "cell_type": "code",
   "execution_count": null,
   "id": "academic-subscriber",
   "metadata": {},
   "outputs": [],
   "source": [
    "drawHistogram('StructuredAnswers')"
   ]
  },
  {
   "cell_type": "code",
   "execution_count": null,
   "id": "altered-league",
   "metadata": {},
   "outputs": [],
   "source": [
    "drawHistogram('NotStressed')"
   ]
  },
  {
   "cell_type": "code",
   "execution_count": 21,
   "id": "norman-annotation",
   "metadata": {},
   "outputs": [
    {
     "data": {
      "text/plain": [
       "<seaborn.axisgrid.JointGrid at 0x206990b93d0>"
      ]
     },
     "execution_count": 21,
     "metadata": {},
     "output_type": "execute_result"
    },
    {
     "data": {
      "image/png": "[encoded data removed]",
      "text/plain": [
       "<Figure size 432x432 with 3 Axes>"
      ]
     },
     "metadata": {},
     "output_type": "display_data"
    }
   ],
   "source": [
    "sns.jointplot(y='jitter', x='RecommendHiring', cmap= 'PiYG',  data=prosody_data)"
   ]
  },
  {
   "cell_type": "code",
   "execution_count": null,
   "id": "deadly-paste",
   "metadata": {},
   "outputs": [],
   "source": [
    "sns.jointplot(y='jitter', x='Friendly', cmap= 'PiYG', data=prosody_data)"
   ]
  },
  {
   "cell_type": "code",
   "execution_count": null,
   "id": "stainless-saver",
   "metadata": {},
   "outputs": [],
   "source": [
    "sns.jointplot(y='jitter', x='StructuredAnswers', cmap= 'PiYG', data=prosody_data)"
   ]
  },
  {
   "cell_type": "code",
   "execution_count": null,
   "id": "legendary-piece",
   "metadata": {},
   "outputs": [],
   "source": [
    "sns.jointplot(y='jitter', x='NotStressed', cmap= 'PiYG', data=prosody_data)"
   ]
  },
  {
   "cell_type": "code",
   "execution_count": null,
   "id": "fundamental-capability",
   "metadata": {},
   "outputs": [],
   "source": [
    "\n",
    "x1 = prosody_data['energy']\n",
    "x2 = prosody_data['speakRate']\n",
    "x3 = prosody_data['avgBand1']\n",
    "\n",
    "# Creating plot\n",
    "fig = plt.figure(figsize=(8,8))\n",
    "\n",
    "\n",
    "ax = plt.axes()\n",
    "\n",
    "#Creating color map plasma ocean RdPu  jet PiYG OrRd GnBu RdGy  RdBu BuGn BrBG viridis mako_r\n",
    "plt.scatter(ySA,x1, c=cSA, cmap= 'PiYG')\n",
    "plt.ylabel('Energy')\n",
    "plt.xlabel('StructuredAnswers')\n"
   ]
  },
  {
   "cell_type": "code",
   "execution_count": null,
   "id": "approximate-guide",
   "metadata": {},
   "outputs": [],
   "source": [
    "x1 = prosody_data['energy']\n",
    "x2 = prosody_data['speakRate']\n",
    "x3 = prosody_data['avgBand1']\n",
    "\n",
    "# Creating plot\n",
    "fig = plt.figure(figsize=(8,8))\n",
    "\n",
    "\n",
    "ax = plt.axes()\n",
    "\n",
    "#Creating color map plasma ocean RdPu  jet PiYG OrRd GnBu RdGy  RdBu BuGn BrBG viridis mako_r\n",
    "plt.scatter(yF,x1, c=cF, cmap= 'PiYG')\n",
    "plt.ylabel('Energy')\n",
    "plt.xlabel('Friendly')\n"
   ]
  },
  {
   "cell_type": "code",
   "execution_count": null,
   "id": "durable-silence",
   "metadata": {},
   "outputs": [],
   "source": [
    "x1 = prosody_data['energy']\n",
    "x2 = prosody_data['speakRate']\n",
    "x3 = prosody_data['avgBand1']\n",
    "\n",
    "# Creating plot\n",
    "fig = plt.figure(figsize=(8,8))\n",
    "\n",
    "\n",
    "ax = plt.axes()\n",
    "\n",
    "#Creating color map plasma ocean RdPu  jet PiYG OrRd GnBu RdGy  RdBu BuGn BrBG viridis mako_r\n",
    "plt.scatter(yNS,x1, c=cNS, cmap= 'PiYG')\n",
    "plt.ylabel('Energy')\n",
    "plt.xlabel('Not Stressed')\n"
   ]
  },
  {
   "cell_type": "code",
   "execution_count": null,
   "id": "behind-grade",
   "metadata": {},
   "outputs": [],
   "source": [
    "plt.scatter(yF,x2,c=cF, cmap= 'jet_r',s=50)\n",
    "plt.ylabel('Speak Rate')\n",
    "plt.xlabel('Friendly')\n",
    "plt.show()"
   ]
  },
  {
   "cell_type": "code",
   "execution_count": null,
   "id": "approved-quarterly",
   "metadata": {},
   "outputs": [],
   "source": [
    "plt.scatter(yNS,x2,c=cNS, cmap= 'jet_r',s=50)\n",
    "plt.ylabel('Speak Rate')\n",
    "plt.xlabel('Not Stressed')\n",
    "plt.show()"
   ]
  },
  {
   "cell_type": "code",
   "execution_count": null,
   "id": "supposed-recycling",
   "metadata": {},
   "outputs": [],
   "source": [
    "plt.scatter(ySA,x2,c=cSA, cmap= 'jet_r',s=50)\n",
    "plt.ylabel('Speak Rate')\n",
    "plt.xlabel('Structured Answer')\n",
    "plt.show()"
   ]
  },
  {
   "cell_type": "code",
   "execution_count": null,
   "id": "sharing-reading",
   "metadata": {},
   "outputs": [],
   "source": [
    "plt.scatter(yF,x3,c=cF, cmap= 'viridis_r',s=50)\n",
    "plt.ylabel('avgBand1')\n",
    "plt.xlabel('Friendly')\n",
    "plt.show()"
   ]
  },
  {
   "cell_type": "code",
   "execution_count": null,
   "id": "suburban-seventh",
   "metadata": {},
   "outputs": [],
   "source": [
    "plt.scatter(ySA,x3,c=cSA, cmap= 'viridis_r',s=50)\n",
    "plt.ylabel('avgBand1')\n",
    "plt.xlabel('StructuredAnswers')\n",
    "plt.show()"
   ]
  },
  {
   "cell_type": "code",
   "execution_count": null,
   "id": "postal-garlic",
   "metadata": {},
   "outputs": [],
   "source": [
    "plt.scatter(yNS,x3,c=cNS, cmap= 'viridis_r',s=50)\n",
    "plt.ylabel('avgBand1')\n",
    "plt.xlabel('Not Stressed')\n",
    "plt.show()"
   ]
  },
  {
   "cell_type": "code",
   "execution_count": null,
   "id": "distributed-pencil",
   "metadata": {},
   "outputs": [],
   "source": [
    "df1=prosody_data[['avgBand1', 'duration', 'pitch_sd', 'jitter','Friendly_c']]\n",
    "sns.pairplot(df1,hue='Friendly_c',palette='viridis_r')"
   ]
  },
  {
   "cell_type": "code",
   "execution_count": null,
   "id": "fallen-france",
   "metadata": {},
   "outputs": [],
   "source": [
    "df1=prosody_data[['avgBand1', 'duration', 'pitch_sd', 'jitter','StructuredAnswers_c']]\n",
    "sns.pairplot(df1,hue='StructuredAnswers_c',palette='viridis_r')"
   ]
  },
  {
   "cell_type": "code",
   "execution_count": null,
   "id": "brazilian-runner",
   "metadata": {},
   "outputs": [],
   "source": [
    "df1=prosody_data[['avgBand1', 'duration', 'pitch_sd', 'jitter','NotStressed_c']]\n",
    "sns.pairplot(df1,hue='NotStressed_c',palette='viridis_r')"
   ]
  },
  {
   "cell_type": "code",
   "execution_count": null,
   "id": "tough-stations",
   "metadata": {},
   "outputs": [],
   "source": [
    "# Creating dataset\n",
    "z = prosody_data['intensityQuant']\n",
    "x = prosody_data['intensityMean']\n",
    "y = prosody_data['intensitySD']\n",
    " \n",
    "# Creating figure\n",
    "fig = plt.figure(figsize = (16, 9))\n",
    "ax = plt.axes(projection =\"3d\")\n",
    "   \n",
    "# Add x, y gridlines\n",
    "ax.grid(b = True, color ='grey',\n",
    "        linestyle ='-.', linewidth = 0.3,\n",
    "        alpha = 0.2)\n",
    " \n",
    " \n",
    "# Creating color map \n",
    "my_cmap = plt.get_cmap('hsv')\n",
    " \n",
    "# Creating plot\n",
    "sctt = ax.scatter3D(x, y, z,\n",
    "                    alpha = 0.8,\n",
    "                    c = yF,\n",
    "                    cmap = my_cmap,\n",
    "                    marker ='^')\n",
    " \n",
    "plt.title(\"simple 3D scatter plot\")\n",
    "ax.set_xlabel('intensityMean', fontweight ='bold')\n",
    "ax.set_ylabel('intensitySD', fontweight ='bold')\n",
    "ax.set_zlabel('intensityQuant', fontweight ='bold')\n",
    "fig.colorbar(sctt, shrink = 0.7,label = 'Friendly', aspect = 5)\n",
    "\n",
    "# show plot\n",
    "\n",
    "\n",
    "plt.show()\n",
    "\n"
   ]
  },
  {
   "cell_type": "code",
   "execution_count": null,
   "id": "particular-mainstream",
   "metadata": {},
   "outputs": [],
   "source": [
    "# Creating dataset\n",
    "z = prosody_data['intensityQuant']\n",
    "x = prosody_data['intensityMean']\n",
    "y = prosody_data['intensitySD']\n",
    " \n",
    "# Creating figure\n",
    "fig = plt.figure(figsize = (16, 9))\n",
    "ax = plt.axes(projection =\"3d\")\n",
    "   \n",
    "# Add x, y gridlines\n",
    "ax.grid(b = True, color ='grey',\n",
    "        linestyle ='-.', linewidth = 0.3,\n",
    "        alpha = 0.2)\n",
    " \n",
    " \n",
    "# Creating color map \n",
    "my_cmap = plt.get_cmap('hsv')\n",
    "\n",
    "# Creating plot\n",
    "sctt = ax.scatter3D(x, y, z,\n",
    "                    alpha = 0.8,\n",
    "                    c = yNS,\n",
    "                    cmap = my_cmap,\n",
    "                    marker ='^')\n",
    " \n",
    "plt.title(\"simple 3D scatter plot\")\n",
    "ax.set_xlabel('intensityMean', fontweight ='bold')\n",
    "ax.set_ylabel('intensitySD', fontweight ='bold')\n",
    "ax.set_zlabel('intensityQuant', fontweight ='bold')\n",
    "fig.colorbar(sctt, shrink = 0.7,label = 'NotStressed', aspect = 5)\n",
    "\n",
    "# show plot\n",
    "\n",
    "\n",
    "plt.show()"
   ]
  },
  {
   "cell_type": "code",
   "execution_count": null,
   "id": "broken-pierre",
   "metadata": {},
   "outputs": [],
   "source": [
    "# Creating dataset\n",
    "z = prosody_data['intensityQuant']\n",
    "x = prosody_data['intensityMean']\n",
    "y = prosody_data['intensitySD']\n",
    " \n",
    "# Creating figure\n",
    "fig = plt.figure(figsize = (16, 9))\n",
    "ax = plt.axes(projection =\"3d\")\n",
    "   \n",
    "# Add x, y gridlines\n",
    "ax.grid(b = True, color ='grey',\n",
    "        linestyle ='-.', linewidth = 0.3,\n",
    "        alpha = 0.2)\n",
    " \n",
    " \n",
    "# Creating color map \n",
    "my_cmap = plt.get_cmap('hsv')\n",
    "\n",
    "# Creating plot\n",
    "sctt = ax.scatter3D(x, y, z,\n",
    "                    alpha = 0.8,\n",
    "                    c = ySA,\n",
    "                    cmap = my_cmap,\n",
    "                    marker ='^')\n",
    " \n",
    "plt.title(\"simple 3D scatter plot\")\n",
    "ax.set_xlabel('intensityMean', fontweight ='bold')\n",
    "ax.set_ylabel('intensitySD', fontweight ='bold')\n",
    "ax.set_zlabel('intensityQuant', fontweight ='bold')\n",
    "fig.colorbar(sctt, shrink = 0.7,label = 'StructuredAnswer', aspect = 5)\n",
    "\n",
    "# show plot\n",
    "\n",
    "\n",
    "plt.show()"
   ]
  },
  {
   "cell_type": "code",
   "execution_count": null,
   "id": "constitutional-thumbnail",
   "metadata": {},
   "outputs": [],
   "source": [
    "from mpl_toolkits import mplot3d\n",
    "import numpy as np\n",
    "import matplotlib.pyplot as plt\n",
    " \n",
    " \n",
    "# Creating dataset\n",
    "\n",
    "x = prosody_data['pitch_sd']\n",
    "y = prosody_data['shimmer']\n",
    "z = prosody_data['power']\n",
    "\n",
    "# Creating figure\n",
    "fig = plt.figure(figsize = (16, 9))\n",
    "\n",
    "ax = plt.axes(projection =\"3d\")\n",
    "\n",
    "# Add x, y gridlines\n",
    "ax.grid(b = True, color ='grey',\n",
    "        linestyle ='-.', linewidth = 0.3,\n",
    "        alpha = 0.2)\n",
    " \n",
    " \n",
    "# Creating color map \n",
    "my_cmap = plt.get_cmap('hsv')\n",
    " \n",
    "# Creating plot\n",
    "sctt = ax.scatter3D(x, y, z,\n",
    "                    alpha = 0.8,\n",
    "                    c = yF,\n",
    "                    cmap = my_cmap,\n",
    "                    marker ='^')\n",
    " \n",
    "plt.title(\"simple 3D scatter plot\")\n",
    "ax.set_xlabel('pitchSD', fontweight ='bold')\n",
    "ax.set_ylabel('Shimmer', fontweight ='bold')\n",
    "ax.set_zlabel('power', fontweight ='bold')\n",
    "fig.colorbar(sctt, shrink = 0.7, label = 'Friendly',aspect = 5)\n",
    "\n",
    "# show plot\n",
    "\n",
    "\n",
    "plt.show()"
   ]
  },
  {
   "cell_type": "code",
   "execution_count": null,
   "id": "complimentary-participation",
   "metadata": {},
   "outputs": [],
   "source": [
    "from mpl_toolkits import mplot3d\n",
    "import numpy as np\n",
    "import matplotlib.pyplot as plt\n",
    " \n",
    " \n",
    "# Creating dataset\n",
    "\n",
    "x = prosody_data['pitch_sd']\n",
    "y = prosody_data['shimmer']\n",
    "z = prosody_data['power']\n",
    "\n",
    "# Creating figure\n",
    "fig = plt.figure(figsize = (16, 9))\n",
    "\n",
    "ax = plt.axes(projection =\"3d\")\n",
    "\n",
    "# Add x, y gridlines\n",
    "ax.grid(b = True, color ='grey',\n",
    "        linestyle ='-.', linewidth = 0.3,\n",
    "        alpha = 0.2)\n",
    " \n",
    " \n",
    "# Creating color map \n",
    "my_cmap = plt.get_cmap('hsv')\n",
    " \n",
    "# Creating plot\n",
    "sctt = ax.scatter3D(x, y, z,\n",
    "                    alpha = 0.8,\n",
    "                    c = ySA,\n",
    "                    cmap = my_cmap,\n",
    "                    marker ='^')\n",
    " \n",
    "plt.title(\"simple 3D scatter plot\")\n",
    "ax.set_xlabel('pitchSD', fontweight ='bold')\n",
    "ax.set_ylabel('Shimmer', fontweight ='bold')\n",
    "ax.set_zlabel('power', fontweight ='bold')\n",
    "fig.colorbar(sctt, shrink = 0.7, label = 'Structured Answer',aspect = 5)\n",
    "\n",
    "# show plot\n",
    "\n",
    "\n",
    "plt.show()"
   ]
  },
  {
   "cell_type": "code",
   "execution_count": null,
   "id": "concrete-publicity",
   "metadata": {},
   "outputs": [],
   "source": [
    "from mpl_toolkits import mplot3d\n",
    "import numpy as np\n",
    "import matplotlib.pyplot as plt\n",
    " \n",
    " \n",
    "# Creating dataset\n",
    "\n",
    "x = prosody_data['pitch_sd']\n",
    "y = prosody_data['shimmer']\n",
    "z = prosody_data['power']\n",
    "\n",
    "# Creating figure\n",
    "fig = plt.figure(figsize = (16, 9))\n",
    "\n",
    "ax = plt.axes(projection =\"3d\")\n",
    "\n",
    "# Add x, y gridlines\n",
    "ax.grid(b = True, color ='grey',\n",
    "        linestyle ='-.', linewidth = 0.3,\n",
    "        alpha = 0.2)\n",
    " \n",
    " \n",
    "# Creating color map \n",
    "my_cmap = plt.get_cmap('hsv')\n",
    " \n",
    "# Creating plot\n",
    "sctt = ax.scatter3D(x, y, z,\n",
    "                    alpha = 0.8,\n",
    "                    c = yNS,\n",
    "                    cmap = my_cmap,\n",
    "                    marker ='^')\n",
    " \n",
    "plt.title(\"simple 3D scatter plot\")\n",
    "ax.set_xlabel('pitchSD', fontweight ='bold')\n",
    "ax.set_ylabel('Shimmer', fontweight ='bold')\n",
    "ax.set_zlabel('power', fontweight ='bold')\n",
    "fig.colorbar(sctt, shrink = 0.7, label = 'Not Stressed',aspect = 5)\n",
    "\n",
    "# show plot\n",
    "\n",
    "\n",
    "plt.show()"
   ]
  },
  {
   "cell_type": "code",
   "execution_count": null,
   "id": "dried-conference",
   "metadata": {},
   "outputs": [],
   "source": [
    "x = prosody_data['avgBand1']\n",
    "y = prosody_data['energy']\n",
    "z = prosody_data['power']\n",
    "\n",
    "# Creating figure\n",
    "fig = plt.figure(figsize = (16, 9))\n",
    "ax = plt.axes(projection =\"3d\")\n",
    "ax.set_facecolor(\"gray\")  \n",
    "# Add x, y gridlines\n",
    "ax.grid(b = True, color ='black', \n",
    "        linestyle ='-.', linewidth = 0.3,\n",
    "        alpha = 0.2)\n",
    " \n",
    " \n",
    "# Creating color map plasma ocean RdPu  jet PiYG OrRd GnBu RdGy  RdBu BuGn BrBG viridis\n",
    "my_cmap = plt.get_cmap('plasma_r') \n",
    " \n",
    "# Creating plot\n",
    "sctt = ax.scatter3D(x, y, z,\n",
    "                    alpha = 0.8,\n",
    "                    c = cF,\n",
    "                    cmap = my_cmap,\n",
    "                    marker ='o')\n",
    " \n",
    "plt.title(\"simple 3D scatter plot\")\n",
    "ax.set_xlabel('avgBand1', fontweight ='bold')\n",
    "ax.set_ylabel('energy', fontweight ='bold')\n",
    "ax.set_zlabel('power', fontweight ='bold')\n",
    "#fig.colorbar(sctt, shrink = 0.7, aspect = 5)\n",
    "\n",
    "plt.show()\n",
    "\n",
    "fig = plt.figure(figsize=(8,8))\n",
    "ax = plt.axes()\n",
    "ax.set_facecolor(\"gray\") \n",
    "plt.scatter(x, y, c=cF, cmap= 'plasma_r',label=x)\n",
    "plt.ylabel('Energy')\n",
    "plt.xlabel('avgBand1')\n",
    "plt.legend()\n",
    "\n",
    "\n",
    "fig = plt.figure(figsize=(8,8))\n",
    "ax = plt.axes()\n",
    "ax.set_facecolor(\"gray\")  \n",
    "plt.scatter(y, z, c=cF, cmap= 'plasma_r')\n",
    "plt.ylabel('power')\n",
    "plt.xlabel('Energy')\n"
   ]
  },
  {
   "cell_type": "code",
   "execution_count": null,
   "id": "adjacent-inquiry",
   "metadata": {},
   "outputs": [],
   "source": [
    "x = prosody_data['avgBand1']\n",
    "y = prosody_data['energy']\n",
    "z = prosody_data['power']\n",
    "\n",
    "# Creating figure\n",
    "fig = plt.figure(figsize = (16, 9))\n",
    "ax = plt.axes(projection =\"3d\")\n",
    "ax.set_facecolor(\"gray\")  \n",
    "# Add x, y gridlines\n",
    "ax.grid(b = True, color ='black', \n",
    "        linestyle ='-.', linewidth = 0.3,\n",
    "        alpha = 0.2)\n",
    " \n",
    " \n",
    "# Creating color map plasma ocean RdPu  jet PiYG OrRd GnBu RdGy  RdBu BuGn BrBG viridis\n",
    "my_cmap = plt.get_cmap('plasma_r') \n",
    " \n",
    "# Creating plot\n",
    "sctt = ax.scatter3D(x, y, z,\n",
    "                    alpha = 0.8,\n",
    "                    c = cSA,\n",
    "                    cmap = my_cmap,\n",
    "                    marker ='o')\n",
    " \n",
    "plt.title(\"simple 3D scatter plot\")\n",
    "ax.set_xlabel('avgBand1', fontweight ='bold')\n",
    "ax.set_ylabel('energy', fontweight ='bold')\n",
    "ax.set_zlabel('power', fontweight ='bold')\n",
    "#fig.colorbar(sctt, shrink = 0.7, aspect = 5)\n",
    "\n",
    "plt.show()\n",
    "\n",
    "fig = plt.figure(figsize=(8,8))\n",
    "ax = plt.axes()\n",
    "ax.set_facecolor(\"gray\") \n",
    "plt.scatter(x, y, c=cSA, cmap= 'plasma_r',label=x)\n",
    "plt.ylabel('Energy')\n",
    "plt.xlabel('avgBand1')\n",
    "plt.legend()\n",
    "\n",
    "\n",
    "fig = plt.figure(figsize=(8,8))\n",
    "ax = plt.axes()\n",
    "ax.set_facecolor(\"gray\")  \n",
    "plt.scatter(y, z, c=cSA, cmap= 'plasma_r')\n",
    "plt.ylabel('power')\n",
    "plt.xlabel('Energy')\n"
   ]
  },
  {
   "cell_type": "code",
   "execution_count": null,
   "id": "incoming-coordinate",
   "metadata": {},
   "outputs": [],
   "source": [
    "x = prosody_data['avgBand1']\n",
    "y = prosody_data['energy']\n",
    "z = prosody_data['power']\n",
    "\n",
    "# Creating figure\n",
    "fig = plt.figure(figsize = (16, 9))\n",
    "ax = plt.axes(projection =\"3d\")\n",
    "ax.set_facecolor(\"gray\")  \n",
    "# Add x, y gridlines\n",
    "ax.grid(b = True, color ='black', \n",
    "        linestyle ='-.', linewidth = 0.3,\n",
    "        alpha = 0.2)\n",
    " \n",
    " \n",
    "# Creating color map plasma ocean RdPu  jet PiYG OrRd GnBu RdGy  RdBu BuGn BrBG viridis\n",
    "my_cmap = plt.get_cmap('plasma_r') \n",
    " \n",
    "# Creating plot\n",
    "sctt = ax.scatter3D(x, y, z,\n",
    "                    alpha = 0.8,\n",
    "                    c = cNS,\n",
    "                    cmap = my_cmap,\n",
    "                    marker ='o')\n",
    " \n",
    "plt.title(\"simple 3D scatter plot\")\n",
    "ax.set_xlabel('avgBand1', fontweight ='bold')\n",
    "ax.set_ylabel('energy', fontweight ='bold')\n",
    "ax.set_zlabel('power', fontweight ='bold')\n",
    "#fig.colorbar(sctt, shrink = 0.7, aspect = 5)\n",
    "\n",
    "plt.show()\n",
    "\n",
    "fig = plt.figure(figsize=(8,8))\n",
    "ax = plt.axes()\n",
    "ax.set_facecolor(\"gray\") \n",
    "plt.scatter(x, y, c=cNS, cmap= 'plasma_r',label=x)\n",
    "plt.ylabel('Energy')\n",
    "plt.xlabel('avgBand1')\n",
    "plt.legend()\n",
    "\n",
    "\n",
    "fig = plt.figure(figsize=(8,8))\n",
    "ax = plt.axes()\n",
    "ax.set_facecolor(\"gray\")  \n",
    "plt.scatter(y, z, c=cNS, cmap= 'plasma_r')\n",
    "plt.ylabel('power')\n",
    "plt.xlabel('Energy')\n"
   ]
  },
  {
   "cell_type": "code",
   "execution_count": null,
   "id": "composite-raise",
   "metadata": {},
   "outputs": [],
   "source": [
    "cor = dA.corr()\n",
    "cor.style.background_gradient(cmap=\"coolwarm\").set_precision(2)"
   ]
  },
  {
   "cell_type": "code",
   "execution_count": null,
   "id": "accredited-laundry",
   "metadata": {},
   "outputs": [],
   "source": [
    "sns.boxplot(x=cF, y='meanPeriod',data= prosody_data)"
   ]
  },
  {
   "cell_type": "code",
   "execution_count": null,
   "id": "nonprofit-snapshot",
   "metadata": {},
   "outputs": [],
   "source": [
    "sns.boxplot(x=cSA, y='f2STDf1',data= prosody_data)"
   ]
  },
  {
   "cell_type": "code",
   "execution_count": null,
   "id": "union-rouge",
   "metadata": {},
   "outputs": [],
   "source": [
    "sns.boxplot(x=cNS, y='power',data= prosody_data)"
   ]
  },
  {
   "cell_type": "code",
   "execution_count": null,
   "id": "comfortable-robinson",
   "metadata": {},
   "outputs": [],
   "source": [
    "sns.boxplot(x=cF, y='avgBand1',data= prosody_data)"
   ]
  },
  {
   "cell_type": "code",
   "execution_count": null,
   "id": "secure-pottery",
   "metadata": {},
   "outputs": [],
   "source": [
    "sns.boxplot(x=cNS, y='avgBand1',data= prosody_data)"
   ]
  },
  {
   "cell_type": "code",
   "execution_count": null,
   "id": "found-minnesota",
   "metadata": {},
   "outputs": [],
   "source": [
    "sns.boxplot(x=cSA, y='avgBand1',data= prosody_data)"
   ]
  },
  {
   "cell_type": "code",
   "execution_count": null,
   "id": "minus-sharp",
   "metadata": {},
   "outputs": [],
   "source": [
    "import matplotlib.pyplot as plt\n",
    "\n",
    "def box_plot(data, edge_color, fill_color):\n",
    "    bp = ax.boxplot(data, patch_artist=True)\n",
    "    \n",
    "    for element in ['boxes', 'whiskers', 'fliers', 'means', 'medians', 'caps']:\n",
    "        plt.setp(bp[element], color=edge_color)\n",
    "\n",
    "    for patch in bp['boxes']:\n",
    "        patch.set(facecolor=fill_color)       \n",
    "        \n",
    "fig, ax = plt.subplots()\n",
    "box_plot([yF,ySA,yNS,yRH], 'red', 'brown')\n",
    "#ax.set(y='avgBand1')\n",
    "plt.show()"
   ]
  },
  {
   "cell_type": "code",
   "execution_count": null,
   "id": "meaningful-defendant",
   "metadata": {},
   "outputs": [],
   "source": [
    "\n"
   ]
  },
  {
   "cell_type": "markdown",
   "id": "statistical-mason",
   "metadata": {},
   "source": [
    "box_plot([yF,ySA,yNS,yRH], 'blue', 'cyan')\n",
    "ax.set_ylim(prosody_data['meanPeriod'])\n",
    "\n",
    "plt.show()"
   ]
  },
  {
   "cell_type": "code",
   "execution_count": null,
   "id": "elementary-airline",
   "metadata": {},
   "outputs": [],
   "source": [
    "Hr = np.array(cF.value_counts())\n",
    "arr = cF\n",
    "arrLB = []\n",
    "for i in arr:\n",
    "    if(i==0):\n",
    "        arrLB.append('Friendly')\n",
    "    else:\n",
    "        arrLB.append('NotFriendly')\n",
    "x=np.array(arrLB)\n",
    "lb = (np.unique(x))\n",
    "plt.rcParams.update({'font.size':16})#figure.figsize':[10,10],\n",
    "plt.pie(Hr,labels = lb, autopct = '%0.2f')\n",
    "plt.title(\"Percentage %\")"
   ]
  },
  {
   "cell_type": "code",
   "execution_count": null,
   "id": "characteristic-choice",
   "metadata": {},
   "outputs": [],
   "source": [
    "Hr = np.array(cNS.value_counts())\n",
    "arr = cNS\n",
    "arrLB = []\n",
    "for i in arr:\n",
    "    if(i==0):\n",
    "        arrLB.append('Not Stressed')\n",
    "    else:\n",
    "        arrLB.append('Stressed')\n",
    "x=np.array(arrLB)\n",
    "lb = (np.unique(x))\n",
    "plt.rcParams.update({'font.size':16})#figure.figsize':[12,12],\n",
    "plt.pie(Hr,labels = lb, autopct = '%0.2f')\n",
    "plt.title(\"Percentage %\")"
   ]
  },
  {
   "cell_type": "code",
   "execution_count": null,
   "id": "athletic-proposal",
   "metadata": {},
   "outputs": [],
   "source": [
    "Hr = np.array(cSA.value_counts())\n",
    "arr = cSA\n",
    "arrLB = []\n",
    "for i in arr:\n",
    "    if(i==0):\n",
    "        arrLB.append('Structured Answer')\n",
    "    else:\n",
    "        arrLB.append('Not Structured Answer')\n",
    "x=np.array(arrLB)\n",
    "lb = (np.unique(x))\n",
    "plt.rcParams.update({'font.size':16})#figure.figsize':[10,10],\n",
    "plt.pie(Hr,labels = lb, autopct = '%0.2f')\n",
    "plt.title(\"Percentage %\")"
   ]
  },
  {
   "cell_type": "code",
   "execution_count": null,
   "id": "julian-haven",
   "metadata": {},
   "outputs": [],
   "source": [
    "ranks = {}\n",
    "from sklearn.preprocessing import MinMaxScaler\n",
    " \n",
    "def rank_to_dict(ranks, names, order=1):\n",
    "    minmax = MinMaxScaler()\n",
    "    ranks = minmax.fit_transform(order*np.array([ranks]).T).T[0]\n",
    "    #ranks = map(lambda x: round(x, 5), ranks)\n",
    "    return dict(zip(names, ranks ))"
   ]
  },
  {
   "cell_type": "markdown",
   "id": "lightweight-academy",
   "metadata": {},
   "source": [
    "# Feature Selection Using Kbest"
   ]
  },
  {
   "cell_type": "code",
   "execution_count": null,
   "id": "downtown-invalid",
   "metadata": {},
   "outputs": [],
   "source": [
    "\n",
    "def select_feature_kbest(prosody_data_y):\n",
    "    array =  prosody_data.values\n",
    "\n",
    "    X = prosody_data_X\n",
    "    y = prosody_data_y\n",
    "    # feature extraction\n",
    "    kbest_test = SelectKBest(score_func=f_classif, k=4)\n",
    "    fit = kbest_test.fit(X, y)\n",
    "    # summarize scores\n",
    "    set_printoptions(precision=3)\n",
    "    #print(fit.scores_)\n",
    "    features = fit.transform(X)\n",
    "    # summarize selected features\n",
    "    #print(features[0:5,:])\n",
    "\n",
    "    ranks[\"kbest\"] = rank_to_dict(np.abs(fit.scores_), prosody_data_X)\n",
    "    rankDict = {}\n",
    "    rankDict = ranks[\"kbest\"]\n",
    "    return rankDict\n"
   ]
  },
  {
   "cell_type": "markdown",
   "id": "baking-officer",
   "metadata": {},
   "source": [
    "# Feature Selection Using Ridge Regression"
   ]
  },
  {
   "cell_type": "code",
   "execution_count": null,
   "id": "descending-minimum",
   "metadata": {},
   "outputs": [],
   "source": [
    "from sklearn.model_selection import RepeatedKFold\n",
    "from sklearn.linear_model import Ridge\n",
    "# load the dataset\n",
    "def select_feature_ridge(prosody_data_y):\n",
    "    array = prosody_data.values\n",
    "    X=prosody_data_X\n",
    "    y=prosody_data_y\n",
    "    # define model\n",
    "    ridge_model = Ridge(alpha=1.0)\n",
    "    # define model evaluation method\n",
    "    cv = RepeatedKFold(n_splits=10, n_repeats=3, random_state=1)\n",
    "    # evaluate model\n",
    "    scores = cross_val_score(ridge_model, X, y, scoring='neg_mean_absolute_error', cv=cv, n_jobs=-1)\n",
    "    # force scores to be positive\n",
    "    scores = absolute(scores)\n",
    "    print('Mean MAE: %.3f (%.3f)' % (mean(scores), std(scores)))\n",
    "    print(scores)\n",
    "    \n",
    "    ranks[\"ridge\"] = rank_to_dict(np.abs(scores), prosody_data_X)\n",
    "    rankDict = {}\n",
    "    rankDict = ranks[\"ridge\"]\n",
    "    return rankDict"
   ]
  },
  {
   "cell_type": "markdown",
   "id": "existing-private",
   "metadata": {},
   "source": [
    "# Feature Selection Using Lasso"
   ]
  },
  {
   "cell_type": "code",
   "execution_count": null,
   "id": "measured-prevention",
   "metadata": {},
   "outputs": [],
   "source": [
    "from sklearn.linear_model import Lasso \n",
    "\n",
    "def select_feature_lasso(prosody_data_y):\n",
    "    array =  prosody_data.values\n",
    "\n",
    "    X = prosody_data_X\n",
    "    y = prosody_data_y\n",
    "    \n",
    "    lasso = Lasso(alpha=.5)\n",
    "    lasso.fit(X, y)\n",
    "\n",
    "    cross_val_score(lasso, prosody_data_X , prosody_data_y,cv=3)\n",
    "\n",
    "    ranks[\"Lasso\"] = rank_to_dict(np.abs(lasso.coef_), prosody_data_X)\n",
    "    rankDict = {}\n",
    "    rankDict = ranks['Lasso']\n",
    "    return rankDict"
   ]
  },
  {
   "cell_type": "markdown",
   "id": "going-allowance",
   "metadata": {},
   "source": [
    "# Feature Selection Using LDA"
   ]
  },
  {
   "cell_type": "code",
   "execution_count": null,
   "id": "decreased-indianapolis",
   "metadata": {},
   "outputs": [],
   "source": [
    "from numpy import arange\n",
    "from sklearn.datasets import make_classification\n",
    "from sklearn.model_selection import GridSearchCV\n",
    "from sklearn.model_selection import RepeatedStratifiedKFold\n",
    "from sklearn.discriminant_analysis import LinearDiscriminantAnalysis\n",
    "# define dataset\n",
    "def select_feature_LDA(prosody_data_y):\n",
    "    X= prosody_data_X\n",
    "    y= prosody_data_y\n",
    "    # define model\n",
    "    model = LinearDiscriminantAnalysis(solver='lsqr')\n",
    "    # define model evaluation method\n",
    "    cv = RepeatedStratifiedKFold(n_splits=10, n_repeats=3, random_state=1)\n",
    "    # define grid\n",
    "    grid = dict()\n",
    "    grid['shrinkage'] = arange(0, 1, 0.01)\n",
    "    # define search\n",
    "    search = GridSearchCV(model, grid, scoring='accuracy', cv=cv, n_jobs=-1)\n",
    "    # perform the search\n",
    "    results = search.fit(X, y)\n",
    "    # summarize\n",
    "    print('Mean Accuracy: %.3f' % results.best_score_)\n",
    "    print('Config: %s' % results.best_params_)"
   ]
  },
  {
   "cell_type": "markdown",
   "id": "viral-citation",
   "metadata": {},
   "source": [
    "# Making arrays of Top 10 20 30 Features"
   ]
  },
  {
   "cell_type": "code",
   "execution_count": null,
   "id": "organic-argument",
   "metadata": {},
   "outputs": [],
   "source": [
    "def select_features(rankDict):\n",
    "    selectedFeatures = []\n",
    "\n",
    "    selectedFeatures = dict(sorted(rankDict.items(), key=lambda item: item[1],reverse=True))\n",
    "\n",
    "\n",
    "    selectedFeatures_10 = []\n",
    "    i=0\n",
    "    for key in selectedFeatures.keys():\n",
    "        if(i<10):\n",
    "            selectedFeatures_10.append(key)\n",
    "            i+=1\n",
    "\n",
    "    selectedFeatures_20 = []\n",
    "    i=0\n",
    "    for key in selectedFeatures.keys():\n",
    "        if(i<20):\n",
    "            selectedFeatures_20.append(key)\n",
    "            i+=1\n",
    "\n",
    "    selectedFeatures_30 = []\n",
    "    i=0\n",
    "    for key in selectedFeatures.keys():\n",
    "        if(i<30):\n",
    "            selectedFeatures_30.append(key)\n",
    "            i+=1\n",
    "    return selectedFeatures_10,selectedFeatures_20,selectedFeatures_30\n"
   ]
  },
  {
   "cell_type": "code",
   "execution_count": null,
   "id": "delayed-brick",
   "metadata": {},
   "outputs": [],
   "source": [
    "prosody_data_X = prosody_data.drop(['participant&question','Hired','RecommendHiring','Friendly','Friendly_c','StructuredAnswers','StructuredAnswers_c','NotStressed','NotStressed_c'],axis=1)"
   ]
  },
  {
   "cell_type": "markdown",
   "id": "productive-morning",
   "metadata": {},
   "source": [
    "# Feature selection for RecommendHirig using KBest"
   ]
  },
  {
   "cell_type": "code",
   "execution_count": null,
   "id": "greek-mathematics",
   "metadata": {},
   "outputs": [],
   "source": [
    "#feature ranks for RecommendHiring\n",
    "prosody_data_y = yRH\n",
    "X_train, X_test, y_train, y_test = train_test_split(prosody_data_X, prosody_data_y, test_size=0.20, random_state=10)\n",
    "selectedFeatures_RecommendHiring_Kbest=select_feature_kbest(yRH)\n",
    "print(\"\\nScores of Features for RecommendHiring\")\n",
    "selectedFeatures_RecommendHiring_Kbest"
   ]
  },
  {
   "cell_type": "code",
   "execution_count": null,
   "id": "attended-modification",
   "metadata": {},
   "outputs": [],
   "source": [
    "selectedFeatures_kbest_10_RecommendHiring,selectedFeatures_kbest_20_RecommendHiring,selectedFeatures_kbest_30_RecommendHiring= select_features(selectedFeatures_RecommendHiring_Kbest)\n",
    "\n",
    "print(\"Top 10 Selected Features Using kbest for RecommendHiring:\",selectedFeatures_kbest_10_RecommendHiring )\n",
    "\n",
    "print(\"\\n\\n\\nTop 20 Selected Features Using kbest for RecommendHiring:\",selectedFeatures_kbest_20_RecommendHiring )\n",
    "\n",
    "print(\"\\n\\n\\nTop 30 Selected Features Using kbest for RecommendHiring:\",selectedFeatures_kbest_30_RecommendHiring )"
   ]
  },
  {
   "cell_type": "markdown",
   "id": "unnecessary-kernel",
   "metadata": {},
   "source": [
    "# Feature selection for Friendly using KBest"
   ]
  },
  {
   "cell_type": "code",
   "execution_count": null,
   "id": "combined-roots",
   "metadata": {},
   "outputs": [],
   "source": [
    "#feature ranks for friendly\n",
    "prosody_data_y = yF\n",
    "X_train, X_test, y_train, y_test = train_test_split(prosody_data_X, prosody_data_y, test_size=0.20, random_state=10)\n",
    "selectedFeatures_Friendly_Kbest=select_feature_kbest(yF)\n",
    "print(\"\\nScores of Features for Friendly\")\n",
    "selectedFeatures_Friendly_Kbest"
   ]
  },
  {
   "cell_type": "code",
   "execution_count": null,
   "id": "distinguished-clinic",
   "metadata": {},
   "outputs": [],
   "source": [
    "selectedFeatures_kbest_10_Friendly,selectedFeatures_kbest_20_Friendly,selectedFeatures_kbest_30_Friendly= select_features(selectedFeatures_Friendly_Kbest)\n",
    "\n",
    "print(\"Top 10 Selected Features Using kbest for friendly:\",selectedFeatures_kbest_10_Friendly )\n",
    "\n",
    "print(\"\\n\\n\\nTop 20 Selected Features Using kbest for friendly:\",selectedFeatures_kbest_20_Friendly )\n",
    "\n",
    "print(\"\\n\\n\\nTop 30 Selected Features Using kbest for friendly:\",selectedFeatures_kbest_30_Friendly )"
   ]
  },
  {
   "cell_type": "markdown",
   "id": "obvious-warrant",
   "metadata": {},
   "source": [
    "\n",
    "# Feature selection for Not Stressed using KBest"
   ]
  },
  {
   "cell_type": "code",
   "execution_count": null,
   "id": "blessed-watershed",
   "metadata": {},
   "outputs": [],
   "source": [
    "#feature ranks for Stressed\n",
    "prosody_data_y = yNS\n",
    "X_train, X_test, y_train, y_test = train_test_split(prosody_data_X, prosody_data_y, test_size=0.20, random_state=10)\n",
    "selectedFeatures_NotStressed_Kbest=select_feature_kbest(yNS)\n",
    "print(\"\\nScores of Features for Not Stressed\")\n",
    "#selectedFeatures_NotStressed"
   ]
  },
  {
   "cell_type": "code",
   "execution_count": null,
   "id": "offshore-return",
   "metadata": {},
   "outputs": [],
   "source": [
    "selectedFeatures_kbest_10_NotStressed,selectedFeatures_kbest_20_NotStressed,selectedFeatures_kbest_30_NotStressed= select_features(selectedFeatures_NotStressed_Kbest)\n",
    "\n",
    "print(\"Top 10 Selected Features Using kbest:\",selectedFeatures_kbest_10_NotStressed )\n",
    "\n",
    "print(\"\\n\\n\\nTop 20 Selected Features Using kbest:\",selectedFeatures_kbest_20_NotStressed )\n",
    "\n",
    "print(\"\\n\\n\\nTop 30 Selected Features Using kbest:\",selectedFeatures_kbest_30_NotStressed )"
   ]
  },
  {
   "cell_type": "markdown",
   "id": "following-conference",
   "metadata": {},
   "source": [
    "# Feature selection for Structured Answer using KBest"
   ]
  },
  {
   "cell_type": "code",
   "execution_count": null,
   "id": "unique-opening",
   "metadata": {},
   "outputs": [],
   "source": [
    "#feature ranks for Structured Answer\n",
    "prosody_data_y = ySA\n",
    "X_train, X_test, y_train, y_test = train_test_split(prosody_data_X, prosody_data_y, test_size=0.20, random_state=10)\n",
    "selectedFeatures_StructuredAnswer_Kbest=select_feature_kbest(ySA)\n",
    "print(\"\\nScores of Features for Not Structured Answer\")\n",
    "#selectedFeatures_StructuredAnswer"
   ]
  },
  {
   "cell_type": "code",
   "execution_count": null,
   "id": "precious-teaching",
   "metadata": {},
   "outputs": [],
   "source": [
    "selectedFeatures_kbest_10_StructuredAnswer,selectedFeatures_kbest_20_StructuredAnswer,selectedFeatures_kbest_30_StructuredAnswer= select_features(selectedFeatures_StructuredAnswer_Kbest)\n",
    "\n",
    "print(\"Top 10 Selected Features Using kbest:\",selectedFeatures_kbest_10_StructuredAnswer )\n",
    "\n",
    "print(\"\\n\\n\\nTop 20 Selected Features Using kbest:\",selectedFeatures_kbest_20_StructuredAnswer )\n",
    "\n",
    "print(\"\\n\\n\\nTop 30 Selected Features Using kbest:\",selectedFeatures_kbest_30_StructuredAnswer )"
   ]
  },
  {
   "cell_type": "markdown",
   "id": "sufficient-barcelona",
   "metadata": {},
   "source": [
    "# Feature selection for RecommendHiring using Ridge"
   ]
  },
  {
   "cell_type": "code",
   "execution_count": null,
   "id": "handy-school",
   "metadata": {},
   "outputs": [],
   "source": [
    "#feature ranks for RecommendHiring ridge\n",
    "prosody_data_y = yRH\n",
    "X_train, X_test, y_train, y_test = train_test_split(prosody_data_X, prosody_data_y, test_size=0.20, random_state=10)\n",
    "selectedFeatures_RecommendHiring_Ridge=select_feature_ridge(yRH)\n",
    "print(\"\\nScores of Features for RecommendHiring\")\n",
    "selectedFeatures_RecommendHiring_Ridge"
   ]
  },
  {
   "cell_type": "code",
   "execution_count": null,
   "id": "artificial-diana",
   "metadata": {},
   "outputs": [],
   "source": [
    "selectedFeatures_ridge_10_RecommendHiring,selectedFeatures_ridge_20_RecommendHiring,selectedFeatures_ridge_30_RecommendHiring= select_features(selectedFeatures_RecommendHiring_Ridge)\n",
    "\n",
    "print(\"Top 10 Selected Features For RecommendHiring Using ridge :\",selectedFeatures_ridge_10_RecommendHiring )\n",
    "\n",
    "print(\"\\n\\n\\nTop 20 Selected For RecommendHiring Features Using ridge:\",selectedFeatures_ridge_20_RecommendHiring )\n",
    "\n",
    "print(\"\\n\\n\\nTop 30 Selected For RecommendHiring Features Using ridge:\",selectedFeatures_ridge_30_RecommendHiring )"
   ]
  },
  {
   "cell_type": "markdown",
   "id": "attractive-profession",
   "metadata": {},
   "source": [
    "# Feature selection for Friendly using Ridge"
   ]
  },
  {
   "cell_type": "code",
   "execution_count": null,
   "id": "understood-breakdown",
   "metadata": {},
   "outputs": [],
   "source": [
    "#feature ranks for friendly ridge\n",
    "prosody_data_y = yF\n",
    "X_train, X_test, y_train, y_test = train_test_split(prosody_data_X, prosody_data_y, test_size=0.20, random_state=10)\n",
    "selectedFeatures_Friendly_Ridge=select_feature_ridge(yF)\n",
    "print(\"\\nScores of Features for Friendly\")\n",
    "selectedFeatures_Friendly_Ridge"
   ]
  },
  {
   "cell_type": "code",
   "execution_count": null,
   "id": "behavioral-links",
   "metadata": {},
   "outputs": [],
   "source": [
    "selectedFeatures_ridge_10_Friendly,selectedFeatures_ridge_20_Friendly,selectedFeatures_ridge_30_Friendly= select_features(selectedFeatures_Friendly_Ridge)\n",
    "\n",
    "print(\"Top 10 Selected Features For Friendly Using ridge :\",selectedFeatures_ridge_10_Friendly )\n",
    "\n",
    "print(\"\\n\\n\\nTop 20 Selected For Friendly Features Using ridge:\",selectedFeatures_ridge_20_Friendly )\n",
    "\n",
    "print(\"\\n\\n\\nTop 30 Selected For Friendly Features Using ridge:\",selectedFeatures_ridge_30_Friendly )"
   ]
  },
  {
   "cell_type": "markdown",
   "id": "simplified-motivation",
   "metadata": {},
   "source": [
    "# Feature selection for Not Stressed using Ridge"
   ]
  },
  {
   "cell_type": "code",
   "execution_count": null,
   "id": "dangerous-shore",
   "metadata": {},
   "outputs": [],
   "source": [
    "#feature ranks for Not Stressed ridge\n",
    "prosody_data_y = yNS\n",
    "X_train, X_test, y_train, y_test = train_test_split(prosody_data_X, prosody_data_y, test_size=0.20, random_state=10)\n",
    "selectedFeatures_NotStressed_Ridge=select_feature_ridge(yNS)\n",
    "print(\"\\nScores of Features for Not Stressed\")\n",
    "selectedFeatures_NotStressed_Ridge\n"
   ]
  },
  {
   "cell_type": "code",
   "execution_count": null,
   "id": "characteristic-project",
   "metadata": {},
   "outputs": [],
   "source": [
    "selectedFeatures_ridge_10_NotStressed,selectedFeatures_ridge_20_NotStressed,selectedFeatures_ridge_30_NotStressed= select_features(selectedFeatures_NotStressed_Ridge)\n",
    "\n",
    "print(\"Top 10 Selected Features Using ridge for Not Stressed:\",selectedFeatures_ridge_10_NotStressed )\n",
    "\n",
    "print(\"\\n\\n\\nTop 20 Selected Features Using for Not Stressed:\",selectedFeatures_ridge_20_NotStressed )\n",
    "\n",
    "print(\"\\n\\n\\nTop 30 Selected Features Using for Not Stressed:\",selectedFeatures_ridge_30_NotStressed)"
   ]
  },
  {
   "cell_type": "code",
   "execution_count": null,
   "id": "velvet-worst",
   "metadata": {},
   "outputs": [],
   "source": [
    "#feature ranks for StructuredAnswer ridge\n",
    "prosody_data_y = ySA\n",
    "X_train, X_test, y_train, y_test = train_test_split(prosody_data_X, prosody_data_y, test_size=0.20, random_state=10)\n",
    "selectedFeatures_StructuredAnswer_Ridge=select_feature_ridge(ySA)\n",
    "print(\"\\nScores of Features for Structured Answer\")\n",
    "selectedFeatures_StructuredAnswer_Ridge\n"
   ]
  },
  {
   "cell_type": "markdown",
   "id": "metric-preservation",
   "metadata": {},
   "source": [
    "# Feature selection for Structured Answer using Ridge"
   ]
  },
  {
   "cell_type": "code",
   "execution_count": null,
   "id": "approximate-parish",
   "metadata": {},
   "outputs": [],
   "source": [
    "selectedFeatures_ridge_10_StructuredAnswer,selectedFeatures_ridge_20_StructuredAnswer,selectedFeatures_ridge_30_StructuredAnswer= select_features(selectedFeatures_StructuredAnswer_Ridge)\n",
    "\n",
    "print(\"Top 10 Selected Features for Structured Answer Using ridge:\",selectedFeatures_ridge_10_StructuredAnswer )\n",
    "\n",
    "print(\"\\n\\n\\nTop 20 Selected Features For Structured AnswerUsing ridge:\",selectedFeatures_ridge_20_StructuredAnswer)\n",
    "\n",
    "print(\"\\n\\n\\nTop 30 Selected Features Using For Structured Answer ridge:\",selectedFeatures_ridge_30_StructuredAnswer )"
   ]
  },
  {
   "cell_type": "markdown",
   "id": "upset-treasure",
   "metadata": {},
   "source": [
    "# Feature selection for friendly Answer using RecommendHiring"
   ]
  },
  {
   "cell_type": "code",
   "execution_count": null,
   "id": "southern-spouse",
   "metadata": {},
   "outputs": [],
   "source": [
    "#feature ranks for RecommendHiring using Lasso\n",
    "prosody_data_y = yRH\n",
    "X_train, X_test, y_train, y_test = train_test_split(prosody_data_X, prosody_data_y, test_size=0.20, random_state=10)\n",
    "selectedFeatures_RecommendHiring_Lasso=select_feature_lasso(yRH)\n",
    "print(\"\\nScores of Features for RecommendHiring using Lasso\")\n",
    "selectedFeatures_RecommendHiring_Lasso"
   ]
  },
  {
   "cell_type": "code",
   "execution_count": null,
   "id": "abroad-research",
   "metadata": {},
   "outputs": [],
   "source": [
    "selectedFeatures_lasso_10_RecommendHiring,selectedFeatures_lasso_20_RecommendHiring,selectedFeatures_lasso_30_RecommendHiring= select_features(selectedFeatures_RecommendHiring_Lasso)\n",
    "\n",
    "print(\"Top 10 Selected Features for RecommendHiring Using Lasso:\",selectedFeatures_lasso_10_RecommendHiring )\n",
    "\n",
    "print(\"\\n\\n\\nTop 20 Selected Features For RecommendHiring Using Lasso:\",selectedFeatures_lasso_20_RecommendHiring)\n",
    "\n",
    "print(\"\\n\\n\\nTop 30 Selected Features Using For RecommendHiring Using Lasso:\",selectedFeatures_lasso_30_RecommendHiring )"
   ]
  },
  {
   "cell_type": "markdown",
   "id": "legal-surgeon",
   "metadata": {},
   "source": [
    "# Feature selection for friendly using Lasso"
   ]
  },
  {
   "cell_type": "code",
   "execution_count": null,
   "id": "vertical-people",
   "metadata": {},
   "outputs": [],
   "source": [
    "#feature ranks for friendly using Lasso\n",
    "prosody_data_y = yF\n",
    "X_train, X_test, y_train, y_test = train_test_split(prosody_data_X, prosody_data_y, test_size=0.20, random_state=10)\n",
    "selectedFeatures_Friendly_Lasso=select_feature_lasso(yF)\n",
    "print(\"\\nScores of Features for Friendly using Lasso\")\n",
    "selectedFeatures_Friendly_Lasso"
   ]
  },
  {
   "cell_type": "code",
   "execution_count": null,
   "id": "talented-swift",
   "metadata": {},
   "outputs": [],
   "source": [
    "selectedFeatures_lasso_10_Friendly,selectedFeatures_lasso_20_Friendly,selectedFeatures_lasso_30_Friendly= select_features(selectedFeatures_Friendly_Lasso)\n",
    "\n",
    "print(\"Top 10 Selected Features for Friendly Using Lasso:\",selectedFeatures_lasso_10_Friendly )\n",
    "\n",
    "print(\"\\n\\n\\nTop 20 Selected Features For Friendly Using Lasso:\",selectedFeatures_lasso_20_Friendly)\n",
    "\n",
    "print(\"\\n\\n\\nTop 30 Selected Features Using For Friendly Using Lasso:\",selectedFeatures_lasso_30_Friendly )"
   ]
  },
  {
   "cell_type": "code",
   "execution_count": null,
   "id": "biblical-intellectual",
   "metadata": {},
   "outputs": [],
   "source": [
    "#feature ranks for Not Stressed using Lasso\n",
    "prosody_data_y = yNS\n",
    "X_train, X_test, y_train, y_test = train_test_split(prosody_data_X, prosody_data_y, test_size=0.20, random_state=10)\n",
    "selectedFeatures_NotStressed_Lasso=select_feature_lasso(yNS)\n",
    "print(\"\\nScores of Features for Not Stressed using Lasso\")\n",
    "selectedFeatures_NotStressed_Lasso"
   ]
  },
  {
   "cell_type": "code",
   "execution_count": null,
   "id": "dominican-eating",
   "metadata": {},
   "outputs": [],
   "source": [
    "selectedFeatures_lasso_10_NotStressed,selectedFeatures_lasso_20_NotStressed,selectedFeatures_lasso_30_NotStressed= select_features(selectedFeatures_NotStressed_Lasso)\n",
    "\n",
    "print(\"Top 10 Selected Features for NotStressed Using Lasso:\",selectedFeatures_lasso_10_NotStressed )\n",
    "\n",
    "print(\"\\n\\n\\nTop 20 Selected Features For NotStressed Using Lasso:\",selectedFeatures_lasso_20_NotStressed)\n",
    "\n",
    "print(\"\\n\\n\\nTop 30 Selected Features Using For NotStressed Using Lasso:\",selectedFeatures_lasso_30_NotStressed )"
   ]
  },
  {
   "cell_type": "code",
   "execution_count": null,
   "id": "crucial-acrylic",
   "metadata": {},
   "outputs": [],
   "source": [
    "#feature ranks for Structured Answer using Lasso\n",
    "prosody_data_y = ySA\n",
    "X_train, X_test, y_train, y_test = train_test_split(prosody_data_X, prosody_data_y, test_size=0.20, random_state=10)\n",
    "selectedFeatures_StructuredAnswer_Lasso=select_feature_lasso(ySA)\n",
    "print(\"\\nScores of Features for Structured Answer using Lasso\")\n",
    "selectedFeatures_StructuredAnswer_Lasso"
   ]
  },
  {
   "cell_type": "code",
   "execution_count": null,
   "id": "serious-license",
   "metadata": {},
   "outputs": [],
   "source": [
    "selectedFeatures_lasso_10_StructuredAnswer,selectedFeatures_lasso_20_StructuredAnswer,selectedFeatures_lasso_30_StructuredAnswer= select_features(selectedFeatures_StructuredAnswer_Lasso)\n",
    "\n",
    "print(\"Top 10 Selected Features for StructuredAnswer Using Lasso:\",selectedFeatures_lasso_10_StructuredAnswer )\n",
    "\n",
    "print(\"\\n\\n\\nTop 20 Selected Features For StructuredAnswer Using Lasso:\",selectedFeatures_lasso_20_StructuredAnswer)\n",
    "\n",
    "print(\"\\n\\n\\nTop 30 Selected Features Using For StructuredAnswer Using Lasso:\",selectedFeatures_lasso_30_StructuredAnswer )"
   ]
  },
  {
   "cell_type": "markdown",
   "id": "marked-camcorder",
   "metadata": {},
   "source": [
    "# Apply NN models"
   ]
  },
  {
   "cell_type": "code",
   "execution_count": null,
   "id": "constitutional-blanket",
   "metadata": {},
   "outputs": [],
   "source": [
    "kfold = StratifiedKFold(n_splits=10, shuffle=True, random_state=7)"
   ]
  },
  {
   "cell_type": "code",
   "execution_count": null,
   "id": "referenced-participation",
   "metadata": {},
   "outputs": [],
   "source": [
    "def apply_NN_Moadel(no_of_inNeurons,no_of_hiddenLayerNeurons,no_of_epochs,selectedFeatures_No,d_Var,T_Val):\n",
    "    scaler = MinMaxScaler()\n",
    "    X=scaler.fit_transform(prosody_data[selectedFeatures_No])\n",
    "    y=d_Var\n",
    "    \n",
    "    X_train, X_test, y_train, y_test = train_test_split(X, y, test_size=0.20, random_state=10)\n",
    "    \n",
    "    \n",
    "    cvscores = []\n",
    "        \n",
    "    keras.backend.set_floatx('float64')\n",
    "    \n",
    "    # create model\n",
    "    for train, test in kfold.split(X, y):\n",
    "        model= keras.Sequential([\n",
    "            keras.layers.Dense(no_of_inNeurons, input_shape=(no_of_inNeurons,), activation='relu'),\n",
    "            keras.layers.Dense(no_of_hiddenLayerNeurons, activation='relu'),\n",
    "            keras.layers.Dense(no_of_hiddenLayerNeurons, activation='relu'),\n",
    "            keras.layers.Dense(no_of_hiddenLayerNeurons, activation='relu'),\n",
    "            keras.layers.Dense(no_of_hiddenLayerNeurons, activation='relu'),\n",
    "            keras.layers.Dense(no_of_hiddenLayerNeurons, activation='relu'),\n",
    "            keras.layers.Dense(1, activation='sigmoid')\n",
    "        ])\n",
    "\n",
    "        # Compile model\n",
    "        model.compile(optimizer='adam',\n",
    "                      loss='binary_crossentropy',\n",
    "                      metrics=['accuracy'])\n",
    "        # Fit the model\n",
    "        clf=model.fit(X_train, y_train, epochs=no_of_epochs, batch_size=10, verbose=0)\n",
    "\n",
    "\n",
    "        # evaluate the model \n",
    "        scores = model.evaluate(X_test, y_test, verbose=0)\n",
    "        print(\"%s: %.2f%%\" % (model.metrics_names[1], scores[1]*100))\n",
    "\n",
    "        cvscores.append(scores[1] * 100)\n",
    "        \n",
    "               \n",
    "        \n",
    "    \n",
    "    print(\"CV Score  %.2f%% (+/- %.2f%%)\" % (np.mean(cvscores), np.std(cvscores)))    \n",
    "    \n",
    "    #Plot ROC\n",
    "    \n",
    "    tnser_pred = model.predict(X_test)\n",
    "    # generate a no skill prediction (majority class)\n",
    "    ns_pred = [0 for _ in range(len(y_test))]\n",
    "    # calculate accuracy scores\n",
    "    ns_auc = roc_auc_score(y_test, ns_pred)\n",
    "    tnser_auc = roc_auc_score(y_test, tnser_pred)\n",
    "    # summarize scores\n",
    "    # print('No Skill: ROC AUC=%.3f' % (ns_auc))\n",
    "    # print('Logistic: ROC AUC=%.3f' % (tnser_auc))\n",
    "    # calculate roc curves\n",
    "    ns_fpr, ns_tpr, _ = metrics.roc_curve(y_test, ns_pred)\n",
    "    tnser_fpr, tnser_tpr, _ = roc_curve(y_test, tnser_pred)\n",
    "    # axis labels\n",
    "    plt.xlabel('False Positive Rate')\n",
    "    plt.ylabel('True Positive Rate')\n",
    "    # plot the roc curve for the model\n",
    "    plt.plot(ns_fpr, ns_tpr, linestyle='--', label='No Skill' )\n",
    "    plt.plot(tnser_fpr, tnser_tpr,marker='o', label='NN ' )\n",
    "    # show the legend\n",
    "    plt.legend()\n",
    "    # show the plot\n",
    "    plt.show()\n",
    "    \n",
    "  \n",
    "    \n",
    "    pred1=[]\n",
    "    pred=model.predict(X_test)\n",
    "    for element in pred:\n",
    "        if element >= T_Val:\n",
    "            pred1.append(1)\n",
    "        else:\n",
    "            pred1.append(0)\n",
    "    print(classification_report(y_test,pred1,zero_division=0))\n",
    "    \n",
    "    print('MSE',metrics.mean_squared_error(y_test,pred1))\n",
    "\n",
    "    plt.figure(figsize = (10,6))\n",
    "    sns.heatmap(confusion_matrix(y_test, pred1), annot = True,fmt='d')\n",
    "    plt.show\n",
    "    \n",
    "    \n",
    "    return (model, cvscores, tnser_fpr, tnser_tpr, tnser_auc)"
   ]
  },
  {
   "cell_type": "code",
   "execution_count": null,
   "id": "covered-prediction",
   "metadata": {},
   "outputs": [],
   "source": [
    "#SetThreshol values for features\n",
    "TF = 5     # for Friendly\n",
    "TNS = 5.5  # for Not Stressed\n",
    "TSA = 5.5  # for Structured Answer\n",
    "TRH = 6    # for Recommend Hiring"
   ]
  },
  {
   "cell_type": "code",
   "execution_count": null,
   "id": "uniform-aging",
   "metadata": {},
   "outputs": [],
   "source": [
    "cvscores_NN_10_ridge_StructuredAnswer= []\n",
    "(model_NN_10_ridge_StructuredAnswer,cvscores_NN_10_ridge_StructuredAnswer,FP_Rate_NN_10_ridge_StructuredAnswer,TP_Rate_NN_10_ridge_StructuredAnswer,auc_NN_10_ridge_StructuredAnswer) = apply_NN_Moadel(10,18,200,selectedFeatures_ridge_10_StructuredAnswer,cSA,TSA)"
   ]
  },
  {
   "cell_type": "code",
   "execution_count": null,
   "id": "latest-audience",
   "metadata": {},
   "outputs": [],
   "source": [
    "cvscores_NN_20_ridge_StructuredAnswer= [] \n",
    "(model_NN_20_ridge_StructuredAnswer,cvscores_NN_20_ridge_StructuredAnswer,FP_Rate_NN_20_ridge_StructuredAnswer,TP_Rate_NN_20_ridge_StructuredAnswer,auc_NN_20_ridge_StructuredAnswer) = apply_NN_Moadel(20,18,200,selectedFeatures_ridge_20_StructuredAnswer,cSA,TSA)"
   ]
  },
  {
   "cell_type": "code",
   "execution_count": null,
   "id": "soviet-latex",
   "metadata": {},
   "outputs": [],
   "source": [
    "cvscores_NN_30_ridge_StructuredAnswer= []\n",
    "(model_NN_30_ridge_StructuredAnswer,cvscores_NN_30_ridge_StructuredAnswer,FP_Rate_NN_30_ridge_StructuredAnswer,TP_Rate_NN_30_ridge_StructuredAnswer,auc_NN_30_ridge_StructuredAnswer) = apply_NN_Moadel(30,24,200,selectedFeatures_ridge_30_StructuredAnswer,cSA,TSA)"
   ]
  },
  {
   "cell_type": "code",
   "execution_count": null,
   "id": "dominant-throat",
   "metadata": {},
   "outputs": [],
   "source": [
    "cvscores_NN_10_lasso_StructuredAnswer= [] \n",
    "(model_NN_10_lasso_StructuredAnswer,cvscores_NN_10_lasso_StructuredAnswer,FP_Rate_NN_10_lasso_StructuredAnswer,TP_Rate_NN_10_lasso_StructuredAnswer,auc_NN_10_lasso_StructuredAnswer) = apply_NN_Moadel(10,18,200,selectedFeatures_lasso_10_StructuredAnswer,cSA,TSA)"
   ]
  },
  {
   "cell_type": "code",
   "execution_count": null,
   "id": "fabulous-medline",
   "metadata": {},
   "outputs": [],
   "source": [
    "cvscores_NN_20_lasso_StructuredAnswer= [] \n",
    "(model_NN_20_lasso_StructuredAnswer,cvscores_NN_20_lasso_StructuredAnswer,FP_Rate_NN_20_lasso_StructuredAnswer,TP_Rate_NN_20_lasso_StructuredAnswer,auc_NN_20_lasso_StructuredAnswer) = apply_NN_Moadel(20,18,200,selectedFeatures_lasso_20_StructuredAnswer,cSA,TSA)"
   ]
  },
  {
   "cell_type": "code",
   "execution_count": null,
   "id": "conceptual-transcription",
   "metadata": {},
   "outputs": [],
   "source": [
    "cvscores_NN_30_lasso_StructuredAnswer= [] \n",
    "(model_NN_30_lasso_StructuredAnswer,cvscores_NN_30_lasso_StructuredAnswer,FP_Rate_NN_30_lasso_StructuredAnswer,TP_Rate_NN_30_lasso_StructuredAnswer,auc_NN_30_lasso_StructuredAnswer) = apply_NN_Moadel(30,24,200,selectedFeatures_lasso_30_StructuredAnswer,cSA,TSA)"
   ]
  },
  {
   "cell_type": "code",
   "execution_count": null,
   "id": "constant-universe",
   "metadata": {},
   "outputs": [],
   "source": [
    "cvscores_NN_10_kbest_StructuredAnswer= [] \n",
    "(model_NN_10_kbest_StructuredAnswer,cvscores_NN_10_kbest_StructuredAnswer,FP_Rate_NN_10_kbest_StructuredAnswer,TP_Rate_NN_10_kbest_StructuredAnswer,auc_NN_10_kbest_StructuredAnswer) = apply_NN_Moadel(10,18,200,selectedFeatures_kbest_10_StructuredAnswer,cSA,TSA)"
   ]
  },
  {
   "cell_type": "code",
   "execution_count": null,
   "id": "sufficient-criterion",
   "metadata": {},
   "outputs": [],
   "source": [
    "cvscores_NN_20_kbest_StructuredAnswer= [] \n",
    "(model_NN_20_kbest_StructuredAnswer,cvscores_NN_20_kbest_StructuredAnswer,FP_Rate_NN_20_kbest_StructuredAnswer,TP_Rate_NN_20_kbest_StructuredAnswer,auc_NN_20_kbest_StructuredAnswer) = apply_NN_Moadel(20,18,200,selectedFeatures_kbest_20_StructuredAnswer,cSA,TSA)"
   ]
  },
  {
   "cell_type": "code",
   "execution_count": null,
   "id": "center-justice",
   "metadata": {},
   "outputs": [],
   "source": [
    "cvscores_NN_30_kbest_StructuredAnswer= [] \n",
    "(model_NN_30_kbest_StructuredAnswer,cvscores_NN_30_kbest_StructuredAnswer,FP_Rate_NN_30_kbest_StructuredAnswer,TP_Rate_NN_30_kbest_StructuredAnswer,auc_NN_30_kbest_StructuredAnswer) = apply_NN_Moadel(30,24,200,selectedFeatures_kbest_30_StructuredAnswer,cSA,TSA)"
   ]
  },
  {
   "cell_type": "code",
   "execution_count": null,
   "id": "beautiful-purse",
   "metadata": {},
   "outputs": [],
   "source": [
    "cvscores_NN_10_ridge_RecommendHiring= [] \n",
    "(model_NN_10_ridge_RecommendHiring,cvscores_NN_10_ridge_RecommendHiring,FP_Rate_NN_10_ridge_StructuredAnswer,TP_Rate_NN_10_ridge_RecommendHiring,auc_NN_10_ridge_RecommendHiring) = apply_NN_Moadel(10,18,200,selectedFeatures_ridge_10_RecommendHiring,cRH,TRH)"
   ]
  },
  {
   "cell_type": "code",
   "execution_count": null,
   "id": "satellite-tractor",
   "metadata": {},
   "outputs": [],
   "source": [
    "cvscores_NN_20_ridge_RecommendHiring= [] \n",
    "(model_NN_20_ridge_RecommendHiring,cvscores_NN_20_ridge_RecommendHiring,FP_Rate_NN_20_ridge_RecommendHiring,TP_Rate_NN_20_ridge_RecommendHiring,auc_NN_20_ridge_RecommendHiring) = apply_NN_Moadel(20,18,200,selectedFeatures_ridge_20_RecommendHiring,cRH,TRH)"
   ]
  },
  {
   "cell_type": "code",
   "execution_count": null,
   "id": "unknown-analysis",
   "metadata": {},
   "outputs": [],
   "source": [
    "cvscores_NN_30_ridge_RecommendHiring= [] \n",
    "(model_NN_30_ridge_RecommendHiring,cvscores_NN_30_ridge_RecommendHiring,FP_Rate_NN_30_ridge_RecommendHiring,TP_Rate_NN_30_ridge_RecommendHiring,auc_NN_30_ridge_RecommendHiring) = apply_NN_Moadel(30,24,200,selectedFeatures_ridge_30_RecommendHiring,cRH,TRH)"
   ]
  },
  {
   "cell_type": "code",
   "execution_count": null,
   "id": "young-leader",
   "metadata": {},
   "outputs": [],
   "source": [
    "cvscores_NN_10_lasso_RecommendHiring= [] \n",
    "(model_NN_10_lasso_RecommendHiring,cvscores_NN_10_lasso_RecommendHiring,FP_Rate_NN_10_lasso_RecommendHiring,TP_Rate_NN_10_lasso_RecommendHiring,auc_NN_10_lasso_RecommendHiring) = apply_NN_Moadel(10,18,200,selectedFeatures_lasso_10_RecommendHiring,cRH,TRH)"
   ]
  },
  {
   "cell_type": "code",
   "execution_count": null,
   "id": "sought-uniform",
   "metadata": {},
   "outputs": [],
   "source": [
    "cvscores_NN_20_lasso_RecommendHiring= [] \n",
    "(model_NN_20_lasso_RecommendHiring,cvscores_NN_20_lasso_RecommendHiring,FP_Rate_NN_20_lasso_RecommendHiring,TP_Rate_NN_20_lasso_RecommendHiring,auc_NN_20_lasso_RecommendHiring) = apply_NN_Moadel(20,18,200,selectedFeatures_lasso_20_RecommendHiring,cRH,TRH)"
   ]
  },
  {
   "cell_type": "code",
   "execution_count": null,
   "id": "rubber-telescope",
   "metadata": {},
   "outputs": [],
   "source": [
    "cvscores_NN_30_lasso_RecommendHiring= [] \n",
    "(model_NN_30_lasso_RecommendHiring,cvscores_NN_30_lasso_RecommendHiring,FP_Rate_NN_30_lasso_RecommendHiring,TP_Rate_NN_30_lasso_RecommendHiring,auc_NN_30_lasso_RecommendHiring) = apply_NN_Moadel(30,24,200,selectedFeatures_lasso_30_RecommendHiring,cRH,TRH)"
   ]
  },
  {
   "cell_type": "code",
   "execution_count": null,
   "id": "standard-narrative",
   "metadata": {},
   "outputs": [],
   "source": [
    "cvscores_NN_10_kbest_RecommendHirig= [] \n",
    "(model_NN_10__kbest_RecommendHirig,cvscores_NN_10_kbest_RecommendHirig,FP_Rate_NN_10_kbest_RecommendHirig,TP_Rate_NN_10_kbest_RecommendHirig,auc_NN_10_kbest_RecommendHirig) = apply_NN_Moadel(10,18,200,selectedFeatures_kbest_10_RecommendHiring,cRH,TRH)"
   ]
  },
  {
   "cell_type": "code",
   "execution_count": null,
   "id": "cheap-chosen",
   "metadata": {},
   "outputs": [],
   "source": [
    "cvscores_NN_20_kbest_RecommendHirig= [] \n",
    "(model_NN_20__kbest_RecommendHirig,cvscores_NN_20_kbest_RecommendHirig,FP_Rate_NN_20_kbest_RecommendHirig,TP_Rate_NN_30_kbest_RecommendHirig,auc_NN_20_kbest_RecommendHirig) = apply_NN_Moadel(20,18,200,selectedFeatures_kbest_20_RecommendHiring,cRH,TRH)"
   ]
  },
  {
   "cell_type": "code",
   "execution_count": null,
   "id": "unauthorized-orange",
   "metadata": {},
   "outputs": [],
   "source": [
    "cvscores_NN_30_kbest_RecommendHirig= [] \n",
    "(model_NN_30__kbest_RecommendHirig,cvscores_NN_30_kbest_RecommendHirig,FP_Rate_NN_30_kbest_RecommendHirig,TP_Rate_NN_30_kbest_RecommendHirig,auc_NN_30_kbest_RecommendHirig) = apply_NN_Moadel(30,24,200,selectedFeatures_kbest_30_RecommendHiring,cRH,TRH)"
   ]
  },
  {
   "cell_type": "code",
   "execution_count": null,
   "id": "associate-contribution",
   "metadata": {},
   "outputs": [],
   "source": [
    "cvscores_NN_10_ridge_Friendly= [] \n",
    "(model_NN_10_ridge_Friendly,cvscores_NN_10_ridge_Friendly,FP_Rate_NN_10_ridge_Friendly,TP_Rate_NN_10_ridge_Friendly,auc_NN_10_ridge_Friendly) = apply_NN_Moadel(10,18,200,selectedFeatures_ridge_10_Friendly,cF,TF)"
   ]
  },
  {
   "cell_type": "code",
   "execution_count": null,
   "id": "relative-scientist",
   "metadata": {},
   "outputs": [],
   "source": [
    "cvscores_NN_20_ridge_Friendly= [] \n",
    "(model_NN_20_ridge_Friendly,cvscores_NN_20_ridge_Friendly,FP_Rate_NN_20_ridge_Friendly,TP_Rate_NN_20_ridge_Friendly,auc_NN_20_ridge_Friendly) = apply_NN_Moadel(20,18,200,selectedFeatures_ridge_20_Friendly,cF,TF)"
   ]
  },
  {
   "cell_type": "code",
   "execution_count": null,
   "id": "alpha-publication",
   "metadata": {},
   "outputs": [],
   "source": [
    "cvscores_NN_30_ridge_Friendly= [] \n",
    "(model_NN_30_ridge_Friendly,cvscores_NN_30_ridge_Friendly,FP_Rate_NN_30_ridge_Friendly,TP_Rate_NN_30_ridge_Friendly,auc_NN_30_ridge_Friendly) = apply_NN_Moadel(30,24,200,selectedFeatures_ridge_30_Friendly,cF,TF)"
   ]
  },
  {
   "cell_type": "code",
   "execution_count": null,
   "id": "macro-privilege",
   "metadata": {},
   "outputs": [],
   "source": [
    "cvscores_NN_10_lasso_Friendly= [] \n",
    "(model_NN_10_lasso_Friendly,cvscores_NN_10_lasso_Friendly,FP_Rate_NN_10_lasso_Friendly,TP_Rate_NN_10_lasso_Friendly,auc_NN_10_lasso_Friendly) = apply_NN_Moadel(10,18,200,selectedFeatures_lasso_10_Friendly,cF,TF)"
   ]
  },
  {
   "cell_type": "code",
   "execution_count": null,
   "id": "incoming-montana",
   "metadata": {},
   "outputs": [],
   "source": [
    "cvscores_NN_20_lasso_Friendly= [] \n",
    "(model_NN_20_lasso_Friendly,cvscores_NN_20_lasso_Friendly,FP_Rate_NN_20_lasso_Friendly,TP_Rate_NN_20_lasso_Friendly,auc_NN_20_lasso_Friendly) = apply_NN_Moadel(20,18,200,selectedFeatures_lasso_20_Friendly,cF,TF)"
   ]
  },
  {
   "cell_type": "code",
   "execution_count": null,
   "id": "intermediate-editor",
   "metadata": {},
   "outputs": [],
   "source": [
    "cvscores_NN_30_lasso_Friendly= [] \n",
    "(model_NN_30_lasso_Friendly,cvscores_NN_30_lasso_Friendly,FP_Rate_NN_30_lasso_Friendly,TP_Rate_NN_30_lasso_Friendly,auc_NN_30_lasso_Friendly) = apply_NN_Moadel(30,24,200,selectedFeatures_lasso_30_Friendly,cF,TF)"
   ]
  },
  {
   "cell_type": "code",
   "execution_count": null,
   "id": "broadband-maria",
   "metadata": {},
   "outputs": [],
   "source": [
    "cvscores_NN_10_kbest_Friendly= [] \n",
    "(model_NN_10_kbest_Friendly,cvscores_NN_10_kbest_Friendly,FP_Rate_NN_10_kbest_Friendly,TP_Rate_NN_10_kbest_Friendly,auc_NN_10_kbest_Friendly) = apply_NN_Moadel(10,18,200,selectedFeatures_kbest_10_Friendly,cF,TF)"
   ]
  },
  {
   "cell_type": "code",
   "execution_count": null,
   "id": "phantom-glenn",
   "metadata": {},
   "outputs": [],
   "source": [
    "cvscores_NN_20_kbest_Friendly= [] \n",
    "(model_NN_20_kbest_Friendly,cvscores_NN_20_kbest_Friendly,FP_Rate_NN_20_kbest_Friendly,TP_Rate_NN_20_kbest_Friendly,auc_NN_20_kbest_Friendly) = apply_NN_Moadel(20,18,200,selectedFeatures_kbest_20_Friendly,cF,TF)"
   ]
  },
  {
   "cell_type": "code",
   "execution_count": null,
   "id": "stable-radio",
   "metadata": {},
   "outputs": [],
   "source": [
    "cvscores_NN_30_kbest_Friendly= [] \n",
    "(model_NN_30_kbest_Friendly,cvscores_NN_30_kbest_Friendly,FP_Rate_NN_30_kbest_Friendly,TP_Rate_NN_30_kbest_Friendly,auc_NN_30_kbest_Friendly) = apply_NN_Moadel(30,24,200,selectedFeatures_kbest_30_Friendly,cF,TF)"
   ]
  },
  {
   "cell_type": "code",
   "execution_count": null,
   "id": "traditional-antenna",
   "metadata": {},
   "outputs": [],
   "source": [
    "cvscores_NN_10_ridge_NotStressed= [] \n",
    "(model_NN_10_ridge_NotStressed,cvscores_NN_10_ridge_NotStressed,FP_Rate_NN_10_ridge_NotStressed,TP_Rate_NN_10_ridge_NotStressed,auc_NN_10_ridge_NotStressed) = apply_NN_Moadel(10,18,200,selectedFeatures_ridge_10_NotStressed,cNS,TNS)"
   ]
  },
  {
   "cell_type": "code",
   "execution_count": null,
   "id": "mineral-fraction",
   "metadata": {},
   "outputs": [],
   "source": [
    "cvscores_NN_20_ridge_NotStressed= [] \n",
    "(model_NN_20_ridge_NotStressed,cvscores_NN_20_ridge_NotStressed,FP_Rate_NN_20_ridge_NotStressed,TP_Rate_NN_20_ridge_NotStressed,auc_NN_20_ridge_NotStressed) = apply_NN_Moadel(20,18,200,selectedFeatures_ridge_20_NotStressed,cNS,TNS)"
   ]
  },
  {
   "cell_type": "code",
   "execution_count": null,
   "id": "practical-compensation",
   "metadata": {},
   "outputs": [],
   "source": [
    "cvscores_NN_30_ridge_NotStressed= [] \n",
    "(model_NN_30_ridge_NotStressed,cvscores_NN_30_ridge_NotStressed,FP_Rate_NN_30_ridge_NotStressed,TP_Rate_NN_30_ridge_NotStressed,auc_NN_30_ridge_NotStressed) = apply_NN_Moadel(30,24,200,selectedFeatures_ridge_30_NotStressed,cNS,TNS)"
   ]
  },
  {
   "cell_type": "code",
   "execution_count": null,
   "id": "tutorial-germany",
   "metadata": {},
   "outputs": [],
   "source": [
    "cvscores_NN_10_lasso_NotStressed= [] \n",
    "(model_NN_10_lasso_NotStressed,cvscores_NN_10_lasso_NotStressed,FP_Rate_NN_10_lasso_NotStressed,TP_Rate_NN_10_lasso_NotStressed,auc_NN_10_lasso_NotStressed) = apply_NN_Moadel(10,18,200,selectedFeatures_lasso_10_NotStressed,cNS,TNS)"
   ]
  },
  {
   "cell_type": "code",
   "execution_count": null,
   "id": "impossible-romantic",
   "metadata": {},
   "outputs": [],
   "source": [
    "cvscores_NN_20_lasso_NotStressed= [] \n",
    "(model_NN_20_lasso_NotStressed,cvscores_NN_20_lasso_NotStressed,FP_Rate_NN_20_lasso_NotStressed,TP_Rate_NN_20_lasso_NotStressed,auc_NN_20_lasso_NotStressed) = apply_NN_Moadel(20,18,200,selectedFeatures_lasso_20_NotStressed,cNS,TNS)"
   ]
  },
  {
   "cell_type": "code",
   "execution_count": null,
   "id": "figured-transfer",
   "metadata": {},
   "outputs": [],
   "source": [
    "cvscores_NN_30_lasso_NotStressed= [] \n",
    "(model_NN_30_lasso_NotStressed,cvscores_NN_30_lasso_NotStressed,FP_Rate_NN_30_lasso_NotStressed,TP_Rate_NN_30_lasso_NotStressed,auc_NN_30_lasso_NotStressed) = apply_NN_Moadel(30,24,200,selectedFeatures_lasso_30_NotStressed,cNS,TNS)"
   ]
  },
  {
   "cell_type": "code",
   "execution_count": null,
   "id": "dedicated-queensland",
   "metadata": {},
   "outputs": [],
   "source": [
    "cvscores_NN_10_kbest_NotStressed= [] \n",
    "(model_NN_10_kbest_NotStressed,cvscores_NN_10_kbest_NotStressed,FP_Rate_NN_10_kbest_NotStressed,TP_Rate_NN_10_kbest_NotStressed,auc_NN_10_kbest_NotStressed) = apply_NN_Moadel(10,18,200,selectedFeatures_kbest_10_NotStressed,cNS,TNS)"
   ]
  },
  {
   "cell_type": "code",
   "execution_count": null,
   "id": "incorporate-jewelry",
   "metadata": {},
   "outputs": [],
   "source": [
    "cvscores_NN_20_kbest_NotStressed= [] \n",
    "(model_NN_20_kbest_NotStressed,cvscores_NN_20_kbest_NotStressed,FP_Rate_NN_20_kbest_NotStressed,TP_Rate_NN_20_kbest_NotStressed,auc_NN_20_kbest_NotStressed) = apply_NN_Moadel(20,18,200,selectedFeatures_kbest_20_NotStressed,cNS,TNS)"
   ]
  },
  {
   "cell_type": "code",
   "execution_count": null,
   "id": "spread-observer",
   "metadata": {},
   "outputs": [],
   "source": [
    "cvscores_NN_30_kbest_NotStressed= [] \n",
    "(model_NN_30_kbest_NotStressed,cvscores_NN_30_kbest_NotStressed,FP_Rate_NN_30_kbest_NotStressed,TP_Rate_NN_30_kbest_NotStressed,auc_NN_30_kbest_NotStressed) = apply_NN_Moadel(30,24,200,selectedFeatures_kbest_30_NotStressed,cNS,TNS)"
   ]
  },
  {
   "cell_type": "markdown",
   "id": "played-tuning",
   "metadata": {},
   "source": [
    "# Apply Other Models"
   ]
  },
  {
   "cell_type": "code",
   "execution_count": null,
   "id": "dress-parameter",
   "metadata": {},
   "outputs": [],
   "source": [
    "def Apply_Model(model,model_name,X_train,X_test,y_train,y_test):\n",
    "    \n",
    "    clf = model.fit(X_train,y_train)\n",
    "    pred = model.predict(X_test)            \n",
    "    \n",
    "    # generate a no skill prediction (majority class)\n",
    "    ns_probs = [0 for _ in range(len(y_test))]\n",
    "    # fit a model\n",
    "    model.fit(X_train,y_train)\n",
    "    # predict probabilities\n",
    "    m_probs = model.predict_proba(X_test)\n",
    "        \n",
    "    # keep probabilities for the positive outcome only\n",
    "    m_probs = m_probs[:, 1]\n",
    "    # calculate scores\n",
    "    ns_auc = roc_auc_score(y_test, ns_probs)\n",
    "    m_auc = roc_auc_score(y_test, m_probs)\n",
    "    # summarize scores\n",
    "    # print('No Skill: ROC AUC=%.3f' % (ns_auc))\n",
    "    # print('Logistic: ROC AUC=%.3f' % (m_auc))\n",
    "    # calculate roc curves\n",
    "    ns_fpr, ns_tpr, _ = roc_curve(y_test, ns_probs)\n",
    "    m_fpr, m_tpr, _ = roc_curve(y_test, m_probs)\n",
    "    # plot the roc curve for the model\n",
    "    plt.plot(ns_fpr, ns_tpr, linestyle='--', label='No Skill')\n",
    "    plt.plot(m_fpr, m_tpr, marker='.', label=model_name)   \n",
    "    # axis labels\n",
    "    plt.xlabel('False Positive Rate')\n",
    "    plt.ylabel('True Positive Rate')\n",
    "    # show the legend\n",
    "    plt.legend()\n",
    "    # show the plot\n",
    "    plt.show()\n",
    "    \n",
    "    \n",
    "    print(confusion_matrix(y_test,pred))\n",
    "    print(classification_report(y_test,pred,zero_division=0))\n",
    "    \n",
    "    print('MSE',metrics.mean_squared_error(y_test,pred))\n",
    "    \n",
    "    if(model == svc_model):\n",
    "      m_Cross = cross_val_score(model,X20,y20,cv=10)\n",
    "    elif(model == knn):\n",
    "      m_Cross = cross_val_score(model,X20,y20,cv=10)\n",
    "    elif(model == rfc):\n",
    "      m_Cross = cross_val_score(model,X20,y20,cv=10)\n",
    "    print(\"Mean : \",m_Cross)\n",
    "    print(\"CV Score  %.2f%% (+/- %.2f%%)\" % (np.mean(m_Cross), np.std(m_Cross)))\n",
    "    \n",
    "    \n",
    "    plt.figure(figsize = (10,6))\n",
    "    sns.heatmap(confusion_matrix(y_test, pred), annot = True,fmt='d')\n",
    "    plt.show()\n",
    "    \n",
    "    \n",
    "    return (m_fpr, m_tpr,m_auc)"
   ]
  },
  {
   "cell_type": "code",
   "execution_count": null,
   "id": "accurate-conducting",
   "metadata": {},
   "outputs": [],
   "source": [
    "get_ipython().run_line_magic('matplotlib', 'inline')\n",
    "X20=prosody_data[selectedFeatures_kbest_20_Friendly]\n",
    "y20=cF\n",
    "X20_train, X20_test, y20_train, y20_test = train_test_split(X20, y20, test_size=0.20, random_state=10)"
   ]
  },
  {
   "cell_type": "markdown",
   "id": "asian-reviewer",
   "metadata": {},
   "source": [
    "# Applying Random Forest Classifier¶"
   ]
  },
  {
   "cell_type": "code",
   "execution_count": null,
   "id": "better-investment",
   "metadata": {},
   "outputs": [],
   "source": [
    "from sklearn.ensemble import RandomForestClassifier\n",
    "rfc = RandomForestClassifier(n_estimators=600)\n",
    "(rfc_fpr, rfc_tpr, rfc_auc)=Apply_Model(rfc,\"RFC\",X20_train, X20_test, y20_train, y20_test)\n",
    "\n",
    "cross_val_score(rfc, X20, y20,cv=10)\n"
   ]
  },
  {
   "cell_type": "code",
   "execution_count": null,
   "id": "diverse-healing",
   "metadata": {},
   "outputs": [],
   "source": [
    "dA1= prosody_data[['Friendly','NotStressed','StructuredAnswers']]\n",
    "cor =dA1.corr()\n",
    "cor.style.background_gradient(cmap=\"coolwarm\").set_precision(2)\n",
    "\n"
   ]
  },
  {
   "cell_type": "code",
   "execution_count": null,
   "id": "sapphire-stuff",
   "metadata": {},
   "outputs": [],
   "source": [
    "RidgeRegScratch.fit()"
   ]
  }
 ],
 "metadata": {
  "kernelspec": {
   "display_name": "Python 3",
   "language": "python",
   "name": "python3"
  },
  "language_info": {
   "codemirror_mode": {
    "name": "ipython",
    "version": 3
   },
   "file_extension": ".py",
   "mimetype": "text/x-python",
   "name": "python",
   "nbconvert_exporter": "python",
   "pygments_lexer": "ipython3",
   "version": "3.8.8"
  }
 },
 "nbformat": 4,
 "nbformat_minor": 5
}
