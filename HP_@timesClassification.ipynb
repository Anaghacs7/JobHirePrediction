{
 "cells": [
  {
   "cell_type": "code",
   "execution_count": 23,
   "id": "failing-frederick",
   "metadata": {},
   "outputs": [],
   "source": [
    "from pyDeepInsight import ImageTransformer, LogScaler\n",
    "from sklearn.model_selection import train_test_split\n",
    "from sklearn.model_selection import StratifiedKFold\n",
    "import pandas as pd\n",
    "import numpy as np\n",
    "import tensorflow.keras\n",
    "from tensorflow.keras.models import Sequential,Model\n",
    "from tensorflow.keras.layers import Input\n",
    "from tensorflow.keras.layers import Dense, Dropout, Flatten\n",
    "from tensorflow.keras.layers import Conv2D, MaxPooling2D\n",
    "from tensorflow.keras.layers import BatchNormalization\n",
    "from tensorflow.keras.layers import LeakyReLU\n",
    "from tensorflow.keras import optimizers\n",
    "from tensorflow.keras.utils import to_categorical\n",
    "from sklearn.metrics import classification_report\n",
    "\n",
    "from matplotlib import pyplot as plt\n",
    "import seaborn as sns\n",
    "\n",
    "import itertools\n"
   ]
  },
  {
   "cell_type": "code",
   "execution_count": 2,
   "id": "preceding-princeton",
   "metadata": {},
   "outputs": [],
   "source": [
    "prosody_data = pd.read_csv('Prosodic_Features_MRH.csv',sep=\",\")\n",
    "#expr = pd.read_csv(expr_file, sep=\"\\t\")\n",
    "y = prosody_data['Hired3C'].values\n",
    "#36\n",
    "#X =prosody_data[['duration', 'energy', 'power', 'min_pitch', 'max_pitch', 'mean_pitch', 'pitch_sd', 'pitch_abs', 'pitch_quant', 'pitchUvsVRatio', 'Time:8', 'iDifference', 'diffPitchMaxMin', 'diffPitchMaxMean', 'diffPitchMaxMode', 'intensityMin', 'intensityMax', 'intensityMean', 'intensitySD', 'intensityQuant', 'diffIntMaxMin', 'diffIntMaxMean', 'diffIntMaxMode', 'avgVal1', 'avgVal2', 'avgVal3', 'avgBand1', 'avgBand2', 'avgBand3', 'fmean1', 'fmean2', 'fmean3', 'f2meanf1', 'f3meanf1', 'f1STD', 'f2STD']]\n",
    "#49\n",
    "X =prosody_data[['duration', 'energy', 'power', 'min_pitch', 'max_pitch', 'mean_pitch', 'pitch_sd', 'pitch_abs', 'pitch_quant', 'pitchUvsVRatio', 'Time:8', 'iDifference', 'diffPitchMaxMin', 'diffPitchMaxMean', 'diffPitchMaxMode', 'intensityMin', 'intensityMax', 'intensityMean', 'intensitySD', 'intensityQuant', 'diffIntMaxMin', 'diffIntMaxMean', 'diffIntMaxMode', 'avgVal1', 'avgVal2', 'avgVal3', 'avgBand1', 'avgBand2', 'avgBand3', 'fmean1', 'fmean2', 'fmean3', 'f2meanf1', 'f3meanf1', 'f1STD', 'f2STD', 'f3STD', 'f2STDf1', 'f2STDf2', 'jitter', 'shimmer', 'jitterRap', 'meanPeriod', 'percentUnvoiced', 'numVoiceBreaks', 'PercentBreaks', 'speakRate', 'numPause', 'maxDurPause']]\n",
    "#25X = prosody_data[['pitch_quant', 'meanPeriod', 'mean_pitch', 'fmean3', 'f3STD', 'f2STD', 'pitch_sd', 'shimmer', 'avgBand2', 'intensityMean', 'jitter', 'intensitySD', 'intensityQuant', 'jitterRap', 'f1STD', 'avgVal2', 'fmean2', 'PercentBreaks', 'AvgTotFall:3', 'f2STDf1', 'pitch_abs', 'f2STDf2', 'avgBand1', 'percentUnvoiced', 'AvgTotRis:3']]\n",
    "#X = prosody_data.iloc[:, 4:].values\n",
    "\n"
   ]
  },
  {
   "cell_type": "code",
   "execution_count": 3,
   "id": "beginning-superintendent",
   "metadata": {},
   "outputs": [],
   "source": [
    "from scipy import linalg as scipy_linalg"
   ]
  },
  {
   "cell_type": "code",
   "execution_count": 4,
   "id": "expanded-horizontal",
   "metadata": {},
   "outputs": [],
   "source": [
    "def mahalanobis(x=None, data=None, cov=None):\n",
    "    \"\"\"Compute the Mahalanobis Distance between each row of x and the data  \n",
    "    x    : vector or matrix of data with, say, p columns.\n",
    "    data : ndarray of the distribution from which Mahalanobis distance of each observation of x is to be computed.\n",
    "    cov  : covariance matrix (p x p) of the distribution. If None, will be computed from data.\n",
    "    \"\"\"\n",
    "    x_minus_mu = x - np.mean(data)\n",
    "    if not cov:\n",
    "        cov = np.cov(data.values.T)\n",
    "    inv_covmat = scipy_linalg.inv(cov)\n",
    "    left_term = np.dot(x_minus_mu, inv_covmat)\n",
    "    mahal = np.dot(left_term, x_minus_mu.T)\n",
    "    return mahal.diagonal()"
   ]
  },
  {
   "cell_type": "code",
   "execution_count": 5,
   "id": "framed-communication",
   "metadata": {},
   "outputs": [
    {
     "name": "stderr",
     "output_type": "stream",
     "text": [
      "<ipython-input-5-f4bb98b640ec>:3: SettingWithCopyWarning: \n",
      "A value is trying to be set on a copy of a slice from a DataFrame.\n",
      "Try using .loc[row_indexer,col_indexer] = value instead\n",
      "\n",
      "See the caveats in the documentation: https://pandas.pydata.org/pandas-docs/stable/user_guide/indexing.html#returning-a-view-versus-a-copy\n",
      "  df_x['mahala'] = mahalanobis(x=df_x, data=prosody_data[['duration', 'energy', 'power', 'min_pitch', 'max_pitch', 'mean_pitch', 'pitch_sd', 'pitch_abs', 'pitch_quant', 'pitchUvsVRatio', 'Time:8', 'iDifference', 'diffPitchMaxMin', 'diffPitchMaxMean', 'diffPitchMaxMode', 'intensityMin', 'intensityMax', 'intensityMean', 'intensitySD', 'intensityQuant', 'diffIntMaxMin', 'diffIntMaxMean', 'diffIntMaxMode', 'avgVal1', 'avgVal2', 'avgVal3', 'avgBand1', 'avgBand2', 'avgBand3', 'fmean1', 'fmean2', 'fmean3', 'f2meanf1', 'f3meanf1', 'f1STD', 'f2STD', 'f3STD', 'f2STDf1', 'f2STDf2', 'jitter', 'shimmer', 'jitterRap', 'meanPeriod', 'percentUnvoiced', 'numVoiceBreaks', 'PercentBreaks', 'speakRate', 'numPause', 'maxDurPause']])\n"
     ]
    }
   ],
   "source": [
    "df_x =prosody_data[['duration', 'energy', 'power', 'min_pitch', 'max_pitch', 'mean_pitch', 'pitch_sd', 'pitch_abs', 'pitch_quant', 'pitchUvsVRatio', 'Time:8', 'iDifference', 'diffPitchMaxMin', 'diffPitchMaxMean', 'diffPitchMaxMode', 'intensityMin', 'intensityMax', 'intensityMean', 'intensitySD', 'intensityQuant', 'diffIntMaxMin', 'diffIntMaxMean', 'diffIntMaxMode', 'avgVal1', 'avgVal2', 'avgVal3', 'avgBand1', 'avgBand2', 'avgBand3', 'fmean1', 'fmean2', 'fmean3', 'f2meanf1', 'f3meanf1', 'f1STD', 'f2STD', 'f3STD', 'f2STDf1', 'f2STDf2', 'jitter', 'shimmer', 'jitterRap', 'meanPeriod', 'percentUnvoiced', 'numVoiceBreaks', 'PercentBreaks', 'speakRate', 'numPause', 'maxDurPause']]\n",
    "\n",
    "df_x['mahala'] = mahalanobis(x=df_x, data=prosody_data[['duration', 'energy', 'power', 'min_pitch', 'max_pitch', 'mean_pitch', 'pitch_sd', 'pitch_abs', 'pitch_quant', 'pitchUvsVRatio', 'Time:8', 'iDifference', 'diffPitchMaxMin', 'diffPitchMaxMean', 'diffPitchMaxMode', 'intensityMin', 'intensityMax', 'intensityMean', 'intensitySD', 'intensityQuant', 'diffIntMaxMin', 'diffIntMaxMean', 'diffIntMaxMode', 'avgVal1', 'avgVal2', 'avgVal3', 'avgBand1', 'avgBand2', 'avgBand3', 'fmean1', 'fmean2', 'fmean3', 'f2meanf1', 'f3meanf1', 'f1STD', 'f2STD', 'f3STD', 'f2STDf1', 'f2STDf2', 'jitter', 'shimmer', 'jitterRap', 'meanPeriod', 'percentUnvoiced', 'numVoiceBreaks', 'PercentBreaks', 'speakRate', 'numPause', 'maxDurPause']])\n",
    "#df_x =X\n",
    "\n",
    "#df_x['mahala'] = mahalanobis(x=X, data=X)\n",
    "X=df_x"
   ]
  },
  {
   "cell_type": "code",
   "execution_count": 6,
   "id": "blind-pepper",
   "metadata": {},
   "outputs": [
    {
     "data": {
      "text/plain": [
       "array([2, 1, 0, 0, 0, 2, 1, 2, 0, 2, 2, 2, 0, 1, 0, 2, 1, 2, 2, 0, 0, 1,\n",
       "       1, 2, 0, 0, 0, 1, 2, 0, 1, 1, 2, 1, 0, 1, 1, 1, 0, 0, 1, 2, 0, 1,\n",
       "       2, 2, 1, 2, 0, 2, 1, 2, 1, 1, 2, 0, 0, 0, 0, 0, 1, 2, 2, 0, 2, 0,\n",
       "       1, 0, 2, 0, 2, 1, 0, 1, 2, 2, 1, 1, 2, 1, 2, 1, 2, 1, 1, 2, 0, 1,\n",
       "       0, 0, 1, 1, 2, 1, 2, 2, 0, 2, 1, 2, 1, 1, 1, 2, 0, 1, 2, 1, 1, 1,\n",
       "       2, 2, 0, 1, 0, 1, 1, 0, 0, 0, 0, 2, 0, 1, 1, 2, 0, 1, 2, 1, 2, 2,\n",
       "       1, 0, 0, 1, 0, 2, 1, 2, 0, 1, 1, 0, 0, 0, 2, 2, 1, 2, 0, 2, 2, 2,\n",
       "       1, 0, 1, 1, 0, 2, 0, 0, 1, 0, 0, 2, 0, 1, 2, 0, 2, 1, 0, 0, 0, 2,\n",
       "       2, 0, 0, 0, 2, 1, 1, 0, 2, 0, 1, 1, 0, 0, 2, 2, 2, 2, 0, 2, 0, 1,\n",
       "       0, 2, 1, 1, 1, 0, 1, 0, 1, 2, 1, 2, 2, 1, 2, 0, 0, 1, 1, 1, 0, 2,\n",
       "       0, 2, 1, 1, 1, 1, 2, 2, 0, 0, 2, 2, 0, 1, 1, 0, 2, 0, 2, 1, 1, 2,\n",
       "       0, 1, 2, 1, 2, 0, 2, 0, 1, 1, 2, 2, 2, 2, 0, 1, 0, 0, 2, 0, 0, 1,\n",
       "       1, 2, 0, 1, 2, 1, 0, 1, 1, 0, 0, 1, 1, 2, 0, 1, 0, 0, 1, 0, 1, 0,\n",
       "       1, 0, 2, 2, 1, 1, 0, 0, 2, 0, 2, 2, 0, 0, 0, 0, 2, 1, 1, 0, 1, 2,\n",
       "       1, 2, 2, 0, 2, 0, 2, 0, 2, 1, 2, 0, 0, 0, 1, 2, 0, 1, 2, 2, 0, 0,\n",
       "       2, 1, 2, 0, 0, 0, 0, 0, 2, 0, 0, 1, 2, 1, 2, 2, 0, 0, 2, 2, 2, 0,\n",
       "       2, 2, 0, 2, 1, 2, 0, 2, 0, 1, 1, 2, 1, 1, 0, 1, 0, 0, 1, 1, 2, 0,\n",
       "       0, 0, 0, 2, 2, 1, 0, 1, 2, 1, 1, 1, 2, 1, 2, 1, 1, 2, 0, 1, 2, 0,\n",
       "       0, 0, 0, 1, 2, 0, 2, 1, 2, 1, 0, 1, 1, 0, 1, 0, 0, 1, 2, 2, 0, 1,\n",
       "       1, 0, 1, 1, 2, 1, 0, 0, 1, 1, 2, 2, 1, 1, 0, 2, 0, 1, 2, 0, 0, 1,\n",
       "       2, 2, 1, 1, 1, 2, 2, 0, 1, 2, 2, 2, 2, 0, 2, 0, 1, 0, 1, 1, 2, 2,\n",
       "       0, 2, 1, 1, 0, 1, 0, 2, 2, 2, 0, 0, 2, 2, 2, 1, 1, 0, 1, 1, 1, 0,\n",
       "       0, 2, 2, 1, 0, 1, 2, 0, 2, 0, 1, 0, 0, 0, 1, 2, 1, 0, 2, 0, 2, 2,\n",
       "       2, 1, 1, 2, 2, 1, 2, 2, 2, 2, 1, 1, 2, 2, 0, 0, 0, 1, 1, 1, 1, 1,\n",
       "       0, 0, 0, 2, 2, 1, 0, 2, 0, 0, 2, 2, 2, 2, 0, 2, 0, 2, 2, 0, 0, 2,\n",
       "       1, 2, 0, 2, 0, 1, 1, 2, 1, 0, 0, 2, 2, 0, 0, 0, 2, 1, 2, 0, 0, 1,\n",
       "       1, 2, 2, 0, 0, 2, 1, 2, 0, 2, 1, 1, 0, 1, 0, 1, 0, 1, 0, 1, 1, 2,\n",
       "       0, 1, 1, 2, 2, 1, 1, 1, 2, 1, 1, 0, 1, 0, 1, 0, 2, 1], dtype=int64)"
      ]
     },
     "execution_count": 6,
     "metadata": {},
     "output_type": "execute_result"
    }
   ],
   "source": [
    "X_train, X_test, y_train, y_test = train_test_split(\n",
    "    X, y, test_size=0.1, random_state=23, stratify=y)\n",
    "y_train\n"
   ]
  },
  {
   "cell_type": "code",
   "execution_count": 7,
   "id": "satisfied-completion",
   "metadata": {},
   "outputs": [],
   "source": [
    "y_01_test = []\n",
    "for i in y_test:\n",
    "    if(i == 0):\n",
    "        y_01_test.append(0)\n",
    "    else:\n",
    "        y_01_test.append(1)\n",
    "#y_01_test"
   ]
  },
  {
   "cell_type": "code",
   "execution_count": 8,
   "id": "wrapped-ownership",
   "metadata": {},
   "outputs": [],
   "source": [
    "y_01_train = []\n",
    "for i in y_train:\n",
    "    if(i == 0):\n",
    "        y_01_train.append(0)\n",
    "    else:\n",
    "        y_01_train.append(1)\n",
    "#y_01_train"
   ]
  },
  {
   "cell_type": "code",
   "execution_count": 42,
   "id": "manual-language",
   "metadata": {},
   "outputs": [
    {
     "name": "stdout",
     "output_type": "stream",
     "text": [
      "              precision    recall  f1-score   support\n",
      "\n",
      "     class 0       0.71      0.65      0.68        23\n",
      "     class 1       0.83      0.87      0.85        45\n",
      "\n",
      "    accuracy                           0.79        68\n",
      "   macro avg       0.77      0.76      0.76        68\n",
      "weighted avg       0.79      0.79      0.79        68\n",
      "\n"
     ]
    }
   ],
   "source": [
    "from sklearn.ensemble import AdaBoostClassifier\n",
    "from sklearn.datasets import make_classification\n",
    "X = X_train\n",
    "y = y_01_train\n",
    "clf = AdaBoostClassifier(n_estimators=100, random_state=0)\n",
    "clf.fit(X, y)\n",
    "clf.score(X, y)\n",
    "#AdaBoostClassifier(n_estimators=100, random_state=0)\n",
    "y_01_predict=clf.predict(X_test)\n",
    "target_names = ['class 0', 'class 1']      \n",
    "print(classification_report(y_01_test,y_01_predict,target_names=target_names, zero_division=0))"
   ]
  },
  {
   "cell_type": "code",
   "execution_count": 110,
   "id": "compact-ethiopia",
   "metadata": {},
   "outputs": [],
   "source": [
    "#select from X_train,y_train where y value is not 0\n",
    "#X_12_train= []\n",
    "#y_12_train= []\n",
    "#for (i,j) in zip(range(len(X_train)),y_train):\n",
    "#    if(j != 0):\n",
    "#        X_12_train.append(X_train.iloc[i])\n",
    "#        y_12_train.append(j)\n",
    "#y_12_train\n",
    "\n",
    "#select from X_test,y_test where y value is not 0\n",
    "#X_12_test= []\n",
    "#y_12_test= []\n",
    "#for (i,j) in zip(range(len(X_test)),y_test):\n",
    "#    if(j != 0):\n",
    "#        X_12_test.append(X_test.iloc[i])\n",
    "#        y_12_test.append(j)\n",
    "\n",
    "X_12_train = X_train.loc[y_train!= 0]\n",
    "X_12_test = X_test.loc[y_test!= 0]\n"
   ]
  },
  {
   "cell_type": "code",
   "execution_count": 111,
   "id": "prescribed-hardwood",
   "metadata": {},
   "outputs": [],
   "source": [
    "#select from y_train where y value is not 0\n",
    "y_12_train= []\n",
    "for i in y_train:\n",
    "    if(i != 0):\n",
    "        y_12_train.append(i)\n",
    "#y_12_train"
   ]
  },
  {
   "cell_type": "code",
   "execution_count": 112,
   "id": "biblical-fault",
   "metadata": {},
   "outputs": [],
   "source": [
    "#select from y_test where y value is not 0\n",
    "y_12_test = []\n",
    "for i in y_test:\n",
    "    if(i != 0):\n",
    "        y_12_test.append(i)\n",
    "#y_12_test"
   ]
  },
  {
   "cell_type": "code",
   "execution_count": 113,
   "id": "entertaining-insight",
   "metadata": {},
   "outputs": [
    {
     "name": "stdout",
     "output_type": "stream",
     "text": [
      "              precision    recall  f1-score   support\n",
      "\n",
      "     class 1       0.67      0.55      0.60        22\n",
      "     class 2       0.63      0.74      0.68        23\n",
      "\n",
      "    accuracy                           0.64        45\n",
      "   macro avg       0.65      0.64      0.64        45\n",
      "weighted avg       0.65      0.64      0.64        45\n",
      "\n"
     ]
    }
   ],
   "source": [
    "X = X_12_train\n",
    "y = y_12_train\n",
    "clf = AdaBoostClassifier(n_estimators=100, random_state=0)\n",
    "clf.fit(X, y)\n",
    "clf.score(X, y)\n",
    "y_12_predict = clf.predict(X_12_test)\n",
    "target_names = ['class 1', 'class 2']      \n",
    "print(classification_report(y_12_test,y_12_predict ,target_names=target_names, zero_division=0))"
   ]
  },
  {
   "cell_type": "code",
   "execution_count": 118,
   "id": "attended-reception",
   "metadata": {},
   "outputs": [
    {
     "name": "stdout",
     "output_type": "stream",
     "text": [
      "[1, 1, 2, 1, 1, 1, 2, 2, 1, 2, 2, 2, 2, 2, 1, 1, 2, 1, 1, 2, 2, 2, 2, 1, 1, 2, 1, 2, 2, 2, 2, 1, 2, 1, 2, 2, 1, 2, 2, 2, 2, 2, 2, 1, 1]\n",
      "[1, 1, 1, 0, 0, 1, 1, 0, 0, 1, 1, 1, 1, 1, 1, 1, 1, 1, 0, 1, 1, 1, 1, 1, 1, 0, 0, 0, 1, 1, 1, 1, 1, 1, 0, 1, 1, 1, 1, 0, 1, 1, 1, 1, 0, 1, 0, 1, 0, 0, 1, 1, 1, 1, 1, 0, 1, 1, 0, 1, 1, 1, 1, 0, 0, 0, 0, 0]\n",
      "[0, 2, 0, 1, 0, 0, 2, 0, 2, 2, 0, 1, 2, 1, 1, 2, 2, 1, 1, 2, 1, 1, 0, 2, 1, 0, 1, 0, 1, 1, 2, 2, 1, 1, 0, 1, 2, 2, 2, 0, 2, 1, 1, 2, 0, 2, 0, 2, 0, 0, 1, 0, 2, 2, 2, 0, 0, 1, 0, 2, 1, 2, 0, 0, 0, 0, 1, 1]\n"
     ]
    }
   ],
   "source": [
    "print(list(y_12_predict))\n",
    "print(list(y_01_predict))\n",
    "print(list(y_test))"
   ]
  },
  {
   "cell_type": "code",
   "execution_count": 121,
   "id": "prostate-seller",
   "metadata": {},
   "outputs": [
    {
     "name": "stdout",
     "output_type": "stream",
     "text": [
      "[1, 1, 1, 1, 0, 1, 2, 0, 1, 1, 1, 1, 2, 2, 1, 2, 2, 2, 2, 2, 1, 1, 1, 2, 1, 0, 1, 0, 2, 2, 2, 2, 1, 1, 0, 2, 1, 2, 2, 0, 2, 2, 1, 2, 0, 1, 0, 2, 0, 0, 2, 1, 1, 2, 2, 0, 1, 2, 0, 2, 2, 2, 1, 0, 0, 0, 1, 1]\n"
     ]
    }
   ],
   "source": [
    "y1=list(y_test)\n",
    "y2=list(y_01_predict)\n",
    "y3=list(y_12_predict)\n",
    "combined_Predictions = []\n",
    "k=0\n",
    "for (i,j) in zip(y1,y2):\n",
    "    if(i!=0):\n",
    "        combined_Predictions.append(y3[k])\n",
    "        k=k+1\n",
    "    else:\n",
    "        combined_Predictions.append(j)\n",
    "    \n",
    "print(combined_Predictions)"
   ]
  },
  {
   "cell_type": "code",
   "execution_count": 122,
   "id": "muslim-bradley",
   "metadata": {},
   "outputs": [
    {
     "name": "stdout",
     "output_type": "stream",
     "text": [
      "              precision    recall  f1-score   support\n",
      "\n",
      "     class 0       1.00      0.65      0.79        23\n",
      "     class 1       0.46      0.55      0.50        22\n",
      "     class 2       0.63      0.74      0.68        23\n",
      "\n",
      "    accuracy                           0.65        68\n",
      "   macro avg       0.70      0.65      0.66        68\n",
      "weighted avg       0.70      0.65      0.66        68\n",
      "\n"
     ]
    }
   ],
   "source": [
    "target_names = ['class 0', 'class 1', 'class 2']\n",
    "print(classification_report(y_test,combined_Predictions ,target_names=target_names, zero_division=0))"
   ]
  }
 ],
 "metadata": {
  "kernelspec": {
   "display_name": "Python 3",
   "language": "python",
   "name": "python3"
  },
  "language_info": {
   "codemirror_mode": {
    "name": "ipython",
    "version": 3
   },
   "file_extension": ".py",
   "mimetype": "text/x-python",
   "name": "python",
   "nbconvert_exporter": "python",
   "pygments_lexer": "ipython3",
   "version": "3.8.8"
  }
 },
 "nbformat": 4,
 "nbformat_minor": 5
}
