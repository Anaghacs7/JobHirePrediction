{
 "cells": [
  {
   "cell_type": "code",
   "execution_count": 22,
   "id": "elder-civilization",
   "metadata": {},
   "outputs": [],
   "source": [
    "from pyDeepInsight import ImageTransformer, LogScaler\n",
    "from sklearn.model_selection import train_test_split\n",
    "import pandas as pd\n",
    "import numpy as np\n",
    "import tensorflow.keras\n",
    "from tensorflow.keras.models import Sequential,Model\n",
    "from tensorflow.keras.layers import Input\n",
    "from tensorflow.keras.layers import Dense, Dropout, Flatten\n",
    "from tensorflow.keras.layers import Conv2D, MaxPooling2D\n",
    "from tensorflow.keras.layers import BatchNormalization\n",
    "from tensorflow.keras.layers import LeakyReLU\n",
    "from tensorflow.keras import optimizers\n",
    "from tensorflow.keras.utils import to_categorical\n",
    "\n",
    "from matplotlib import pyplot as plt\n",
    "import seaborn as sns"
   ]
  },
  {
   "cell_type": "code",
   "execution_count": 23,
   "id": "mental-preliminary",
   "metadata": {},
   "outputs": [
    {
     "data": {
      "text/plain": [
       "(612, 25)"
      ]
     },
     "execution_count": 23,
     "metadata": {},
     "output_type": "execute_result"
    }
   ],
   "source": [
    "prosody_data = pd.read_csv('Prosodic_Features_MRH.csv',sep=\",\")\n",
    "#expr = pd.read_csv(expr_file, sep=\"\\t\")\n",
    "y = prosody_data['Hired3C'].values\n",
    "X = prosody_data[['pitch_quant', 'meanPeriod', 'mean_pitch', 'fmean3', 'f3STD', 'f2STD', 'pitch_sd', 'shimmer', 'avgBand2', 'intensityMean', 'jitter', 'intensitySD', 'intensityQuant', 'jitterRap', 'f1STD', 'avgVal2', 'fmean2', 'PercentBreaks', 'AvgTotFall:3', 'f2STDf1', 'pitch_abs', 'f2STDf2', 'avgBand1', 'percentUnvoiced', 'AvgTotRis:3']]\n",
    "#X = prosody_data.iloc[:, 2:].values\n",
    "X_train, X_test, y_train, y_test = train_test_split(\n",
    "    X, y, test_size=0.1, random_state=23, stratify=y)\n",
    "X_train.shape"
   ]
  },
  {
   "cell_type": "code",
   "execution_count": 24,
   "id": "distributed-dream",
   "metadata": {},
   "outputs": [
    {
     "data": {
      "text/html": [
       "<div>\n",
       "<style scoped>\n",
       "    .dataframe tbody tr th:only-of-type {\n",
       "        vertical-align: middle;\n",
       "    }\n",
       "\n",
       "    .dataframe tbody tr th {\n",
       "        vertical-align: top;\n",
       "    }\n",
       "\n",
       "    .dataframe thead th {\n",
       "        text-align: right;\n",
       "    }\n",
       "</style>\n",
       "<table border=\"1\" class=\"dataframe\">\n",
       "  <thead>\n",
       "    <tr style=\"text-align: right;\">\n",
       "      <th></th>\n",
       "      <th>pitch_quant</th>\n",
       "      <th>meanPeriod</th>\n",
       "      <th>mean_pitch</th>\n",
       "      <th>fmean3</th>\n",
       "      <th>f3STD</th>\n",
       "      <th>f2STD</th>\n",
       "      <th>pitch_sd</th>\n",
       "      <th>shimmer</th>\n",
       "      <th>avgBand2</th>\n",
       "      <th>intensityMean</th>\n",
       "      <th>...</th>\n",
       "      <th>avgVal2</th>\n",
       "      <th>fmean2</th>\n",
       "      <th>PercentBreaks</th>\n",
       "      <th>AvgTotFall:3</th>\n",
       "      <th>f2STDf1</th>\n",
       "      <th>pitch_abs</th>\n",
       "      <th>f2STDf2</th>\n",
       "      <th>avgBand1</th>\n",
       "      <th>percentUnvoiced</th>\n",
       "      <th>AvgTotRis:3</th>\n",
       "    </tr>\n",
       "  </thead>\n",
       "  <tbody>\n",
       "    <tr>\n",
       "      <th>139</th>\n",
       "      <td>0.971731</td>\n",
       "      <td>0.617810</td>\n",
       "      <td>0.967129</td>\n",
       "      <td>0.996494</td>\n",
       "      <td>0.973565</td>\n",
       "      <td>0.978077</td>\n",
       "      <td>0.867488</td>\n",
       "      <td>0.805149</td>\n",
       "      <td>0.976788</td>\n",
       "      <td>0.975162</td>\n",
       "      <td>...</td>\n",
       "      <td>0.992503</td>\n",
       "      <td>0.992503</td>\n",
       "      <td>0.727749</td>\n",
       "      <td>0.851904</td>\n",
       "      <td>0.895220</td>\n",
       "      <td>0.869331</td>\n",
       "      <td>0.934597</td>\n",
       "      <td>0.951085</td>\n",
       "      <td>0.765888</td>\n",
       "      <td>0.817064</td>\n",
       "    </tr>\n",
       "    <tr>\n",
       "      <th>23</th>\n",
       "      <td>0.900585</td>\n",
       "      <td>0.886787</td>\n",
       "      <td>0.907835</td>\n",
       "      <td>0.997480</td>\n",
       "      <td>0.965270</td>\n",
       "      <td>0.988683</td>\n",
       "      <td>0.761015</td>\n",
       "      <td>0.897628</td>\n",
       "      <td>0.989893</td>\n",
       "      <td>0.973838</td>\n",
       "      <td>...</td>\n",
       "      <td>0.993420</td>\n",
       "      <td>0.993420</td>\n",
       "      <td>0.738542</td>\n",
       "      <td>0.728833</td>\n",
       "      <td>0.909771</td>\n",
       "      <td>0.839448</td>\n",
       "      <td>0.880759</td>\n",
       "      <td>0.952775</td>\n",
       "      <td>0.727361</td>\n",
       "      <td>0.799965</td>\n",
       "    </tr>\n",
       "    <tr>\n",
       "      <th>218</th>\n",
       "      <td>0.990245</td>\n",
       "      <td>0.566441</td>\n",
       "      <td>0.985258</td>\n",
       "      <td>0.996823</td>\n",
       "      <td>0.978184</td>\n",
       "      <td>0.977099</td>\n",
       "      <td>0.863518</td>\n",
       "      <td>0.820578</td>\n",
       "      <td>0.961904</td>\n",
       "      <td>0.987937</td>\n",
       "      <td>...</td>\n",
       "      <td>0.993565</td>\n",
       "      <td>0.993565</td>\n",
       "      <td>0.729152</td>\n",
       "      <td>0.845344</td>\n",
       "      <td>0.861029</td>\n",
       "      <td>0.930730</td>\n",
       "      <td>0.921785</td>\n",
       "      <td>0.946741</td>\n",
       "      <td>0.749730</td>\n",
       "      <td>0.920846</td>\n",
       "    </tr>\n",
       "    <tr>\n",
       "      <th>679</th>\n",
       "      <td>0.923376</td>\n",
       "      <td>0.770100</td>\n",
       "      <td>0.928360</td>\n",
       "      <td>0.995138</td>\n",
       "      <td>0.984178</td>\n",
       "      <td>0.987020</td>\n",
       "      <td>0.762595</td>\n",
       "      <td>0.845168</td>\n",
       "      <td>0.980145</td>\n",
       "      <td>0.984923</td>\n",
       "      <td>...</td>\n",
       "      <td>0.991158</td>\n",
       "      <td>0.991158</td>\n",
       "      <td>0.677190</td>\n",
       "      <td>0.613532</td>\n",
       "      <td>0.897905</td>\n",
       "      <td>0.834099</td>\n",
       "      <td>0.942684</td>\n",
       "      <td>0.959561</td>\n",
       "      <td>0.674109</td>\n",
       "      <td>0.812573</td>\n",
       "    </tr>\n",
       "    <tr>\n",
       "      <th>84</th>\n",
       "      <td>0.964372</td>\n",
       "      <td>0.625969</td>\n",
       "      <td>0.964601</td>\n",
       "      <td>0.996997</td>\n",
       "      <td>0.964868</td>\n",
       "      <td>0.988278</td>\n",
       "      <td>0.818780</td>\n",
       "      <td>0.775137</td>\n",
       "      <td>0.965111</td>\n",
       "      <td>0.982261</td>\n",
       "      <td>...</td>\n",
       "      <td>0.991763</td>\n",
       "      <td>0.991763</td>\n",
       "      <td>0.628895</td>\n",
       "      <td>0.781511</td>\n",
       "      <td>0.933910</td>\n",
       "      <td>0.890570</td>\n",
       "      <td>0.900770</td>\n",
       "      <td>0.945077</td>\n",
       "      <td>0.625929</td>\n",
       "      <td>0.849616</td>\n",
       "    </tr>\n",
       "    <tr>\n",
       "      <th>...</th>\n",
       "      <td>...</td>\n",
       "      <td>...</td>\n",
       "      <td>...</td>\n",
       "      <td>...</td>\n",
       "      <td>...</td>\n",
       "      <td>...</td>\n",
       "      <td>...</td>\n",
       "      <td>...</td>\n",
       "      <td>...</td>\n",
       "      <td>...</td>\n",
       "      <td>...</td>\n",
       "      <td>...</td>\n",
       "      <td>...</td>\n",
       "      <td>...</td>\n",
       "      <td>...</td>\n",
       "      <td>...</td>\n",
       "      <td>...</td>\n",
       "      <td>...</td>\n",
       "      <td>...</td>\n",
       "      <td>...</td>\n",
       "      <td>...</td>\n",
       "    </tr>\n",
       "    <tr>\n",
       "      <th>542</th>\n",
       "      <td>0.971396</td>\n",
       "      <td>0.621187</td>\n",
       "      <td>0.965914</td>\n",
       "      <td>0.997069</td>\n",
       "      <td>0.966802</td>\n",
       "      <td>0.971966</td>\n",
       "      <td>0.870682</td>\n",
       "      <td>0.841897</td>\n",
       "      <td>0.971384</td>\n",
       "      <td>0.970334</td>\n",
       "      <td>...</td>\n",
       "      <td>0.992641</td>\n",
       "      <td>0.992641</td>\n",
       "      <td>0.703321</td>\n",
       "      <td>0.855112</td>\n",
       "      <td>0.826539</td>\n",
       "      <td>0.913489</td>\n",
       "      <td>0.867281</td>\n",
       "      <td>0.956622</td>\n",
       "      <td>0.741825</td>\n",
       "      <td>0.859371</td>\n",
       "    </tr>\n",
       "    <tr>\n",
       "      <th>635</th>\n",
       "      <td>0.967214</td>\n",
       "      <td>0.637910</td>\n",
       "      <td>0.960151</td>\n",
       "      <td>0.996543</td>\n",
       "      <td>0.979798</td>\n",
       "      <td>0.984894</td>\n",
       "      <td>0.890925</td>\n",
       "      <td>0.824313</td>\n",
       "      <td>0.988128</td>\n",
       "      <td>0.978874</td>\n",
       "      <td>...</td>\n",
       "      <td>0.993111</td>\n",
       "      <td>0.993111</td>\n",
       "      <td>0.586265</td>\n",
       "      <td>0.767657</td>\n",
       "      <td>0.876426</td>\n",
       "      <td>0.905406</td>\n",
       "      <td>0.914296</td>\n",
       "      <td>0.962136</td>\n",
       "      <td>0.654952</td>\n",
       "      <td>0.898022</td>\n",
       "    </tr>\n",
       "    <tr>\n",
       "      <th>602</th>\n",
       "      <td>0.990427</td>\n",
       "      <td>0.561048</td>\n",
       "      <td>0.988247</td>\n",
       "      <td>0.993869</td>\n",
       "      <td>0.960584</td>\n",
       "      <td>0.972851</td>\n",
       "      <td>0.777472</td>\n",
       "      <td>0.777705</td>\n",
       "      <td>0.968941</td>\n",
       "      <td>0.988062</td>\n",
       "      <td>...</td>\n",
       "      <td>0.992382</td>\n",
       "      <td>0.992382</td>\n",
       "      <td>0.487590</td>\n",
       "      <td>0.701344</td>\n",
       "      <td>0.910622</td>\n",
       "      <td>0.890309</td>\n",
       "      <td>0.919314</td>\n",
       "      <td>0.923227</td>\n",
       "      <td>0.502446</td>\n",
       "      <td>0.833819</td>\n",
       "    </tr>\n",
       "    <tr>\n",
       "      <th>311</th>\n",
       "      <td>0.992602</td>\n",
       "      <td>0.561693</td>\n",
       "      <td>0.987889</td>\n",
       "      <td>0.993941</td>\n",
       "      <td>0.957012</td>\n",
       "      <td>0.979049</td>\n",
       "      <td>0.867913</td>\n",
       "      <td>0.839405</td>\n",
       "      <td>0.983642</td>\n",
       "      <td>0.980046</td>\n",
       "      <td>...</td>\n",
       "      <td>0.989148</td>\n",
       "      <td>0.989148</td>\n",
       "      <td>0.605905</td>\n",
       "      <td>0.860690</td>\n",
       "      <td>0.982293</td>\n",
       "      <td>0.959022</td>\n",
       "      <td>0.943942</td>\n",
       "      <td>0.931582</td>\n",
       "      <td>0.608585</td>\n",
       "      <td>0.924470</td>\n",
       "    </tr>\n",
       "    <tr>\n",
       "      <th>530</th>\n",
       "      <td>0.940453</td>\n",
       "      <td>0.709421</td>\n",
       "      <td>0.941159</td>\n",
       "      <td>0.995013</td>\n",
       "      <td>0.970603</td>\n",
       "      <td>0.979337</td>\n",
       "      <td>0.851029</td>\n",
       "      <td>0.846266</td>\n",
       "      <td>0.967930</td>\n",
       "      <td>0.981646</td>\n",
       "      <td>...</td>\n",
       "      <td>0.991075</td>\n",
       "      <td>0.991075</td>\n",
       "      <td>0.742682</td>\n",
       "      <td>0.829412</td>\n",
       "      <td>0.886410</td>\n",
       "      <td>0.924991</td>\n",
       "      <td>0.910824</td>\n",
       "      <td>0.941092</td>\n",
       "      <td>0.698395</td>\n",
       "      <td>0.853224</td>\n",
       "    </tr>\n",
       "  </tbody>\n",
       "</table>\n",
       "<p>612 rows × 25 columns</p>\n",
       "</div>"
      ],
      "text/plain": [
       "     pitch_quant  meanPeriod  mean_pitch    fmean3     f3STD     f2STD  \\\n",
       "139     0.971731    0.617810    0.967129  0.996494  0.973565  0.978077   \n",
       "23      0.900585    0.886787    0.907835  0.997480  0.965270  0.988683   \n",
       "218     0.990245    0.566441    0.985258  0.996823  0.978184  0.977099   \n",
       "679     0.923376    0.770100    0.928360  0.995138  0.984178  0.987020   \n",
       "84      0.964372    0.625969    0.964601  0.996997  0.964868  0.988278   \n",
       "..           ...         ...         ...       ...       ...       ...   \n",
       "542     0.971396    0.621187    0.965914  0.997069  0.966802  0.971966   \n",
       "635     0.967214    0.637910    0.960151  0.996543  0.979798  0.984894   \n",
       "602     0.990427    0.561048    0.988247  0.993869  0.960584  0.972851   \n",
       "311     0.992602    0.561693    0.987889  0.993941  0.957012  0.979049   \n",
       "530     0.940453    0.709421    0.941159  0.995013  0.970603  0.979337   \n",
       "\n",
       "     pitch_sd   shimmer  avgBand2  intensityMean  ...   avgVal2    fmean2  \\\n",
       "139  0.867488  0.805149  0.976788       0.975162  ...  0.992503  0.992503   \n",
       "23   0.761015  0.897628  0.989893       0.973838  ...  0.993420  0.993420   \n",
       "218  0.863518  0.820578  0.961904       0.987937  ...  0.993565  0.993565   \n",
       "679  0.762595  0.845168  0.980145       0.984923  ...  0.991158  0.991158   \n",
       "84   0.818780  0.775137  0.965111       0.982261  ...  0.991763  0.991763   \n",
       "..        ...       ...       ...            ...  ...       ...       ...   \n",
       "542  0.870682  0.841897  0.971384       0.970334  ...  0.992641  0.992641   \n",
       "635  0.890925  0.824313  0.988128       0.978874  ...  0.993111  0.993111   \n",
       "602  0.777472  0.777705  0.968941       0.988062  ...  0.992382  0.992382   \n",
       "311  0.867913  0.839405  0.983642       0.980046  ...  0.989148  0.989148   \n",
       "530  0.851029  0.846266  0.967930       0.981646  ...  0.991075  0.991075   \n",
       "\n",
       "     PercentBreaks  AvgTotFall:3   f2STDf1  pitch_abs   f2STDf2  avgBand1  \\\n",
       "139       0.727749      0.851904  0.895220   0.869331  0.934597  0.951085   \n",
       "23        0.738542      0.728833  0.909771   0.839448  0.880759  0.952775   \n",
       "218       0.729152      0.845344  0.861029   0.930730  0.921785  0.946741   \n",
       "679       0.677190      0.613532  0.897905   0.834099  0.942684  0.959561   \n",
       "84        0.628895      0.781511  0.933910   0.890570  0.900770  0.945077   \n",
       "..             ...           ...       ...        ...       ...       ...   \n",
       "542       0.703321      0.855112  0.826539   0.913489  0.867281  0.956622   \n",
       "635       0.586265      0.767657  0.876426   0.905406  0.914296  0.962136   \n",
       "602       0.487590      0.701344  0.910622   0.890309  0.919314  0.923227   \n",
       "311       0.605905      0.860690  0.982293   0.959022  0.943942  0.931582   \n",
       "530       0.742682      0.829412  0.886410   0.924991  0.910824  0.941092   \n",
       "\n",
       "     percentUnvoiced  AvgTotRis:3  \n",
       "139         0.765888     0.817064  \n",
       "23          0.727361     0.799965  \n",
       "218         0.749730     0.920846  \n",
       "679         0.674109     0.812573  \n",
       "84          0.625929     0.849616  \n",
       "..               ...          ...  \n",
       "542         0.741825     0.859371  \n",
       "635         0.654952     0.898022  \n",
       "602         0.502446     0.833819  \n",
       "311         0.608585     0.924470  \n",
       "530         0.698395     0.853224  \n",
       "\n",
       "[612 rows x 25 columns]"
      ]
     },
     "execution_count": 24,
     "metadata": {},
     "output_type": "execute_result"
    }
   ],
   "source": [
    "ln = LogScaler()\n",
    "X_train_norm = ln.fit_transform(X_train)\n",
    "X_test_norm = ln.transform(X_test)\n",
    "X_train_norm"
   ]
  },
  {
   "cell_type": "code",
   "execution_count": 25,
   "id": "welsh-romance",
   "metadata": {},
   "outputs": [],
   "source": [
    "it = ImageTransformer(feature_extractor='tsne', \n",
    "                      pixels=5, random_state=1701, \n",
    "                      n_jobs=-1)"
   ]
  },
  {
   "cell_type": "code",
   "execution_count": 28,
   "id": "sapphire-florida",
   "metadata": {},
   "outputs": [
    {
     "name": "stderr",
     "output_type": "stream",
     "text": [
      "C:\\Users\\Anagha\\anaconda3\\envs\\tf\\lib\\site-packages\\sklearn\\manifold\\_t_sne.py:691: FutureWarning: 'square_distances' has been introduced in 0.24 to help phase out legacy squaring behavior. The 'legacy' setting will be removed in 1.1 (renaming of 0.26), and the default setting will be changed to True. In 1.3, 'square_distances' will be removed altogether, and distances will be squared by default. Set 'square_distances'=True to silence this warning.\n",
      "  warnings.warn(\n"
     ]
    },
    {
     "data": {
      "image/png": "[encoded data removed]",
      "text/plain": [
       "<Figure size 360x360 with 1 Axes>"
      ]
     },
     "metadata": {
      "needs_background": "light"
     },
     "output_type": "display_data"
    },
    {
     "data": {
      "text/plain": [
       "<pyDeepInsight.image_transformer.ImageTransformer at 0x25f1ad80ac0>"
      ]
     },
     "execution_count": 28,
     "metadata": {},
     "output_type": "execute_result"
    }
   ],
   "source": [
    "plt.figure(figsize=(5, 5))\n",
    "it.fit(X_train_norm, plot=True)"
   ]
  },
  {
   "cell_type": "code",
   "execution_count": 27,
   "id": "steady-aaron",
   "metadata": {},
   "outputs": [
    {
     "data": {
      "text/plain": [
       "(5, 5)"
      ]
     },
     "execution_count": 27,
     "metadata": {},
     "output_type": "execute_result"
    },
    {
     "data": {
      "image/png": "[encoded data removed]",
      "text/plain": [
       "<Figure size 720x504 with 2 Axes>"
      ]
     },
     "metadata": {
      "needs_background": "light"
     },
     "output_type": "display_data"
    }
   ],
   "source": [
    "fdm = it.feature_density_matrix()\n",
    "fdm[fdm == 0] = np.nan\n",
    "\n",
    "plt.figure(figsize=(10, 7))\n",
    "\n",
    "ax = sns.heatmap(fdm, cmap=\"viridis\", linewidths=0.01, \n",
    "                 linecolor=\"lightgrey\", square=True)\n",
    "for _, spine in ax.spines.items():\n",
    "    spine.set_visible(True)\n",
    "    \n",
    "fdm.shape\n"
   ]
  },
  {
   "cell_type": "code",
   "execution_count": 31,
   "id": "angry-postage",
   "metadata": {},
   "outputs": [
    {
     "data": {
      "image/png": "[encoded data removed]",
      "text/plain": [
       "<Figure size 1800x504 with 4 Axes>"
      ]
     },
     "metadata": {
      "needs_background": "light"
     },
     "output_type": "display_data"
    }
   ],
   "source": [
    "px_sizes = [25, (25, 50), 50, 100]\n",
    "\n",
    "fig, ax = plt.subplots(1, len(px_sizes), figsize=(25, 7))\n",
    "for ix, px in enumerate(px_sizes):\n",
    "    it.pixels = px\n",
    "    fdm = it.feature_density_matrix()\n",
    "    fdm[fdm == 0] = np.nan\n",
    "    cax = sns.heatmap(fdm, cmap=\"viridis\", linewidth=0.01, \n",
    "                      linecolor=\"lightgrey\", square=True, \n",
    "                      ax=ax[ix], cbar=False)\n",
    "    cax.set_title('Dim {} x {}'.format(*it.pixels))\n",
    "    for _, spine in cax.spines.items():\n",
    "        spine.set_visible(True)\n",
    "\n",
    "it.pixels = 5"
   ]
  },
  {
   "cell_type": "code",
   "execution_count": 32,
   "id": "directed-exchange",
   "metadata": {},
   "outputs": [
    {
     "name": "stdout",
     "output_type": "stream",
     "text": [
      "(612, 5, 5, 3)\n"
     ]
    },
    {
     "data": {
      "text/plain": [
       "array([[[[0.80514855, 0.80514855, 0.80514855],\n",
       "         [0.97516219, 0.97516219, 0.97516219],\n",
       "         [0.67055613, 0.67055613, 0.67055613],\n",
       "         [0.89522042, 0.89522042, 0.89522042],\n",
       "         [0.        , 0.        , 0.        ]],\n",
       "\n",
       "        [[0.9655455 , 0.9655455 , 0.9655455 ],\n",
       "         [0.91273456, 0.91273456, 0.91273456],\n",
       "         [0.97173097, 0.97173097, 0.97173097],\n",
       "         [0.78956473, 0.78956473, 0.78956473],\n",
       "         [0.        , 0.        , 0.        ]],\n",
       "\n",
       "        [[0.89516506, 0.89516506, 0.89516506],\n",
       "         [0.8674883 , 0.8674883 , 0.8674883 ],\n",
       "         [0.8640088 , 0.8640088 , 0.8640088 ],\n",
       "         [0.76588805, 0.76588805, 0.76588805],\n",
       "         [0.86933062, 0.86933062, 0.86933062]],\n",
       "\n",
       "        [[0.95108545, 0.95108545, 0.95108545],\n",
       "         [0.36313119, 0.36313119, 0.36313119],\n",
       "         [0.97981601, 0.97981601, 0.97981601],\n",
       "         [0.98464508, 0.98464508, 0.98464508],\n",
       "         [0.        , 0.        , 0.        ]],\n",
       "\n",
       "        [[0.72774864, 0.72774864, 0.72774864],\n",
       "         [0.        , 0.        , 0.        ],\n",
       "         [0.        , 0.        , 0.        ],\n",
       "         [0.        , 0.        , 0.        ],\n",
       "         [0.        , 0.        , 0.        ]]],\n",
       "\n",
       "\n",
       "       [[[0.89762824, 0.89762824, 0.89762824],\n",
       "         [0.97383765, 0.97383765, 0.97383765],\n",
       "         [0.68776219, 0.68776219, 0.68776219],\n",
       "         [0.90977093, 0.90977093, 0.90977093],\n",
       "         [0.        , 0.        , 0.        ]],\n",
       "\n",
       "        [[0.93911991, 0.93911991, 0.93911991],\n",
       "         [0.84705142, 0.84705142, 0.84705142],\n",
       "         [0.90058519, 0.90058519, 0.90058519],\n",
       "         [0.92757191, 0.92757191, 0.92757191],\n",
       "         [0.        , 0.        , 0.        ]],\n",
       "\n",
       "        [[0.88706412, 0.88706412, 0.88706412],\n",
       "         [0.76101457, 0.76101457, 0.76101457],\n",
       "         [0.83700765, 0.83700765, 0.83700765],\n",
       "         [0.72736061, 0.72736061, 0.72736061],\n",
       "         [0.83944787, 0.83944787, 0.83944787]],\n",
       "\n",
       "        [[0.95277541, 0.95277541, 0.95277541],\n",
       "         [0.37183443, 0.37183443, 0.37183443],\n",
       "         [0.95062737, 0.95062737, 0.95062737],\n",
       "         [0.99165656, 0.99165656, 0.99165656],\n",
       "         [0.        , 0.        , 0.        ]],\n",
       "\n",
       "        [[0.73854238, 0.73854238, 0.73854238],\n",
       "         [0.        , 0.        , 0.        ],\n",
       "         [0.        , 0.        , 0.        ],\n",
       "         [0.        , 0.        , 0.        ],\n",
       "         [0.        , 0.        , 0.        ]]],\n",
       "\n",
       "\n",
       "       [[[0.82057758, 0.82057758, 0.82057758],\n",
       "         [0.98793734, 0.98793734, 0.98793734],\n",
       "         [0.72900267, 0.72900267, 0.72900267],\n",
       "         [0.86102914, 0.86102914, 0.86102914],\n",
       "         [0.        , 0.        , 0.        ]],\n",
       "\n",
       "        [[0.95930439, 0.95930439, 0.95930439],\n",
       "         [0.91176436, 0.91176436, 0.91176436],\n",
       "         [0.99024513, 0.99024513, 0.99024513],\n",
       "         [0.76805919, 0.76805919, 0.76805919],\n",
       "         [0.        , 0.        , 0.        ]],\n",
       "\n",
       "        [[0.94920753, 0.94920753, 0.94920753],\n",
       "         [0.86351837, 0.86351837, 0.86351837],\n",
       "         [0.95076265, 0.95076265, 0.95076265],\n",
       "         [0.74973014, 0.74973014, 0.74973014],\n",
       "         [0.93072995, 0.93072995, 0.93072995]],\n",
       "\n",
       "        [[0.94674069, 0.94674069, 0.94674069],\n",
       "         [0.46799449, 0.46799449, 0.46799449],\n",
       "         [0.98941124, 0.98941124, 0.98941124],\n",
       "         [0.97773417, 0.97773417, 0.97773417],\n",
       "         [0.        , 0.        , 0.        ]],\n",
       "\n",
       "        [[0.72915172, 0.72915172, 0.72915172],\n",
       "         [0.        , 0.        , 0.        ],\n",
       "         [0.        , 0.        , 0.        ],\n",
       "         [0.        , 0.        , 0.        ],\n",
       "         [0.        , 0.        , 0.        ]]],\n",
       "\n",
       "\n",
       "       ...,\n",
       "\n",
       "\n",
       "       [[[0.77770475, 0.77770475, 0.77770475],\n",
       "         [0.98806196, 0.98806196, 0.98806196],\n",
       "         [0.66967789, 0.66967789, 0.66967789],\n",
       "         [0.91062151, 0.91062151, 0.91062151],\n",
       "         [0.        , 0.        , 0.        ]],\n",
       "\n",
       "        [[0.95659167, 0.95659167, 0.95659167],\n",
       "         [0.83096407, 0.83096407, 0.83096407],\n",
       "         [0.990427  , 0.990427  , 0.990427  ],\n",
       "         [0.75657833, 0.75657833, 0.75657833],\n",
       "         [0.        , 0.        , 0.        ]],\n",
       "\n",
       "        [[0.91167581, 0.91167581, 0.91167581],\n",
       "         [0.77747227, 0.77747227, 0.77747227],\n",
       "         [0.91871017, 0.91871017, 0.91871017],\n",
       "         [0.50244566, 0.50244566, 0.50244566],\n",
       "         [0.89030884, 0.89030884, 0.89030884]],\n",
       "\n",
       "        [[0.92322679, 0.92322679, 0.92322679],\n",
       "         [0.35551306, 0.35551306, 0.35551306],\n",
       "         [0.99031434, 0.99031434, 0.99031434],\n",
       "         [0.9806617 , 0.9806617 , 0.9806617 ],\n",
       "         [0.        , 0.        , 0.        ]],\n",
       "\n",
       "        [[0.48759041, 0.48759041, 0.48759041],\n",
       "         [0.        , 0.        , 0.        ],\n",
       "         [0.        , 0.        , 0.        ],\n",
       "         [0.        , 0.        , 0.        ],\n",
       "         [0.        , 0.        , 0.        ]]],\n",
       "\n",
       "\n",
       "       [[[0.83940486, 0.83940486, 0.83940486],\n",
       "         [0.98004643, 0.98004643, 0.98004643],\n",
       "         [0.71432229, 0.71432229, 0.71432229],\n",
       "         [0.98229308, 0.98229308, 0.98229308],\n",
       "         [0.        , 0.        , 0.        ]],\n",
       "\n",
       "        [[0.96894174, 0.96894174, 0.96894174],\n",
       "         [0.90885126, 0.90885126, 0.90885126],\n",
       "         [0.9926022 , 0.9926022 , 0.9926022 ],\n",
       "         [0.75194674, 0.75194674, 0.75194674],\n",
       "         [0.        , 0.        , 0.        ]],\n",
       "\n",
       "        [[0.95322143, 0.95322143, 0.95322143],\n",
       "         [0.86791315, 0.86791315, 0.86791315],\n",
       "         [0.88029083, 0.88029083, 0.88029083],\n",
       "         [0.6085853 , 0.6085853 , 0.6085853 ],\n",
       "         [0.95902197, 0.95902197, 0.95902197]],\n",
       "\n",
       "        [[0.93158194, 0.93158194, 0.93158194],\n",
       "         [0.44610762, 0.44610762, 0.44610762],\n",
       "         [0.98851849, 0.98851849, 0.98851849],\n",
       "         [0.98639498, 0.98639498, 0.98639498],\n",
       "         [0.        , 0.        , 0.        ]],\n",
       "\n",
       "        [[0.60590481, 0.60590481, 0.60590481],\n",
       "         [0.        , 0.        , 0.        ],\n",
       "         [0.        , 0.        , 0.        ],\n",
       "         [0.        , 0.        , 0.        ],\n",
       "         [0.        , 0.        , 0.        ]]],\n",
       "\n",
       "\n",
       "       [[[0.84626575, 0.84626575, 0.84626575],\n",
       "         [0.98164571, 0.98164571, 0.98164571],\n",
       "         [0.71153681, 0.71153681, 0.71153681],\n",
       "         [0.88640969, 0.88640969, 0.88640969],\n",
       "         [0.        , 0.        , 0.        ]],\n",
       "\n",
       "        [[0.9529187 , 0.9529187 , 0.9529187 ],\n",
       "         [0.90000731, 0.90000731, 0.90000731],\n",
       "         [0.94045275, 0.94045275, 0.94045275],\n",
       "         [0.8371925 , 0.8371925 , 0.8371925 ],\n",
       "         [0.        , 0.        , 0.        ]],\n",
       "\n",
       "        [[0.91828013, 0.91828013, 0.91828013],\n",
       "         [0.85102868, 0.85102868, 0.85102868],\n",
       "         [0.86131513, 0.86131513, 0.86131513],\n",
       "         [0.69839508, 0.69839508, 0.69839508],\n",
       "         [0.92499054, 0.92499054, 0.92499054]],\n",
       "\n",
       "        [[0.94109231, 0.94109231, 0.94109231],\n",
       "         [0.42745419, 0.42745419, 0.42745419],\n",
       "         [0.96611718, 0.96611718, 0.96611718],\n",
       "         [0.9795024 , 0.9795024 , 0.9795024 ],\n",
       "         [0.        , 0.        , 0.        ]],\n",
       "\n",
       "        [[0.74268213, 0.74268213, 0.74268213],\n",
       "         [0.        , 0.        , 0.        ],\n",
       "         [0.        , 0.        , 0.        ],\n",
       "         [0.        , 0.        , 0.        ],\n",
       "         [0.        , 0.        , 0.        ]]]])"
      ]
     },
     "execution_count": 32,
     "metadata": {},
     "output_type": "execute_result"
    }
   ],
   "source": [
    "mat_train = it.transform(X_train_norm)\n",
    "print(mat_train.shape)\n",
    "\n",
    "mat_train"
   ]
  },
  {
   "cell_type": "code",
   "execution_count": 54,
   "id": "written-collector",
   "metadata": {},
   "outputs": [
    {
     "name": "stdout",
     "output_type": "stream",
     "text": [
      "75\n"
     ]
    },
    {
     "data": {
      "text/plain": [
       "array([[[0.84626575, 0.84626575, 0.84626575],\n",
       "        [0.98164571, 0.98164571, 0.98164571],\n",
       "        [0.71153681, 0.71153681, 0.71153681],\n",
       "        [0.88640969, 0.88640969, 0.88640969],\n",
       "        [0.        , 0.        , 0.        ]],\n",
       "\n",
       "       [[0.9529187 , 0.9529187 , 0.9529187 ],\n",
       "        [0.90000731, 0.90000731, 0.90000731],\n",
       "        [0.94045275, 0.94045275, 0.94045275],\n",
       "        [0.8371925 , 0.8371925 , 0.8371925 ],\n",
       "        [0.        , 0.        , 0.        ]],\n",
       "\n",
       "       [[0.91828013, 0.91828013, 0.91828013],\n",
       "        [0.85102868, 0.85102868, 0.85102868],\n",
       "        [0.86131513, 0.86131513, 0.86131513],\n",
       "        [0.69839508, 0.69839508, 0.69839508],\n",
       "        [0.92499054, 0.92499054, 0.92499054]],\n",
       "\n",
       "       [[0.94109231, 0.94109231, 0.94109231],\n",
       "        [0.42745419, 0.42745419, 0.42745419],\n",
       "        [0.96611718, 0.96611718, 0.96611718],\n",
       "        [0.9795024 , 0.9795024 , 0.9795024 ],\n",
       "        [0.        , 0.        , 0.        ]],\n",
       "\n",
       "       [[0.74268213, 0.74268213, 0.74268213],\n",
       "        [0.        , 0.        , 0.        ],\n",
       "        [0.        , 0.        , 0.        ],\n",
       "        [0.        , 0.        , 0.        ],\n",
       "        [0.        , 0.        , 0.        ]]])"
      ]
     },
     "execution_count": 54,
     "metadata": {},
     "output_type": "execute_result"
    }
   ],
   "source": [
    "print(mat_train[0,:,:].size)\n",
    "mat_train[0,:,:]"
   ]
  },
  {
   "cell_type": "code",
   "execution_count": 55,
   "id": "dense-european",
   "metadata": {},
   "outputs": [
    {
     "data": {
      "text/plain": [
       "(68, 5, 5, 3)"
      ]
     },
     "execution_count": 55,
     "metadata": {},
     "output_type": "execute_result"
    }
   ],
   "source": [
    "mat_test = it.transform(X_test_norm)\n",
    "mat_test.shape\n"
   ]
  },
  {
   "cell_type": "code",
   "execution_count": 35,
   "id": "alleged-guess",
   "metadata": {},
   "outputs": [
    {
     "name": "stdout",
     "output_type": "stream",
     "text": [
      "Total number of outputs :  3\n",
      "Output classes :  [0 1 2]\n"
     ]
    }
   ],
   "source": [
    "classes = np.unique(y_train)\n",
    "\n",
    "nClasses = len(classes)\n",
    "print('Total number of outputs : ', nClasses)\n",
    "print('Output classes : ', classes)"
   ]
  },
  {
   "cell_type": "code",
   "execution_count": 36,
   "id": "loved-jersey",
   "metadata": {},
   "outputs": [
    {
     "data": {
      "text/plain": [
       "Text(0.5, 1.0, 'Ground Truth : 0')"
      ]
     },
     "execution_count": 36,
     "metadata": {},
     "output_type": "execute_result"
    },
    {
     "data": {
      "image/png": "[encoded data removed]",
      "text/plain": [
       "<Figure size 360x360 with 2 Axes>"
      ]
     },
     "metadata": {
      "needs_background": "light"
     },
     "output_type": "display_data"
    }
   ],
   "source": [
    "plt.figure(figsize=[5,5])\n",
    "\n",
    "# Display the first image in training data\n",
    "plt.subplot(121)\n",
    "plt.imshow(mat_train[0,:,:], cmap='gray')\n",
    "plt.title(\"Ground Truth : {}\".format(y_train[0]))\n",
    "\n",
    "# Display the first image in testing data\n",
    "plt.subplot(122)\n",
    "plt.imshow(mat_test[0,:,:], cmap='gray')\n",
    "plt.title(\"Ground Truth : {}\".format(y_test[0]))\n",
    "\n"
   ]
  },
  {
   "cell_type": "code",
   "execution_count": 37,
   "id": "burning-scottish",
   "metadata": {},
   "outputs": [
    {
     "data": {
      "text/plain": [
       "Text(0.5, 1.0, 'Ground Truth : 1')"
      ]
     },
     "execution_count": 37,
     "metadata": {},
     "output_type": "execute_result"
    },
    {
     "data": {
      "image/png": "[encoded data removed]",
      "text/plain": [
       "<Figure size 360x360 with 2 Axes>"
      ]
     },
     "metadata": {
      "needs_background": "light"
     },
     "output_type": "display_data"
    }
   ],
   "source": [
    "plt.figure(figsize=[5,5])\n",
    "\n",
    "# Display the first image in training data\n",
    "plt.subplot(121)\n",
    "plt.imshow(mat_train[300,:,:], cmap='gray')\n",
    "plt.title(\"Ground Truth : {}\".format(y_train[300]))\n",
    "\n",
    "# Display the first image in testing data\n",
    "plt.subplot(122)\n",
    "plt.imshow(mat_test[11,:,:], cmap='gray')\n",
    "plt.title(\"Ground Truth : {}\".format(y_test[11]))\n"
   ]
  },
  {
   "cell_type": "code",
   "execution_count": 38,
   "id": "regulation-morgan",
   "metadata": {},
   "outputs": [
    {
     "data": {
      "text/plain": [
       "Text(0.5, 1.0, 'Ground Truth : 2')"
      ]
     },
     "execution_count": 38,
     "metadata": {},
     "output_type": "execute_result"
    },
    {
     "data": {
      "image/png": "[encoded data removed]",
      "text/plain": [
       "<Figure size 360x360 with 2 Axes>"
      ]
     },
     "metadata": {
      "needs_background": "light"
     },
     "output_type": "display_data"
    }
   ],
   "source": [
    "plt.figure(figsize=[5,5])\n",
    "\n",
    "# Display the first image in training data\n",
    "plt.subplot(121)\n",
    "plt.imshow(mat_train[209,:,:], cmap='gray')\n",
    "plt.title(\"Ground Truth : {}\".format(y_train[209]))\n",
    "\n",
    "# Display the first image in testing data\n",
    "plt.subplot(122)\n",
    "plt.imshow(mat_test[30,:,:], cmap='gray')\n",
    "plt.title(\"Ground Truth : {}\".format(y_test[30]))\n",
    "\n",
    "\n"
   ]
  },
  {
   "cell_type": "code",
   "execution_count": 42,
   "id": "ideal-biology",
   "metadata": {},
   "outputs": [
    {
     "data": {
      "text/plain": [
       "((612, 5, 5, 3), (68, 5, 5, 3))"
      ]
     },
     "execution_count": 42,
     "metadata": {},
     "output_type": "execute_result"
    }
   ],
   "source": [
    "train_X = mat_train\n",
    "test_X = mat_test\n",
    "train_X.shape, test_X.shape\n"
   ]
  },
  {
   "cell_type": "code",
   "execution_count": 56,
   "id": "existing-arkansas",
   "metadata": {},
   "outputs": [],
   "source": [
    "train_X = train_X.astype('float32')\n",
    "test_X = test_X.astype('float32')\n",
    "train_X = train_X / 255.\n",
    "test_X = test_X / 255."
   ]
  },
  {
   "cell_type": "code",
   "execution_count": 57,
   "id": "available-earth",
   "metadata": {},
   "outputs": [
    {
     "name": "stdout",
     "output_type": "stream",
     "text": [
      "Original label: 2\n",
      "After conversion to one-hot: [0. 0. 1.]\n",
      "Original label: 0\n",
      "After conversion to one-hot: [1. 0. 0.]\n",
      "Original label: 1\n",
      "After conversion to one-hot: [0. 1. 0.]\n"
     ]
    }
   ],
   "source": [
    "\n",
    "train_Y = y_train\n",
    "test_Y =y_test\n",
    "# Change the labels from categorical to one-hot encoding\n",
    "train_Y_one_hot = to_categorical(train_Y)\n",
    "test_Y_one_hot = to_categorical(test_Y)\n",
    "\n",
    "# Display the change for category label using one-hot encoding\n",
    "print('Original label:', train_Y[0])\n",
    "print('After conversion to one-hot:', train_Y_one_hot[0])\n",
    "print('Original label:', train_Y[300])\n",
    "print('After conversion to one-hot:', train_Y_one_hot[300])\n",
    "print('Original label:', train_Y[109])\n",
    "print('After conversion to one-hot:', train_Y_one_hot[109])"
   ]
  },
  {
   "cell_type": "code",
   "execution_count": 58,
   "id": "hispanic-corporation",
   "metadata": {},
   "outputs": [
    {
     "ename": "ValueError",
     "evalue": "Found input variables with inconsistent numbers of samples: [550, 612]",
     "output_type": "error",
     "traceback": [
      "\u001b[1;31m---------------------------------------------------------------------------\u001b[0m",
      "\u001b[1;31mValueError\u001b[0m                                Traceback (most recent call last)",
      "\u001b[1;32m<ipython-input-58-97bf004e0024>\u001b[0m in \u001b[0;36m<module>\u001b[1;34m\u001b[0m\n\u001b[0;32m      1\u001b[0m \u001b[1;32mfrom\u001b[0m \u001b[0msklearn\u001b[0m\u001b[1;33m.\u001b[0m\u001b[0mmodel_selection\u001b[0m \u001b[1;32mimport\u001b[0m \u001b[0mtrain_test_split\u001b[0m\u001b[1;33m\u001b[0m\u001b[1;33m\u001b[0m\u001b[0m\n\u001b[1;32m----> 2\u001b[1;33m \u001b[0mtrain_X\u001b[0m\u001b[1;33m,\u001b[0m\u001b[0mvalid_X\u001b[0m\u001b[1;33m,\u001b[0m\u001b[0mtrain_label\u001b[0m\u001b[1;33m,\u001b[0m\u001b[0mvalid_label\u001b[0m \u001b[1;33m=\u001b[0m \u001b[0mtrain_test_split\u001b[0m\u001b[1;33m(\u001b[0m\u001b[0mtrain_X\u001b[0m\u001b[1;33m,\u001b[0m \u001b[0mtrain_Y_one_hot\u001b[0m\u001b[1;33m,\u001b[0m \u001b[0mtest_size\u001b[0m\u001b[1;33m=\u001b[0m\u001b[1;36m0.1\u001b[0m\u001b[1;33m,\u001b[0m \u001b[0mrandom_state\u001b[0m\u001b[1;33m=\u001b[0m\u001b[1;36m13\u001b[0m\u001b[1;33m)\u001b[0m\u001b[1;33m\u001b[0m\u001b[1;33m\u001b[0m\u001b[0m\n\u001b[0m",
      "\u001b[1;32m~\\anaconda3\\envs\\tf\\lib\\site-packages\\sklearn\\model_selection\\_split.py\u001b[0m in \u001b[0;36mtrain_test_split\u001b[1;34m(test_size, train_size, random_state, shuffle, stratify, *arrays)\u001b[0m\n\u001b[0;32m   2170\u001b[0m         \u001b[1;32mraise\u001b[0m \u001b[0mValueError\u001b[0m\u001b[1;33m(\u001b[0m\u001b[1;34m\"At least one array required as input\"\u001b[0m\u001b[1;33m)\u001b[0m\u001b[1;33m\u001b[0m\u001b[1;33m\u001b[0m\u001b[0m\n\u001b[0;32m   2171\u001b[0m \u001b[1;33m\u001b[0m\u001b[0m\n\u001b[1;32m-> 2172\u001b[1;33m     \u001b[0marrays\u001b[0m \u001b[1;33m=\u001b[0m \u001b[0mindexable\u001b[0m\u001b[1;33m(\u001b[0m\u001b[1;33m*\u001b[0m\u001b[0marrays\u001b[0m\u001b[1;33m)\u001b[0m\u001b[1;33m\u001b[0m\u001b[1;33m\u001b[0m\u001b[0m\n\u001b[0m\u001b[0;32m   2173\u001b[0m \u001b[1;33m\u001b[0m\u001b[0m\n\u001b[0;32m   2174\u001b[0m     \u001b[0mn_samples\u001b[0m \u001b[1;33m=\u001b[0m \u001b[0m_num_samples\u001b[0m\u001b[1;33m(\u001b[0m\u001b[0marrays\u001b[0m\u001b[1;33m[\u001b[0m\u001b[1;36m0\u001b[0m\u001b[1;33m]\u001b[0m\u001b[1;33m)\u001b[0m\u001b[1;33m\u001b[0m\u001b[1;33m\u001b[0m\u001b[0m\n",
      "\u001b[1;32m~\\anaconda3\\envs\\tf\\lib\\site-packages\\sklearn\\utils\\validation.py\u001b[0m in \u001b[0;36mindexable\u001b[1;34m(*iterables)\u001b[0m\n\u001b[0;32m    297\u001b[0m     \"\"\"\n\u001b[0;32m    298\u001b[0m     \u001b[0mresult\u001b[0m \u001b[1;33m=\u001b[0m \u001b[1;33m[\u001b[0m\u001b[0m_make_indexable\u001b[0m\u001b[1;33m(\u001b[0m\u001b[0mX\u001b[0m\u001b[1;33m)\u001b[0m \u001b[1;32mfor\u001b[0m \u001b[0mX\u001b[0m \u001b[1;32min\u001b[0m \u001b[0miterables\u001b[0m\u001b[1;33m]\u001b[0m\u001b[1;33m\u001b[0m\u001b[1;33m\u001b[0m\u001b[0m\n\u001b[1;32m--> 299\u001b[1;33m     \u001b[0mcheck_consistent_length\u001b[0m\u001b[1;33m(\u001b[0m\u001b[1;33m*\u001b[0m\u001b[0mresult\u001b[0m\u001b[1;33m)\u001b[0m\u001b[1;33m\u001b[0m\u001b[1;33m\u001b[0m\u001b[0m\n\u001b[0m\u001b[0;32m    300\u001b[0m     \u001b[1;32mreturn\u001b[0m \u001b[0mresult\u001b[0m\u001b[1;33m\u001b[0m\u001b[1;33m\u001b[0m\u001b[0m\n\u001b[0;32m    301\u001b[0m \u001b[1;33m\u001b[0m\u001b[0m\n",
      "\u001b[1;32m~\\anaconda3\\envs\\tf\\lib\\site-packages\\sklearn\\utils\\validation.py\u001b[0m in \u001b[0;36mcheck_consistent_length\u001b[1;34m(*arrays)\u001b[0m\n\u001b[0;32m    260\u001b[0m     \u001b[0muniques\u001b[0m \u001b[1;33m=\u001b[0m \u001b[0mnp\u001b[0m\u001b[1;33m.\u001b[0m\u001b[0munique\u001b[0m\u001b[1;33m(\u001b[0m\u001b[0mlengths\u001b[0m\u001b[1;33m)\u001b[0m\u001b[1;33m\u001b[0m\u001b[1;33m\u001b[0m\u001b[0m\n\u001b[0;32m    261\u001b[0m     \u001b[1;32mif\u001b[0m \u001b[0mlen\u001b[0m\u001b[1;33m(\u001b[0m\u001b[0muniques\u001b[0m\u001b[1;33m)\u001b[0m \u001b[1;33m>\u001b[0m \u001b[1;36m1\u001b[0m\u001b[1;33m:\u001b[0m\u001b[1;33m\u001b[0m\u001b[1;33m\u001b[0m\u001b[0m\n\u001b[1;32m--> 262\u001b[1;33m         raise ValueError(\"Found input variables with inconsistent numbers of\"\n\u001b[0m\u001b[0;32m    263\u001b[0m                          \" samples: %r\" % [int(l) for l in lengths])\n\u001b[0;32m    264\u001b[0m \u001b[1;33m\u001b[0m\u001b[0m\n",
      "\u001b[1;31mValueError\u001b[0m: Found input variables with inconsistent numbers of samples: [550, 612]"
     ]
    }
   ],
   "source": [
    "from sklearn.model_selection import train_test_split\n",
    "train_X,valid_X,train_label,valid_label = train_test_split(train_X, train_Y_one_hot, test_size=0.1, random_state=13)\n"
   ]
  },
  {
   "cell_type": "code",
   "execution_count": 59,
   "id": "offshore-advance",
   "metadata": {},
   "outputs": [
    {
     "data": {
      "text/plain": [
       "((550, 5, 5, 3), (62, 5, 5, 3), (550, 3), (62, 3))"
      ]
     },
     "execution_count": 59,
     "metadata": {},
     "output_type": "execute_result"
    }
   ],
   "source": [
    "train_X.shape,valid_X.shape,train_label.shape,valid_label.shape"
   ]
  },
  {
   "cell_type": "code",
   "execution_count": 60,
   "id": "wound-experiment",
   "metadata": {},
   "outputs": [],
   "source": [
    "batch_size = 64\n",
    "epochs = 10\n",
    "num_classes = 3\n"
   ]
  },
  {
   "cell_type": "code",
   "execution_count": 61,
   "id": "daily-marking",
   "metadata": {},
   "outputs": [
    {
     "name": "stdout",
     "output_type": "stream",
     "text": [
      "Model: \"sequential_5\"\n",
      "_________________________________________________________________\n",
      "Layer (type)                 Output Shape              Param #   \n",
      "=================================================================\n",
      "conv2d_9 (Conv2D)            (None, 5, 5, 32)          896       \n",
      "_________________________________________________________________\n",
      "leaky_re_lu_16 (LeakyReLU)   (None, 5, 5, 32)          0         \n",
      "_________________________________________________________________\n",
      "max_pooling2d_9 (MaxPooling2 (None, 3, 3, 32)          0         \n",
      "_________________________________________________________________\n",
      "conv2d_10 (Conv2D)           (None, 3, 3, 64)          18496     \n",
      "_________________________________________________________________\n",
      "leaky_re_lu_17 (LeakyReLU)   (None, 3, 3, 64)          0         \n",
      "_________________________________________________________________\n",
      "max_pooling2d_10 (MaxPooling (None, 2, 2, 64)          0         \n",
      "_________________________________________________________________\n",
      "conv2d_11 (Conv2D)           (None, 2, 2, 128)         73856     \n",
      "_________________________________________________________________\n",
      "leaky_re_lu_18 (LeakyReLU)   (None, 2, 2, 128)         0         \n",
      "_________________________________________________________________\n",
      "max_pooling2d_11 (MaxPooling (None, 1, 1, 128)         0         \n",
      "_________________________________________________________________\n",
      "flatten_5 (Flatten)          (None, 128)               0         \n",
      "_________________________________________________________________\n",
      "dense_12 (Dense)             (None, 128)               16512     \n",
      "_________________________________________________________________\n",
      "leaky_re_lu_19 (LeakyReLU)   (None, 128)               0         \n",
      "_________________________________________________________________\n",
      "dense_13 (Dense)             (None, 3)                 387       \n",
      "=================================================================\n",
      "Total params: 110,147\n",
      "Trainable params: 110,147\n",
      "Non-trainable params: 0\n",
      "_________________________________________________________________\n",
      "Epoch 1/10\n",
      "9/9 [==============================] - 0s 22ms/step - loss: 1.0988 - accuracy: 0.3145 - val_loss: 1.1007 - val_accuracy: 0.3387\n",
      "Epoch 2/10\n",
      "9/9 [==============================] - 0s 8ms/step - loss: 1.0986 - accuracy: 0.3382 - val_loss: 1.1005 - val_accuracy: 0.3387\n",
      "Epoch 3/10\n",
      "9/9 [==============================] - 0s 8ms/step - loss: 1.0987 - accuracy: 0.3036 - val_loss: 1.1000 - val_accuracy: 0.3387\n",
      "Epoch 4/10\n",
      "9/9 [==============================] - 0s 7ms/step - loss: 1.0985 - accuracy: 0.3164 - val_loss: 1.1006 - val_accuracy: 0.3387\n",
      "Epoch 5/10\n",
      "9/9 [==============================] - 0s 8ms/step - loss: 1.0986 - accuracy: 0.3382 - val_loss: 1.1013 - val_accuracy: 0.3387\n",
      "Epoch 6/10\n",
      "9/9 [==============================] - 0s 8ms/step - loss: 1.0985 - accuracy: 0.3382 - val_loss: 1.1011 - val_accuracy: 0.3387\n",
      "Epoch 7/10\n",
      "9/9 [==============================] - 0s 8ms/step - loss: 1.0986 - accuracy: 0.3382 - val_loss: 1.1016 - val_accuracy: 0.2742\n",
      "Epoch 8/10\n",
      "9/9 [==============================] - 0s 7ms/step - loss: 1.0984 - accuracy: 0.3382 - val_loss: 1.1005 - val_accuracy: 0.2742\n",
      "Epoch 9/10\n",
      "9/9 [==============================] - 0s 6ms/step - loss: 1.0985 - accuracy: 0.3382 - val_loss: 1.1007 - val_accuracy: 0.2742\n",
      "Epoch 10/10\n",
      "9/9 [==============================] - 0s 7ms/step - loss: 1.0987 - accuracy: 0.3091 - val_loss: 1.0998 - val_accuracy: 0.3387\n"
     ]
    }
   ],
   "source": [
    "\n",
    "fashion_model = Sequential()\n",
    "fashion_model.add(Conv2D(32, kernel_size=(3, 3),activation='linear',input_shape=(5,5,3),padding='same'))\n",
    "fashion_model.add(LeakyReLU(alpha=0.1))\n",
    "fashion_model.add(MaxPooling2D((2, 2),padding='same'))\n",
    "fashion_model.add(Conv2D(64, (3, 3), activation='linear',padding='same'))\n",
    "fashion_model.add(LeakyReLU(alpha=0.1))\n",
    "fashion_model.add(MaxPooling2D(pool_size=(2, 2),padding='same'))\n",
    "fashion_model.add(Conv2D(128, (3, 3), activation='linear',padding='same'))\n",
    "fashion_model.add(LeakyReLU(alpha=0.1))                  \n",
    "fashion_model.add(MaxPooling2D(pool_size=(2, 2),padding='same'))\n",
    "fashion_model.add(Flatten())\n",
    "fashion_model.add(Dense(128, activation='linear'))\n",
    "fashion_model.add(LeakyReLU(alpha=0.1))                  \n",
    "fashion_model.add(Dense(num_classes, activation='softmax'))\n",
    "\n",
    "fashion_model.compile(loss=tensorflow.keras.losses.categorical_crossentropy, optimizer=tensorflow.keras.optimizers.Adam(),metrics=['accuracy'])\n",
    "fashion_model.summary()\n",
    "\n",
    "fashion_train = fashion_model.fit(train_X, train_label, batch_size=batch_size,epochs=epochs,verbose=1,validation_data=(valid_X, valid_label))"
   ]
  },
  {
   "cell_type": "code",
   "execution_count": 62,
   "id": "pointed-stations",
   "metadata": {},
   "outputs": [
    {
     "name": "stdout",
     "output_type": "stream",
     "text": [
      "Epoch 1/10\n",
      "9/9 [==============================] - 0s 17ms/step - loss: 1.0987 - acc: 0.3236 - val_loss: 1.0989 - val_acc: 0.2742\n",
      "Epoch 2/10\n",
      "9/9 [==============================] - 0s 4ms/step - loss: 1.0986 - acc: 0.3309 - val_loss: 1.0989 - val_acc: 0.2742\n",
      "Epoch 3/10\n",
      "9/9 [==============================] - 0s 4ms/step - loss: 1.0987 - acc: 0.3382 - val_loss: 1.0990 - val_acc: 0.2742\n",
      "Epoch 4/10\n",
      "9/9 [==============================] - 0s 4ms/step - loss: 1.0986 - acc: 0.3400 - val_loss: 1.0990 - val_acc: 0.2742\n",
      "Epoch 5/10\n",
      "9/9 [==============================] - 0s 5ms/step - loss: 1.0986 - acc: 0.3436 - val_loss: 1.0992 - val_acc: 0.2742\n",
      "Epoch 6/10\n",
      "9/9 [==============================] - 0s 5ms/step - loss: 1.0986 - acc: 0.3436 - val_loss: 1.0993 - val_acc: 0.2742\n",
      "Epoch 7/10\n",
      "9/9 [==============================] - 0s 5ms/step - loss: 1.0986 - acc: 0.3309 - val_loss: 1.0993 - val_acc: 0.2742\n",
      "Epoch 8/10\n",
      "9/9 [==============================] - 0s 4ms/step - loss: 1.0986 - acc: 0.3400 - val_loss: 1.0994 - val_acc: 0.2742\n",
      "Epoch 9/10\n",
      "9/9 [==============================] - 0s 4ms/step - loss: 1.0986 - acc: 0.3182 - val_loss: 1.0994 - val_acc: 0.2742\n",
      "Epoch 10/10\n",
      "9/9 [==============================] - 0s 4ms/step - loss: 1.0985 - acc: 0.3509 - val_loss: 1.0995 - val_acc: 0.2742\n",
      "1/1 [==============================] - 0s 2ms/step - loss: 1.0995 - acc: 0.2742\n",
      "[INFO] accuracy: 27.42%\n",
      "[INFO] Loss: 1.09953773021698\n",
      "Time:  0:00:01.398871\n"
     ]
    }
   ],
   "source": [
    "top_model_weights_path = 'fc_model.h5'\n",
    "import datetime\n",
    "start = datetime.datetime.now()\n",
    "model = Sequential() \n",
    "model.add(Flatten(input_shape=train_X.shape[1:])) \n",
    "model.add(Dense(100, activation=tensorflow.keras.layers.LeakyReLU(alpha=0.3))) \n",
    "model.add(Dropout(0.5)) \n",
    "model.add(Dense(50, activation=tensorflow.keras.layers.LeakyReLU(alpha=0.3))) \n",
    "model.add(Dropout(0.3)) \n",
    "model.add(Dense(num_classes, activation='softmax'))\n",
    "model.compile(loss='categorical_crossentropy',\n",
    "   optimizer=optimizers.RMSprop(lr=1e-4),\n",
    "   metrics=['acc'])\n",
    "history = model.fit(train_X, train_label, \n",
    "   epochs=10,\n",
    "   batch_size=batch_size, \n",
    "   validation_data=(valid_X, valid_label))\n",
    "model.save_weights(top_model_weights_path)\n",
    "(eval_loss, eval_accuracy) = model.evaluate( \n",
    "    valid_X, valid_label, batch_size=batch_size,     verbose=1)\n",
    "print(\"[INFO] accuracy: {:.2f}%\".format(eval_accuracy * 100)) \n",
    "print(\"[INFO] Loss: {}\".format(eval_loss)) \n",
    "end= datetime.datetime.now()\n",
    "elapsed= end-start\n",
    "print ('Time: ', elapsed)"
   ]
  }
 ],
 "metadata": {
  "kernelspec": {
   "display_name": "Python 3",
   "language": "python",
   "name": "python3"
  },
  "language_info": {
   "codemirror_mode": {
    "name": "ipython",
    "version": 3
   },
   "file_extension": ".py",
   "mimetype": "text/x-python",
   "name": "python",
   "nbconvert_exporter": "python",
   "pygments_lexer": "ipython3",
   "version": "3.8.8"
  }
 },
 "nbformat": 4,
 "nbformat_minor": 5
}
